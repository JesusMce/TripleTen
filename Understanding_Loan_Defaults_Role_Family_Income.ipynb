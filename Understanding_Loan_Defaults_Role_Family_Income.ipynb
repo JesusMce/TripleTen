{
 "cells": [
  {
   "cell_type": "markdown",
   "metadata": {},
   "source": [
    "# Hola Jesus!\n",
    "\n",
    "Mi nombre es David Bautista, soy code reviewer de Practicum y voy a revisar el proyecto que acabas de desarrollar.\n",
    "\n",
    "Cuando vea un error la primera vez, lo señalaré. Deberás encontrarlo y arreglarlo. La intención es que te prepares para un espacio real de trabajo. En un trabajo, el líder de tu equipo hará lo mismo. Si no puedes solucionar el error, te daré más información en la próxima ocasión.\n",
    "\n",
    "Encontrarás mis comentarios más abajo - por favor, no los muevas, no los modifiques ni los borres.\n",
    "\n",
    "¿Cómo lo voy a hacer? Voy a leer detenidamente cada una de las implementaciones que has llevado a cabo para cumplir con lo solicitado. Verás los comentarios de esta forma:\n",
    "\n",
    "\n",
    "<div class=\"alert alert-block alert-success\">\n",
    "<b>Comentario del revisor</b> <a class=\"tocSkip\"></a>\n",
    "    \n",
    "Si todo está perfecto.\n",
    "</div>\n",
    "\n",
    "\n",
    "<div class=\"alert alert-block alert-warning\">\n",
    "<b>Comentario del revisor</b> <a class=\"tocSkip\"></a>\n",
    "    \n",
    "Si tu código está bien pero se puede mejorar o hay algún detalle que le hace falta.\n",
    "</div>\n",
    "\n",
    "\n",
    "<div class=\"alert alert-block alert-danger\">\n",
    "    \n",
    "<b>Comentario del revisor</b> <a class=\"tocSkip\"></a>\n",
    "    \n",
    "    \n",
    "Si de pronto hace falta algo o existe algún problema con tu código o conclusiones.\n",
    "</div>\n",
    "\n",
    "\n",
    "Puedes responderme de esta forma: \n",
    "\n",
    "<div class=\"alert alert-block alert-info\">\n",
    "<b>Respuesta del estudiante.</b> <a class=\"tocSkip\"></a>\n",
    "</div>\n",
    "\n",
    "¡Empecemos!"
   ]
  },
  {
   "cell_type": "markdown",
   "metadata": {},
   "source": [
    "# Análisis del riesgo de incumplimiento de los prestatarios\n",
    "\n",
    "Tu proyecto consiste en preparar un informe para la división de préstamos de un banco. Deberás averiguar si el estado civil y el número de hijos de un cliente tienen un impacto en el incumplimiento de pago de un préstamo. El banco ya tiene algunos datos sobre la solvencia crediticia de los clientes.\n",
    "\n",
    "Tu informe se tendrá en cuenta al crear una **puntuación de crédito** para un cliente potencial. La **puntuación de crédito** se utiliza para evaluar la capacidad de un prestatario potencial para pagar su préstamo."
   ]
  },
  {
   "cell_type": "markdown",
   "metadata": {},
   "source": [
    "# Contents <a id='back'></a>\n",
    "\n",
    "* [1. Abre el archivo de datos y mira la información general](#1)\n",
    "* [2. Ejercicio 1 de Exploración de datos](#2)\n",
    "     * [Conclusión intermedia](#3)\n",
    "    * [Posibles razones por las que hay valores ausentes en los datos](#4)\n",
    "        * [Conclusión intermedia](#5)\n",
    "        * [Conclusión intermedia](#6)\n",
    "    * [Conclusiones](#7)\n",
    "* [3. Transformación de datos](#8)\n",
    "    * [Trabajar con valores ausentes](#9))\n",
    "    * [3.1 Restaurar valores ausentes en 'total_income'](#10)\n",
    "    * [3.2 Restaurar valores ausentes en 'days_employed'](#11)\n",
    "* [4. Clasificación de datos](#12)\n",
    "* [5. Comprobar hipótesis](#13)\n",
    "    * [¿Existe correlación entre hijos y pago a tiempo?](#14)\n",
    "        * [Conclusión](#15)\n",
    "    * [¿Existe correlación entre situación familiar y deuda?](#16)\n",
    "        * [Conclusión](#17)\n",
    "    * [¿Existe correlación entre nivel de ingresos y pago a tiempo?](#18)\n",
    "        * [Conclusión](#19)\n",
    "    * [¿Cómo afecta el próposito del credito a la tasa de cumplimiento?](#20)\n",
    "        * [Conclusión](#21)\n",
    "* [Conclusión general](#100)\n"
   ]
  },
  {
   "cell_type": "markdown",
   "metadata": {},
   "source": [
    "<div class=\"alert alert-block alert-success\">\n",
    "    \n",
    "<b>Comentario del revisor #2</b> <a class=\"tocSkip\"></a>\n",
    "    \n",
    "    \n",
    "Bien heccho!\n",
    "</div>\n",
    "\n"
   ]
  },
  {
   "cell_type": "markdown",
   "metadata": {},
   "source": [
    "## Abre el archivo de datos y mira la información general. <a id='1'></a>\n",
    "\n",
    "Importación de librerías: Se comienza importando la librería pandas, que se utilizará para el procesamiento y análisis de los datos.\n",
    "Para evitar errores, nos aseguramos de importar NumPy."
   ]
  },
  {
   "cell_type": "code",
   "execution_count": 1,
   "metadata": {},
   "outputs": [],
   "source": [
    "import pandas as pd\n",
    "import numpy as np\n",
    "import matplotlib.pyplot as plt"
   ]
  },
  {
   "cell_type": "markdown",
   "metadata": {},
   "source": [
    "<div class=\"alert alert-block alert-success\">\n",
    "    \n",
    "<b>Comentario del revisor #3</b> <a class=\"tocSkip\"></a>\n",
    "    \n",
    "Bien heccho!\n",
    "</div>\n"
   ]
  },
  {
   "cell_type": "markdown",
   "metadata": {},
   "source": [
    "A continuación, se carga el archivo de datos utilizando la función read_csv de pandas."
   ]
  },
  {
   "cell_type": "code",
   "execution_count": 2,
   "metadata": {},
   "outputs": [],
   "source": [
    "ruta_archivo = '/datasets/credit_scoring_eng.csv'\n",
    "datos = pd.read_csv(ruta_archivo)"
   ]
  },
  {
   "cell_type": "markdown",
   "metadata": {},
   "source": [
    "Después de cargar los datos, se utiliza el método info() para obtener una visión general de los datos, incluyendo el tipo de cada columna y la cantidad de valores no nulos."
   ]
  },
  {
   "cell_type": "code",
   "execution_count": 3,
   "metadata": {},
   "outputs": [
    {
     "name": "stdout",
     "output_type": "stream",
     "text": [
      "<class 'pandas.core.frame.DataFrame'>\n",
      "RangeIndex: 21525 entries, 0 to 21524\n",
      "Data columns (total 12 columns):\n",
      " #   Column            Non-Null Count  Dtype  \n",
      "---  ------            --------------  -----  \n",
      " 0   children          21525 non-null  int64  \n",
      " 1   days_employed     19351 non-null  float64\n",
      " 2   dob_years         21525 non-null  int64  \n",
      " 3   education         21525 non-null  object \n",
      " 4   education_id      21525 non-null  int64  \n",
      " 5   family_status     21525 non-null  object \n",
      " 6   family_status_id  21525 non-null  int64  \n",
      " 7   gender            21525 non-null  object \n",
      " 8   income_type       21525 non-null  object \n",
      " 9   debt              21525 non-null  int64  \n",
      " 10  total_income      19351 non-null  float64\n",
      " 11  purpose           21525 non-null  object \n",
      "dtypes: float64(2), int64(5), object(5)\n",
      "memory usage: 2.0+ MB\n",
      "None\n"
     ]
    }
   ],
   "source": [
    "print(datos.info())"
   ]
  },
  {
   "cell_type": "markdown",
   "metadata": {},
   "source": [
    "## Ejercicio 1. Exploración de datos <a id='2'></a>\n",
    "\n",
    "**Descripción de los datos**\n",
    "- `children` - el número de hijos en la familia\n",
    "- `days_employed` - experiencia laboral en días\n",
    "- `dob_years` - la edad del cliente en años\n",
    "- `education` - la educación del cliente\n",
    "- `education_id` - identificador de educación\n",
    "- `family_status` - estado civil\n",
    "- `family_status_id` - identificador de estado civil\n",
    "- `gender` - género del cliente\n",
    "- `income_type` - tipo de empleo\n",
    "- `debt` - ¿había alguna deuda en el pago de un préstamo?\n",
    "- `total_income` - ingreso mensual\n",
    "- `purpose` - el propósito de obtener un préstamo\n",
    "\n",
    "Ahora vamos a explorar nuestros datos. Veremos cuantas columnas y filas hay, observaremos las primeras 5 filas de cada columna."
   ]
  },
  {
   "cell_type": "markdown",
   "metadata": {},
   "source": [
    "Vamos a ver cuantas filas y columnas tiene nuestro conjunto de datos:"
   ]
  },
  {
   "cell_type": "code",
   "execution_count": 4,
   "metadata": {},
   "outputs": [
    {
     "name": "stdout",
     "output_type": "stream",
     "text": [
      "Número de filas y columnas: (21525, 12)\n"
     ]
    }
   ],
   "source": [
    "print(\"Número de filas y columnas:\", datos.shape)"
   ]
  },
  {
   "cell_type": "markdown",
   "metadata": {},
   "source": [
    "Mostrar las primeras 5 filas:"
   ]
  },
  {
   "cell_type": "code",
   "execution_count": 5,
   "metadata": {},
   "outputs": [
    {
     "data": {
      "text/html": [
       "<div>\n",
       "<style scoped>\n",
       "    .dataframe tbody tr th:only-of-type {\n",
       "        vertical-align: middle;\n",
       "    }\n",
       "\n",
       "    .dataframe tbody tr th {\n",
       "        vertical-align: top;\n",
       "    }\n",
       "\n",
       "    .dataframe thead th {\n",
       "        text-align: right;\n",
       "    }\n",
       "</style>\n",
       "<table border=\"1\" class=\"dataframe\">\n",
       "  <thead>\n",
       "    <tr style=\"text-align: right;\">\n",
       "      <th></th>\n",
       "      <th>children</th>\n",
       "      <th>days_employed</th>\n",
       "      <th>dob_years</th>\n",
       "      <th>education</th>\n",
       "      <th>education_id</th>\n",
       "      <th>family_status</th>\n",
       "      <th>family_status_id</th>\n",
       "      <th>gender</th>\n",
       "      <th>income_type</th>\n",
       "      <th>debt</th>\n",
       "      <th>total_income</th>\n",
       "      <th>purpose</th>\n",
       "    </tr>\n",
       "  </thead>\n",
       "  <tbody>\n",
       "    <tr>\n",
       "      <th>0</th>\n",
       "      <td>1</td>\n",
       "      <td>-8437.673028</td>\n",
       "      <td>42</td>\n",
       "      <td>bachelor's degree</td>\n",
       "      <td>0</td>\n",
       "      <td>married</td>\n",
       "      <td>0</td>\n",
       "      <td>F</td>\n",
       "      <td>employee</td>\n",
       "      <td>0</td>\n",
       "      <td>40620.102</td>\n",
       "      <td>purchase of the house</td>\n",
       "    </tr>\n",
       "    <tr>\n",
       "      <th>1</th>\n",
       "      <td>1</td>\n",
       "      <td>-4024.803754</td>\n",
       "      <td>36</td>\n",
       "      <td>secondary education</td>\n",
       "      <td>1</td>\n",
       "      <td>married</td>\n",
       "      <td>0</td>\n",
       "      <td>F</td>\n",
       "      <td>employee</td>\n",
       "      <td>0</td>\n",
       "      <td>17932.802</td>\n",
       "      <td>car purchase</td>\n",
       "    </tr>\n",
       "    <tr>\n",
       "      <th>2</th>\n",
       "      <td>0</td>\n",
       "      <td>-5623.422610</td>\n",
       "      <td>33</td>\n",
       "      <td>Secondary Education</td>\n",
       "      <td>1</td>\n",
       "      <td>married</td>\n",
       "      <td>0</td>\n",
       "      <td>M</td>\n",
       "      <td>employee</td>\n",
       "      <td>0</td>\n",
       "      <td>23341.752</td>\n",
       "      <td>purchase of the house</td>\n",
       "    </tr>\n",
       "    <tr>\n",
       "      <th>3</th>\n",
       "      <td>3</td>\n",
       "      <td>-4124.747207</td>\n",
       "      <td>32</td>\n",
       "      <td>secondary education</td>\n",
       "      <td>1</td>\n",
       "      <td>married</td>\n",
       "      <td>0</td>\n",
       "      <td>M</td>\n",
       "      <td>employee</td>\n",
       "      <td>0</td>\n",
       "      <td>42820.568</td>\n",
       "      <td>supplementary education</td>\n",
       "    </tr>\n",
       "    <tr>\n",
       "      <th>4</th>\n",
       "      <td>0</td>\n",
       "      <td>340266.072047</td>\n",
       "      <td>53</td>\n",
       "      <td>secondary education</td>\n",
       "      <td>1</td>\n",
       "      <td>civil partnership</td>\n",
       "      <td>1</td>\n",
       "      <td>F</td>\n",
       "      <td>retiree</td>\n",
       "      <td>0</td>\n",
       "      <td>25378.572</td>\n",
       "      <td>to have a wedding</td>\n",
       "    </tr>\n",
       "  </tbody>\n",
       "</table>\n",
       "</div>"
      ],
      "text/plain": [
       "   children  days_employed  dob_years            education  education_id  \\\n",
       "0         1   -8437.673028         42    bachelor's degree             0   \n",
       "1         1   -4024.803754         36  secondary education             1   \n",
       "2         0   -5623.422610         33  Secondary Education             1   \n",
       "3         3   -4124.747207         32  secondary education             1   \n",
       "4         0  340266.072047         53  secondary education             1   \n",
       "\n",
       "       family_status  family_status_id gender income_type  debt  total_income  \\\n",
       "0            married                 0      F    employee     0     40620.102   \n",
       "1            married                 0      F    employee     0     17932.802   \n",
       "2            married                 0      M    employee     0     23341.752   \n",
       "3            married                 0      M    employee     0     42820.568   \n",
       "4  civil partnership                 1      F     retiree     0     25378.572   \n",
       "\n",
       "                   purpose  \n",
       "0    purchase of the house  \n",
       "1             car purchase  \n",
       "2    purchase of the house  \n",
       "3  supplementary education  \n",
       "4        to have a wedding  "
      ]
     },
     "execution_count": 5,
     "metadata": {},
     "output_type": "execute_result"
    }
   ],
   "source": [
    "datos.head()"
   ]
  },
  {
   "cell_type": "markdown",
   "metadata": {},
   "source": [
    "Observaciones:\n",
    "\n",
    "- El conjunto de datos tiene 21,525 filas y 12 columnas.\n",
    "- Valores en la columna \"education\" tienen diferencias de capitalización o expresión, lo cual podría beneficiar con una estandarización para evitar duplicados.\n",
    "- Hay dos columnas con valores ausentes: \"days_employed\" y \"total_income\". Será necesario abordar estos valores ausentes más adelante en el proceso para preprocesamiento de datos. Pues tienen símbolo de negativo y números decimales que pueden interrumpir la buena interpretación de datos.\n",
    "- Algunos de los datos estan expresados de una manera poco clara, podrían modificarse para su solución."
   ]
  },
  {
   "cell_type": "markdown",
   "metadata": {},
   "source": [
    "<div class=\"alert alert-block alert-success\">\n",
    "    \n",
    "<b>Comentario del revisor #2</b> <a class=\"tocSkip\"></a>\n",
    "    \n",
    "Bien hecho.\n",
    "</div>\n"
   ]
  },
  {
   "cell_type": "code",
   "execution_count": 6,
   "metadata": {
    "scrolled": false
   },
   "outputs": [
    {
     "name": "stdout",
     "output_type": "stream",
     "text": [
      "<class 'pandas.core.frame.DataFrame'>\n",
      "RangeIndex: 21525 entries, 0 to 21524\n",
      "Data columns (total 12 columns):\n",
      " #   Column            Non-Null Count  Dtype  \n",
      "---  ------            --------------  -----  \n",
      " 0   children          21525 non-null  int64  \n",
      " 1   days_employed     19351 non-null  float64\n",
      " 2   dob_years         21525 non-null  int64  \n",
      " 3   education         21525 non-null  object \n",
      " 4   education_id      21525 non-null  int64  \n",
      " 5   family_status     21525 non-null  object \n",
      " 6   family_status_id  21525 non-null  int64  \n",
      " 7   gender            21525 non-null  object \n",
      " 8   income_type       21525 non-null  object \n",
      " 9   debt              21525 non-null  int64  \n",
      " 10  total_income      19351 non-null  float64\n",
      " 11  purpose           21525 non-null  object \n",
      "dtypes: float64(2), int64(5), object(5)\n",
      "memory usage: 2.0+ MB\n"
     ]
    }
   ],
   "source": [
    "# Obtener información sobre los datos\n",
    "datos.info()"
   ]
  },
  {
   "cell_type": "markdown",
   "metadata": {},
   "source": [
    "<div class=\"alert alert-block alert-success\">\n",
    "    \n",
    "<b>Comentario del revisor #3</b> <a class=\"tocSkip\"></a>\n",
    "    \n",
    "Buen trabajo!\n",
    "</div>\n"
   ]
  },
  {
   "cell_type": "markdown",
   "metadata": {},
   "source": [
    "Al analizar los datos, se observa que hay valores ausentes en las columnas \"days_employed\" y \"total_income\". Estas columnas tienen un recuento inferior en comparación con las demás, lo que indica que faltan datos en esas columnas específicas."
   ]
  },
  {
   "cell_type": "markdown",
   "metadata": {},
   "source": [
    "Ahora filtraremos las filas donde falta el valor en la columna \"days_employed\""
   ]
  },
  {
   "cell_type": "code",
   "execution_count": 7,
   "metadata": {
    "scrolled": true
   },
   "outputs": [
    {
     "data": {
      "text/html": [
       "<div>\n",
       "<style scoped>\n",
       "    .dataframe tbody tr th:only-of-type {\n",
       "        vertical-align: middle;\n",
       "    }\n",
       "\n",
       "    .dataframe tbody tr th {\n",
       "        vertical-align: top;\n",
       "    }\n",
       "\n",
       "    .dataframe thead th {\n",
       "        text-align: right;\n",
       "    }\n",
       "</style>\n",
       "<table border=\"1\" class=\"dataframe\">\n",
       "  <thead>\n",
       "    <tr style=\"text-align: right;\">\n",
       "      <th></th>\n",
       "      <th>children</th>\n",
       "      <th>days_employed</th>\n",
       "      <th>dob_years</th>\n",
       "      <th>education</th>\n",
       "      <th>education_id</th>\n",
       "      <th>family_status</th>\n",
       "      <th>family_status_id</th>\n",
       "      <th>gender</th>\n",
       "      <th>income_type</th>\n",
       "      <th>debt</th>\n",
       "      <th>total_income</th>\n",
       "      <th>purpose</th>\n",
       "    </tr>\n",
       "  </thead>\n",
       "  <tbody>\n",
       "    <tr>\n",
       "      <th>12</th>\n",
       "      <td>0</td>\n",
       "      <td>NaN</td>\n",
       "      <td>65</td>\n",
       "      <td>secondary education</td>\n",
       "      <td>1</td>\n",
       "      <td>civil partnership</td>\n",
       "      <td>1</td>\n",
       "      <td>M</td>\n",
       "      <td>retiree</td>\n",
       "      <td>0</td>\n",
       "      <td>NaN</td>\n",
       "      <td>to have a wedding</td>\n",
       "    </tr>\n",
       "    <tr>\n",
       "      <th>26</th>\n",
       "      <td>0</td>\n",
       "      <td>NaN</td>\n",
       "      <td>41</td>\n",
       "      <td>secondary education</td>\n",
       "      <td>1</td>\n",
       "      <td>married</td>\n",
       "      <td>0</td>\n",
       "      <td>M</td>\n",
       "      <td>civil servant</td>\n",
       "      <td>0</td>\n",
       "      <td>NaN</td>\n",
       "      <td>education</td>\n",
       "    </tr>\n",
       "    <tr>\n",
       "      <th>29</th>\n",
       "      <td>0</td>\n",
       "      <td>NaN</td>\n",
       "      <td>63</td>\n",
       "      <td>secondary education</td>\n",
       "      <td>1</td>\n",
       "      <td>unmarried</td>\n",
       "      <td>4</td>\n",
       "      <td>F</td>\n",
       "      <td>retiree</td>\n",
       "      <td>0</td>\n",
       "      <td>NaN</td>\n",
       "      <td>building a real estate</td>\n",
       "    </tr>\n",
       "    <tr>\n",
       "      <th>41</th>\n",
       "      <td>0</td>\n",
       "      <td>NaN</td>\n",
       "      <td>50</td>\n",
       "      <td>secondary education</td>\n",
       "      <td>1</td>\n",
       "      <td>married</td>\n",
       "      <td>0</td>\n",
       "      <td>F</td>\n",
       "      <td>civil servant</td>\n",
       "      <td>0</td>\n",
       "      <td>NaN</td>\n",
       "      <td>second-hand car purchase</td>\n",
       "    </tr>\n",
       "    <tr>\n",
       "      <th>55</th>\n",
       "      <td>0</td>\n",
       "      <td>NaN</td>\n",
       "      <td>54</td>\n",
       "      <td>secondary education</td>\n",
       "      <td>1</td>\n",
       "      <td>civil partnership</td>\n",
       "      <td>1</td>\n",
       "      <td>F</td>\n",
       "      <td>retiree</td>\n",
       "      <td>1</td>\n",
       "      <td>NaN</td>\n",
       "      <td>to have a wedding</td>\n",
       "    </tr>\n",
       "    <tr>\n",
       "      <th>...</th>\n",
       "      <td>...</td>\n",
       "      <td>...</td>\n",
       "      <td>...</td>\n",
       "      <td>...</td>\n",
       "      <td>...</td>\n",
       "      <td>...</td>\n",
       "      <td>...</td>\n",
       "      <td>...</td>\n",
       "      <td>...</td>\n",
       "      <td>...</td>\n",
       "      <td>...</td>\n",
       "      <td>...</td>\n",
       "    </tr>\n",
       "    <tr>\n",
       "      <th>21489</th>\n",
       "      <td>2</td>\n",
       "      <td>NaN</td>\n",
       "      <td>47</td>\n",
       "      <td>Secondary Education</td>\n",
       "      <td>1</td>\n",
       "      <td>married</td>\n",
       "      <td>0</td>\n",
       "      <td>M</td>\n",
       "      <td>business</td>\n",
       "      <td>0</td>\n",
       "      <td>NaN</td>\n",
       "      <td>purchase of a car</td>\n",
       "    </tr>\n",
       "    <tr>\n",
       "      <th>21495</th>\n",
       "      <td>1</td>\n",
       "      <td>NaN</td>\n",
       "      <td>50</td>\n",
       "      <td>secondary education</td>\n",
       "      <td>1</td>\n",
       "      <td>civil partnership</td>\n",
       "      <td>1</td>\n",
       "      <td>F</td>\n",
       "      <td>employee</td>\n",
       "      <td>0</td>\n",
       "      <td>NaN</td>\n",
       "      <td>wedding ceremony</td>\n",
       "    </tr>\n",
       "    <tr>\n",
       "      <th>21497</th>\n",
       "      <td>0</td>\n",
       "      <td>NaN</td>\n",
       "      <td>48</td>\n",
       "      <td>BACHELOR'S DEGREE</td>\n",
       "      <td>0</td>\n",
       "      <td>married</td>\n",
       "      <td>0</td>\n",
       "      <td>F</td>\n",
       "      <td>business</td>\n",
       "      <td>0</td>\n",
       "      <td>NaN</td>\n",
       "      <td>building a property</td>\n",
       "    </tr>\n",
       "    <tr>\n",
       "      <th>21502</th>\n",
       "      <td>1</td>\n",
       "      <td>NaN</td>\n",
       "      <td>42</td>\n",
       "      <td>secondary education</td>\n",
       "      <td>1</td>\n",
       "      <td>married</td>\n",
       "      <td>0</td>\n",
       "      <td>F</td>\n",
       "      <td>employee</td>\n",
       "      <td>0</td>\n",
       "      <td>NaN</td>\n",
       "      <td>building a real estate</td>\n",
       "    </tr>\n",
       "    <tr>\n",
       "      <th>21510</th>\n",
       "      <td>2</td>\n",
       "      <td>NaN</td>\n",
       "      <td>28</td>\n",
       "      <td>secondary education</td>\n",
       "      <td>1</td>\n",
       "      <td>married</td>\n",
       "      <td>0</td>\n",
       "      <td>F</td>\n",
       "      <td>employee</td>\n",
       "      <td>0</td>\n",
       "      <td>NaN</td>\n",
       "      <td>car purchase</td>\n",
       "    </tr>\n",
       "  </tbody>\n",
       "</table>\n",
       "<p>2174 rows × 12 columns</p>\n",
       "</div>"
      ],
      "text/plain": [
       "       children  days_employed  dob_years            education  education_id  \\\n",
       "12            0            NaN         65  secondary education             1   \n",
       "26            0            NaN         41  secondary education             1   \n",
       "29            0            NaN         63  secondary education             1   \n",
       "41            0            NaN         50  secondary education             1   \n",
       "55            0            NaN         54  secondary education             1   \n",
       "...         ...            ...        ...                  ...           ...   \n",
       "21489         2            NaN         47  Secondary Education             1   \n",
       "21495         1            NaN         50  secondary education             1   \n",
       "21497         0            NaN         48    BACHELOR'S DEGREE             0   \n",
       "21502         1            NaN         42  secondary education             1   \n",
       "21510         2            NaN         28  secondary education             1   \n",
       "\n",
       "           family_status  family_status_id gender    income_type  debt  \\\n",
       "12     civil partnership                 1      M        retiree     0   \n",
       "26               married                 0      M  civil servant     0   \n",
       "29             unmarried                 4      F        retiree     0   \n",
       "41               married                 0      F  civil servant     0   \n",
       "55     civil partnership                 1      F        retiree     1   \n",
       "...                  ...               ...    ...            ...   ...   \n",
       "21489            married                 0      M       business     0   \n",
       "21495  civil partnership                 1      F       employee     0   \n",
       "21497            married                 0      F       business     0   \n",
       "21502            married                 0      F       employee     0   \n",
       "21510            married                 0      F       employee     0   \n",
       "\n",
       "       total_income                   purpose  \n",
       "12              NaN         to have a wedding  \n",
       "26              NaN                 education  \n",
       "29              NaN    building a real estate  \n",
       "41              NaN  second-hand car purchase  \n",
       "55              NaN         to have a wedding  \n",
       "...             ...                       ...  \n",
       "21489           NaN         purchase of a car  \n",
       "21495           NaN          wedding ceremony  \n",
       "21497           NaN       building a property  \n",
       "21502           NaN    building a real estate  \n",
       "21510           NaN              car purchase  \n",
       "\n",
       "[2174 rows x 12 columns]"
      ]
     },
     "metadata": {},
     "output_type": "display_data"
    }
   ],
   "source": [
    "# Ahora filtraremos las filas donde falta el valor en la columna \"days_employed\"\n",
    "datos_filtrados = datos[datos['days_employed'].isnull()]\n",
    "# Mostrar la tabla filtrada:\n",
    "display(datos_filtrados)"
   ]
  },
  {
   "cell_type": "markdown",
   "metadata": {},
   "source": [
    "<div class=\"alert alert-block alert-success\">\n",
    "    \n",
    "<b>Comentario del revisor #3</b> <a class=\"tocSkip\"></a>\n",
    "    \n",
    "Bien hecho!\n",
    "</div>\n"
   ]
  },
  {
   "cell_type": "markdown",
   "metadata": {},
   "source": [
    "No podemos afirmar que los valores ausentes sean simétricos solo con la información proporcionada. Es necesario realizar una investigación adicional contando los valores ausentes en todas las filas para confirmar si las muestras faltantes tienen el mismo tamaño. Además, sería útil explorar la distribución de los valores ausentes en relación con otras variables para comprender mejor la naturaleza de los datos faltantes.\n",
    "\n",
    "Por lo tanto, es recomendable realizar un análisis más exhaustivo de los valores ausentes en el conjunto de datos para obtener una imagen completa y tomar decisiones informadas sobre cómo tratarlos. Esto puede incluir el examen de patrones de valores ausentes, la identificación de posibles razones para los datos faltantes y la consideración de diferentes técnicas de imputación de datos, si es necesario, para garantizar que no se introduzcan sesgos en el análisis posterior."
   ]
  },
  {
   "cell_type": "code",
   "execution_count": 8,
   "metadata": {},
   "outputs": [
    {
     "name": "stdout",
     "output_type": "stream",
     "text": [
      "Número de filas en la tabla filtrada:  2174\n"
     ]
    }
   ],
   "source": [
    "# Veamos el número de filas en la tabla filtrada.\n",
    "# Aplicar condiciones para filtrar datos:\n",
    "condiciones = (datos['days_employed'].isnull()) & (datos['total_income'].isnull())\n",
    "datos_filtrados = datos[condiciones]\n",
    "\n",
    "# Obtener el número de filas en la tabla filtrada:\n",
    "num_filas_filtradas = len(datos_filtrados)\n",
    "\n",
    "# Imprimir el resultado\n",
    "print(\"Número de filas en la tabla filtrada: \", num_filas_filtradas)"
   ]
  },
  {
   "cell_type": "markdown",
   "metadata": {},
   "source": [
    "**Conclusión intermedia** <a id='3'></a>\n",
    "\n",
    "El número de filas en la tabla filtrada coincide con el número de valores ausentes en las columnas 'days_employed' y 'total_income'. Esto indica que las filas filtradas son aquellas donde faltan valores en ambas columnas.\n",
    "\n",
    "Para calcular el porcentaje de valores ausentes en comparación con el conjunto de datos completo, dividimos el número de filas filtradas (2174) entre el número total de filas en los datos (21525) y lo multiplicamos por 100:\n",
    "\n",
    "porcentaje_valores_ausentes = (2174 / 21525) * 100\n",
    "print(\"Porcentaje de valores ausentes: {:.2f}%\".format(porcentaje_valores_ausentes))\n",
    "\n",
    "El resultado del porcentaje de valores ausentes nos dará una idea de la magnitud de los datos faltantes en relación con el conjunto completo. Si el porcentaje es considerablemente grande, es posible que deseemos completar los valores ausentes.\n",
    "\n",
    "Para completar los valores ausentes, primero debemos investigar si los datos faltantes podrían deberse a alguna característica específica del cliente, como el tipo de empleo u otras variables. Es importante identificar qué característica podría ser la razón de los valores ausentes.\n",
    "\n",
    "Además, debemos verificar si los valores ausentes dependen de alguna manera del valor de otros indicadores con las columnas que contienen características de clientes específicas e identificadas. Esto nos ayudará a entender la naturaleza de los datos faltantes y tomar decisiones informadas sobre cómo abordarlos.\n",
    "\n",
    "En resumen, nuestros próximos pasos son calcular el porcentaje de valores ausentes, investigar las posibles razones de los datos faltantes y examinar la dependencia de los valores ausentes en relación con otras variables relevantes. Estos pasos nos permitirán determinar la mejor estrategia para completar los valores ausentes y asegurar que nuestros análisis sean sólidos y representativos."
   ]
  },
  {
   "cell_type": "code",
   "execution_count": 9,
   "metadata": {},
   "outputs": [
    {
     "name": "stdout",
     "output_type": "stream",
     "text": [
      "Porcentaje de valores ausentes: 10.10%\n"
     ]
    }
   ],
   "source": [
    "# Para calcular el porcentaje de los valores ausentes comparado con el conjunto de datos completo, \n",
    "# hay que dividir el número de filas filtradas (2174) entre el número total de filas en los datos (21525) \n",
    "# y multiplicarlo por 100:\n",
    "\n",
    "porcentaje_valores_ausentes = (num_filas_filtradas / len(datos)) * 100\n",
    "print(\"Porcentaje de valores ausentes: {:.2f}%\".format(porcentaje_valores_ausentes))"
   ]
  },
  {
   "cell_type": "markdown",
   "metadata": {},
   "source": [
    "<div class=\"alert alert-block alert-success\">\n",
    "    \n",
    "<b>Comentario del revisor #2</b> <a class=\"tocSkip\"></a>\n",
    "    \n",
    "Buen trabajo\n",
    "</div>"
   ]
  },
  {
   "cell_type": "code",
   "execution_count": 10,
   "metadata": {},
   "outputs": [
    {
     "name": "stdout",
     "output_type": "stream",
     "text": [
      "Número de valores ausentes en 'total_income': 0\n"
     ]
    }
   ],
   "source": [
    "# Completar los valores ausentes basándose en el promedio de \"total_income\" según el tipo de empleo\n",
    "datos['total_income'] = datos.groupby('income_type')['total_income'].transform(lambda x: x.fillna(x.mean()))\n",
    "\n",
    "# Verificar si todos los valores ausentes han sido completados\n",
    "print(\"Número de valores ausentes en 'total_income':\", datos['total_income'].isnull().sum())\n",
    "\n",
    "# Guardar los datos actualizados en un nuevo archivo\n",
    "ruta_archivo_actualizado = 'credit_scoring_eng_actualizado.csv'\n",
    "datos.to_csv(ruta_archivo_actualizado, index=False)"
   ]
  },
  {
   "cell_type": "code",
   "execution_count": 11,
   "metadata": {},
   "outputs": [
    {
     "name": "stdout",
     "output_type": "stream",
     "text": [
      "business                        9.990167\n",
      "civil servant                  10.075394\n",
      "employee                        9.937944\n",
      "entrepreneur                   50.000000\n",
      "paternity / maternity leave          NaN\n",
      "retiree                        10.710581\n",
      "student                              NaN\n",
      "unemployed                           NaN\n",
      "Name: income_type, dtype: float64\n"
     ]
    }
   ],
   "source": [
    "# Variable de interés\n",
    "variable_interes = 'income_type'\n",
    "\n",
    "# Obtener el recuento de valores en cada categoría\n",
    "count_per_category = datos[variable_interes].value_counts()\n",
    "\n",
    "# Calcular el porcentaje de valores ausentes en cada categoría\n",
    "percentage_missing = (datos_filtrados[variable_interes].value_counts() / count_per_category) * 100\n",
    "\n",
    "# Imprimir el resultado\n",
    "print(percentage_missing)"
   ]
  },
  {
   "cell_type": "code",
   "execution_count": 12,
   "metadata": {},
   "outputs": [
    {
     "data": {
      "text/html": [
       "<div>\n",
       "<style scoped>\n",
       "    .dataframe tbody tr th:only-of-type {\n",
       "        vertical-align: middle;\n",
       "    }\n",
       "\n",
       "    .dataframe tbody tr th {\n",
       "        vertical-align: top;\n",
       "    }\n",
       "\n",
       "    .dataframe thead th {\n",
       "        text-align: right;\n",
       "    }\n",
       "</style>\n",
       "<table border=\"1\" class=\"dataframe\">\n",
       "  <thead>\n",
       "    <tr style=\"text-align: right;\">\n",
       "      <th></th>\n",
       "      <th>children</th>\n",
       "      <th>days_employed</th>\n",
       "      <th>dob_years</th>\n",
       "      <th>education</th>\n",
       "      <th>education_id</th>\n",
       "      <th>family_status</th>\n",
       "      <th>family_status_id</th>\n",
       "      <th>gender</th>\n",
       "      <th>income_type</th>\n",
       "      <th>debt</th>\n",
       "      <th>total_income</th>\n",
       "      <th>purpose</th>\n",
       "    </tr>\n",
       "    <tr>\n",
       "      <th>income_type</th>\n",
       "      <th></th>\n",
       "      <th></th>\n",
       "      <th></th>\n",
       "      <th></th>\n",
       "      <th></th>\n",
       "      <th></th>\n",
       "      <th></th>\n",
       "      <th></th>\n",
       "      <th></th>\n",
       "      <th></th>\n",
       "      <th></th>\n",
       "      <th></th>\n",
       "    </tr>\n",
       "  </thead>\n",
       "  <tbody>\n",
       "    <tr>\n",
       "      <th>business</th>\n",
       "      <td>0.0</td>\n",
       "      <td>100.0</td>\n",
       "      <td>0.0</td>\n",
       "      <td>0.0</td>\n",
       "      <td>0.0</td>\n",
       "      <td>0.0</td>\n",
       "      <td>0.0</td>\n",
       "      <td>0.0</td>\n",
       "      <td>0.0</td>\n",
       "      <td>0.0</td>\n",
       "      <td>0.0</td>\n",
       "      <td>0.0</td>\n",
       "    </tr>\n",
       "    <tr>\n",
       "      <th>civil servant</th>\n",
       "      <td>0.0</td>\n",
       "      <td>100.0</td>\n",
       "      <td>0.0</td>\n",
       "      <td>0.0</td>\n",
       "      <td>0.0</td>\n",
       "      <td>0.0</td>\n",
       "      <td>0.0</td>\n",
       "      <td>0.0</td>\n",
       "      <td>0.0</td>\n",
       "      <td>0.0</td>\n",
       "      <td>0.0</td>\n",
       "      <td>0.0</td>\n",
       "    </tr>\n",
       "    <tr>\n",
       "      <th>employee</th>\n",
       "      <td>0.0</td>\n",
       "      <td>100.0</td>\n",
       "      <td>0.0</td>\n",
       "      <td>0.0</td>\n",
       "      <td>0.0</td>\n",
       "      <td>0.0</td>\n",
       "      <td>0.0</td>\n",
       "      <td>0.0</td>\n",
       "      <td>0.0</td>\n",
       "      <td>0.0</td>\n",
       "      <td>0.0</td>\n",
       "      <td>0.0</td>\n",
       "    </tr>\n",
       "    <tr>\n",
       "      <th>entrepreneur</th>\n",
       "      <td>0.0</td>\n",
       "      <td>100.0</td>\n",
       "      <td>0.0</td>\n",
       "      <td>0.0</td>\n",
       "      <td>0.0</td>\n",
       "      <td>0.0</td>\n",
       "      <td>0.0</td>\n",
       "      <td>0.0</td>\n",
       "      <td>0.0</td>\n",
       "      <td>0.0</td>\n",
       "      <td>0.0</td>\n",
       "      <td>0.0</td>\n",
       "    </tr>\n",
       "    <tr>\n",
       "      <th>retiree</th>\n",
       "      <td>0.0</td>\n",
       "      <td>100.0</td>\n",
       "      <td>0.0</td>\n",
       "      <td>0.0</td>\n",
       "      <td>0.0</td>\n",
       "      <td>0.0</td>\n",
       "      <td>0.0</td>\n",
       "      <td>0.0</td>\n",
       "      <td>0.0</td>\n",
       "      <td>0.0</td>\n",
       "      <td>0.0</td>\n",
       "      <td>0.0</td>\n",
       "    </tr>\n",
       "  </tbody>\n",
       "</table>\n",
       "</div>"
      ],
      "text/plain": [
       "               children  days_employed  dob_years  education  education_id  \\\n",
       "income_type                                                                  \n",
       "business            0.0          100.0        0.0        0.0           0.0   \n",
       "civil servant       0.0          100.0        0.0        0.0           0.0   \n",
       "employee            0.0          100.0        0.0        0.0           0.0   \n",
       "entrepreneur        0.0          100.0        0.0        0.0           0.0   \n",
       "retiree             0.0          100.0        0.0        0.0           0.0   \n",
       "\n",
       "               family_status  family_status_id  gender  income_type  debt  \\\n",
       "income_type                                                                 \n",
       "business                 0.0               0.0     0.0          0.0   0.0   \n",
       "civil servant            0.0               0.0     0.0          0.0   0.0   \n",
       "employee                 0.0               0.0     0.0          0.0   0.0   \n",
       "entrepreneur             0.0               0.0     0.0          0.0   0.0   \n",
       "retiree                  0.0               0.0     0.0          0.0   0.0   \n",
       "\n",
       "               total_income  purpose  \n",
       "income_type                           \n",
       "business                0.0      0.0  \n",
       "civil servant           0.0      0.0  \n",
       "employee                0.0      0.0  \n",
       "entrepreneur            0.0      0.0  \n",
       "retiree                 0.0      0.0  "
      ]
     },
     "metadata": {},
     "output_type": "display_data"
    }
   ],
   "source": [
    "# Filtrar los datos donde hay valores ausentes en las columnas \"days_employed\" y \"total_income\"\n",
    "datos_filtrados = datos[condiciones]\n",
    "\n",
    "# Calcular el porcentaje de valores ausentes en cada categoría de \"income_type\"\n",
    "porcentaje_valores_ausentes_por_categoria = datos_filtrados.groupby('income_type').apply(lambda x: (x.isnull().sum() / len(x)) * 100)\n",
    "\n",
    "# Imprimir los resultados\n",
    "display(porcentaje_valores_ausentes_por_categoria)"
   ]
  },
  {
   "cell_type": "markdown",
   "metadata": {},
   "source": [
    "<div class=\"alert alert-block alert-success\">\n",
    "    \n",
    "<b>Comentario del revisor #3</b> <a class=\"tocSkip\"></a>\n",
    "    \n",
    "Buen trabajo!\n",
    "</div>\n"
   ]
  },
  {
   "cell_type": "markdown",
   "metadata": {},
   "source": [
    "\n",
    "**Posibles razones por las que hay valores ausentes en los datos** <a id='4'></a>\n",
    "\n",
    "Hallazgos:\n",
    "\n",
    "Creo que aunque hay columnas con valores ausentes, no parece haber una conexión negativa que pueda afectar los estudios o predicciones futuras. Sin embargo, el nivel de valores ausentes es del 10.10%, lo cual considero alto. No obstante, es posible tomar medidas para trabajar con las otras columnas que no presentan este problema.\n",
    "\n",
    "Posibles razones por las que hay valores ausentes en los datos:\n",
    "\n",
    "Error en la recopilación de datos: Puede haber ocurrido un error, lo que resultó en la falta de información para ciertas variables.\n",
    "\n",
    "Falta de respuesta: Es posible que los encuestados o clientes hayan optado por no proporcionar información, lo que resulta en valores ausentes en esos campos.\n",
    "\n",
    "Problemas técnicos: Puede haber habido problemas técnicos durante la recopilación, transcripción, almacenamiento o procesamiento de los datos, lo que lleva a la pérdida de información en ciertas variables.\n",
    "\n",
    "Interpretación de la variable: En algunos casos, la falta de valores puede deberse a la propia naturaleza de la variable. Por ejemplo, si se registra la cantidad de hijos y un cliente no tiene hijos, es posible que se registre como un valor ausente en esa variable.\n",
    "\n",
    "Ideas sobre por qué podrían estar ausentes los valores:\n",
    "\n",
    "Falta de registro: Es posible que algunos clientes no hayan proporcionado la información de manera adecuada o completa al solicitar el préstamo, lo que resulta en valores ausentes en ciertas variables.\n",
    "\n",
    "Naturaleza de las variables: Algunas variables, como la experiencia laboral en días (days_employed) y el ingreso total mensual (total_income), pueden ser más difíciles de obtener o calcular con precisión. Los clientes pueden no tener un conocimiento preciso de su experiencia laboral en días o pueden tener fuentes de ingresos irregulares, lo que podría generar valores ausentes en esas variables.\n",
    "\n",
    "Privacidad y confidencialidad: Algunos clientes pueden optar por no proporcionar cierta información sensible, como su experiencia laboral detallada o su ingreso total mensual, debido a preocupaciones de privacidad y confidencialidad. Esto podría resultar en valores ausentes en esas variables.\n",
    "\n",
    "Errores o inconsistencias en los datos: Es posible que haya habido errores o inconsistencias en la recopilación, registro o almacenamiento de los datos, lo que llevó a la falta de información en ciertas variables.\n",
    "\n",
    "¿Crees que los valores ausentes siguen un patrón o son aleatorios?\n",
    "\n",
    "Con base únicamente en la información proporcionada hasta ahora, es difícil determinar si los valores ausentes siguen un patrón específico o si son aleatorios. Es más probable que sean aleatorios, pero se requeriría realizar un análisis más detallado y explorar la relación entre las variables con valores ausentes y otras variables en el conjunto de datos para identificar cualquier patrón o relación.\n",
    "\n",
    "Continuemos comprobando si los valores ausentes son aleatorios:"
   ]
  },
  {
   "cell_type": "code",
   "execution_count": 13,
   "metadata": {},
   "outputs": [
    {
     "data": {
      "image/png": "[encoded data removed]",
      "text/plain": [
       "<Figure size 432x288 with 1 Axes>"
      ]
     },
     "metadata": {
      "needs_background": "light"
     },
     "output_type": "display_data"
    }
   ],
   "source": [
    "# Obtener la distribución de la variable de interés\n",
    "datos['income_type'].value_counts().plot(kind='bar')\n",
    "\n",
    "# Configurar el título y etiquetas de los ejes\n",
    "plt.title('Distribución de tipos de ingresos')\n",
    "plt.xlabel('Tipo de ingreso')\n",
    "plt.ylabel('Frecuencia')\n",
    "\n",
    "# Mostrar el gráfico\n",
    "plt.show()"
   ]
  },
  {
   "cell_type": "markdown",
   "metadata": {},
   "source": [
    "<div class=\"alert alert-block alert-success\">\n",
    "    \n",
    "<b>Comentario del revisor #3</b> <a class=\"tocSkip\"></a>  \n",
    "    \n",
    "Bien hecho!\n",
    "</div>\n"
   ]
  },
  {
   "cell_type": "markdown",
   "metadata": {},
   "source": [
    "**Conclusión intermedia** <a id='5'></a>\n",
    "\n",
    "La distribución del conjunto de datos original y la tabla filtrada no son similares. En la tabla filtrada, solo existen valores ausentes para la variable \"income_type\", mientras que en el conjunto de datos original hay valores no nulos para esa variable. Esto indica que los valores ausentes no son aleatorios y están relacionados con la variable \"income_type\".\n",
    "\n",
    "Esto significa que la falta de datos en \"income_type\" puede tener una relación específica con ciertos tipos de ingresos en el conjunto de datos. Es importante investigar más a fondo y comprender por qué se producen estas ausencias y cómo abordarlas adecuadamente en nuestro análisis.\n",
    "\n",
    "Si consideramos que aún no podemos llegar a ninguna conclusión, podemos realizar una exploración más detallada del conjunto de datos. Podemos buscar otras razones y patrones que podrían llevar a la ausencia de datos y verificar si encontramos algún patrón que nos indique que los valores ausentes no son aleatorios.\n",
    "\n",
    "Investiguemos más a fondo nuestro conjunto de datos. Contemos los valores ausentes en cada columna y mostremoslos."
   ]
  },
  {
   "cell_type": "code",
   "execution_count": 14,
   "metadata": {},
   "outputs": [
    {
     "name": "stdout",
     "output_type": "stream",
     "text": [
      "Columnas con valores ausentes:\n",
      "days_employed    2174\n",
      "dtype: int64\n",
      "\n",
      "Porcentaje de valores ausentes por columna:\n",
      "children             0.000000\n",
      "days_employed       10.099884\n",
      "dob_years            0.000000\n",
      "education            0.000000\n",
      "education_id         0.000000\n",
      "family_status        0.000000\n",
      "family_status_id     0.000000\n",
      "gender               0.000000\n",
      "income_type          0.000000\n",
      "debt                 0.000000\n",
      "total_income         0.000000\n",
      "purpose              0.000000\n",
      "dtype: float64\n"
     ]
    }
   ],
   "source": [
    "# Comprueba otras razones y patrones que podrían llevar a valores ausentes\n",
    "# Contar los valores ausentes en cada columna\n",
    "valores_ausentes = datos.isnull().sum()\n",
    "\n",
    "# Mostrar las columnas con valores ausentes\n",
    "columnas_ausentes = valores_ausentes[valores_ausentes > 0]\n",
    "print(\"Columnas con valores ausentes:\")\n",
    "print(columnas_ausentes)\n",
    "\n",
    "# Calcular el porcentaje de valores ausentes en cada columna\n",
    "porcentaje_ausentes = (valores_ausentes / len(datos)) * 100\n",
    "\n",
    "# Mostrar el porcentaje de valores ausentes\n",
    "print(\"\\nPorcentaje de valores ausentes por columna:\")\n",
    "print(porcentaje_ausentes)"
   ]
  },
  {
   "cell_type": "markdown",
   "metadata": {},
   "source": [
    "**Conclusión intermedia** <a id='6'></a>\n",
    "\n",
    "No podemos confirmar que los valores ausentes sean accidentales basándonos únicamente en esta información. Es importante llevar a cabo una investigación más exhaustiva para analizar las posibles razones de los valores ausentes y estudiar cualquier patrón o tendencia que pueda existir en los datos faltantes. Pará obtener una comprensión más sólida y determinar sí los valores ausentes son aleatorios o si hay razones que contribuyen a su presencia. Observemos las proporción de valores ausentes y su proporción."
   ]
  },
  {
   "cell_type": "code",
   "execution_count": 15,
   "metadata": {
    "scrolled": true
   },
   "outputs": [
    {
     "name": "stdout",
     "output_type": "stream",
     "text": [
      "children            0.000000\n",
      "days_employed       0.100999\n",
      "dob_years           0.000000\n",
      "education           0.000000\n",
      "education_id        0.000000\n",
      "family_status       0.000000\n",
      "family_status_id    0.000000\n",
      "gender              0.000000\n",
      "income_type         0.000000\n",
      "debt                0.000000\n",
      "total_income        0.000000\n",
      "purpose             0.000000\n",
      "dtype: float64\n"
     ]
    }
   ],
   "source": [
    "# Comprobación de otros patrones: explica cuáles\n",
    "# Calcular la proporción de valores ausentes en cada columna\n",
    "proporcion_valores_ausentes = datos.isnull().mean()\n",
    "\n",
    "# Mostrar la proporción de valores ausentes en cada columna\n",
    "print(proporcion_valores_ausentes)"
   ]
  },
  {
   "cell_type": "markdown",
   "metadata": {},
   "source": [
    "**Conclusiones** <a id='7'></a>\n",
    "\n",
    "Encontramos un patrón en la columna \"days_employed\" hay un porcentaje significativo de valores ausentes. Llegamos a esta conclusión al observar que 10.10% de los registros de la columna no tenían datos, mientras que las demás columnas no tienen valores ausentes.\n",
    "\n",
    "Para abordar los valores ausentes, la estrategia de reemplazar los valores faltantes en la columna \"days_employed\" utilizando la mediana o media. La mediana es una medida más robusta que la media y ayuda a evitar la influencia de valores atípicos.\n",
    "\n",
    "Para reemplazar valores ausentes dela columna \"days_employed\" utilizaremos la mediana.\n",
    "Manejaremos problemas relacionado con duplicados y registros diferentes si aparecen.\n",
    "Veremos si hay datos incorrectos y corregirlos si es posible.\n",
    "\n",
    "Haremos una revisión final para asegurarnos de que no haya más valores ausentes, que los datos estén bien y al analisis, con una transformación de datos."
   ]
  },
  {
   "cell_type": "markdown",
   "metadata": {},
   "source": [
    "<div class=\"alert alert-block alert-success\">\n",
    "    \n",
    "<b>Comentario del revisor #2</b> <a class=\"tocSkip\"></a>\n",
    "    \n",
    "Bien hecho\n",
    "</div>"
   ]
  },
  {
   "cell_type": "markdown",
   "metadata": {},
   "source": [
    "## Transformación de datos <a id='8'></a>\n",
    "\n",
    "Repasemos cada columna para ver qué problemas podemos tener en ellas.\n",
    "\n",
    "Haremos la eliminación de duplicados y la corrección de la información si es necesario.\n",
    "\n",
    "Education: No se mencionan problemas específicos con esta columna. Sin embargo, podríamos revisar si hay categorías mal escritas o inconsistentes y corregirlas si es necesario. \n",
    "\n",
    "Al repasar cada columna, es importante tener en cuenta que los problemas y las acciones a tomar pueden variar según el contexto y los objetivos específicos del análisis. Es crucial garantizar la integridad de los datos, corregir posibles errores y evitar cualquier sesgo o discriminación en el proceso. La eliminación de duplicados ayuda a garantizar la precisión de nuestros resultados, mientras que la corrección de la información educativa nos permite analizar de manera adecuada el impacto de este factor en el incumplimiento de pagos. Además, abordar los valores ausentes y los problemas en la columna de propósito del crédito nos permite tener una visión más completa y precisa de los datos. Se veran los valores de todas las columnas, verificaremos ortografía y los calores únicos.\n",
    "\n",
    "Empecemos con la columna de educación para verificar si es necesario corregir errores ortográgicos o cualquier otro que surga:"
   ]
  },
  {
   "cell_type": "markdown",
   "metadata": {},
   "source": [
    "Verificación de valores únicos en la columna 'education'"
   ]
  },
  {
   "cell_type": "code",
   "execution_count": 16,
   "metadata": {},
   "outputs": [
    {
     "name": "stdout",
     "output_type": "stream",
     "text": [
      "Valores únicos en la columna 'education':\n",
      "[\"bachelor's degree\" 'secondary education' 'Secondary Education'\n",
      " 'SECONDARY EDUCATION' \"BACHELOR'S DEGREE\" 'some college'\n",
      " 'primary education' \"Bachelor's Degree\" 'SOME COLLEGE' 'Some College'\n",
      " 'PRIMARY EDUCATION' 'Primary Education' 'Graduate Degree'\n",
      " 'GRADUATE DEGREE' 'graduate degree']\n"
     ]
    }
   ],
   "source": [
    "print(\"Valores únicos en la columna 'education':\")\n",
    "print(datos['education'].unique())"
   ]
  },
  {
   "cell_type": "markdown",
   "metadata": {},
   "source": [
    "En esta celda, verificamos los valores únicos presentes en la columna 'education' para identificar las categorías existentes y posibles errores."
   ]
  },
  {
   "cell_type": "markdown",
   "metadata": {},
   "source": [
    "Conversión a minúsculas y corrección de categorías:"
   ]
  },
  {
   "cell_type": "code",
   "execution_count": 17,
   "metadata": {},
   "outputs": [],
   "source": [
    "# Convertir a minúsculas:\n",
    "datos['education'] = datos['education'].str.lower()\n",
    "\n",
    "# Corregir errores ortográficos y unificar categorías\n",
    "datos['education'] = datos['education'].replace({\n",
    "    \"bachelor's degree\": \"bachelor_degree\",\n",
    "    'secondary education': 'secondary_education',\n",
    "    'some college': 'some_college',\n",
    "    'primary education': 'primary_education',\n",
    "    'graduate degree': 'graduate_degree'\n",
    "})"
   ]
  },
  {
   "cell_type": "markdown",
   "metadata": {},
   "source": [
    "En esta celda, convertimos todos los valores de la columna 'education' a minúsculas utilizando el método str.lower(). Luego, corregimos errores ortográficos y unificamos las categorías utilizando el método replace(). En este caso, hemos modificado las categorías para seguir el estilo de snake_case, que consiste en palabras en minúsculas separadas por guiones bajos."
   ]
  },
  {
   "cell_type": "markdown",
   "metadata": {},
   "source": [
    "Verificación de los valores corregidos:"
   ]
  },
  {
   "cell_type": "code",
   "execution_count": 18,
   "metadata": {},
   "outputs": [
    {
     "name": "stdout",
     "output_type": "stream",
     "text": [
      "bachelor_degree\n",
      "secondary_education\n",
      "some_college\n",
      "primary_education\n",
      "graduate_degree\n"
     ]
    }
   ],
   "source": [
    "# Obtener todos los valores únicos en la columna 'education' después de la corrección\n",
    "valores_unicos = datos['education'].unique()\n",
    "\n",
    "# Imprimir los valores únicos\n",
    "for valor in valores_unicos:\n",
    "    print(valor)"
   ]
  },
  {
   "cell_type": "markdown",
   "metadata": {},
   "source": [
    "En esta celda, verificamos los valores únicos en la columna 'education' después de haber realizado las correcciones. Iteramos sobre los valores únicos y los imprimimos para asegurarnos de que las modificaciones hayan sido aplicadas correctamente, ahora siguiendo el estilo de snake_case.\n",
    "\n",
    "Al utilizar snake_case para modificar las categorías de la columna 'education', logramos una convención de nomenclatura más consistente y legible, lo que facilita futuros análisis y manipulaciones de datos."
   ]
  },
  {
   "cell_type": "markdown",
   "metadata": {},
   "source": [
    "<div class=\"alert alert-block alert-success\">\n",
    "    \n",
    "<b>Comentario del revisor #2</b> <a class=\"tocSkip\"></a>\n",
    "    \n",
    "Buen trabajo lidiando con los problemas en la columna ``education``.\n",
    "</div>"
   ]
  },
  {
   "cell_type": "markdown",
   "metadata": {},
   "source": [
    "Comprobando los datos de la columna `children`"
   ]
  },
  {
   "cell_type": "markdown",
   "metadata": {},
   "source": [
    "Es importante analizar la distribución de valores en la columna 'children' para identificar posibles anomalías en los datos. Veamos los valores únicos presentes en esta columna:"
   ]
  },
  {
   "cell_type": "code",
   "execution_count": 19,
   "metadata": {},
   "outputs": [
    {
     "name": "stdout",
     "output_type": "stream",
     "text": [
      "Valores únicos en la columna 'children':\n",
      "[ 1  0  3  2 -1  4 20  5]\n"
     ]
    }
   ],
   "source": [
    "print(\"Valores únicos en la columna 'children':\")\n",
    "print(datos['children'].unique())"
   ]
  },
  {
   "cell_type": "markdown",
   "metadata": {},
   "source": [
    "Para corregir y agrupar los valores en la columna 'children', asumiendo que el valor 20 se refiere a 2. Y que -1, se refiere a 1 usaremos:"
   ]
  },
  {
   "cell_type": "code",
   "execution_count": 20,
   "metadata": {},
   "outputs": [
    {
     "name": "stdout",
     "output_type": "stream",
     "text": [
      "Valores únicos en la columna 'children' después de la corrección:\n",
      "[1 0 3 2 4 5]\n"
     ]
    }
   ],
   "source": [
    "# Corregir y agrupar los valores en la columna 'children'\n",
    "datos['children'] = datos['children'].replace(-1, 1)  # Reemplazar -1 por 1\n",
    "datos['children'] = datos['children'].replace(20, 2)  # Reemplazar 20 por 2\n",
    "\n",
    "# Verificar los cambios\n",
    "print(\"Valores únicos en la columna 'children' después de la corrección:\")\n",
    "print(datos['children'].unique())"
   ]
  },
  {
   "cell_type": "markdown",
   "metadata": {},
   "source": [
    "Claramente el resultado 0 significa que el solicitante no tiene hijos, por lo que no haré nada para modificar este dato o valor.\n",
    "\n",
    "Este código reemplaza el valor -1 por 1 y el valor 20 por 2 en la columna 'children'. \n",
    "Después de realizar estos cambios, se verifica la columna nuevamente para confirmar que los valores hayan sido corregidos y agrupados adecuadamente.\n",
    "\n",
    "Ventajas:\n",
    "\n",
    "Al corregir y agrupar estos valores extraños, estaremos obteniendo una distribución más coherente y comprensible en la columna 'children'. Esto facilitará el análisis y la interpretación de los datos.\n",
    "\n",
    "La presencia de valores extraños en la columna 'children' puede afectar negativamente cualquier análisis o modelo que se realice con estos datos. Al corregir y agrupar los valores, mejoraremos la calidad de los datos y evitaremos posibles interpretaciones erróneas o resultados incorrectos.\n",
    "Teniendo en cuenta estas observaciones, conclusiones y ventajas, podemos proceder a realizar las modificaciones en los datos de la columna 'children' para corregir y agrupar los valores extraños."
   ]
  },
  {
   "cell_type": "markdown",
   "metadata": {},
   "source": [
    "<div class=\"alert alert-block alert-success\">\n",
    "    \n",
    "<b>Comentario del revisor #2</b> <a class=\"tocSkip\"></a>\n",
    "    \n",
    "Buen trabajo con los datos de la columna ``children``\n",
    "</div>"
   ]
  },
  {
   "cell_type": "markdown",
   "metadata": {},
   "source": [
    "Columna 'days_employed':"
   ]
  },
  {
   "cell_type": "code",
   "execution_count": 21,
   "metadata": {},
   "outputs": [
    {
     "name": "stdout",
     "output_type": "stream",
     "text": [
      "count     19351.000000\n",
      "mean      63046.497661\n",
      "std      140827.311974\n",
      "min      -18388.949901\n",
      "25%       -2747.423625\n",
      "50%       -1203.369529\n",
      "75%        -291.095954\n",
      "max      401755.400475\n",
      "Name: days_employed, dtype: float64\n"
     ]
    }
   ],
   "source": [
    "print(datos['days_employed'].describe())"
   ]
  },
  {
   "cell_type": "code",
   "execution_count": 22,
   "metadata": {},
   "outputs": [
    {
     "name": "stdout",
     "output_type": "stream",
     "text": [
      "Valores únicos en la columna 'days_employed':\n",
      "[-8437.67302776 -4024.80375385 -5623.42261023 ... -2113.3468877\n",
      " -3112.4817052  -1984.50758853]\n"
     ]
    }
   ],
   "source": [
    "# Verificar los valores únicos en la columna 'days_employed'\n",
    "print(\"Valores únicos en la columna 'days_employed':\")\n",
    "print(datos['days_employed'].unique())"
   ]
  },
  {
   "cell_type": "markdown",
   "metadata": {},
   "source": [
    "Al revisar los datos de la columna 'days_employed', notamos que existen valores altamente positivos que no parecen tener sentido con la escala que estamos manejando. Por lo tanto, abordaremos este problema suponiendo que estos valores se registraron en horas en lugar de días. Para resolverlo, convertiremos estos valores a días dividiéndolos por 24, lo que nos permitirá tener una escala más coherente para el análisis."
   ]
  },
  {
   "cell_type": "markdown",
   "metadata": {},
   "source": [
    "Diviremos los valores de cada celda en la columna 'days_employed' entre 24, y guardaremos los nuevos valores en la misma columna:"
   ]
  },
  {
   "cell_type": "code",
   "execution_count": 23,
   "metadata": {},
   "outputs": [
    {
     "name": "stdout",
     "output_type": "stream",
     "text": [
      "Nuevos valores en la columna 'days_employed' (en horas):\n",
      "[351.56970949 167.70015641 234.30927543 ...  88.05612032 129.68673772\n",
      "  82.68781619]\n"
     ]
    }
   ],
   "source": [
    "# Dividir los valores de la columna 'days_employed' entre 24 y tomar el valor absoluto\n",
    "datos['days_employed'] = datos['days_employed'].abs() / 24\n",
    "\n",
    "# Verificar los nuevos valores en la columna 'days_employed' (en horas)\n",
    "print(\"Nuevos valores en la columna 'days_employed' (en horas):\")\n",
    "print(datos['days_employed'].unique())"
   ]
  },
  {
   "cell_type": "markdown",
   "metadata": {},
   "source": [
    "Determinaremos que los decimales corresponden a segundos que se pueden redondear. Por ésta situación redondearemos los decimales, 351.56 debería cambiar a 352, 167.70 a 168, 234.30 a 234, 88.05 a 88, 129.68 a 130 y 82.68 a 83:"
   ]
  },
  {
   "cell_type": "code",
   "execution_count": 24,
   "metadata": {},
   "outputs": [
    {
     "name": "stdout",
     "output_type": "stream",
     "text": [
      "Nuevos valores en la columna 'days_employed' (en horas):\n",
      "[  352   168   234 ... 16719 14943 15217]\n"
     ]
    }
   ],
   "source": [
    "# Reemplazar los valores no finitos por ceros\n",
    "datos['days_employed'] = datos['days_employed'].fillna(0)\n",
    "\n",
    "# Redondear los valores de la columna 'days_employed' a enteros\n",
    "datos['days_employed'] = datos['days_employed'].round().astype(int)\n",
    "\n",
    "# Verificar los nuevos valores en la columna 'days_employed' (en horas)\n",
    "print(\"Nuevos valores en la columna 'days_employed' (en horas):\")\n",
    "print(datos['days_employed'].unique())"
   ]
  },
  {
   "cell_type": "markdown",
   "metadata": {},
   "source": [
    "Como hemos notado que los valores obtenidos siguen siendo dificiles de leer, los dividiremos entre 24. Hemos decidido tomar la desición de suponer que se refiere ahora. Así que al dividir los datos entre 24 obtendremos los valores a días"
   ]
  },
  {
   "cell_type": "code",
   "execution_count": 25,
   "metadata": {},
   "outputs": [
    {
     "name": "stdout",
     "output_type": "stream",
     "text": [
      "Nuevos valores en la columna 'days_employed' (en horas):\n",
      "[ 14.66666667   7.           9.75       ... 696.625      622.625\n",
      " 634.04166667]\n"
     ]
    }
   ],
   "source": [
    "# Dividir los valores de la columna 'days_employed' entre 24, convirtiendo las horas en días\n",
    "datos['days_employed'] = (datos['days_employed'] / 24)\n",
    "\n",
    "# Verificar los nuevos valores en la columna 'days_employed' (en horas)\n",
    "print(\"Nuevos valores en la columna 'days_employed' (en horas):\")\n",
    "print(datos['days_employed'].unique())"
   ]
  },
  {
   "cell_type": "markdown",
   "metadata": {},
   "source": [
    "En conclusión, hemos realizado con éxito la conversión de los valores en la columna 'days_employed', que anteriormente presentaban cifras increíblemente grandes y poco significativas, a una escala más comprensible y coherente: la cantidad de días trabajados.\n",
    "\n",
    "Anteriormente, estos valores no tenían un sentido claro y resultaban poco útiles para nuestro análisis, pero ahora, con la conversión realizada, podemos interpretar los nuevos valores como el tiempo efectivo de trabajo en días y horas(decimales).\n",
    "\n",
    "Por ejemplo, un valor de 14.67 horas representa aproximadamente 14 días y 16 horas trabajadas, mientras que un valor de 622.63 horas representa aproximadamente 622 días y 15 horas trabajadas, equivalente a casi 2 años. Lo que habla de un dato más normal o real.\n",
    "\n",
    "Esta transformación ha mejorado significativamente la calidad de nuestros datos y nos permitirá realizar un análisis más claro, preciso y útil en relación con el tiempo de trabajo de los individuos en nuestro conjunto de datos.\n",
    "\n",
    "El proceso de conversión a una escala más adecuada ha sido fundamental para obtener información valiosa sobre el tiempo laboral de los clientes, lo que nos facilitará identificar patrones, tendencias y comportamientos relevantes para nuestro análisis financiero.\n",
    "\n",
    "Es importante destacar que el tratamiento de datos es una etapa esencial en el análisis, ya que nos permite obtener resultados más significativos y confiables. Al abordar el problema de la escala de la columna 'days_employed', hemos mejorado la interpretación de la información y, por ende, la calidad de nuestros análisis financieros.\n",
    "\n",
    "En resumen, la conversión de los valores en la columna 'days_employed' ha sido un paso crucial para obtener información valiosa sobre el tiempo de trabajo de los clientes y nos ha permitido realizar un análisis más preciso y coherente en nuestro estudio financiero."
   ]
  },
  {
   "cell_type": "markdown",
   "metadata": {},
   "source": [
    "Ahora revisaremos la columna de edad de los clientes para identificar posibles problemas o datos extraños. Es importante considerar qué valores podrían ser inapropiados o improbables de representar la edad de una persona.\n",
    "\n",
    "La columna de edad debe contener valores numéricos enteros que representen la edad de los clientes.\n",
    "Los valores válidos en esta columna deben estar dentro de un rango razonable, generalmente desde la infancia hasta una edad máxima comúnmente aceptada.\n",
    "\n",
    "Al examinar la columna de edad, buscamos identificar cualquier valor atípico o inapropiado que pueda indicar datos erróneos o incoherentes.\n",
    "\n",
    "Es posible que encontremos valores negativos, valores extremadamente altos o valores no numéricos en esta columna, lo cual sería inusual y requeriría una atención especial.\n",
    "\n",
    "Identificar datos inapropiados o extraños en la columna de edad nos permitirá realizar una limpieza adecuada de los datos y garantizar la integridad de nuestro análisis.\n",
    "\n",
    "La detección y corrección de datos incoherentes o incorrectos en la columna de edad es esencial para obtener resultados precisos y confiables en nuestro análisis. Además, nos ayuda a mantener la calidad de los datos y a evitar sesgos o errores en nuestras conclusiones."
   ]
  },
  {
   "cell_type": "code",
   "execution_count": 26,
   "metadata": {
    "scrolled": true
   },
   "outputs": [
    {
     "name": "stdout",
     "output_type": "stream",
     "text": [
      "Valores únicos en la columna 'dob_years':\n",
      "[42 36 33 32 53 27 43 50 35 41 40 65 54 56 26 48 24 21 57 67 28 63 62 47\n",
      " 34 68 25 31 30 20 49 37 45 61 64 44 52 46 23 38 39 51  0 59 29 60 55 58\n",
      " 71 22 73 66 69 19 72 70 74 75]\n"
     ]
    }
   ],
   "source": [
    "# Revisa `dob_years` en busca de valores sospechosos\n",
    "# Verificar los valores únicos en la columna 'dob_years'\n",
    "print(\"Valores únicos en la columna 'dob_years':\")\n",
    "print(datos['dob_years'].unique())"
   ]
  },
  {
   "cell_type": "code",
   "execution_count": 27,
   "metadata": {},
   "outputs": [
    {
     "name": "stdout",
     "output_type": "stream",
     "text": [
      "Porcentaje de valores '0' en la columna 'dob_years': 0.4692218350754936 %\n"
     ]
    }
   ],
   "source": [
    "# Calcular el porcentaje de valores \"0\" en la columna 'dob_years'\n",
    "total_registros = len(datos)\n",
    "num_ceros = len(datos[datos['dob_years'] == 0])\n",
    "porcentaje_ceros = (num_ceros / total_registros) * 100\n",
    "\n",
    "print(\"Porcentaje de valores '0' en la columna 'dob_years':\", porcentaje_ceros, \"%\")"
   ]
  },
  {
   "cell_type": "markdown",
   "metadata": {},
   "source": [
    "Tras analizar la columna 'dob_years' que representa la edad de los clientes, hemos identificado que hay un porcentaje de valores '0' en dicha columna, correspondiente al 0.4692218350754936% de los registros. Estos valores '0' son inusuales e improbables como representación de la edad de alguien, y es necesario abordarlos adecuadamente.\n",
    "\n",
    "Para lidiar con los valores problemáticos, hemos decidido reemplazarlos por la mediana de la columna 'dob_years'. La elección de la mediana se basa en su capacidad para proporcionar un valor central que no se vea afectado por valores atípicos o anómalos. \n",
    "Al sustituir los valores '0' por la mediana, buscamos preservar la integridad de la distribución de edades en nuestro conjunto de datos, evitando así una distorsión significativa de los resultados y análisis posteriores.\n",
    "\n",
    "Esta decisión está respaldada por la necesidad de mantener la coherencia y confiabilidad de los datos, al tiempo que minimizamos el impacto en la distribución global de las edades. \n",
    "\n",
    "Para evitar un error porque la biblioteca NumPy (np) no se ha importado en el código. Importamos Numpy al principio.\n",
    "\n",
    "Al reemplazar los valores '0' por la mediana, esperamos obtener una representación más precisa y realista de la edad de los clientes, lo que nos permitirá realizar análisis más confiables y tomar decisiones fundamentadas en base a estos datos."
   ]
  },
  {
   "cell_type": "code",
   "execution_count": 28,
   "metadata": {},
   "outputs": [],
   "source": [
    "# Calcular la mediana de la columna 'dob_years'\n",
    "mediana = np.median(datos['dob_years'])\n",
    "\n",
    "# Reemplazar el valor \"0\" por la mediana en la columna 'dob_years'\n",
    "datos['dob_years'] = np.where(datos['dob_years'] == 0, mediana, datos['dob_years'])"
   ]
  },
  {
   "cell_type": "code",
   "execution_count": 29,
   "metadata": {},
   "outputs": [
    {
     "name": "stdout",
     "output_type": "stream",
     "text": [
      "Valores únicos en la columna 'dob_years':\n",
      "[42. 36. 33. 32. 53. 27. 43. 50. 35. 41. 40. 65. 54. 56. 26. 48. 24. 21.\n",
      " 57. 67. 28. 63. 62. 47. 34. 68. 25. 31. 30. 20. 49. 37. 45. 61. 64. 44.\n",
      " 52. 46. 23. 38. 39. 51. 59. 29. 60. 55. 58. 71. 22. 73. 66. 69. 19. 72.\n",
      " 70. 74. 75.]\n"
     ]
    }
   ],
   "source": [
    "# Verificar los valores únicos en la columna 'dob_years'\n",
    "print(\"Valores únicos en la columna 'dob_years':\")\n",
    "print(datos['dob_years'].unique())"
   ]
  },
  {
   "cell_type": "markdown",
   "metadata": {},
   "source": [
    "<div class=\"alert alert-block alert-success\">\n",
    "    \n",
    "<b>Comentario del revisor #2</b> <a class=\"tocSkip\"></a>\n",
    "    \n",
    "Genial, buen trabajo!\n",
    "</div>"
   ]
  },
  {
   "cell_type": "markdown",
   "metadata": {},
   "source": [
    "Valores únicos en la columna 'family_status':"
   ]
  },
  {
   "cell_type": "code",
   "execution_count": 30,
   "metadata": {},
   "outputs": [
    {
     "name": "stdout",
     "output_type": "stream",
     "text": [
      "Valores únicos en la columna 'family_status':\n",
      "['married' 'civil partnership' 'widow / widower' 'divorced' 'unmarried']\n"
     ]
    }
   ],
   "source": [
    "# Veamos los valores de la columna 'family_status'\n",
    "# Verificar los valores únicos en la columna 'family_status'\n",
    "print(\"Valores únicos en la columna 'family_status':\")\n",
    "print(datos['family_status'].unique())"
   ]
  },
  {
   "cell_type": "markdown",
   "metadata": {},
   "source": [
    "Observamos que existen cinco valores únicos en la columna 'family_status': 'married', 'civil partnership', 'widow / widower', 'divorced' y 'unmarried'. Estos valores representan diferentes estados civiles de los clientes.\n",
    "\n",
    "Para abordar estos problemas y mejorar la consistencia de los datos, aplicaremos una convención de nomenclatura usando snake_case. Esto implica reemplazar los espacios en blanco con guiones bajos y convertir todo el texto a minúsculas. Al aplicar snake_case, podremos estandarizar las categorías de la columna 'family_status' y evitar ambigüedades en el análisis posterior.\n",
    "\n",
    "Realizaremos las modificaciones correspondientes en la columna 'family_status' para aplicar snake_case a las categorías. Esto nos permitirá tener una representación más uniforme y coherente de los estados civiles en nuestros datos, lo cual facilitará el análisis y la interpretación de los resultados."
   ]
  },
  {
   "cell_type": "markdown",
   "metadata": {},
   "source": [
    "Aplicar snake_case a las categorías de la columna 'family_status'"
   ]
  },
  {
   "cell_type": "code",
   "execution_count": 31,
   "metadata": {},
   "outputs": [],
   "source": [
    "datos['family_status'] = datos['family_status'].str.lower().str.replace(' ', '_')"
   ]
  },
  {
   "cell_type": "markdown",
   "metadata": {},
   "source": [
    "Verificar los valores únicos en la columna 'family_status' después de aplicar snake_case"
   ]
  },
  {
   "cell_type": "code",
   "execution_count": 32,
   "metadata": {},
   "outputs": [
    {
     "name": "stdout",
     "output_type": "stream",
     "text": [
      "Valores únicos en la columna 'family_status' después de aplicar snake_case:\n",
      "['married' 'civil_partnership' 'widow_/_widower' 'divorced' 'unmarried']\n"
     ]
    }
   ],
   "source": [
    "valores_unicos = datos['family_status'].unique()\n",
    "print(\"Valores únicos en la columna 'family_status' después de aplicar snake_case:\")\n",
    "print(valores_unicos)"
   ]
  },
  {
   "cell_type": "markdown",
   "metadata": {},
   "source": [
    "Al analizar la columna, podemos identificar posibles problemas como inconsistencias en la escritura de los valores o categorías similares que podrían referirse a lo mismo. Por ejemplo, 'married' y 'unmarried' podrían ser categorías similares para el estado civil de estar \"soltero/a\".\n",
    "\n",
    "Es importante tener en cuenta que esta transformación se realizó para seguir buenas prácticas de nomenclatura y coherencia en la estructura de los datos. Además, al tener las categorías en snake_case, se evitan posibles problemas relacionados con espacios o caracteres especiales en los nombres de las categorías."
   ]
  },
  {
   "cell_type": "markdown",
   "metadata": {},
   "source": [
    "<div class=\"alert alert-block alert-success\">\n",
    "    \n",
    "<b>Comentario del revisor #2</b> <a class=\"tocSkip\"></a>\n",
    "    \n",
    "Perfecto!\n",
    "</div>"
   ]
  },
  {
   "cell_type": "markdown",
   "metadata": {},
   "source": [
    "Analicemos la columna 'gender' para identificar los tipos de valores presentes y los posibles problemas que podríamos enfrentar."
   ]
  },
  {
   "cell_type": "code",
   "execution_count": 33,
   "metadata": {},
   "outputs": [
    {
     "name": "stdout",
     "output_type": "stream",
     "text": [
      "Valores únicos en la columna 'gender':\n",
      "['F' 'M' 'XNA']\n"
     ]
    }
   ],
   "source": [
    "# Veamos los valores en la columna\n",
    "print(\"Valores únicos en la columna 'gender':\")\n",
    "print(datos['gender'].unique())\n"
   ]
  },
  {
   "cell_type": "markdown",
   "metadata": {},
   "source": [
    "Esto indica que podría haber un problema en los datos relacionados con el género de algunos clientes. \n",
    "Es posible que se hayan ingresado datos incorrectos o que se haya utilizado una categoría no válida para representar un género distinto o el cliente consideró que es un dato privado e irrelevante para la adquisición del servicio financiero.\n",
    "\n",
    "Para abordar este problema, podemos considerar diferentes enfoques según el contexto del análisis y los requisitos del proyecto. Algunas posibles acciones a tomar podrían ser reemplazar el valor 'XNA' con un valor faltante o realizar una investigación adicional para determinar la razón detrás de esta categoría inusual.\n",
    "\n",
    "Es importante tener en cuenta que la corrección o manipulación de los datos relacionados con el género debe hacerse con precaución y respeto a la privacidad y diversidad de los individuos representados en los datos.\n",
    "\n",
    "En resumen, identificamos que la columna 'gender' contiene las categorías 'F', 'M' y 'XNA'. La presencia de 'XNA' indica la existencia de un posible problema en los datos relacionados con el género, y se requerirán decisiones y acciones adicionales para manejarlo adecuadamente en el análisis.\n",
    "\n",
    "Verifiquemos el problema con los datos 'XNA', veamos cuantas veces aparecen, tomemos el porcentaje y sobre el porcentaje de XNA en la columna gender, tomemos una desición."
   ]
  },
  {
   "cell_type": "code",
   "execution_count": 34,
   "metadata": {},
   "outputs": [
    {
     "name": "stdout",
     "output_type": "stream",
     "text": [
      "Porcentaje de 'XNA' en la columna 'gender': 0.00%\n"
     ]
    }
   ],
   "source": [
    "# Contar el número de filas con valor 'XNA' en la columna 'gender'\n",
    "count_xna = datos['gender'].value_counts()['XNA']\n",
    "\n",
    "# Calcular el porcentaje de 'XNA' en la columna 'gender'\n",
    "percentage_xna = (count_xna / len(datos['gender'])) * 100\n",
    "\n",
    "# Imprimir el resultado\n",
    "print(f\"Porcentaje de 'XNA' en la columna 'gender': {percentage_xna:.2f}%\")"
   ]
  },
  {
   "cell_type": "code",
   "execution_count": 35,
   "metadata": {},
   "outputs": [
    {
     "name": "stdout",
     "output_type": "stream",
     "text": [
      "Valor más frecuente en la columna 'gender': F\n"
     ]
    }
   ],
   "source": [
    "# Calcular la moda en la columna 'gender'\n",
    "valor_mas_frecuente = datos['gender'].mode()[0]\n",
    "\n",
    "# Imprimir el valor más frecuente\n",
    "print(\"Valor más frecuente en la columna 'gender':\", valor_mas_frecuente)"
   ]
  },
  {
   "cell_type": "markdown",
   "metadata": {},
   "source": [
    "Después de calcular el porcentaje de valores 'XNA' en la columna 'gender' y obtener un resultado de 0.00%, \n",
    "podemos concluir que la presencia de este valor atípico es insignificante en el conjunto de datos. \n",
    "Dado que representa una proporción tan baja, no es necesario eliminar las filas o registros que contienen este valor.\n",
    "\n",
    "En cuanto a reemplazar el valor 'XNA' por la moda (valor más frecuente) en la columna 'gender', esta opción no es viable en este caso, ya que la moda también es 'F'. Si todos los valores 'XNA' cambian a 'F', la imputación puede generar problemas a futuro pues el género de moda tendría más peso e importancia en la investigación.\n",
    "\n",
    "Dado que el porcentaje de 'XNA' es tan bajo y no hay una opción clara para reemplazarlo, podemos tomar la decisión de mantener este valor atípico en la columna 'gender' y no hacer ninguna acción. Por lo tanto, se recomienda tener precaución y considerar las posibles consecuencias al utilizar la columna 'gender' en futuros análisis o aplicaciones."
   ]
  },
  {
   "cell_type": "markdown",
   "metadata": {},
   "source": [
    "<div class=\"alert alert-block alert-success\">\n",
    "    \n",
    "<b>Comentario del revisor #2</b> <a class=\"tocSkip\"></a>\n",
    "    \n",
    "Bien hecho!\n",
    "</div>"
   ]
  },
  {
   "cell_type": "markdown",
   "metadata": {},
   "source": [
    "Revisar la columna `income_type`"
   ]
  },
  {
   "cell_type": "code",
   "execution_count": 36,
   "metadata": {},
   "outputs": [
    {
     "name": "stdout",
     "output_type": "stream",
     "text": [
      "Valores únicos en la columna 'income_type':\n",
      "['employee' 'retiree' 'business' 'civil servant' 'unemployed'\n",
      " 'entrepreneur' 'student' 'paternity / maternity leave']\n"
     ]
    }
   ],
   "source": [
    "# Veamos los valores en la columna\n",
    "# Verificar los valores únicos en la columna 'income_type'\n",
    "print(\"Valores únicos en la columna 'income_type':\")\n",
    "print(datos['income_type'].unique())"
   ]
  },
  {
   "cell_type": "markdown",
   "metadata": {},
   "source": [
    "Al explorar la columna 'income_type', se identificaron los siguientes valores únicos:\n",
    "'employee', 'retiree', 'business', 'civil servant', 'unemployed', 'entrepreneur', 'student', 'paternity / maternity leave'\n",
    "\n",
    "Para abordar posibles problemas en esta columna, como variaciones en la capitalización y espacios adicionales, podemos aplicar la convención de snake_case a los valores de la columna 'income_type'. Esto implicará cambiar todas las letras mayúsculas a minúsculas y reemplazar los espacios con guiones bajos ('_').\n",
    "\n",
    "A continuación, se muestra el código para aplicar snake_case a los valores de la columna 'income_type':"
   ]
  },
  {
   "cell_type": "code",
   "execution_count": 37,
   "metadata": {},
   "outputs": [],
   "source": [
    "# Aplicar snake_case a los valores de la columna 'income_type'\n",
    "datos['income_type'] = datos['income_type'].str.lower().str.replace(' ', '_')"
   ]
  },
  {
   "cell_type": "markdown",
   "metadata": {},
   "source": [
    "Código para verificar los resultados después de aplicar snake_case a los valores de la columna 'income_type':"
   ]
  },
  {
   "cell_type": "code",
   "execution_count": 38,
   "metadata": {},
   "outputs": [
    {
     "name": "stdout",
     "output_type": "stream",
     "text": [
      "employee\n",
      "retiree\n",
      "business\n",
      "civil_servant\n",
      "unemployed\n",
      "entrepreneur\n",
      "student\n",
      "paternity_/_maternity_leave\n"
     ]
    }
   ],
   "source": [
    "# Verificar los valores únicos en la columna 'income_type' después de aplicar snake_case\n",
    "valores_unicos = datos['income_type'].unique()\n",
    "# Imprimir los valores únicos\n",
    "for valor in valores_unicos:\n",
    "    print(valor)"
   ]
  },
  {
   "cell_type": "markdown",
   "metadata": {},
   "source": [
    "<div class=\"alert alert-block alert-success\">\n",
    "    \n",
    "<b>Comentario del revisor #2</b> <a class=\"tocSkip\"></a>\n",
    "\n",
    "Bien hecho!    \n",
    "</div>"
   ]
  },
  {
   "cell_type": "markdown",
   "metadata": {},
   "source": [
    "Se encontraran registros duplicados en el DataFrame. Los registros duplicados tienen los mismos valores en todas las columnas. Es importante abordar los duplicados, ya que pueden afectar la integridad y precisión de los análisis y resultados obtenidos. Comprobemos los duplicados."
   ]
  },
  {
   "cell_type": "code",
   "execution_count": 39,
   "metadata": {},
   "outputs": [
    {
     "name": "stdout",
     "output_type": "stream",
     "text": [
      "Cantidad de duplicados: 72\n",
      "Cantidad de duplicados restantes: 0\n",
      "Porcentaje de cambios después de eliminar duplicados: 0.0 %\n",
      "Tamaño del conjunto de datos después de eliminar duplicados: (21453, 12)\n"
     ]
    }
   ],
   "source": [
    "# Comprobar y abordar los duplicados en el DataFrame\n",
    "duplicados = datos.duplicated()\n",
    "cantidad_duplicados = duplicados.sum()\n",
    "\n",
    "# Imprimir la cantidad de duplicados encontrados\n",
    "print(\"Cantidad de duplicados:\", cantidad_duplicados)\n",
    "\n",
    "# Eliminar los duplicados y restablecer los índices\n",
    "datos = datos.drop_duplicates().reset_index(drop=True)\n",
    "\n",
    "# Verificar si quedan duplicados después de eliminarlos\n",
    "duplicados_restantes = datos.duplicated().sum()\n",
    "\n",
    "# Imprimir la cantidad de duplicados restantes\n",
    "print(\"Cantidad de duplicados restantes:\", duplicados_restantes)\n",
    "\n",
    "# Obtener el porcentaje de cambios después de eliminar los duplicados\n",
    "porcentaje_cambios = (1 - len(datos) / len(datos)) * 100\n",
    "\n",
    "# Imprimir el porcentaje de cambios\n",
    "print(\"Porcentaje de cambios después de eliminar duplicados:\", porcentaje_cambios, \"%\")\n",
    "\n",
    "# Verificar el tamaño del conjunto de datos después de eliminar duplicados\n",
    "print(\"Tamaño del conjunto de datos después de eliminar duplicados:\", datos.shape)"
   ]
  },
  {
   "cell_type": "markdown",
   "metadata": {},
   "source": [
    "Se encontraron 72 registros duplicados en el DataFrame. Estos registros duplicados tienen los mismos valores en todas las columnas. Es importante abordar los duplicados, ya que pueden afectar la integridad y precisión de los análisis y resultados obtenidos.\n",
    "\n",
    "Para tratar los duplicados, se pueden tomar diferentes acciones dependiendo del contexto y los objetivos del análisis. Algunas posibles opciones son:\n",
    "\n",
    "Eliminar los duplicados: Se pueden eliminar los registros duplicados para mantener una única instancia de cada conjunto de datos. Esto puede ser adecuado si los duplicados son el resultado de errores en la entrada de datos o si no aportan información adicional relevante.\n",
    "\n",
    "Conservar los duplicados: En ciertos casos, los registros duplicados pueden contener información valiosa o representar observaciones únicas en el conjunto de datos. En este caso, se pueden conservar los duplicados y tener en cuenta su presencia al realizar análisis posteriores.\n",
    "\n",
    "Es importante evaluar cuidadosamente el impacto de los duplicados en el análisis y considerar el contexto específico antes de decidir qué acción tomar. En este caso, se puede explorar más a fondo la naturaleza de los duplicados, revisar si existen diferencias significativas entre ellos y determinar si es apropiado eliminarlos o conservarlos en función de los objetivos del análisis y la calidad de los datos."
   ]
  },
  {
   "cell_type": "markdown",
   "metadata": {},
   "source": [
    "Observaciones:\n",
    "\n",
    "Se identificaron 72 registros duplicados en el conjunto de datos original.\n",
    "Después de eliminar los duplicados, se verificó que no quedaran duplicados restantes en el conjunto de datos limpio.\n",
    "\n",
    "El porcentaje de cambios después de eliminar los duplicados fue del 0.33449477351916723%.\n",
    "\n",
    "El tamaño del conjunto de datos después de eliminar los duplicados se mantuvo en (21453, 12), lo que indica que no se eliminaron filas adicionales aparte de los duplicados.\n",
    "\n",
    "Conclusiones:\n",
    "\n",
    "La presencia de duplicados en un conjunto de datos puede afectar la calidad y la precisión de los análisis posteriores. Es importante abordar los duplicados para mantener la integridad de los datos.\n",
    "En este caso, la eliminación de los duplicados resultó en cambios mínimos en el conjunto de datos, con un porcentaje de cambios muy bajo.\n",
    "La eliminación de duplicados permite simplificar el análisis y asegurar que cada registro sea único.\n",
    "Aclaraciones:\n",
    "\n",
    "Al eliminar duplicados, es importante considerar el contexto y las características específicas del conjunto de datos. No todos los duplicados pueden ser eliminados indiscriminadamente, ya que algunos podrían ser registros válidos.\n",
    "En este caso, los duplicados se eliminaron asumiendo que representaban entradas repetidas o errores de entrada de datos. Se recomienda revisar los duplicados y analizar las columnas relevantes para asegurarse de que la eliminación sea apropiada.\n",
    "Ventajas:\n",
    "\n",
    "La eliminación de duplicados simplifica el análisis y reduce la redundancia en el conjunto de datos.\n",
    "Al tener un conjunto de datos limpio y libre de duplicados, se mejora la precisión de los resultados y las conclusiones obtenidas a partir del análisis.\n",
    "Por qué eliminar duplicados:\n",
    "\n",
    "Los duplicados pueden generar resultados sesgados o inexactos en el análisis de datos.\n",
    "La presencia de duplicados puede indicar errores en la recolección o el registro de los datos, lo que afecta la calidad de los mismos.\n",
    "Al eliminar duplicados, se garantiza que cada registro sea único y se evita la duplicación de información en el análisis posterior."
   ]
  },
  {
   "cell_type": "markdown",
   "metadata": {},
   "source": [
    "<div class=\"alert alert-block alert-success\">\n",
    "    \n",
    "<b>Comentario del revisor #3</b> <a class=\"tocSkip\"></a>\n",
    "    \n",
    "Buen trabajo!\n",
    "</div>"
   ]
  },
  {
   "cell_type": "markdown",
   "metadata": {},
   "source": [
    "# Trabajar con valores ausentes <a id='9'></a>"
   ]
  },
  {
   "cell_type": "markdown",
   "metadata": {},
   "source": [
    "En el análisis de datos, una de las situaciones comunes con las que nos enfrentamos es la presencia de valores ausentes en nuestra información. Los valores ausentes son datos faltantes o desconocidos en una columna específica de nuestro conjunto de datos. Estos valores pueden surgir por diversas razones, como errores en la recolección de datos, problemas técnicos, o simplemente porque ciertos datos no fueron proporcionados.\n",
    "\n",
    "En este contexto, es esencial abordar los valores ausentes para asegurar la integridad y confiabilidad de nuestros análisis y conclusiones. Trabajar con valores ausentes implica aplicar técnicas para gestionarlos de manera adecuada y evitar que afecten negativamente nuestras interpretaciones.\n",
    "\n",
    "En el presente proyecto, nos enfocaremos en analizar un conjunto de datos que incluye información sobre la deuda, ingresos, número de hijos, experiencia laboral, edad, educación, estado civil, género, tipo de empleo y propósito de préstamo de clientes. Nuestro objetivo será mapear y clasificar estos datos, con el propósito de facilitar el estudio posterior y comprender mejor el perfil de los clientes en el contexto de servicios financieros.\n",
    "\n",
    "Para lograrlo, emplearemos herramientas como diccionarios para relacionar valores numéricos con categorías descriptivas, lo que permitirá traducir códigos en información fácilmente comprensible. También utilizaremos técnicas de clasificación de datos, agrupando las edades de los clientes en diferentes grupos para un análisis más detallado.\n",
    "\n",
    "En resumen, trabajar con valores ausentes es un paso fundamental en el proceso de análisis de datos, y nos permitirá obtener insights valiosos que respalden la toma de decisiones en el sector de servicios financieros. A lo largo de este proyecto, emplearemos diversas estrategias y herramientas para manejar y clasificar los datos, facilitando así la interpretación y obtención de conclusiones significativas.\n",
    "\n",
    "Empezaremos con la columna 'education'."
   ]
  },
  {
   "cell_type": "markdown",
   "metadata": {},
   "source": [
    "**'education'**"
   ]
  },
  {
   "cell_type": "markdown",
   "metadata": {},
   "source": [
    "Relacionaremos los valores de la columna 'education' con los números correspondientes, para seccionarlos, utilizando un diccionario. \n",
    "0 está relacionado con la ausencia, el número 1 con primary y el 2 con secondary, los usaremos así para que la clasificación sea más intuitiva.\n",
    "A continuación:"
   ]
  },
  {
   "cell_type": "code",
   "execution_count": 40,
   "metadata": {},
   "outputs": [],
   "source": [
    "# Creamos el diccionario que relaciona los valores de 'education' con los números\n",
    "education_dict = {\n",
    "    'bachelor_degree': 3,\n",
    "    'secondary_education': 2,\n",
    "    'some_college': 0,\n",
    "    'primary_education': 1,\n",
    "    'graduate_degree': 4\n",
    "}\n",
    "\n",
    "# Utilizamos el método map() para reemplazar los valores en la columna 'education'\n",
    "datos['education_id'] = datos['education'].map(education_dict)"
   ]
  },
  {
   "cell_type": "markdown",
   "metadata": {},
   "source": [
    "En este código, hemos creado un diccionario llamado education_dict, donde las claves son los valores de la columna 'education' y los valores son los números correspondientes. Luego, utilizamos el método map() para reemplazar los valores en la columna 'education_id' con los números del diccionario, basados en los valores de la columna 'education'.\n",
    "\n",
    "Una vez que ejecutemos este código, la columna 'education_id' tendrá los números relacionados con los valores de 'education' según el diccionario que hemos definido. Esto facilitará el análisis y comprensión de los datos, ya que podremos trabajar con valores descriptivos en lugar de números codificados."
   ]
  },
  {
   "cell_type": "markdown",
   "metadata": {},
   "source": [
    "Para hacer observaciones y datos adicionales calcularemos la media de la columna 'total_income' para cada sección (0, 1, 2, 3, 4) en la columna 'education_id', podemos usar el método groupby() para agrupar los datos por el valor de 'education_id' y luego aplicar la función mean() a la columna 'total_income' de cada grupo.\n",
    "\n",
    "Aquí el código para hacerlo:"
   ]
  },
  {
   "cell_type": "code",
   "execution_count": 41,
   "metadata": {},
   "outputs": [
    {
     "name": "stdout",
     "output_type": "stream",
     "text": [
      "Media de 'total_income' para cada sección en la columna 'education_id':\n",
      "education_id\n",
      "0    28903.879333\n",
      "1    21444.613394\n",
      "2    24767.353750\n",
      "3    32617.723196\n",
      "4    27960.024667\n",
      "Name: total_income, dtype: float64\n"
     ]
    }
   ],
   "source": [
    "# Agrupar los datos por el valor de 'education_id' y calcular la media de 'total_income' para cada grupo\n",
    "media_total_income_por_seccion = datos.groupby('education_id')['total_income'].mean()\n",
    "\n",
    "# Imprimir el resultado\n",
    "print(\"Media de 'total_income' para cada sección en la columna 'education_id':\")\n",
    "print(media_total_income_por_seccion)"
   ]
  },
  {
   "cell_type": "markdown",
   "metadata": {},
   "source": [
    "Esto imprimió la media de 'total_income' para cada sección en la columna 'education_id'. \n",
    "Cada sección estará representada por su valor numérico correspondiente según el diccionario 'education_dict'."
   ]
  },
  {
   "cell_type": "markdown",
   "metadata": {},
   "source": [
    "Los resultados muestran la media de 'total_income' para cada sección en la columna 'education_id', donde:\n",
    "\n",
    "La sección 0 ('some_college') tiene una media de 'total_income' de aproximadamente 28,903.88.\n",
    "La sección 1 ('primary_education') tiene una media de 'total_income' de aproximadamente 21,444.61.\n",
    "La sección 2 ('secondary_education') tiene una media de 'total_income' de aproximadamente 24,767.35.\n",
    "La sección 3 ('bachelor_degree') tiene una media de 'total_income' de aproximadamente 32,617.72.\n",
    "La sección 4 ('graduate_degree') tiene una media de 'total_income' de aproximadamente 27,960.02.\n",
    "\n",
    "Estos resultados permiten comparar las medias de ingresos según el nivel educativo representado por cada sección en la columna 'education_id'. Con el mapeo se obtienen agrupados los datos y calcular informacion se vuelve más legible.\n",
    "\n",
    "Podemos ver de mayores ingresos a menores ingresos:\n",
    "En primer lugar, la sección 3 ('bachelor_degree') tiene una media de 'total_income' de aproximadamente 32,617.72.\n",
    "En segundo lugar, la sección 0 ('some_college') tiene una media de 'total_income' de aproximadamente 28,903.88.\n",
    "La relación entre educación e ingresos destaca la importancia de la educación en la toma de decisiones financieras. Aquellos con educación universitaria o superior pueden estar mejor equipados para administrar sus finanzas, invertir y tomar decisiones financieras informadas.\n",
    "Por lo que sería más arriesgado, dar un servicio financiero a una persona que es de la sección 0 ('some_college')."
   ]
  },
  {
   "cell_type": "markdown",
   "metadata": {},
   "source": [
    "**'children'**"
   ]
  },
  {
   "cell_type": "markdown",
   "metadata": {},
   "source": [
    "Ahora verifiquemos los datos de la columna children para que los podamos agrupar y mapear."
   ]
  },
  {
   "cell_type": "code",
   "execution_count": 42,
   "metadata": {},
   "outputs": [
    {
     "name": "stdout",
     "output_type": "stream",
     "text": [
      "Valores únicos en la columna 'children':\n",
      "[1 0 3 2 4 5]\n"
     ]
    }
   ],
   "source": [
    "# Verificar los valores únicos en la columna 'children'\n",
    "valores_unicos_children = datos['children'].unique()\n",
    "\n",
    "# Imprimir los valores únicos\n",
    "print(\"Valores únicos en la columna 'children':\")\n",
    "print(valores_unicos_children)"
   ]
  },
  {
   "cell_type": "markdown",
   "metadata": {},
   "source": [
    "Los valores únicos en la columna 'children' son: [1 0 3 2 4 5]. Podemos clasificarlos en tres categorías:\n",
    "\n",
    "0 hijos: Representando a aquellos clientes que no tienen hijos en la familia.\n",
    "\n",
    "1-2 hijos: Representando a aquellos clientes que tienen entre 1 y 2 hijos en la familia.\n",
    "\n",
    "3 o más hijos: Representando a aquellos clientes que tienen 3 o más hijos en la familia.\n",
    "\n",
    "Podemos crear un diccionario para mapear estos valores y clasificarlos de la siguiente manera:"
   ]
  },
  {
   "cell_type": "code",
   "execution_count": 43,
   "metadata": {},
   "outputs": [
    {
     "name": "stdout",
     "output_type": "stream",
     "text": [
      "   children children_clasificacion\n",
      "0         1              1-2 hijos\n",
      "1         1              1-2 hijos\n",
      "2         0                0 hijos\n",
      "3         3          3 o más hijos\n",
      "4         0                0 hijos\n",
      "5         0                0 hijos\n",
      "6         0                0 hijos\n",
      "7         0                0 hijos\n",
      "8         2              1-2 hijos\n",
      "9         0                0 hijos\n"
     ]
    }
   ],
   "source": [
    "# Creamos el diccionario que relaciona los valores de 'children' con las clasificaciones\n",
    "children_dict = {\n",
    "    0: '0 hijos',\n",
    "    1: '1-2 hijos',\n",
    "    2: '1-2 hijos',\n",
    "    3: '3 o más hijos',\n",
    "    4: '3 o más hijos',\n",
    "    5: '3 o más hijos'\n",
    "}\n",
    "\n",
    "# Utilizamos el método map() para reemplazar los valores en la columna 'children'\n",
    "datos['children_clasificacion'] = datos['children'].map(children_dict)\n",
    "\n",
    "# Verificamos los datos clasificados\n",
    "print(datos[['children', 'children_clasificacion']].head(10))"
   ]
  },
  {
   "cell_type": "markdown",
   "metadata": {},
   "source": [
    "Una vez organizados podemos agrupar los datos por el valor de las 3 clasificaciones de 'children' y calcular la media de 'total_income' para cada grupo, podemos utilizar el método groupby() de pandas. Luego, aplicar el método mean() para calcular la media de 'total_income' en cada grupo. Finalmente, imprimiremos el resultado. Código:"
   ]
  },
  {
   "cell_type": "code",
   "execution_count": 44,
   "metadata": {},
   "outputs": [
    {
     "name": "stdout",
     "output_type": "stream",
     "text": [
      "Media de 'total_income' para cada grupo de clasificación de 'children':\n",
      "children_clasificacion\n",
      "0 hijos          26423.690448\n",
      "1-2 hijos        27415.852163\n",
      "3 o más hijos    28825.010007\n",
      "Name: total_income, dtype: float64\n"
     ]
    }
   ],
   "source": [
    "# Agrupar los datos por el valor de las 3 clasificaciones de 'children' y calcular la media de 'total_income' para cada grupo\n",
    "grouped_children = datos.groupby('children_clasificacion')['total_income'].mean()\n",
    "\n",
    "# Imprimir el resultado\n",
    "print(\"Media de 'total_income' para cada grupo de clasificación de 'children':\")\n",
    "print(grouped_children)"
   ]
  },
  {
   "cell_type": "markdown",
   "metadata": {},
   "source": [
    "Basándonos en la media de 'total_income' para cada grupo de clasificación de 'children', podemos obtener las siguientes conclusiones:\n",
    "\n",
    "A primera vista parece que hay más ingresos mientras se tienen más hijos, hablando positivamente de la planeación familiar o de que los hijos están aportando económicamente en el hogar\n",
    "\n",
    "Ingresos más altos para familias con 3 o más hijos: En promedio, las familias con 3 o más hijos tienen un ingreso total más alto en comparación con aquellas con 0 o 1-2 hijos. \n",
    "\n",
    "Ingresos más bajos para familias sin hijos: El grupo de familias sin hijos muestra una media de ingresos totales ligeramente más baja en comparación con las familias con hijos. \n",
    "\n",
    "Sin embargo hay poca diferencia en ingresos entre familias con 1 o 2 hijos: El grupo de familias con 1-2 hijos muestra una media de ingresos totales similar a las familias con 3 o más hijos. Esto sugiere que la presencia de 1 o 2 hijos en la familia no tiene un impacto significativo en los ingresos totales en promedio."
   ]
  },
  {
   "cell_type": "markdown",
   "metadata": {},
   "source": [
    "**'days_employed'**"
   ]
  },
  {
   "cell_type": "markdown",
   "metadata": {},
   "source": [
    "Para verificar los valores únicos en la columna 'days_employed', puedes utilizar el siguiente código:"
   ]
  },
  {
   "cell_type": "code",
   "execution_count": 45,
   "metadata": {},
   "outputs": [
    {
     "name": "stdout",
     "output_type": "stream",
     "text": [
      "Valores únicos en la columna 'days_employed':\n",
      "[ 14.66666667   7.           9.75       ... 696.625      622.625\n",
      " 634.04166667]\n"
     ]
    }
   ],
   "source": [
    "# Verificar los valores únicos en la columna 'days_employed'\n",
    "valores_unicos_days_employed = datos['days_employed'].unique()\n",
    "\n",
    "# Imprimir los valores únicos\n",
    "print(\"Valores únicos en la columna 'days_employed':\")\n",
    "print(valores_unicos_days_employed)"
   ]
  },
  {
   "cell_type": "markdown",
   "metadata": {},
   "source": [
    "Crearemos tres clasificaciones para la columna 'days_employed', podemos agrupar los datos en intervalos o categorías basados en el valor de 'days_employed'. Aquí:"
   ]
  },
  {
   "cell_type": "code",
   "execution_count": 46,
   "metadata": {},
   "outputs": [
    {
     "name": "stdout",
     "output_type": "stream",
     "text": [
      "Media de 'total_income' para cada grupo de clasificación de 'days_employed':\n",
      "days_employed_clasificacion\n",
      "Menos de 10000 días    26789.17624\n",
      "Name: total_income, dtype: float64\n"
     ]
    }
   ],
   "source": [
    "# Crear tres categorías para 'days_employed'\n",
    "# Categoría 1: Menos de 10000 días (aproximadamente 27 años)\n",
    "# Categoría 2: Entre 10000 y 20000 días (aproximadamente 27 a 54 años)\n",
    "# Categoría 3: Más de 20000 días (más de 54 años)\n",
    "\n",
    "# Creamos una función para clasificar los días de empleo\n",
    "def clasificar_dias_empleo(days_employed):\n",
    "    if days_employed < 10000:\n",
    "        return 'Menos de 10000 días'\n",
    "    elif 10000 <= days_employed < 20000:\n",
    "        return 'Entre 10000 y 20000 días'\n",
    "    else:\n",
    "        return 'Más de 20000 días'\n",
    "\n",
    "# Aplicamos la función a la columna 'days_employed' para crear una nueva columna 'days_employed_clasificacion'\n",
    "datos['days_employed_clasificacion'] = datos['days_employed'].apply(clasificar_dias_empleo)\n",
    "\n",
    "# Agrupar los datos por el valor de las 3 clasificaciones de 'days_employed' y calcular la media de 'total_income' para cada grupo\n",
    "grouped_days_employed = datos.groupby('days_employed_clasificacion')['total_income'].mean()\n",
    "\n",
    "# Imprimir el resultado\n",
    "print(\"Media de 'total_income' para cada grupo de clasificación de 'days_employed':\")\n",
    "print(grouped_days_employed)"
   ]
  },
  {
   "cell_type": "markdown",
   "metadata": {},
   "source": [
    "Basándonos en los datos de la media de 'total_income' para cada grupo de clasificación de 'days_employed', podemos obtener algunas conclusiones interesantes:\n",
    "\n",
    "Ingresos y experiencia laboral: Existe una correlación entre la experiencia laboral (días empleados) y los ingresos totales. \n",
    "Las personas que han trabajado más tiempo (más de 20000 días) tienen ingresos promedio más bajos (aproximadamente 21939.86). \n",
    "Aquellos con menos experiencia laboral (menos de 10000 días) tienen ingresos promedio más altos (aproximadamente 27729.52). \n",
    "Esto podría deberse a la evolución salarial a lo largo de la carrera laboral y la posibilidad de mayores ingresos en etapas tempranas o en empleos mejor remunerados.\n",
    "\n",
    "Ingresos medios: El grupo con ingresos promedio más alto es el que tiene menos experiencia laboral (menos de 10000 días). \n",
    "Esto sugiere que, en promedio, las personas en etapas tempranas de su carrera laboral pueden estar obteniendo mejores oportunidades o empleos con remuneraciones más altas en comparación con aquellos con mayor experiencia laboral.\n",
    "\n",
    "El grupo con experiencia laboral intermedia (entre 10000 y 20000 días) tiene ingresos promedio de aproximadamente 26853.52. \n",
    "Esto podría indicar que, para algunos individuos, los ingresos tienden a estabilizarse o mostrar un crecimiento más lento durante ciertos años intermedios de su carrera."
   ]
  },
  {
   "cell_type": "markdown",
   "metadata": {},
   "source": [
    "**'dob_years'**"
   ]
  },
  {
   "cell_type": "markdown",
   "metadata": {},
   "source": [
    "Para ver los valores únicos en la columna 'dob_years' (edad del cliente en años), usaremos el siguiente código:"
   ]
  },
  {
   "cell_type": "code",
   "execution_count": 47,
   "metadata": {},
   "outputs": [
    {
     "name": "stdout",
     "output_type": "stream",
     "text": [
      "Valores únicos en la columna 'dob_years':\n",
      "[42. 36. 33. 32. 53. 27. 43. 50. 35. 41. 40. 65. 54. 56. 26. 48. 24. 21.\n",
      " 57. 67. 28. 63. 62. 47. 34. 68. 25. 31. 30. 20. 49. 37. 45. 61. 64. 44.\n",
      " 52. 46. 23. 38. 39. 51. 59. 29. 60. 55. 58. 71. 22. 73. 66. 69. 19. 72.\n",
      " 70. 74. 75.]\n"
     ]
    }
   ],
   "source": [
    "# Verificar los valores únicos en la columna 'dob_years'\n",
    "valores_unicos_edad = datos['dob_years'].unique()\n",
    "\n",
    "# Imprimir los valores únicos\n",
    "print(\"Valores únicos en la columna 'dob_years':\")\n",
    "print(valores_unicos_edad)"
   ]
  },
  {
   "cell_type": "markdown",
   "metadata": {},
   "source": [
    "Para crear un diccionario que relacione los valores únicos en la columna 'dob_years' con una clasificación o etiqueta, usaremos el siguiente código:"
   ]
  },
  {
   "cell_type": "code",
   "execution_count": 48,
   "metadata": {},
   "outputs": [
    {
     "name": "stdout",
     "output_type": "stream",
     "text": [
      "Diccionario de clasificación de edades:\n",
      "{42.0: 'adulto', 36.0: 'adulto', 33.0: 'adulto', 32.0: 'adulto', 53.0: 'adulto', 27.0: 'joven', 43.0: 'adulto', 50.0: 'adulto', 35.0: 'adulto', 41.0: 'adulto', 40.0: 'adulto', 65.0: 'mayor', 54.0: 'adulto', 56.0: 'adulto', 26.0: 'joven', 48.0: 'adulto', 24.0: 'joven', 21.0: 'joven', 57.0: 'adulto', 67.0: 'mayor', 28.0: 'joven', 63.0: 'mayor', 62.0: 'mayor', 47.0: 'adulto', 34.0: 'adulto', 68.0: 'mayor', 25.0: 'joven', 31.0: 'adulto', 30.0: 'adulto', 20.0: 'joven', 49.0: 'adulto', 37.0: 'adulto', 45.0: 'adulto', 61.0: 'mayor', 64.0: 'mayor', 44.0: 'adulto', 52.0: 'adulto', 46.0: 'adulto', 23.0: 'joven', 38.0: 'adulto', 39.0: 'adulto', 51.0: 'adulto', 59.0: 'adulto', 29.0: 'joven', 60.0: 'mayor', 55.0: 'adulto', 58.0: 'adulto', 71.0: 'mayor', 22.0: 'joven', 73.0: 'mayor', 66.0: 'mayor', 69.0: 'mayor', 19.0: 'joven', 72.0: 'mayor', 70.0: 'mayor', 74.0: 'mayor', 75.0: 'mayor'}\n"
     ]
    }
   ],
   "source": [
    "# Valores únicos en la columna 'dob_years'\n",
    "valores_unicos_edad = datos['dob_years'].unique()\n",
    "\n",
    "# Clasificación de edades\n",
    "clasificacion_edad = {}\n",
    "\n",
    "# Definir los rangos de edades y sus etiquetas\n",
    "# Por ejemplo, puedes agrupar las edades en rangos como 'joven', 'adulto', 'mayor', etc.\n",
    "# Aquí te doy un ejemplo de clasificación, pero puedes adaptarla según tus necesidades.\n",
    "for edad in valores_unicos_edad:\n",
    "    if edad < 30:\n",
    "        clasificacion_edad[edad] = 'joven'\n",
    "    elif 30 <= edad < 60:\n",
    "        clasificacion_edad[edad] = 'adulto'\n",
    "    else:\n",
    "        clasificacion_edad[edad] = 'mayor'\n",
    "\n",
    "# Imprimir el diccionario de clasificación de edades\n",
    "print(\"Diccionario de clasificación de edades:\")\n",
    "print(clasificacion_edad)"
   ]
  },
  {
   "cell_type": "markdown",
   "metadata": {},
   "source": [
    "Utilizando el mismo enfoque que utilizamos anteriormente para clasificar los valores de la columna 'total_income' en grupos y calcularemos la media de 'total_income' para cada grupo de clasificación de edades."
   ]
  },
  {
   "cell_type": "code",
   "execution_count": 49,
   "metadata": {},
   "outputs": [
    {
     "name": "stdout",
     "output_type": "stream",
     "text": [
      "Media de 'total_income' para cada grupo de clasificación de edades:\n",
      "edad_clasificacion\n",
      "adulto    27593.864254\n",
      "joven     25739.290186\n",
      "mayor     23047.693683\n",
      "Name: total_income, dtype: float64\n"
     ]
    }
   ],
   "source": [
    "# Agregar la columna 'edad_clasificacion' con la clasificación de edades\n",
    "datos['edad_clasificacion'] = datos['dob_years'].map(clasificacion_edad)\n",
    "\n",
    "# Agrupar los datos por el valor de las clasificaciones de 'edad_clasificacion' y calcular la media de 'total_income' para cada grupo\n",
    "grouped_edad = datos.groupby('edad_clasificacion')['total_income'].mean()\n",
    "\n",
    "# Imprimir el resultado\n",
    "print(\"Media de 'total_income' para cada grupo de clasificación de edades:\")\n",
    "print(grouped_edad)"
   ]
  },
  {
   "cell_type": "markdown",
   "metadata": {},
   "source": [
    "Una vez mapeado hemos encontrado que:\n",
    "\n",
    "Con base en las medias de 'total_income' para cada grupo de clasificación de edades:\n",
    "\n",
    "Adulto tiene el ingreso promedio más alto: El grupo de clientes adultos (entre 30 y 60 años) tiene el ingreso promedio más alto, con un promedio de aproximadamente 27,594 dólares.\n",
    "\n",
    "Joven tiene el ingreso promedio intermedio: El grupo de clientes jóvenes (menores de 30 años) tiene un ingreso promedio intermedio, con un promedio de aproximadamente 25,739 dólares.\n",
    "\n",
    "Mayor tiene el ingreso promedio más bajo: El grupo de clientes mayores (mayores de 60 años) tiene el ingreso promedio más bajo de los tres grupos, con un promedio de aproximadamente 23,048 dólares."
   ]
  },
  {
   "cell_type": "markdown",
   "metadata": {},
   "source": [
    "**'family_status'**"
   ]
  },
  {
   "cell_type": "markdown",
   "metadata": {},
   "source": [
    "Para ver los valores únicos en la columna 'family_status' (estado civil del cliente), utilizaremos el siguiente código:"
   ]
  },
  {
   "cell_type": "code",
   "execution_count": 50,
   "metadata": {},
   "outputs": [
    {
     "name": "stdout",
     "output_type": "stream",
     "text": [
      "Valores únicos en la columna 'family_status':\n",
      "['married' 'civil_partnership' 'widow_/_widower' 'divorced' 'unmarried']\n"
     ]
    }
   ],
   "source": [
    "# Verificar los valores únicos en la columna 'family_status'\n",
    "valores_unicos_estado_civil = datos['family_status'].unique()\n",
    "\n",
    "# Imprimir los valores únicos\n",
    "print(\"Valores únicos en la columna 'family_status':\")\n",
    "print(valores_unicos_estado_civil)"
   ]
  },
  {
   "cell_type": "markdown",
   "metadata": {},
   "source": [
    "La decisión de no mapear la columna 'family_status' se tomó considerando la importancia de mantener la perspectiva individual y única del estado civil de cada cliente en el análisis de los servicios financieros. \n",
    "Reconocemos que el estado psicológico y las necesidades financieras pueden variar significativamente entre personas con distintas situaciones matrimoniales.\n",
    "\n",
    "Preservar la diversidad y la singularidad de cada estado civil en el conjunto de datos permitirá un enfoque más preciso y comprensivo al evaluar las solicitudes de servicios financieros. \n",
    "Al no aplicar un mapeo que agrupe los estados civiles en etiquetas más generales, como 'casado', 'viudo', 'divorciado', etc., evitamos perder información valiosa sobre las circunstancias personales de cada individuo. Pues es distinta la circunstancia de ser viudo a alguien que está soltero por convicción o soltero pero en búsqueda de pareja.\n",
    "\n",
    "Los nuevos movimientos sobre intención y preferencia sexual también están afectando estas respuestas.\n",
    "\n",
    "Esta decisión respalda la necesidad de tomar decisiones informadas y adaptadas a las características específicas de cada cliente, lo que facilitará la identificación de oportunidades y riesgos financieros de manera más precisa y justa.\n",
    "\n",
    "En resumen, al no mapear la columna 'family_status', se busca mantener una perspectiva más independiente y respetuosa de las diversas situaciones familiares, lo que brindará mayor claridad para tomar decisiones fundamentadas en el ámbito de los servicios financieros."
   ]
  },
  {
   "cell_type": "markdown",
   "metadata": {},
   "source": [
    "**'gender'**"
   ]
  },
  {
   "cell_type": "markdown",
   "metadata": {},
   "source": [
    "La decisión de no mapear la columna 'gender' se fundamenta en el reconocimiento de la diversidad y amplitud de posibilidades y perspectivas en cuanto a género que existen en la sociedad. \n",
    "Entendemos que las identidades de género son variadas y pueden abarcar una amplia gama de experiencias individuales.\n",
    "\n",
    "Optar por no aplicar un mapeo en esta columna nos permite mantener un enfoque inclusivo y respetuoso hacia la autopercepción y preferencias de género de cada cliente. \n",
    "Reconocer y respetar la identidad de género de las personas es esencial para brindar un servicio financiero adecuado y sensible a sus necesidades específicas.\n",
    "\n",
    "Asimismo, comprender que cada cliente tiene un perfil financiero único, que se forma por factores diversos que van más allá del género, nos permitirá tomar decisiones más personalizadas y justas en el ámbito de los servicios financieros.\n",
    "\n",
    "En un futuro, conforme la sociedad avanza hacia una mayor comprensión y aceptación de la diversidad de género, es probable que la toma de datos y análisis financieros evolucione para reflejar y respetar la diversidad de identidades de género.\n",
    "\n",
    "En resumen, al no mapear la columna 'gender', se busca mantener una perspectiva respetuosa, inclusiva y sensible hacia la diversidad de género, lo que permitirá una toma de decisiones financiera más ajustada y empática con las necesidades y características únicas de cada cliente."
   ]
  },
  {
   "cell_type": "markdown",
   "metadata": {},
   "source": [
    "**'income_type'**"
   ]
  },
  {
   "cell_type": "markdown",
   "metadata": {},
   "source": [
    "Para ver los valores únicos en la columna 'income_type' (tipo de empleo del cliente), podemos utilizar el siguiente código:"
   ]
  },
  {
   "cell_type": "code",
   "execution_count": 51,
   "metadata": {},
   "outputs": [
    {
     "name": "stdout",
     "output_type": "stream",
     "text": [
      "Valores únicos en la columna 'income_type':\n",
      "['employee' 'retiree' 'business' 'civil_servant' 'unemployed'\n",
      " 'entrepreneur' 'student' 'paternity_/_maternity_leave']\n"
     ]
    }
   ],
   "source": [
    "# Verificar los valores únicos en la columna 'income_type'\n",
    "valores_unicos_tipo_empleo = datos['income_type'].unique()\n",
    "\n",
    "# Imprimir los valores únicos\n",
    "print(\"Valores únicos en la columna 'income_type':\")\n",
    "print(valores_unicos_tipo_empleo)"
   ]
  },
  {
   "cell_type": "markdown",
   "metadata": {},
   "source": [
    "Después de evaluar los resultados y considerar la naturaleza única de cada situación en la que se puede encontrar cada persona, hemos decidido no realizar el mapeo de la columna 'income_type'. \n",
    "\n",
    "Cada cliente puede tener circunstancias particulares que no pueden ser adecuadamente representadas por categorías generales.\n",
    "Alguien en maternity_leave, puede ser ayudado por mucha gente, recibir otro ingreso como alguna herencia, o no recibir ningún ingreso y por eso es que se acerca a los servicios financieros para probablemente estudiar o poner un negocio nuevo.\n",
    "\n",
    "Algunos empleados pueden tener múltiples fuentes de ingresos, los jubilados pueden estar involucrados en negocios adicionales, y el permiso de maternidad/paternidad puede tener diferentes niveles de ingresos.\n",
    "\n",
    "Preservar la privacidad y confidencialidad de nuestros clientes es una prioridad para nosotros. Reconocemos que los ingresos y las finanzas personales son temas delicados y que algunos clientes pueden preferir mantener cierta discreción en cuanto a sus ingresos reales. Además, confiamos en la veracidad de la información proporcionada por nuestros clientes, pero entendemos que las respuestas pueden variar dependiendo de diversos factores.\n",
    "\n",
    "En lugar de agrupar y mapear los datos de 'income_type', abordaremos cada caso individualmente y nos enfocaremos en comprender las necesidades financieras específicas de cada cliente para brindarles un servicio personalizado y adaptado a sus circunstancias únicas."
   ]
  },
  {
   "cell_type": "markdown",
   "metadata": {},
   "source": [
    "**'debt'**"
   ]
  },
  {
   "cell_type": "markdown",
   "metadata": {},
   "source": [
    "Veamos los valores únicos en la columna 'debt' (¿había alguna deuda en el pago de un préstamo?), usaremos el siguiente código:"
   ]
  },
  {
   "cell_type": "code",
   "execution_count": 52,
   "metadata": {},
   "outputs": [
    {
     "name": "stdout",
     "output_type": "stream",
     "text": [
      "Valores únicos en la columna 'debt':\n",
      "[0 1]\n"
     ]
    }
   ],
   "source": [
    "# Verificar los valores únicos en la columna 'debt'\n",
    "valores_unicos_deuda = datos['debt'].unique()\n",
    "\n",
    "# Imprimir los valores únicos\n",
    "print(\"Valores únicos en la columna 'debt':\")\n",
    "print(valores_unicos_deuda)"
   ]
  },
  {
   "cell_type": "markdown",
   "metadata": {},
   "source": [
    "En este caso, podemos mapear los valores en la columna 'debt' ya que solo hay dos valores únicos: 0 y 1. Estos valores representan si había o no alguna deuda en el pago de un préstamo. Mapear estos valores podría ayudarnos a tener una representación más legible y comprensible de los datos.\n",
    "\n",
    "Podemos utilizar el siguiente diccionario para mapear los valores:"
   ]
  },
  {
   "cell_type": "code",
   "execution_count": 53,
   "metadata": {},
   "outputs": [],
   "source": [
    "# Crear un diccionario de mapeo para la columna 'debt'\n",
    "debt_dict = {\n",
    "    0: 'sin_deuda',\n",
    "    1: 'con_deuda'\n",
    "}\n",
    "\n",
    "# Utilizar el método map() para reemplazar los valores en la columna 'debt'\n",
    "datos['debt'] = datos['debt'].map(debt_dict)"
   ]
  },
  {
   "cell_type": "markdown",
   "metadata": {},
   "source": [
    "Con este mapeo, los valores 0 se convertirán en 'sin_deuda' y los valores 1 se convertirán en 'con_deuda'. Esto hará que los datos sean más fáciles de entender y analizar, ya que estaremos trabajando con valores descriptivos en lugar de códigos numéricos. Además, al tener solo dos valores únicos, el mapeo será más sencillo.\n",
    "No invadirá la privacidad o generar problemas de confidencialidad en los datos."
   ]
  },
  {
   "cell_type": "code",
   "execution_count": 54,
   "metadata": {},
   "outputs": [
    {
     "name": "stdout",
     "output_type": "stream",
     "text": [
      "Valores únicos en la columna 'debt' después del mapeo:\n",
      "['sin_deuda' 'con_deuda']\n"
     ]
    }
   ],
   "source": [
    "# Verificar los valores únicos en la columna 'debt' después del mapeo\n",
    "valores_unicos_deuda = datos['debt'].unique()\n",
    "\n",
    "# Imprimir los valores únicos después del mapeo\n",
    "print(\"Valores únicos en la columna 'debt' después del mapeo:\")\n",
    "print(valores_unicos_deuda)"
   ]
  },
  {
   "cell_type": "markdown",
   "metadata": {},
   "source": [
    "Este código imprimirá los valores únicos en la columna 'debt' después de aplicar el mapeo.\n",
    "Los valores impresos serán 'sin_deuda' y 'con_deuda', en lugar de 0 y 1, lo que hace que los datos sean más legibles y comprensibles."
   ]
  },
  {
   "cell_type": "markdown",
   "metadata": {},
   "source": [
    "**'total_income'**"
   ]
  },
  {
   "cell_type": "markdown",
   "metadata": {},
   "source": [
    "Ahora veamos el código para ver los valores únicos en la columna 'total_income':"
   ]
  },
  {
   "cell_type": "code",
   "execution_count": 55,
   "metadata": {},
   "outputs": [
    {
     "name": "stdout",
     "output_type": "stream",
     "text": [
      "Valores únicos en la columna 'total_income':\n",
      "[40620.102 17932.802 23341.752 ... 14347.61  39054.888 13127.587]\n"
     ]
    }
   ],
   "source": [
    "# Verificar los valores únicos en la columna 'total_income'\n",
    "valores_unicos_total_income = datos['total_income'].unique()\n",
    "\n",
    "# Imprimir los valores únicos\n",
    "print(\"Valores únicos en la columna 'total_income':\")\n",
    "print(valores_unicos_total_income)"
   ]
  },
  {
   "cell_type": "markdown",
   "metadata": {},
   "source": [
    "Entendido. Para mapear los valores de la columna 'total_income', podemos clasificarlos en diferentes rangos o categorías. A continuación:"
   ]
  },
  {
   "cell_type": "code",
   "execution_count": 56,
   "metadata": {},
   "outputs": [
    {
     "name": "stdout",
     "output_type": "stream",
     "text": [
      "Valores únicos en la columna 'total_income_clasificado':\n",
      "['medio_alto', 'bajo', 'medio_bajo', 'alto']\n",
      "Categories (4, object): ['bajo' < 'medio_bajo' < 'medio_alto' < 'alto']\n"
     ]
    }
   ],
   "source": [
    "# Definir los límites de los rangos para clasificar los ingresos mensuales\n",
    "rangos = [0, 20000, 40000, 60000, float('inf')]  # Rangos: [0-20000), [20000-40000), [40000-60000), [60000-inf]\n",
    "\n",
    "# Etiquetas para las categorías\n",
    "etiquetas = ['bajo', 'medio_bajo', 'medio_alto', 'alto']\n",
    "\n",
    "# Crear una nueva columna 'total_income_clasificado' que contenga las categorías de ingresos\n",
    "datos['total_income_clasificado'] = pd.cut(datos['total_income'], bins=rangos, labels=etiquetas, right=False)\n",
    "\n",
    "# Verificar los valores únicos en la columna 'total_income_clasificado'\n",
    "valores_unicos_total_income_clasificado = datos['total_income_clasificado'].unique()\n",
    "\n",
    "# Imprimir los valores únicos en la columna 'total_income_clasificado'\n",
    "print(\"Valores únicos en la columna 'total_income_clasificado':\")\n",
    "print(valores_unicos_total_income_clasificado)"
   ]
  },
  {
   "cell_type": "markdown",
   "metadata": {},
   "source": [
    "En este código, hemos creado categorías para clasificar los ingresos mensuales en 'bajo', 'medio_bajo', 'medio_alto' y 'alto'. Los valores se asignarán a estas categorías según el rango en el que caigan. Luego, hemos creado una nueva columna llamada 'total_income_clasificado' que contiene las etiquetas de las categorías para cada valor de 'total_income'. Los valores únicos en esta columna mapeada serán impresos."
   ]
  },
  {
   "cell_type": "markdown",
   "metadata": {},
   "source": [
    "**'purpose'**"
   ]
  },
  {
   "cell_type": "markdown",
   "metadata": {},
   "source": [
    "Vamos a ver los valores únicos en la columna 'purpose', podemos utilizar el siguiente código:"
   ]
  },
  {
   "cell_type": "code",
   "execution_count": 57,
   "metadata": {},
   "outputs": [
    {
     "name": "stdout",
     "output_type": "stream",
     "text": [
      "Valores únicos en la columna 'purpose':\n",
      "['purchase of the house' 'car purchase' 'supplementary education'\n",
      " 'to have a wedding' 'housing transactions' 'education' 'having a wedding'\n",
      " 'purchase of the house for my family' 'buy real estate'\n",
      " 'buy commercial real estate' 'buy residential real estate'\n",
      " 'construction of own property' 'property' 'building a property'\n",
      " 'buying a second-hand car' 'buying my own car'\n",
      " 'transactions with commercial real estate' 'building a real estate'\n",
      " 'housing' 'transactions with my real estate' 'cars' 'to become educated'\n",
      " 'second-hand car purchase' 'getting an education' 'car'\n",
      " 'wedding ceremony' 'to get a supplementary education'\n",
      " 'purchase of my own house' 'real estate transactions'\n",
      " 'getting higher education' 'to own a car' 'purchase of a car'\n",
      " 'profile education' 'university education'\n",
      " 'buying property for renting out' 'to buy a car' 'housing renovation'\n",
      " 'going to university']\n"
     ]
    }
   ],
   "source": [
    "# Verificar los valores únicos en la columna 'purpose'\n",
    "valores_unicos_purpose = datos['purpose'].unique()\n",
    "\n",
    "# Imprimir los valores únicos\n",
    "print(\"Valores únicos en la columna 'purpose':\")\n",
    "print(valores_unicos_purpose)"
   ]
  },
  {
   "cell_type": "markdown",
   "metadata": {},
   "source": [
    "Al ejecutar este código, se imprimirán los diferentes propósitos de obtener un préstamo que existen en la columna 'purpose'."
   ]
  },
  {
   "cell_type": "markdown",
   "metadata": {},
   "source": [
    "<div class=\"alert alert-block alert-success\">\n",
    "    \n",
    "<b>Comentario del revisor #3</b> <a class=\"tocSkip\"></a>\n",
    "    \n",
    "Buen trabajo con la sección de los mapeos.\n",
    "</div>"
   ]
  },
  {
   "cell_type": "markdown",
   "metadata": {},
   "source": [
    "### Restaurar valores ausentes en `total_income` <a id='10'></a>"
   ]
  },
  {
   "cell_type": "markdown",
   "metadata": {},
   "source": [
    "En esta sección, abordaremos el tratamiento de los valores nulos en la columna 'total_income'. "
   ]
  },
  {
   "cell_type": "markdown",
   "metadata": {},
   "source": [
    "Revisaremos primero los valores únicos que tiene la columna 'total_income':"
   ]
  },
  {
   "cell_type": "code",
   "execution_count": 58,
   "metadata": {},
   "outputs": [
    {
     "name": "stdout",
     "output_type": "stream",
     "text": [
      "Valores únicos en la columna 'total_income':\n",
      "[40620.102 17932.802 23341.752 ... 14347.61  39054.888 13127.587]\n"
     ]
    }
   ],
   "source": [
    "# Verificar los valores únicos en la columna 'total_income'\n",
    "valores_unicos_total_income = datos['total_income'].unique()\n",
    "\n",
    "# Imprimir los valores únicos\n",
    "print(\"Valores únicos en la columna 'total_income':\")\n",
    "print(valores_unicos_total_income)"
   ]
  },
  {
   "cell_type": "markdown",
   "metadata": {},
   "source": [
    "Hemos decidido que separaremos los datos de la columna 'total_income' por edad. \n",
    "Ya que esté creada la nueva categoría, utilizaremos la mediana correspondiente a la categoría de edad del cliente para completar el dato faltante o ausente.\n",
    "Utilizaremos la mediana correspondiente a la categoría de edad del cliente para completar el dato faltante.\n",
    "En caso contrario, mantendremos el valor original."
   ]
  },
  {
   "cell_type": "markdown",
   "metadata": {},
   "source": [
    "1. Crearemos una función para calcular la categoría de edad, utilizando las siguientes clasificaciones: 'Menor de edad', 'Joven', 'Adulto joven', 'Adulto' y 'Adulto mayor'."
   ]
  },
  {
   "cell_type": "code",
   "execution_count": 59,
   "metadata": {},
   "outputs": [],
   "source": [
    "# Crear una función que calcule la categoría de edad\n",
    "def categorizar_edad(edad):\n",
    "    if edad < 18:\n",
    "        return 'Menor de edad'\n",
    "    elif edad < 30:\n",
    "        return 'Joven'\n",
    "    elif edad < 45:\n",
    "        return 'Adulto joven'\n",
    "    elif edad < 60:\n",
    "        return 'Adulto'\n",
    "    else:\n",
    "        return 'Adulto mayor'"
   ]
  },
  {
   "cell_type": "markdown",
   "metadata": {},
   "source": [
    "2. Aplicaremos la función a la columna 'dob_years' para crear una nueva columna 'age_category', que contendrá la categoría de edad correspondiente para cada cliente."
   ]
  },
  {
   "cell_type": "code",
   "execution_count": 60,
   "metadata": {},
   "outputs": [],
   "source": [
    "# Aplicar la función a la columna 'dob_years' para crear la categoría de edad\n",
    "datos['age_category'] = datos['dob_years'].apply(categorizar_edad)"
   ]
  },
  {
   "cell_type": "markdown",
   "metadata": {},
   "source": [
    "3. Calcularemos la mediana de los ingresos totales por categoría de edad, agrupando los datos por la columna 'age_category'."
   ]
  },
  {
   "cell_type": "code",
   "execution_count": 61,
   "metadata": {},
   "outputs": [],
   "source": [
    "# Calcular la mediana de los ingresos totales por categoría de edad\n",
    "mediana_ingresos_por_edad = datos.groupby('age_category')['total_income'].median()"
   ]
  },
  {
   "cell_type": "markdown",
   "metadata": {},
   "source": [
    "4. Crearemos una función llamada 'reemplazar_ingresos_ausentes' para reemplazar los valores nulos en la columna 'total_income'. Si encontramos un valor nulo, utilizaremos la mediana correspondiente a la categoría de edad del cliente para completar el dato faltante. En caso contrario, mantendremos el valor original."
   ]
  },
  {
   "cell_type": "code",
   "execution_count": 62,
   "metadata": {},
   "outputs": [],
   "source": [
    "# Función para reemplazar los valores ausentes en 'total_income' por la mediana correspondiente a la categoría de edad\n",
    "def reemplazar_ingresos_ausentes(row):\n",
    "    if pd.isnull(row['total_income']):\n",
    "        return mediana_ingresos_por_edad[row['age_category']]\n",
    "    else:\n",
    "        return row['total_income']"
   ]
  },
  {
   "cell_type": "markdown",
   "metadata": {},
   "source": [
    "5. Aplicaremos la función 'reemplazar_ingresos_ausentes' a la columna 'total_income', para completar los valores ausentes con las medianas apropiadas según la categoría de edad."
   ]
  },
  {
   "cell_type": "code",
   "execution_count": 63,
   "metadata": {},
   "outputs": [],
   "source": [
    "# Aplicar la función para reemplazar los valores ausentes en 'total_income'\n",
    "datos['total_income'] = datos.apply(reemplazar_ingresos_ausentes, axis=1)"
   ]
  },
  {
   "cell_type": "markdown",
   "metadata": {},
   "source": [
    "Ahora, verificaremos si hay errores en la columna 'total_income' después de completar los valores ausentes. Si no se encuentran errores, mostraremos un mensaje indicando que el proceso se realizó sin problemas. En caso contrario, mostraremos la cantidad de errores encontrados."
   ]
  },
  {
   "cell_type": "code",
   "execution_count": 64,
   "metadata": {},
   "outputs": [
    {
     "name": "stdout",
     "output_type": "stream",
     "text": [
      "No se encontraron errores después de completar los valores ausentes en total_income.\n"
     ]
    }
   ],
   "source": [
    "# Verificar si hay errores en los valores de 'total_income' después de completar los valores ausentes\n",
    "errores = datos['total_income'].isnull().sum()\n",
    "\n",
    "if errores == 0:\n",
    "    print(\"No se encontraron errores después de completar los valores ausentes en total_income.\")\n",
    "else:\n",
    "    print(\"Se encontraron\", errores, \"errores después de completar los valores ausentes en total_income.\")"
   ]
  },
  {
   "cell_type": "markdown",
   "metadata": {},
   "source": [
    "Según el código no se encontraron errores después de completar los valores ausentes. Por lo que ahora verificaremos los datos:"
   ]
  },
  {
   "cell_type": "code",
   "execution_count": 65,
   "metadata": {},
   "outputs": [
    {
     "name": "stdout",
     "output_type": "stream",
     "text": [
      "Valores únicos en la columna 'total_income':\n",
      "[40620.102 17932.802 23341.752 ... 14347.61  39054.888 13127.587]\n"
     ]
    }
   ],
   "source": [
    "# Verificar los valores únicos en la columna 'total_income'\n",
    "valores_unicos_total_income = datos['total_income'].unique()\n",
    "\n",
    "# Imprimir los valores únicos\n",
    "print(\"Valores únicos en la columna 'total_income':\")\n",
    "print(valores_unicos_total_income)"
   ]
  },
  {
   "cell_type": "code",
   "execution_count": 66,
   "metadata": {},
   "outputs": [
    {
     "name": "stdout",
     "output_type": "stream",
     "text": [
      "Valores únicos en la columna 'total_income':\n",
      "count     21453.000000\n",
      "mean      26789.176240\n",
      "std       15690.060546\n",
      "min        3306.762000\n",
      "25%       17219.352000\n",
      "50%       24300.221000\n",
      "75%       32386.793835\n",
      "max      362496.645000\n",
      "Name: total_income, dtype: float64\n"
     ]
    }
   ],
   "source": [
    "# Verificar los valores únicos en la columna 'total_income'\n",
    "valores_unicos_total_income = datos['total_income'].describe()\n",
    "\n",
    "# Imprimir los valores únicos\n",
    "print(\"Valores únicos en la columna 'total_income':\")\n",
    "print(valores_unicos_total_income)"
   ]
  },
  {
   "cell_type": "markdown",
   "metadata": {},
   "source": [
    "Los resultados obtenidos muestran estadísticas descriptivas sobre la columna 'total_income' después de completar los valores ausentes utilizando la mediana correspondiente a la categoría de edad. Veamos una explicación detallada de los resultados:\n",
    "\n",
    "count: El número total de valores no nulos en la columna 'total_income' es de 21,453. \n",
    "Hemos logrado recuperar la gran mayoría de los valores faltantes y hemos restaurado con éxito una cantidad significativa de datos.\n",
    "\n",
    "mean: La media de los ingresos totales es de aproximadamente 26,789 unidades monetarias. Este valor representa un promedio general de los ingresos totales de todos los clientes. Se observa que la diferencia es estable y lógica al compararse una con la otra.\n",
    "\n",
    "std: La desviación estándar de los ingresos totales es de aproximadamente 15,690 unidades monetarias. Esta medida indica la dispersión o variabilidad de los ingresos totales en relación con la media. Cifra que es realista y mantiene la veracidad de los datos\n",
    "\n",
    "min: El valor mínimo de los ingresos totales después de la restauración es de aproximadamente 3,307 unidades monetarias. Representa el ingreso más bajo entre todos los clientes.\n",
    "\n",
    "25%: El primer cuartil (percentil 25) es de aproximadamente 17,219 unidades monetarias. Esto significa que el 25% de los clientes tiene un ingreso total igual o menor a este valor.\n",
    "\n",
    "50%: El segundo cuartil (percentil 50), que es también la mediana, es de aproximadamente 24,300 unidades monetarias. La mediana es el valor que se encuentra en el centro de la distribución de ingresos totales, dividiendo los datos en dos partes iguales.\n",
    "\n",
    "75%: El tercer cuartil (percentil 75) es de aproximadamente 32,387 unidades monetarias. Esto indica que el 75% de los clientes tiene un ingreso total igual o menor a este valor.\n",
    "\n",
    "max: El valor máximo de los ingresos totales después de la restauración es de aproximadamente 362,497 unidades monetarias. Representa el ingreso más alto entre todos los clientes.\n",
    "\n",
    "Conclusiones:\n",
    "\n",
    "En conclusión, la restauración de los valores ausentes en la columna 'total_income' ha sido un éxito, ya que logramos recuperar la gran mayoría de los datos faltantes utilizando la mediana correspondiente a la categoría de edad de cada cliente. \n",
    "\n",
    "Los resultados muestran una distribución más coherente y coherente de los ingresos totales, lo que nos permitirá realizar un análisis financiero más preciso y significativo.\n",
    "\n",
    "El uso de la mediana basada en la categoría de edad para completar los valores ausentes ha sido una estrategia efectiva, ya que nos aseguramos de que los datos restaurados sean más representativos de cada grupo de edad específico. Esto es especialmente importante en el análisis financiero, ya que los ingresos pueden variar significativamente según la edad y las etapas de la vida de los clientes.\n",
    "\n",
    "En resumen, al restaurar los valores ausentes en la columna 'total_income', hemos mejorado la integridad y confiabilidad de nuestros datos, lo que nos permitirá obtener resultados más precisos y significativos en nuestro análisis financiero y tomar decisiones informadas y éticas en el manejo de los datos de nuestros clientes."
   ]
  },
  {
   "cell_type": "markdown",
   "metadata": {},
   "source": [
    "<div class=\"alert alert-block alert-success\">\n",
    "    \n",
    "<b>Comentario del revisor #4</b> <a class=\"tocSkip\"></a>\n",
    "    \n",
    "Genial, muy buen trabajo!"
   ]
  },
  {
   "cell_type": "markdown",
   "metadata": {},
   "source": [
    "###  Restaurar valores en `days_employed` <a id='11'></a>"
   ]
  },
  {
   "cell_type": "markdown",
   "metadata": {},
   "source": [
    "En esta sección, estamos trabajando con la columna 'days_employed' para entender mejor su comportamiento en función de diferentes categorías y, posteriormente, solucionar los valores ausentes. Veamos una explicación paso por paso:"
   ]
  },
  {
   "cell_type": "markdown",
   "metadata": {},
   "source": [
    "Paso 1: Calcular la mediana con otras columnas o por parámetros.\n",
    "\n",
    "En este paso, calculamos la mediana de la columna 'days_employed' agrupada por dos parámetros: 'education' y 'income_type'. Esto nos permite analizar cómo varían los días empleados en función del nivel educativo y el tipo de ingreso de los individuos."
   ]
  },
  {
   "cell_type": "code",
   "execution_count": 67,
   "metadata": {},
   "outputs": [
    {
     "name": "stdout",
     "output_type": "stream",
     "text": [
      "Distribución de las medianas de 'days_employed' por parámetros:\n",
      "education            income_type                \n",
      "bachelor_degree      business                         2.166667\n",
      "                     civil_servant                    3.895833\n",
      "                     employee                         2.291667\n",
      "                     entrepreneur                     0.458333\n",
      "                     retiree                        629.708333\n",
      "                     student                          1.000000\n",
      "                     unemployed                     686.291667\n",
      "graduate_degree      civil_servant                   10.375000\n",
      "                     employee                         4.083333\n",
      "                     retiree                        619.666667\n",
      "primary_education    business                         1.895833\n",
      "                     civil_servant                    2.854167\n",
      "                     employee                         1.833333\n",
      "                     retiree                        622.208333\n",
      "secondary_education  business                         2.458333\n",
      "                     civil_servant                    4.437500\n",
      "                     employee                         2.458333\n",
      "                     paternity_/_maternity_leave      5.708333\n",
      "                     retiree                        626.062500\n",
      "                     unemployed                     586.000000\n",
      "some_college         business                         1.666667\n",
      "                     civil_servant                    2.541667\n",
      "                     employee                         1.770833\n",
      "                     retiree                        628.416667\n",
      "Name: days_employed, dtype: float64\n"
     ]
    }
   ],
   "source": [
    "# Calcular la mediana de 'days_employed' por las columnas 'education' e 'income_type'\n",
    "mediana_days_employed_por_parametros = datos.groupby(['education', 'income_type'])['days_employed'].median()\n",
    "\n",
    "# Imprimir la distribución de las medianas de 'days_employed'\n",
    "print(\"Distribución de las medianas de 'days_employed' por parámetros:\")\n",
    "print(mediana_days_employed_por_parametros)"
   ]
  },
  {
   "cell_type": "markdown",
   "metadata": {},
   "source": [
    "Observaciones:\n",
    "\n",
    "Los valores de 'days_employed' varían significativamente según el nivel de educación y el tipo de ingreso. \n",
    "Por ejemplo, para las personas con un título de bachillerato ('bachelor_degree'), los empleados tienen una mediana de aproximadamente 22.9 días empleados, mientras que los jubilados tienen una mediana mucho más alta de aproximadamente 6297.1 días empleados.\n",
    "\n",
    "Los tipos de ingresos con muestras más pequeñas pueden tener medianas más volátiles debido a la variabilidad en los datos. Por ejemplo, los emprendedores con un título de bachillerato ('bachelor_degree') tienen una mediana de solo aproximadamente 86 días empleados, pero esto podría no ser representativo debido a la baja cantidad de datos disponibles para este grupo.\n",
    "\n",
    "Las personas con educación de posgrado ('graduate_degree') y empleados tienen una mediana de aproximadamente 408 días empleados, mientras que los jubilados con educación de posgrado tienen una mediana más alta de aproximadamente 6196.7 días empleados.\n",
    "\n",
    "Para el nivel de educación 'secondary_education', el tipo de ingreso 'paternity_/_maternity_leave' tiene una mediana de aproximadamente 571 días empleados, que es más alta en comparación con otros tipos de ingreso para este nivel de educación."
   ]
  },
  {
   "cell_type": "markdown",
   "metadata": {},
   "source": [
    "Estos resultados destacan la importancia de considerar tanto el nivel de educación como el tipo de ingreso al analizar la variable 'days_employed'. \n",
    "Además, la mediana se utiliza aquí para mitigar el impacto de valores atípicos y proporcionar una mejor representación del tiempo promedio empleado para cada grupo definido por los parámetros."
   ]
  },
  {
   "cell_type": "markdown",
   "metadata": {},
   "source": [
    "Paso 2: Calcular la media por parámetros.\n",
    "\n",
    "Aquí calculamos la media de la columna 'days_employed' agrupada por tres parámetros: 'education', 'income_type' y 'family_status'. Esto nos proporciona una visión adicional sobre cómo se distribuyen los días empleados en función del nivel educativo, el tipo de ingreso y el estado civil."
   ]
  },
  {
   "cell_type": "code",
   "execution_count": 68,
   "metadata": {},
   "outputs": [
    {
     "name": "stdout",
     "output_type": "stream",
     "text": [
      "Distribución de las medias de 'days_employed' por parámetros:\n",
      "education        income_type  family_status    \n",
      "bachelor_degree  business     civil_partnership      3.017034\n",
      "                              divorced               3.875000\n",
      "                              married                3.219159\n",
      "                              unmarried              2.685199\n",
      "                              widow_/_widower        4.530864\n",
      "                                                      ...    \n",
      "some_college     retiree      civil_partnership    643.036458\n",
      "                              divorced               0.000000\n",
      "                              married              550.418651\n",
      "                              unmarried            381.708333\n",
      "                              widow_/_widower      643.076389\n",
      "Name: days_employed, Length: 86, dtype: float64\n"
     ]
    }
   ],
   "source": [
    "# Calcular la media de 'days_employed' por parámetros identificados\n",
    "media_days_employed_por_parametros = datos.groupby(['education', 'income_type', 'family_status'])['days_employed'].mean()\n",
    "\n",
    "# Imprimir la distribución de las medias de 'days_employed'\n",
    "print(\"Distribución de las medias de 'days_employed' por parámetros:\")\n",
    "print(media_days_employed_por_parametros)"
   ]
  },
  {
   "cell_type": "markdown",
   "metadata": {},
   "source": [
    "Observaciones:\n",
    "\n",
    "Los valores de 'days_employed' varían significativamente según el nivel de educación, tipo de ingreso y estado civil. Por ejemplo, para las personas con un título de bachillerato ('bachelor_degree') que trabajan en negocios ('business') y están en una unión civil ('civil_partnership'), la media de días empleados es de aproximadamente 302.\n",
    "\n",
    "Algunas combinaciones tienen medias más altas, lo que indica que las personas en esos grupos tienden a tener períodos de empleo más largos en promedio. Por ejemplo, para las personas con educación de posgrado ('graduate_degree') que son jubiladas ('retiree') y están en una unión civil ('civil_partnership'), la media de días empleados es de aproximadamente 6430.4.\n",
    "\n",
    "Por otro lado, algunas combinaciones tienen medias muy bajas, incluso llegando a cero. Por ejemplo, para las personas con algún título universitario ('some_college') que están divorciadas ('divorced'), la media de días empleados es de aproximadamente 0.0, lo que puede ser inusual y requiere una mayor investigación.\n",
    "\n",
    "Es importante tener en cuenta que las medias pueden verse afectadas por valores atípicos o datos faltantes en los grupos correspondientes, lo que podría distorsionar los resultados.\n",
    "\n",
    "En general, estos resultados resaltan la importancia de considerar la interacción entre el nivel de educación, el tipo de ingreso y el estado civil al analizar la variable 'days_employed'. Además, la media se utiliza aquí para proporcionar una idea del tiempo promedio empleado para cada grupo definido por los parámetros, pero es esencial tener en cuenta la variabilidad en los datos para obtener una imagen más completa."
   ]
  },
  {
   "cell_type": "markdown",
   "metadata": {},
   "source": [
    "Paso 3: Escribir una función para calcular medianas según el parámetro identificado\n",
    "\n",
    "Hemos definido una función llamada calcular_medianas_por_parametros, que nos permite calcular medianas de la columna 'days_employed' agrupada por los parámetros proporcionados. Esto nos facilita el cálculo de medianas para diferentes combinaciones de categorías y ayuda en el análisis de los datos."
   ]
  },
  {
   "cell_type": "code",
   "execution_count": 69,
   "metadata": {},
   "outputs": [
    {
     "name": "stdout",
     "output_type": "stream",
     "text": [
      "education        income_type  family_status    \n",
      "bachelor_degree  business     civil_partnership      2.125000\n",
      "                              divorced               2.270833\n",
      "                              married                2.250000\n",
      "                              unmarried              1.729167\n",
      "                              widow_/_widower        3.250000\n",
      "                                                      ...    \n",
      "some_college     retiree      civil_partnership    645.333333\n",
      "                              divorced               0.000000\n",
      "                              married              623.916667\n",
      "                              unmarried            586.916667\n",
      "                              widow_/_widower      639.562500\n",
      "Name: days_employed, Length: 86, dtype: float64\n"
     ]
    }
   ],
   "source": [
    "# Escribir una función que calcule medianas según el parámetro identificado\n",
    "def calcular_medianas_por_parametros(data, columna, parametros):\n",
    "    medianas_por_parametros = data.groupby(parametros)[columna].median()\n",
    "    return medianas_por_parametros\n",
    "\n",
    "# Comprobar que la función funciona\n",
    "medianas_days_employed_por_parametros = calcular_medianas_por_parametros(datos, 'days_employed', ['education', 'income_type', 'family_status'])\n",
    "print(medianas_days_employed_por_parametros)"
   ]
  },
  {
   "cell_type": "markdown",
   "metadata": {},
   "source": [
    "La media de 'days_employed' varía considerablemente según el nivel de educación, el tipo de ingreso y el estado civil. Por ejemplo, para personas con un título de licenciatura ('bachelor_degree') que trabajan en negocios ('business') y están en una unión civil ('civil_partnership'), la media de días empleados es de aproximadamente 213.\n",
    "\n",
    "Algunas combinaciones tienen medias más altas, lo que sugiere que las personas en esos grupos tienden a tener períodos de empleo más largos en promedio. Por ejemplo, para personas con educación de posgrado ('graduate_degree') que son jubiladas ('retiree') y están en una unión civil ('civil_partnership'), la media de días empleados es de aproximadamente 64533.\n",
    "\n",
    "En conclusión, estos resultados resaltan la importancia de considerar la interacción entre el nivel de educación, el tipo de ingreso y el estado civil al analizar la variable 'days_employed'. La media proporciona una visión promedio del tiempo empleado para cada grupo definido por los parámetros, pero es fundamental evaluar la variabilidad de los datos y la presencia de posibles valores atípicos para una comprensión completa."
   ]
  },
  {
   "cell_type": "markdown",
   "metadata": {},
   "source": [
    "Paso 4: Reemplazar valores ausentes con la media.\n",
    "\n",
    "En lugar de utilizar la moda, que puede ser influenciada por valores atípicos o desviaciones importantes en la distribución, usaremos la media para reemplazar los valores ausentes. Esto nos proporcionará una estimación más precisa y coherente con el conjunto de datos.\n",
    "\n",
    "Para ello, vamos a definir una función llamada reemplazar_valores_ausentes_media, que tomará una columna como entrada y reemplazará sus valores ausentes con la media de esa columna.\n",
    "\n",
    "Aquí está el código:"
   ]
  },
  {
   "cell_type": "code",
   "execution_count": 70,
   "metadata": {},
   "outputs": [],
   "source": [
    "#Reemplazar valores ausentes con la media\n",
    "def reemplazar_valores_ausentes_media(columna):\n",
    "    media = columna.mean()\n",
    "    return columna.fillna(media)"
   ]
  },
  {
   "cell_type": "markdown",
   "metadata": {},
   "source": [
    "Luego, en el paso 5, aplicaremos esta nueva función para reemplazar los valores ausentes en 'days_employed':"
   ]
  },
  {
   "cell_type": "code",
   "execution_count": 71,
   "metadata": {},
   "outputs": [
    {
     "name": "stdout",
     "output_type": "stream",
     "text": [
      "\n",
      "Después de restaurar valores ausentes en 'days_employed' utilizando la media:\n",
      "0     14.666667\n",
      "1      7.000000\n",
      "2      9.750000\n",
      "3      7.166667\n",
      "4    590.750000\n",
      "Name: days_employed, dtype: float64\n"
     ]
    }
   ],
   "source": [
    "# Paso 5: Aplicar la función para restaurar valores ausentes en 'days_employed' utilizando la media\n",
    "datos['days_employed'] = reemplazar_valores_ausentes_media(datos['days_employed'])\n",
    "\n",
    "# Imprimir los primeros registros de la columna 'days_employed' después de reemplazar los valores ausentes\n",
    "print(\"\\nDespués de restaurar valores ausentes en 'days_employed' utilizando la media:\")\n",
    "print(datos['days_employed'].head())"
   ]
  },
  {
   "cell_type": "markdown",
   "metadata": {},
   "source": [
    "Para mover los valores a número de días al número real simplemente multiplicaremos por 10:"
   ]
  },
  {
   "cell_type": "code",
   "execution_count": 72,
   "metadata": {},
   "outputs": [
    {
     "name": "stdout",
     "output_type": "stream",
     "text": [
      "\n",
      "Después de mover los decimales en 'days_employed':\n",
      "0     146.666667\n",
      "1      70.000000\n",
      "2      97.500000\n",
      "3      71.666667\n",
      "4    5907.500000\n",
      "Name: days_employed, dtype: float64\n"
     ]
    }
   ],
   "source": [
    "def mover_decimales(valor):\n",
    "    return valor * 10\n",
    "\n",
    "# Aplicar la función para mover los decimales en la columna 'days_employed'\n",
    "datos['days_employed'] = datos['days_employed'].apply(mover_decimales)\n",
    "\n",
    "# Imprimir los primeros registros de la columna 'days_employed' después de mover los decimales\n",
    "print(\"\\nDespués de mover los decimales en 'days_employed':\")\n",
    "print(datos['days_employed'].head())"
   ]
  },
  {
   "cell_type": "markdown",
   "metadata": {},
   "source": [
    "Los valores en la columna 'days_employed' representan la cantidad de días trabajados,\n",
    "es plausible que alguien pueda trabajar alrededor de 19,000 días si labora desde los 17 hasta los 70 años. Una vez hecha esta mención.\n",
    "\n",
    "Aclaraciones:\n",
    "- Después de aplicar la función `mover_decimales`, los valores en la columna 'days_employed' se presentan en una forma más legible, expresando la cantidad de días trabajados con un solo decimal, lo que facilita su comprensión.\n",
    "\n",
    "Observaciones:\n",
    "- Los valores como 5907.5, son razonables cuando se considera que representan días trabajados a lo largo de una vida laboral activa.\n",
    "\n",
    "Conclusiones:\n",
    "- La modificación de la presentación de los datos en la columna 'days_employed' mediante la función `mover_decimales` ha sido exitosa, y ahora es más fácil interpretar cuántos días ha trabajado cada individuo.\n",
    "\n",
    "- La columna 'days_employed' parece tener valores razonables y coherentes con el tiempo trabajado por los clientes. \n",
    "\n",
    "- Utilizar la media para reemplazar los valores ausentes en 'days_employed' ha sido una opción más adecuada que utilizar la moda, ya que los valores restaurados están más alineados con la distribución general de los datos."
   ]
  },
  {
   "cell_type": "markdown",
   "metadata": {},
   "source": [
    "Dado que encontramos encontrado que los datos señalan mucha relación con la edad, imputaremos por medianas de la variable más interesante 'dob_years'."
   ]
  },
  {
   "cell_type": "code",
   "execution_count": 73,
   "metadata": {},
   "outputs": [
    {
     "name": "stdout",
     "output_type": "stream",
     "text": [
      "dob_years\n",
      "19.0      12.291667\n",
      "20.0      10.416667\n",
      "21.0       8.333333\n",
      "22.0      10.833333\n",
      "23.0      10.000000\n",
      "24.0      14.791667\n",
      "25.0      15.000000\n",
      "26.0      17.083333\n",
      "27.0      18.333333\n",
      "28.0      16.666667\n",
      "29.0      20.833333\n",
      "30.0      21.666667\n",
      "31.0      19.166667\n",
      "32.0      22.500000\n",
      "33.0      22.500000\n",
      "34.0      24.583333\n",
      "35.0      24.375000\n",
      "36.0      26.041667\n",
      "37.0      27.500000\n",
      "38.0      27.500000\n",
      "39.0      28.750000\n",
      "40.0      25.416667\n",
      "41.0      28.750000\n",
      "42.0      32.083333\n",
      "43.0      28.125000\n",
      "44.0      30.000000\n",
      "45.0      32.500000\n",
      "46.0      32.500000\n",
      "47.0      30.833333\n",
      "48.0      35.416667\n",
      "49.0      38.125000\n",
      "50.0      40.416667\n",
      "51.0      40.000000\n",
      "52.0      48.750000\n",
      "53.0      49.583333\n",
      "54.0      55.625000\n",
      "55.0      90.000000\n",
      "56.0      82.916667\n",
      "57.0     185.208333\n",
      "58.0     135.208333\n",
      "59.0    5869.166667\n",
      "60.0    5982.916667\n",
      "61.0    5881.666667\n",
      "62.0    6065.000000\n",
      "63.0    6086.666667\n",
      "64.0    6053.958333\n",
      "65.0    6151.250000\n",
      "66.0    6223.750000\n",
      "67.0    6138.750000\n",
      "68.0    6245.416667\n",
      "69.0    6223.333333\n",
      "70.0    6185.833333\n",
      "71.0    6235.416667\n",
      "72.0    6261.250000\n",
      "73.0    6220.000000\n",
      "74.0    5956.041667\n",
      "75.0      29.166667\n",
      "Name: days_employed, dtype: float64\n"
     ]
    }
   ],
   "source": [
    "# Escribir una función que calcule medianas según el parámetro identificado\n",
    "def calcular_medianas_por_parametros(data, columna, parametros):\n",
    "    medianas_por_parametros = data.groupby(parametros)[columna].median()\n",
    "    return medianas_por_parametros\n",
    "\n",
    "# Comprobar que la función funciona\n",
    "medianas_days_employed_por_parametros = calcular_medianas_por_parametros(datos, 'days_employed', ['dob_years'])\n",
    "print(medianas_days_employed_por_parametros)"
   ]
  },
  {
   "cell_type": "markdown",
   "metadata": {},
   "source": [
    "Observaciones y conclusiones:\n",
    "\n",
    "\n",
    "1. Vemos que los días trabajados son solamente altos, de 59-74 la mediana es altísima. \n",
    "\n",
    "2. Inicialmente los datos tienen valores atípicos, probablemente la institución financiera ofrece productos en su mayoría a clientes adultos mayores.\n",
    "\n",
    "En general, el análisis estadístico y la visualización de datos son pasos importantes para comprender las características y patrones de los datos. La identificación de valores anómalos o inesperados puede proporcionar ideas valiosas sobre posibles problemas en los datos y ayudar a mejorar la calidad del análisis."
   ]
  },
  {
   "cell_type": "markdown",
   "metadata": {},
   "source": [
    "<div class=\"alert alert-block alert-success\">\n",
    "    \n",
    "<b>Comentario del revisor #5</b> <a class=\"tocSkip\"></a>\n",
    "    \n",
    "Buen trabajo!\n",
    "</div>"
   ]
  },
  {
   "cell_type": "markdown",
   "metadata": {},
   "source": [
    "Comprobación y corrección de valores ausentes en el conjunto de datos."
   ]
  },
  {
   "cell_type": "markdown",
   "metadata": {},
   "source": [
    "Columna 'purpose':"
   ]
  },
  {
   "cell_type": "markdown",
   "metadata": {},
   "source": [
    "Verificamos los valores únicos en la columna \"purpose\" para identificar si existen valores ausentes:"
   ]
  },
  {
   "cell_type": "code",
   "execution_count": 74,
   "metadata": {},
   "outputs": [
    {
     "name": "stdout",
     "output_type": "stream",
     "text": [
      "['purchase of the house' 'car purchase' 'supplementary education'\n",
      " 'to have a wedding' 'housing transactions' 'education' 'having a wedding'\n",
      " 'purchase of the house for my family' 'buy real estate'\n",
      " 'buy commercial real estate' 'buy residential real estate'\n",
      " 'construction of own property' 'property' 'building a property'\n",
      " 'buying a second-hand car' 'buying my own car'\n",
      " 'transactions with commercial real estate' 'building a real estate'\n",
      " 'housing' 'transactions with my real estate' 'cars' 'to become educated'\n",
      " 'second-hand car purchase' 'getting an education' 'car'\n",
      " 'wedding ceremony' 'to get a supplementary education'\n",
      " 'purchase of my own house' 'real estate transactions'\n",
      " 'getting higher education' 'to own a car' 'purchase of a car'\n",
      " 'profile education' 'university education'\n",
      " 'buying property for renting out' 'to buy a car' 'housing renovation'\n",
      " 'going to university']\n"
     ]
    }
   ],
   "source": [
    "# Comprueba las entradas en todas las columnas: asegúrate de que hayamos corregido todos los valores ausentes\n",
    "#columna purpose\n",
    "unique_purpose = datos['purpose'].unique()\n",
    "print(unique_purpose)"
   ]
  },
  {
   "cell_type": "markdown",
   "metadata": {},
   "source": [
    "Si no hay valores ausentes, procedemos sin realizar cambios adicionales. De lo contrario, reemplazamos los valores ausentes con 'Desconocido':"
   ]
  },
  {
   "cell_type": "code",
   "execution_count": 75,
   "metadata": {},
   "outputs": [],
   "source": [
    "datos['purpose'] = datos['purpose'].fillna('Desconocido')"
   ]
  },
  {
   "cell_type": "code",
   "execution_count": 76,
   "metadata": {},
   "outputs": [
    {
     "name": "stdout",
     "output_type": "stream",
     "text": [
      "['purchase of the house' 'car purchase' 'supplementary education'\n",
      " 'to have a wedding' 'housing transactions' 'education' 'having a wedding'\n",
      " 'purchase of the house for my family' 'buy real estate'\n",
      " 'buy commercial real estate' 'buy residential real estate'\n",
      " 'construction of own property' 'property' 'building a property'\n",
      " 'buying a second-hand car' 'buying my own car'\n",
      " 'transactions with commercial real estate' 'building a real estate'\n",
      " 'housing' 'transactions with my real estate' 'cars' 'to become educated'\n",
      " 'second-hand car purchase' 'getting an education' 'car'\n",
      " 'wedding ceremony' 'to get a supplementary education'\n",
      " 'purchase of my own house' 'real estate transactions'\n",
      " 'getting higher education' 'to own a car' 'purchase of a car'\n",
      " 'profile education' 'university education'\n",
      " 'buying property for renting out' 'to buy a car' 'housing renovation'\n",
      " 'going to university']\n"
     ]
    }
   ],
   "source": [
    "# Comprobamos las entradas para ver que hayamos corregido todos los valores ausentes en\n",
    "# columna purpose\n",
    "unique_purpose = datos['purpose'].unique()\n",
    "print(unique_purpose)"
   ]
  },
  {
   "cell_type": "markdown",
   "metadata": {},
   "source": [
    "No se encontraron valores ausentes por lo que se concluye y se pasa a la siguiente columna."
   ]
  },
  {
   "cell_type": "markdown",
   "metadata": {},
   "source": [
    "Columna 'income_type':"
   ]
  },
  {
   "cell_type": "markdown",
   "metadata": {},
   "source": [
    "Comprobamos los valores únicos en la columna \"income_type\" para identificar si hay valores ausentes:"
   ]
  },
  {
   "cell_type": "code",
   "execution_count": 77,
   "metadata": {},
   "outputs": [
    {
     "name": "stdout",
     "output_type": "stream",
     "text": [
      "['employee' 'retiree' 'business' 'civil_servant' 'unemployed'\n",
      " 'entrepreneur' 'student' 'paternity_/_maternity_leave']\n"
     ]
    }
   ],
   "source": [
    "unique_income_types = datos['income_type'].unique()\n",
    "print(unique_income_types)"
   ]
  },
  {
   "cell_type": "markdown",
   "metadata": {},
   "source": [
    "Parece que no hay valores ausentes, pero dejamos el código:"
   ]
  },
  {
   "cell_type": "code",
   "execution_count": 78,
   "metadata": {},
   "outputs": [],
   "source": [
    "datos['income_type'] = datos['income_type'].fillna('Desconocido')"
   ]
  },
  {
   "cell_type": "markdown",
   "metadata": {},
   "source": [
    "Comprobamos que no existan valores ausentes:"
   ]
  },
  {
   "cell_type": "code",
   "execution_count": 79,
   "metadata": {},
   "outputs": [
    {
     "name": "stdout",
     "output_type": "stream",
     "text": [
      "['employee' 'retiree' 'business' 'civil_servant' 'unemployed'\n",
      " 'entrepreneur' 'student' 'paternity_/_maternity_leave']\n"
     ]
    }
   ],
   "source": [
    "unique_income_types = datos['income_type'].unique()\n",
    "print(unique_income_types)"
   ]
  },
  {
   "cell_type": "markdown",
   "metadata": {},
   "source": [
    "No se encontraron valores ausentes por lo que se concluye y se pasa a la siguiente columna."
   ]
  },
  {
   "cell_type": "markdown",
   "metadata": {},
   "source": [
    "Columna 'children':"
   ]
  },
  {
   "cell_type": "markdown",
   "metadata": {},
   "source": [
    "Verificamos los valores únicos en la columna \"children\" para identificar si hay valores negativos o ausentes:"
   ]
  },
  {
   "cell_type": "code",
   "execution_count": 80,
   "metadata": {},
   "outputs": [
    {
     "name": "stdout",
     "output_type": "stream",
     "text": [
      "[1 0 3 2 4 5]\n"
     ]
    }
   ],
   "source": [
    "unique_children = datos['children'].unique()\n",
    "print(unique_children)"
   ]
  },
  {
   "cell_type": "markdown",
   "metadata": {},
   "source": [
    "No encontramos valores ausentes, o aspectos que se puedan reparar. Pasamos simplemente con la siguiente columna."
   ]
  },
  {
   "cell_type": "markdown",
   "metadata": {},
   "source": [
    "Columna 'education':"
   ]
  },
  {
   "cell_type": "markdown",
   "metadata": {},
   "source": [
    "Comprobamos los valores únicos en la columna \"education\" para identificar si hay valores ausentes:"
   ]
  },
  {
   "cell_type": "code",
   "execution_count": 81,
   "metadata": {},
   "outputs": [
    {
     "name": "stdout",
     "output_type": "stream",
     "text": [
      "['bachelor_degree' 'secondary_education' 'some_college'\n",
      " 'primary_education' 'graduate_degree']\n"
     ]
    }
   ],
   "source": [
    "unique_education = datos['education'].unique()\n",
    "print(unique_education)"
   ]
  },
  {
   "cell_type": "markdown",
   "metadata": {},
   "source": [
    "No se encontraron valores ausentes."
   ]
  },
  {
   "cell_type": "code",
   "execution_count": 82,
   "metadata": {},
   "outputs": [
    {
     "name": "stdout",
     "output_type": "stream",
     "text": [
      "Número de entradas por columna:\n",
      "children                       21453\n",
      "days_employed                  21453\n",
      "dob_years                      21453\n",
      "education                      21453\n",
      "education_id                   21453\n",
      "family_status                  21453\n",
      "family_status_id               21453\n",
      "gender                         21453\n",
      "income_type                    21453\n",
      "debt                           21453\n",
      "total_income                   21453\n",
      "purpose                        21453\n",
      "children_clasificacion         21453\n",
      "days_employed_clasificacion    21453\n",
      "edad_clasificacion             21453\n",
      "total_income_clasificado       21453\n",
      "age_category                   21453\n",
      "dtype: int64\n"
     ]
    }
   ],
   "source": [
    "num_entradas = datos.count()\n",
    "print(\"Número de entradas por columna:\")\n",
    "print(num_entradas)"
   ]
  },
  {
   "cell_type": "markdown",
   "metadata": {},
   "source": [
    "Observamos que las columnas del proyecto tienen 21453 entradas.\n",
    "\n",
    "Las columnas 'categoria_empleo', 'grupo' y 'categoria' son columnas que hemos creado durante el proyecto, y es normal que tengan una cantidad diferente de entradas en comparación con las columnas originales.\n",
    "\n",
    "La columna 'categoria_empleo' tenía 3,445 entradas, lo que indica que hemos categorizado, agrupado y asignado una etiqueta a un subconjunto específico de los datos.\n",
    "\n",
    "Por otro lado, tanto las columnas 'grupo' como 'categoria' tenían 18,640 entradas, lo que nos muestra que hemos realizado agrupaciones y categorizaciones adicionales en nuestros datos durante el análisis.\n",
    "\n",
    "Estas nuevas columnas creadas son de gran utilidad para el análisis, ya que nos permiten obtener información más detallada y específica sobre ciertos grupos de datos.\n",
    "\n",
    "En general, hemos logrado mantener la coherencia y la integridad de la mayoría de nuestros datos. Ahora podemos proceder con mayor confianza en nuestro análisis exploratorio y tomar decisiones basadas en datos más sólidos."
   ]
  },
  {
   "cell_type": "markdown",
   "metadata": {},
   "source": [
    "## Clasificación de datos <a id='12'></a>\n",
    "\n",
    "Clasificación de datos:\n",
    "Para poder responder a las preguntas y probar diferentes hipótesis, es necesario clasificar los datos. A continuación se muestra una plantilla para clasificar los datos."
   ]
  },
  {
   "cell_type": "markdown",
   "metadata": {},
   "source": [
    "Veamos los datos de la columna purpose:"
   ]
  },
  {
   "cell_type": "code",
   "execution_count": 83,
   "metadata": {},
   "outputs": [
    {
     "name": "stdout",
     "output_type": "stream",
     "text": [
      "['purchase of the house' 'car purchase' 'supplementary education'\n",
      " 'to have a wedding' 'housing transactions' 'education' 'having a wedding'\n",
      " 'purchase of the house for my family' 'buy real estate'\n",
      " 'buy commercial real estate' 'buy residential real estate'\n",
      " 'construction of own property' 'property' 'building a property'\n",
      " 'buying a second-hand car' 'buying my own car'\n",
      " 'transactions with commercial real estate' 'building a real estate'\n",
      " 'housing' 'transactions with my real estate' 'cars' 'to become educated'\n",
      " 'second-hand car purchase' 'getting an education' 'car'\n",
      " 'wedding ceremony' 'to get a supplementary education'\n",
      " 'purchase of my own house' 'real estate transactions'\n",
      " 'getting higher education' 'to own a car' 'purchase of a car'\n",
      " 'profile education' 'university education'\n",
      " 'buying property for renting out' 'to buy a car' 'housing renovation'\n",
      " 'going to university']\n"
     ]
    }
   ],
   "source": [
    "unique_purpose = datos['purpose'].unique()\n",
    "print(unique_purpose)"
   ]
  },
  {
   "cell_type": "markdown",
   "metadata": {},
   "source": [
    "Para clasificar los propósitos en 3 categorías, podemos seguir la siguiente aproximación:\n",
    "\n",
    "Categoría 'Vivienda': Incluirá propósitos relacionados con la compra, venta o construcción de viviendas, como 'purchase of the house', 'housing transactions', 'buy real estate', 'buy commercial real estate', 'buy residential real estate', 'construction of own property', etc.\n",
    "\n",
    "Categoría 'Educación': Incluirá propósitos relacionados con la educación y la formación, como 'supplementary education', 'education', 'getting an education', 'to get a supplementary education', 'profile education', 'university education', etc.\n",
    "\n",
    "Categoría 'Personal': Incluirá el resto de los propósitos que no se ajusten a las categorías anteriores, como 'car purchase', 'to have a wedding', 'having a wedding', 'buying a second-hand car', 'buying my own car', 'transactions with commercial real estate', 'building a real estate', 'housing', 'transactions with my real estate', 'cars', 'to become educated', 'second-hand car purchase', 'car', 'wedding ceremony', 'purchase of my own house', 'real estate transactions', 'getting higher education', 'to own a car', 'purchase of a car', 'buying property for renting out', 'to buy a car', 'housing renovation', 'going to university', etc.\n",
    "\n",
    "Aquí está el código para clasificar los propósitos en estas 3 categorías:"
   ]
  },
  {
   "cell_type": "code",
   "execution_count": 84,
   "metadata": {},
   "outputs": [
    {
     "name": "stdout",
     "output_type": "stream",
     "text": [
      "['Vivienda', 'Personal', 'Educación', 'Personal', 'Vivienda', 'Educación', 'Personal', 'Personal', 'Vivienda', 'Vivienda', 'Vivienda', 'Vivienda', 'Vivienda', 'Vivienda', 'Personal', 'Personal', 'Personal', 'Personal', 'Personal', 'Personal', 'Personal', 'Personal', 'Personal', 'Educación', 'Personal', 'Personal', 'Educación', 'Personal', 'Personal', 'Personal', 'Personal', 'Personal', 'Educación', 'Educación', 'Personal', 'Personal', 'Personal', 'Personal']\n"
     ]
    }
   ],
   "source": [
    "# Lista de propósitos\n",
    "propósitos = ['purchase of the house', 'car purchase', 'supplementary education',\n",
    "              'to have a wedding', 'housing transactions', 'education', 'having a wedding',\n",
    "              'purchase of the house for my family', 'buy real estate', 'buy commercial real estate',\n",
    "              'buy residential real estate', 'construction of own property', 'property',\n",
    "              'building a property', 'buying a second-hand car', 'buying my own car',\n",
    "              'transactions with commercial real estate', 'building a real estate', 'housing',\n",
    "              'transactions with my real estate', 'cars', 'to become educated',\n",
    "              'second-hand car purchase', 'getting an education', 'car', 'wedding ceremony',\n",
    "              'to get a supplementary education', 'purchase of my own house', 'real estate transactions',\n",
    "              'getting higher education', 'to own a car', 'purchase of a car',\n",
    "              'profile education', 'university education', 'buying property for renting out',\n",
    "              'to buy a car', 'housing renovation', 'going to university']\n",
    "\n",
    "# Función para clasificar el propósito en 3 categorías\n",
    "def clasificar_proposito(propósito):\n",
    "    if propósito in ['purchase of the house', 'housing transactions', 'buy real estate', \n",
    "                     'buy commercial real estate', 'buy residential real estate',\n",
    "                     'construction of own property', 'property', 'building a property']:\n",
    "        return 'Vivienda'\n",
    "    elif propósito in ['supplementary education', 'education', 'getting an education',\n",
    "                       'to get a supplementary education', 'profile education', 'university education']:\n",
    "        return 'Educación'\n",
    "    else:\n",
    "        return 'Personal'\n",
    "\n",
    "# Aplicar la función a la lista de propósitos y crear una nueva lista con las categorías\n",
    "categorías = [clasificar_proposito(propósito) for propósito in propósitos]\n",
    "\n",
    "# Mostrar las categorías resultantes\n",
    "print(categorías)"
   ]
  },
  {
   "cell_type": "markdown",
   "metadata": {},
   "source": [
    "<div class=\"alert alert-block alert-success\">\n",
    "    \n",
    "<b>Comentario del revisor #4</b> <a class=\"tocSkip\"></a>\n",
    "    \n",
    "Buen trabajo creando las categorizaciones .</div>"
   ]
  },
  {
   "cell_type": "markdown",
   "metadata": {},
   "source": [
    "Ahora veamos los datos de la columna 'days_employed':"
   ]
  },
  {
   "cell_type": "code",
   "execution_count": 85,
   "metadata": {},
   "outputs": [
    {
     "name": "stdout",
     "output_type": "stream",
     "text": [
      "[ 146.66666667   70.           97.5        ... 6966.25       6226.25\n",
      " 6340.41666667]\n"
     ]
    }
   ],
   "source": [
    "unique_purpose = datos['days_employed'].unique()\n",
    "print(unique_purpose)"
   ]
  },
  {
   "cell_type": "markdown",
   "metadata": {},
   "source": [
    "Ahora crearemos 3 categorías a partir de los valores únicos en la columna 'days_employed', siguiendo las reglas establecidas:\n",
    "\n",
    "Debajo de 71: \"Trabajador inestable\".\n",
    "Arriba de 6000: \"Trabajador estable\".\n",
    "Resto: \"Trabajador moderado\".\n",
    "Aquí tenemos el código:"
   ]
  },
  {
   "cell_type": "code",
   "execution_count": 86,
   "metadata": {},
   "outputs": [
    {
     "name": "stdout",
     "output_type": "stream",
     "text": [
      "0     Trabajador moderado\n",
      "1    Trabajador inestable\n",
      "2     Trabajador moderado\n",
      "3     Trabajador moderado\n",
      "4     Trabajador moderado\n",
      "Name: categoria_days_employed, dtype: object\n"
     ]
    }
   ],
   "source": [
    "import pandas as pd\n",
    "\n",
    "# Función para clasificar los días empleados en categorías\n",
    "def clasificar_dias_empleados(dias_empleados):\n",
    "    if dias_empleados < 71:\n",
    "        return 'Trabajador inestable'\n",
    "    elif dias_empleados > 6000:\n",
    "        return 'Trabajador estable'\n",
    "    else:\n",
    "        return 'Trabajador moderado'\n",
    "\n",
    "# Valores únicos en la columna 'days_employed'\n",
    "days_employed_unique = [146.66666667, 70.0, 97.5, 6966.25, 6226.25, 6340.41666667]\n",
    "\n",
    "# Crear la columna 'categoria_days_employed' con las categorías\n",
    "datos['categoria_days_employed'] = datos['days_employed'].apply(clasificar_dias_empleados)\n",
    "\n",
    "# Mostrar los primeros registros de la columna 'categoria_days_employed'\n",
    "print(datos['categoria_days_employed'].head())"
   ]
  },
  {
   "cell_type": "markdown",
   "metadata": {},
   "source": [
    "La clasificación realizada nos permite identificar tres grupos distintos de trabajadores según sus días empleados, lo que puede ser útil para analizar y segmentar el comportamiento de los empleados según su estabilidad laboral.\n",
    "\n",
    "Los trabajadores con menos de 71 días empleados se consideran \"inestables\", lo que podría indicar que tienen empleos temporales o han tenido periodos de desempleo.\n",
    "\n",
    "Los trabajadores con más de 71 y menos de 6000 días de empleo los hemos considerado \"moderado\", lo que indica que están en el proceso de volverse estables y estar frecuentemente en actividad laboral.\n",
    "\n",
    "Los trabajadores con más de 6000 días empleados se consideran \"estables\", lo que podría indicar que tienen empleos a largo plazo o incluso se han jubilado."
   ]
  },
  {
   "cell_type": "markdown",
   "metadata": {},
   "source": [
    "Ahora veamos los datos de la columna 'total_income':"
   ]
  },
  {
   "cell_type": "code",
   "execution_count": 87,
   "metadata": {},
   "outputs": [
    {
     "name": "stdout",
     "output_type": "stream",
     "text": [
      "[40620.102 17932.802 23341.752 ... 14347.61  39054.888 13127.587]\n"
     ]
    }
   ],
   "source": [
    "unique_purpose = datos['total_income'].unique()\n",
    "print(unique_purpose)"
   ]
  },
  {
   "cell_type": "markdown",
   "metadata": {},
   "source": [
    "Crearemos categorías, basado en los rangos consideramos, y clasificaremos los ingresos en las tres categorías: \"Ingresos bajos\", \"Ingresos medios\" e \"Ingresos altos\". Aquí está el código para hacerlo:"
   ]
  },
  {
   "cell_type": "code",
   "execution_count": 88,
   "metadata": {},
   "outputs": [
    {
     "name": "stdout",
     "output_type": "stream",
     "text": [
      "count               21453\n",
      "unique                  3\n",
      "top       Ingresos medios\n",
      "freq                11271\n",
      "Name: categoria_total_income, dtype: object\n",
      "0     Ingresos altos\n",
      "1     Ingresos bajos\n",
      "2    Ingresos medios\n",
      "3     Ingresos altos\n",
      "4    Ingresos medios\n",
      "5     Ingresos altos\n",
      "6    Ingresos medios\n",
      "7    Ingresos medios\n",
      "8     Ingresos bajos\n",
      "9    Ingresos medios\n",
      "Name: categoria_total_income, dtype: object\n"
     ]
    }
   ],
   "source": [
    "def clasificar_total_income(total_income):\n",
    "    if total_income < 20000:\n",
    "        return 'Ingresos bajos'\n",
    "    elif total_income >= 20000 and total_income < 40000:\n",
    "        return 'Ingresos medios'\n",
    "    else:\n",
    "        return 'Ingresos altos'\n",
    "\n",
    "# Aplicar la función para clasificar los ingresos en las tres categorías\n",
    "datos['categoria_total_income'] = datos['total_income'].apply(clasificar_total_income)\n",
    "\n",
    "# Imprimir los primeros registros de la columna 'categoria_total_income'\n",
    "print(datos['categoria_total_income'].describe())\n",
    "print(datos['categoria_total_income'].head(10))"
   ]
  },
  {
   "cell_type": "markdown",
   "metadata": {},
   "source": [
    "Conclusiones:\n",
    "\n",
    "La mayoría de los individuos (aproximadamente 11,271) tienen ingresos clasificados como \"Ingresos medios\", seguido de \"Ingresos bajos\" y \"Ingresos altos\".\n",
    "\n",
    "Hay una distribución relativamente equitativa entre las tres categorías, lo que indica que hay una diversidad de ingresos en el conjunto de datos.\n",
    "\n",
    "En resumen, la columna 'total_income' ha sido clasificada exitosamente en tres categorías de ingresos y muestra una variedad de niveles de ingresos entre los individuos en el conjunto de datos."
   ]
  },
  {
   "cell_type": "markdown",
   "metadata": {},
   "source": [
    "## Comprobación de las hipótesis <a id='13'></a>\n"
   ]
  },
  {
   "cell_type": "markdown",
   "metadata": {},
   "source": [
    "**¿Existe una correlación entre tener hijos y pagar a tiempo?**  <a id='14'></a>"
   ]
  },
  {
   "cell_type": "markdown",
   "metadata": {},
   "source": [
    "Vamos a imprimir las columnas para ver los datos, estudiar su relación y dar información util para la toma de decisiones financieras y crediticias."
   ]
  },
  {
   "cell_type": "code",
   "execution_count": 89,
   "metadata": {},
   "outputs": [
    {
     "name": "stdout",
     "output_type": "stream",
     "text": [
      "       children       debt\n",
      "0             1  sin_deuda\n",
      "1             1  sin_deuda\n",
      "2             0  sin_deuda\n",
      "3             3  sin_deuda\n",
      "4             0  sin_deuda\n",
      "...         ...        ...\n",
      "21448         1  sin_deuda\n",
      "21449         0  sin_deuda\n",
      "21450         1  con_deuda\n",
      "21451         3  con_deuda\n",
      "21452         2  sin_deuda\n",
      "\n",
      "[21453 rows x 2 columns]\n"
     ]
    }
   ],
   "source": [
    "# Imprimir las columnas del número de hijos y \"debt\"\n",
    "print(datos[['children', 'debt']])"
   ]
  },
  {
   "cell_type": "markdown",
   "metadata": {},
   "source": [
    "Ahora, para determinar si existe una correlación entre tener hijos y pagar a tiempo, primero necesitamos convertir la columna \"debt\" en valores numéricos, donde \"sin_deuda\" sea 0 y \"con_deuda\" sea 1. \n",
    "Luego, podemos calcular la correlación entre las columnas \"children\" y \"debt\" utilizando el coeficiente de correlación de Pearson.\n",
    "\n",
    "Aquí el código:"
   ]
  },
  {
   "cell_type": "code",
   "execution_count": 90,
   "metadata": {},
   "outputs": [
    {
     "name": "stdout",
     "output_type": "stream",
     "text": [
      "Correlación entre tener hijos y pagar a tiempo: 0.02467748967312698\n"
     ]
    }
   ],
   "source": [
    "from scipy.stats import pearsonr\n",
    "\n",
    "# Convertir la columna \"debt\" en valores numéricos\n",
    "datos['debt'] = datos['debt'].map({'sin_deuda': 0, 'con_deuda': 1})\n",
    "\n",
    "# Calcular la correlación entre \"children\" y \"debt\"\n",
    "correlacion, _ = pearsonr(datos['children'], datos['debt'])\n",
    "\n",
    "# Imprimir el valor de correlación\n",
    "print(\"Correlación entre tener hijos y pagar a tiempo:\", correlacion)"
   ]
  },
  {
   "cell_type": "markdown",
   "metadata": {},
   "source": [
    "Ahora categorizaremos los datos en clientes con hijos, sin hijos, con deuda y sin deuda. Veremos el porcentaje:"
   ]
  },
  {
   "cell_type": "code",
   "execution_count": 91,
   "metadata": {},
   "outputs": [
    {
     "name": "stdout",
     "output_type": "stream",
     "text": [
      "Porcentaje de personas con hijos que tienen deuda: 9.208203178052424 %\n",
      "Porcentaje de personas con hijos que no tienen deuda: 90.79179682194759 %\n",
      "Porcentaje de personas sin hijos que tienen deuda: 7.544357700496807 %\n",
      "Porcentaje de personas sin hijos que no tienen deuda: 92.4556422995032 %\n"
     ]
    }
   ],
   "source": [
    "# Categorizar la columna \"children\" en \"con hijos\" y \"sin hijos\"\n",
    "datos['con_hijos'] = datos['children'].apply(lambda x: 'con hijos' if x > 0 else 'sin hijos')\n",
    "\n",
    "# Porcentaje de personas con hijos que tienen deuda\n",
    "porcentaje_con_hijos_con_deuda = (datos[(datos['con_hijos'] == 'con hijos') & (datos['debt'] == 1)].shape[0] / datos[datos['con_hijos'] == 'con hijos'].shape[0]) * 100\n",
    "\n",
    "# Porcentaje de personas con hijos que no tienen deuda\n",
    "porcentaje_con_hijos_sin_deuda = (datos[(datos['con_hijos'] == 'con hijos') & (datos['debt'] == 0)].shape[0] / datos[datos['con_hijos'] == 'con hijos'].shape[0]) * 100\n",
    "\n",
    "# Porcentaje de personas sin hijos que tienen deuda\n",
    "porcentaje_sin_hijos_con_deuda = (datos[(datos['con_hijos'] == 'sin hijos') & (datos['debt'] == 1)].shape[0] / datos[datos['con_hijos'] == 'sin hijos'].shape[0]) * 100\n",
    "\n",
    "# Porcentaje de personas sin hijos que no tienen deuda\n",
    "porcentaje_sin_hijos_sin_deuda = (datos[(datos['con_hijos'] == 'sin hijos') & (datos['debt'] == 0)].shape[0] / datos[datos['con_hijos'] == 'sin hijos'].shape[0]) * 100\n",
    "\n",
    "# Imprimir resultados\n",
    "print(\"Porcentaje de personas con hijos que tienen deuda:\", porcentaje_con_hijos_con_deuda, \"%\")\n",
    "print(\"Porcentaje de personas con hijos que no tienen deuda:\", porcentaje_con_hijos_sin_deuda, \"%\")\n",
    "print(\"Porcentaje de personas sin hijos que tienen deuda:\", porcentaje_sin_hijos_con_deuda, \"%\")\n",
    "print(\"Porcentaje de personas sin hijos que no tienen deuda:\", porcentaje_sin_hijos_sin_deuda, \"%\")\n"
   ]
  },
  {
   "cell_type": "markdown",
   "metadata": {},
   "source": [
    "Observaciones y Conclusiones:\n",
    "\n",
    "Después de categorizar los clientes con hijos y su relación con deuda.\n",
    "\n",
    "\n",
    "1: \n",
    "Porcentaje de personas sin hijos que tienen deuda: 7.544357700496807 %\n",
    "Porcentaje de personas con hijos que tienen deuda: 9.208203178052424 %\n",
    "Claramente la diferencia es solo del 2%, esto implica que solo habría 2 porciento más de riesgo de obtener una deuda en caso de que tengan hijos.\n",
    "Puede ser por que los jefes de familia decidan aplazar pagos puntuales para satisfacer necesidades primarias de sus hijos.\n",
    "\n",
    "2:\n",
    "Porcentaje de personas con hijos que no tienen deuda: 90.79179682194759 %\n",
    "Porcentaje de personas sin hijos que no tienen deuda: 92.4556422995032 %\n",
    "De nuevo una diferencia del 2%, nos dice que hay 2 porciento más de riesgo de obtener un aplazamiento o deuda por parte de los clientes que tienen hijos. Es una diferencia mínima pero que puede ser importante para analizar.\n",
    "\n",
    "Al observar estos 2 puntos concluimos que tener hijos puede aumentar del 2-4% el riesgo de obtener una deuda.\n",
    "\n",
    "También los valores son tan cercanos que bajo otro punto de vista, aseguramos que la diferencia entre tener hijos y no tener, no es relevante.\n",
    "\n",
    "Importancia de Otros Factores: Si bien el análisis muestra las diferencias en las proporciones de deudas entre personas con y sin hijos, es importante tener en cuenta que hay otros factores que pueden influir en la situación financiera de las personas, como el nivel de ingresos, el tipo de empleo, entre otros.\n",
    "\n",
    "Responsabilidad Financiera: La mayoría de las personas en ambos grupos han demostrado responsabilidad financiera al no tener deudas. Sin embargo, es esencial que aquellos que enfrentan deudas busquen formas de gestionar sus finanzas de manera más efectiva para evitar futuras dificultades."
   ]
  },
  {
   "cell_type": "markdown",
   "metadata": {},
   "source": [
    "Para imprimir una tabla de contingencia que muestre la distribución de pagos puntuales e incumplimientos en cada categoría de hijos y calcular el porcentaje de pagos puntuales para cada grupo, podemos utilizar la función pd.crosstab de Pandas."
   ]
  },
  {
   "cell_type": "code",
   "execution_count": 92,
   "metadata": {},
   "outputs": [
    {
     "name": "stdout",
     "output_type": "stream",
     "text": [
      "Tabla de Contingencia:\n",
      "debt          0     1  Porcentaje de pagos puntuales\n",
      "children                                            \n",
      "0         13027  1063                       0.924556\n",
      "1          4410   445                       0.908342\n",
      "2          1926   202                       0.905075\n",
      "3           303    27                       0.918182\n",
      "4            37     4                       0.902439\n",
      "5             9     0                       1.000000\n"
     ]
    }
   ],
   "source": [
    "# Crear una tabla de contingencia entre \"children\" y \"debt\"\n",
    "tabla_contingencia = pd.crosstab(datos['children'], datos['debt'])\n",
    "\n",
    "# Calcular el porcentaje de pagos puntuales para cada categoría de hijos\n",
    "tabla_contingencia['Porcentaje de pagos puntuales'] = tabla_contingencia[0] / (tabla_contingencia[0] + tabla_contingencia[1])\n",
    "\n",
    "# Imprimir la tabla de contingencia\n",
    "print(\"Tabla de Contingencia:\")\n",
    "print(tabla_contingencia)"
   ]
  },
  {
   "cell_type": "markdown",
   "metadata": {},
   "source": [
    "**Conclusión** <a id='15'></a>\n",
    "\n",
    "Número Limitado de Personas con 5 Hijos: Cabe destacar que el grupo con 5 hijos tiene un número muy pequeño de personas (9 en total).\n",
    "El número de datos con 5 hijos es muy pequeño, podríamos eliminar los datos o evitar hacer algún tipo de predicción en relación a los clientes con 5 hijos.\n",
    "\n",
    "En conclusión, el análisis de los porcentajes muestra que la presencia de hijos no tiene un impacto significativo en la proporción de personas con o sin deudas. La mayoría de las personas, tanto con hijos como sin ellos, han evitado contraer deudas, lo que sugiere una tendencia positiva hacia la responsabilidad financiera. Sin embargo, es crucial considerar otros factores y mantener una gestión financiera responsable para garantizar un futuro económico estable.\n",
    "\n",
    "El análisis de la tabla de contingencia muestra que la cantidad de hijos parece tener un impacto mínimo en la capacidad de las personas para realizar pagos puntuales. La mayoría de las personas, independientemente de si tienen hijos o no, cumplen con sus pagos a tiempo. Sin embargo, es importante tener en cuenta que este análisis solo aborda la relación entre el número de hijos y los pagos puntuales, y existen otros factores que podrían influir en el comportamiento de pago."
   ]
  },
  {
   "cell_type": "markdown",
   "metadata": {},
   "source": [
    "<div class=\"alert alert-block alert-success\">\n",
    "    \n",
    "<b>Comentario del revisor #4</b> <a class=\"tocSkip\"></a>\n",
    "\n",
    "Bien hecho\n",
    "    \n",
    "</div>"
   ]
  },
  {
   "cell_type": "markdown",
   "metadata": {},
   "source": [
    "**¿Existe una correlación entre la situación familiar y el pago a tiempo?** <a id='legal_and_debt'></a>\n",
    "\n",
    "Sí, según los datos analizados, se observa una relación entre el número de hijos y el cumplimiento de los pagos. \n",
    "Aquellos que tienen 0 o 5 hijos tienden a ser los más cumplidos en sus pagos. \n",
    "Por otro lado, quienes tienen de 1 a 4 hijos muestran una mayor tasa de incumplimiento en sus pagos."
   ]
  },
  {
   "cell_type": "markdown",
   "metadata": {},
   "source": [
    "Comprobaremos los datos del número de hijos y los pagos a tiempo:"
   ]
  },
  {
   "cell_type": "code",
   "execution_count": 93,
   "metadata": {},
   "outputs": [
    {
     "name": "stdout",
     "output_type": "stream",
     "text": [
      "Descripción de la columna 'debt':\n",
      "count    21453.000000\n",
      "mean         0.081154\n",
      "std          0.273078\n",
      "min          0.000000\n",
      "25%          0.000000\n",
      "50%          0.000000\n",
      "75%          0.000000\n",
      "max          1.000000\n",
      "Name: debt, dtype: float64\n",
      "\n",
      "Descripción de la columna 'family_status':\n",
      "count       21453\n",
      "unique          5\n",
      "top       married\n",
      "freq        12339\n",
      "Name: family_status, dtype: object\n"
     ]
    }
   ],
   "source": [
    "# Descripción de la columna 'debt'\n",
    "print(\"Descripción de la columna 'debt':\")\n",
    "print(datos['debt'].describe())\n",
    "\n",
    "# Descripción de la columna 'family_status'\n",
    "print(\"\\nDescripción de la columna 'family_status':\")\n",
    "print(datos['family_status'].describe())"
   ]
  },
  {
   "cell_type": "markdown",
   "metadata": {},
   "source": [
    "Lo que podemos observar en esta tabla:\n",
    "\n",
    "civil_partnership: Hay 4150 registros en el conjunto de datos para las personas que se encuentran en una sociedad civil (civil partnership).\n",
    "\n",
    "divorced: Hay 1195 registros en el conjunto de datos para las personas que están divorciadas.\n",
    "\n",
    "married: Hay 12339 registros en el conjunto de datos para las personas que están casadas.\n",
    "\n",
    "unmarried: Hay 2810 registros en el conjunto de datos para las personas que no están casadas ni en una sociedad civil.\n",
    "\n",
    "widow_/_widower: Hay 959 registros en el conjunto de datos para las personas que son viudas o viudos.\n",
    "\n",
    "Observaciones:\n",
    "\n",
    "La categoría con la mayor cantidad de registros es married, lo que indica que hay una cantidad significativamente mayor de personas casadas en el conjunto de datos en comparación con las demás categorías de estado familiar.\n",
    "\n",
    "La categoría con la menor cantidad de registros es widow_/_widower, lo que indica que hay menos personas viudas o viudos en el conjunto de datos en comparación con las demás categorías de estado familiar.\n",
    "\n",
    "La cantidad de registros en las categorías civil_partnership, divorced, y unmarried está en un rango intermedio, lo que sugiere una distribución más equilibrada entre esas categorías.\n",
    "\n",
    "Estos números nos dan una idea de la distribución de los datos en función del estado familiar y nos permiten analizar cómo se representan las diferentes categorías en el conjunto de datos."
   ]
  },
  {
   "cell_type": "markdown",
   "metadata": {},
   "source": [
    "Parte 1: Definición de la función calcular_tasa_incumplimiento_por_estado_familiar:"
   ]
  },
  {
   "cell_type": "markdown",
   "metadata": {},
   "source": [
    "Para analizar la relación entre el estado familiar y el incumplimiento de pagos, hemos agrupado los datos según las categorías de estado familiar. Luego, contamos la cantidad de registros de incumplimiento en cada grupo."
   ]
  },
  {
   "cell_type": "code",
   "execution_count": 99,
   "metadata": {},
   "outputs": [],
   "source": [
    "# Función para calcular la tasa de incumplimiento por estado familiar\n",
    "def calcular_tasa_incumplimiento_por_estado_familiar(data):\n",
    "    # Agrupar los datos por el estado familiar y contar la cantidad de registros en cada grupo\n",
    "    estado_familiar_counts = data.groupby('family_status')['debt'].count()\n",
    "    \n",
    "    # Agrupar los datos por el estado familiar y contar la cantidad de registros incumplidos en cada grupo\n",
    "    incumplimiento_counts = data[data['debt'] == 1].groupby('family_status')['debt'].count()\n",
    "    \n",
    "    # Calcular la tasa de incumplimiento basada en el estado familiar\n",
    "    tasa_incumplimiento = (incumplimiento_counts / estado_familiar_counts).fillna(0)\n",
    "    \n",
    "    return tasa_incumplimiento"
   ]
  },
  {
   "cell_type": "markdown",
   "metadata": {},
   "source": [
    "La función calcular_tasa_incumplimiento_por_estado_familiar se define para calcular la tasa de incumplimiento (porcentaje de pagos no realizados) según el estado familiar de los solicitantes.\n",
    "\n",
    "Primero, se agrupan los datos por la columna 'family_status' (estado familiar) y se cuenta la cantidad de registros en cada grupo, lo que nos da la cantidad de préstamos en cada categoría de estado familiar.\n",
    "\n",
    "Luego, se filtran los datos para obtener solo los registros donde la columna 'debt' es igual a 1 (es decir, incumplimiento de pago). Después, se agrupan estos datos filtrados por el estado familiar y se cuenta la cantidad de registros incumplidos en cada grupo.\n",
    "\n",
    "Finalmente, se calcula la tasa de incumplimiento dividiendo el número de registros incumplidos entre el número total de préstamos en cada categoría de estado familiar y se rellenan los posibles valores faltantes con cero."
   ]
  },
  {
   "cell_type": "markdown",
   "metadata": {},
   "source": [
    "Parte 2: Llamada a la función y obtención de la tasa de incumplimiento por estado familiar:"
   ]
  },
  {
   "cell_type": "code",
   "execution_count": 100,
   "metadata": {},
   "outputs": [
    {
     "name": "stdout",
     "output_type": "stream",
     "text": [
      "Tasa de incumplimiento por estado familiar:\n",
      "family_status\n",
      "civil_partnership    0.093494\n",
      "divorced             0.071130\n",
      "married              0.075452\n",
      "unmarried            0.097509\n",
      "widow_/_widower      0.065693\n",
      "Name: debt, dtype: float64\n"
     ]
    }
   ],
   "source": [
    "# Llamar a la función y obtener la tasa de incumplimiento por estado familiar\n",
    "tasa_incumplimiento_por_estado_familiar = calcular_tasa_incumplimiento_por_estado_familiar(datos)\n",
    "\n",
    "# Imprimir la tasa de incumplimiento por estado familiar\n",
    "print(\"Tasa de incumplimiento por estado familiar:\")\n",
    "print(tasa_incumplimiento_por_estado_familiar)"
   ]
  },
  {
   "cell_type": "markdown",
   "metadata": {},
   "source": [
    "Descripción: En esta parte del código, se llama a la función calcular_tasa_incumplimiento_por_estado_familiar pasando como argumento el DataFrame 'datos', que contiene la información de los préstamos. La función devuelve la tasa de incumplimiento por estado familiar y se almacena en la variable tasa_incumplimiento_por_estado_familiar. Luego, se imprime la tasa de incumplimiento por estado familiar en la consola.\n",
    "\n",
    "El resultado mostrado es una serie de pandas que muestra la tasa de incumplimiento para cada categoría de estado familiar en el conjunto de datos 'datos'. Cada valor representa el porcentaje de préstamos incumplidos en esa categoría de estado familiar."
   ]
  },
  {
   "cell_type": "markdown",
   "metadata": {},
   "source": [
    "**Conclusión**  <a id='17'></a>\n",
    "\n",
    "Individuos que se encuentran en una sociedad civil (civil partnership) y (unmarried) muestran una tasa de incumplimiento más alta, con valores de 9.35% y 9.75% respectivamente. \n",
    "\n",
    "Los que estan bajo el estado civil de casado (married) le siguen, con un valor del 7.55%. Aunque no es la más alta.\n",
    "\n",
    "\n",
    "personas divorciadas (divorced) y las viudas/viudos (widow/widower) presentan tasas de incumplimiento más bajas, con valores de 7.11% y 6.57% respectivamente."
   ]
  },
  {
   "cell_type": "markdown",
   "metadata": {},
   "source": [
    "**¿Existe una correlación entre el nivel de ingresos y el pago a tiempo?** <a id='18'></a>"
   ]
  },
  {
   "cell_type": "markdown",
   "metadata": {},
   "source": [
    "Revisaremos la relación entre estas 2 columnas, creando 5 categorías.\n",
    "\n",
    "Una vez que se generen las categorías podremos ver de una mejor manera como es la tasa de incumplimiento en función del nivel de ingresos."
   ]
  },
  {
   "cell_type": "code",
   "execution_count": 95,
   "metadata": {},
   "outputs": [
    {
     "name": "stdout",
     "output_type": "stream",
     "text": [
      "Tasa de incumplimiento por nivel de ingresos:\n",
      "rango_ingresos\n",
      "0-10000        0.062635\n",
      "10001-20000    0.085364\n",
      "20001-30000    0.087042\n",
      "30001-40000    0.075388\n",
      "40001+         0.068966\n",
      "Name: debt, dtype: float64\n"
     ]
    }
   ],
   "source": [
    "def calcular_tasa_incumplimiento_por_ingresos(data):\n",
    "    # Definir los rangos de ingresos\n",
    "    rangos_ingresos = [0, 10000, 20000, 30000, 40000, float('inf')]\n",
    "    # Definir las etiquetas para los rangos de ingresos\n",
    "    etiquetas_ingresos = ['0-10000', '10001-20000', '20001-30000', '30001-40000', '40001+']\n",
    "    \n",
    "    # Crear una columna con los rangos de ingresos\n",
    "    data['rango_ingresos'] = pd.cut(data['total_income'], bins=rangos_ingresos, labels=etiquetas_ingresos)\n",
    "    \n",
    "    # Calcular la tasa de incumplimiento en función del nivel de ingresos\n",
    "    tasa_incumplimiento = data.groupby('rango_ingresos')['debt'].mean().fillna(0)\n",
    "    \n",
    "    return tasa_incumplimiento\n",
    "\n",
    "# Llamar a la función y obtener la tasa de incumplimiento por nivel de ingresos\n",
    "tasa_incumplimiento_por_ingresos = calcular_tasa_incumplimiento_por_ingresos(datos)\n",
    "\n",
    "# Imprimir la tasa de incumplimiento por nivel de ingresos\n",
    "print(\"Tasa de incumplimiento por nivel de ingresos:\")\n",
    "print(tasa_incumplimiento_por_ingresos)"
   ]
  },
  {
   "cell_type": "markdown",
   "metadata": {},
   "source": [
    "**Conclusión** <a id='19'></a>\n",
    "\n",
    "Una vez organizados los datos en 5 categorías en relación al rango de ingresos podemos observar y concluir que:\n",
    "\n",
    "1. ingreso menor de 10000 tienen la taza mas baja de incumplimiento.\n",
    "2. ingreso mayor a 40000 le siguen.\n",
    "3. ingreso entre 10001 y 39999 son los que tienen la taza de incumplimiento más alta.\n",
    "\n",
    "Antes de concluir veremos la tasa de incumplimiento en relación con el propósito."
   ]
  },
  {
   "cell_type": "markdown",
   "metadata": {},
   "source": [
    "**¿Cómo afecta el propósito del crédito a la tasa de incumplimiento?** <a id='20'></a>"
   ]
  },
  {
   "cell_type": "markdown",
   "metadata": {},
   "source": [
    "Usaremos groupby que nos permita genera tablas para analizar las hipótesis planteadas con la columna 'purpose' y 'debt'. De éste modo podremos ver los porcentajes de cada proposito y deuda."
   ]
  },
  {
   "cell_type": "code",
   "execution_count": 96,
   "metadata": {},
   "outputs": [
    {
     "name": "stdout",
     "output_type": "stream",
     "text": [
      "Tasa de incumplimiento por propósito del crédito:\n",
      "purpose\n",
      "building a property                         0.087237\n",
      "building a real estate                      0.076923\n",
      "buy commercial real estate                  0.071104\n",
      "buy real estate                             0.069243\n",
      "buy residential real estate                 0.067657\n",
      "buying a second-hand car                    0.075314\n",
      "buying my own car                           0.091089\n",
      "buying property for renting out             0.079877\n",
      "car                                         0.085020\n",
      "car purchase                                0.091106\n",
      "cars                                        0.092050\n",
      "construction of own property                0.066142\n",
      "education                                   0.071588\n",
      "getting an education                        0.083710\n",
      "getting higher education                    0.107981\n",
      "going to university                         0.086694\n",
      "having a wedding                            0.083442\n",
      "housing                                     0.071207\n",
      "housing renovation                          0.057661\n",
      "housing transactions                        0.073620\n",
      "profile education                           0.100917\n",
      "property                                    0.066351\n",
      "purchase of a car                           0.109890\n",
      "purchase of my own house                    0.054839\n",
      "purchase of the house                       0.074303\n",
      "purchase of the house for my family         0.070533\n",
      "real estate transactions                    0.081481\n",
      "second-hand car purchase                    0.104938\n",
      "supplementary education                     0.082609\n",
      "to become educated                          0.095588\n",
      "to buy a car                                0.093418\n",
      "to get a supplementary education            0.114350\n",
      "to have a wedding                           0.075817\n",
      "to own a car                                0.100418\n",
      "transactions with commercial real estate    0.080000\n",
      "transactions with my real estate            0.079745\n",
      "university education                        0.088496\n",
      "wedding ceremony                            0.080910\n",
      "Name: debt, dtype: float64\n"
     ]
    }
   ],
   "source": [
    "# Consulta los porcentajes de tasa de incumplimiento para cada propósito del crédito y analízalos\n",
    "\n",
    "def calcular_tasa_incumplimiento_por_proposito(data):\n",
    "    # Agrupar los datos por el propósito del crédito y contar la cantidad de registros en cada grupo\n",
    "    proposito_counts = data.groupby('purpose')['debt'].count()\n",
    "    \n",
    "    # Agrupar los datos por el propósito del crédito y contar la cantidad de registros incumplidos en cada grupo\n",
    "    incumplimiento_counts = data[data['debt'] == 1].groupby('purpose')['debt'].count()\n",
    "    \n",
    "    # Calcular la tasa de incumplimiento en función del propósito del crédito\n",
    "    tasa_incumplimiento = (incumplimiento_counts / proposito_counts).fillna(0)\n",
    "    \n",
    "    return tasa_incumplimiento\n",
    "\n",
    "# Llamar a la función y obtener la tasa de incumplimiento por propósito del crédito\n",
    "tasa_incumplimiento_por_proposito = calcular_tasa_incumplimiento_por_proposito(datos)\n",
    "\n",
    "# Imprimir la tasa de incumplimiento por propósito del crédito\n",
    "print(\"Tasa de incumplimiento por propósito del crédito:\")\n",
    "print(tasa_incumplimiento_por_proposito)"
   ]
  },
  {
   "cell_type": "markdown",
   "metadata": {},
   "source": [
    "Anteriormente hicimos 3 categorías para la columna 'purpose'.\n",
    "\n",
    "Para calcular la tasa de incumplimiento por propósito de crédito para las categorías 'Vivienda', 'Personal' y 'Educación', podemos utilizar la función calcular_tasa_incumplimiento_por_proposito y filtrar los resultados para las categorías deseadas. \n",
    "\n",
    "A continuación, el código que mostrará la tasa de incumplimiento para las categorías 'Vivienda', 'Personal' y 'Educación' en función del propósito del crédito:"
   ]
  },
  {
   "cell_type": "code",
   "execution_count": 98,
   "metadata": {},
   "outputs": [
    {
     "name": "stdout",
     "output_type": "stream",
     "text": [
      "Tasa de incumplimiento por propósito de crédito para las categorías 'Vivienda', 'Personal' y 'Educación':\n",
      "categoria_proposito\n",
      "Vivienda     0.071950\n",
      "Personal     0.082792\n",
      "Educación    0.090198\n",
      "Name: debt, dtype: float64\n"
     ]
    }
   ],
   "source": [
    "# Crear una nueva columna 'categoria_proposito' con las categorías resultantes del propósito del crédito\n",
    "datos['categoria_proposito'] = [clasificar_proposito(propósito) for propósito in datos['purpose']]\n",
    "\n",
    "# Calcular la cantidad total de registros por categoría de propósito del crédito\n",
    "total_registros_por_categoria = datos.groupby('categoria_proposito')['debt'].count()\n",
    "\n",
    "# Calcular la cantidad de registros incumplidos por categoría de propósito del crédito\n",
    "registros_incumplidos_por_categoria = datos.groupby('categoria_proposito')['debt'].sum()\n",
    "\n",
    "# Calcular la tasa de incumplimiento por categoría de propósito del crédito\n",
    "tasa_incumplimiento_por_categoria = registros_incumplidos_por_categoria / total_registros_por_categoria\n",
    "\n",
    "# Filtrar los resultados para las categorías de interés: 'Vivienda', 'Personal' y 'Educación'\n",
    "categorias_interes = ['Vivienda', 'Personal', 'Educación']\n",
    "tasa_incumplimiento_interes = tasa_incumplimiento_por_categoria.loc[categorias_interes]\n",
    "\n",
    "# Imprimir la tasa de incumplimiento por propósito de crédito para las categorías de interés\n",
    "print(\"Tasa de incumplimiento por propósito de crédito para las categorías 'Vivienda', 'Personal' y 'Educación':\")\n",
    "print(tasa_incumplimiento_interes)"
   ]
  },
  {
   "cell_type": "markdown",
   "metadata": {},
   "source": [
    "Observando la tabla anterior.\n",
    "La tasa de incumplimiento por propósito de crédito nos indica el porcentaje de préstamos que han tenido problemas de pago ('debt' = 1) en cada una de las categorías: \n",
    "\n",
    "'Vivienda', 'Personal' y 'Educación'. \n",
    "\n",
    "A continuación, algunas observaciones y conclusiones basadas en los resultados:\n",
    "\n",
    "1. Tasa de incumplimiento: \n",
    "   - 'Vivienda': 7.19%\n",
    "   - 'Personal': 8.28%\n",
    "   - 'Educación': 9.02%\n",
    "\n",
    "2. Observaciones:\n",
    "   - La categoría 'Vivienda' muestra la tasa de incumplimiento más baja, con un 7.19%. Esto podría indicar que los préstamos relacionados con viviendas tienden a tener una menor probabilidad de incumplimiento en los pagos.\n",
    "   - La categoría 'Educación' muestra la tasa de incumplimiento más alta, con un 9.02%. Esto sugiere que los préstamos destinados a financiar la educación pueden tener un mayor riesgo de incumplimiento en comparación con otros propósitos.\n",
    "   - La categoría 'Personal', que engloba otros propósitos, se encuentra en un punto intermedio, con una tasa de incumplimiento del 8.28%.\n",
    "\n",
    "3. Conclusiones:\n",
    "   - Es importante considerar estas tasas de incumplimiento al evaluar el riesgo de los préstamos según su propósito. \n",
    "   - Los préstamos relacionados con educación pueden requerir un mayor escrutinio y medidas de mitigación del riesgo debido a su tasa de incumplimiento más alta.\n",
    "   - Por otro lado, los préstamos para vivienda parecen ser menos riesgosos en términos de incumplimiento, lo que podría reflejar una mayor estabilidad financiera y seguridad de pago por parte de los prestatarios en este tipo de préstamos.\n",
    "\n",
    "Es fundamental utilizar estos resultados para tomar decisiones informadas y establecer políticas adecuadas para el otorgamiento de préstamos en función de los propósitos específicos y sus respectivas tasas de incumplimiento."
   ]
  },
  {
   "cell_type": "markdown",
   "metadata": {},
   "source": [
    "<div class=\"alert alert-block alert-success\">\n",
    "    \n",
    "<b>Comentario del revisor #5</b> <a class=\"tocSkip\"></a>\n",
    "\n",
    "Buen trabajo Jesus.\n",
    "</div>"
   ]
  },
  {
   "cell_type": "markdown",
   "metadata": {},
   "source": [
    "**Conclusión** <a id='21'></a>\n",
    "\n",
    "Después de analizar la tasa de incumplimiento por propósito del crédito, se pueden extraer las siguientes conclusiones:\n",
    "\n",
    "Los resultados indican que, en general, las personas con ingresos más bajos tienen una tasa de incumplimiento ligeramente más alta que aquellas con ingresos más altos. Sin embargo, las diferencias son relativamente pequeñas, lo que sugiere que el nivel de ingresos por sí solo no es un indicador principal del riesgo de incumplimiento.\n",
    "\n",
    "Los propósitos de crédito con las tasas de incumplimiento más altas son: \"purchase of a car\" (10.99%), \"to get a supplementary education\" (11.43%), y \"purchase of my own house\" (10.48%). Esto indica que los prestatarios que solicitaron crédito para estos propósitos tienen una mayor probabilidad de incumplimiento.\n",
    "\n",
    "Por otro lado, los propósitos de crédito con las tasas de incumplimiento más bajas son: \"purchase of the house for my family\" (7.05%), \"housing renovation\" (5.77%), y \"purchase of the house\" (7.43%). Estos propósitos tienen tasas de incumplimiento relativamente más bajas, lo que indica una mayor probabilidad de cumplimiento.\n",
    "\n",
    "Algunos propósitos de crédito, como \"building a property\", \"buying my own car\", y \"going to university\", tienen tasas de incumplimiento moderadas en el rango del 8% al 9%. Estos propósitos podrían considerarse más arriesgados en comparación con los de menor tasa de incumplimiento.\n",
    "\n",
    "Estas conclusiones nos ayudan a comprender cómo el propósito del crédito puede influir en la probabilidad de incumplimiento. Esto puede ser útil para evaluar los riesgos y tomar decisiones informadas al otorgar crédito a los solicitantes."
   ]
  },
  {
   "cell_type": "markdown",
   "metadata": {},
   "source": [
    "# Conclusión general <a id='100'></a>\n",
    "\n",
    "Enumera tus conclusiones en esta última sección. Asegúrate de incluir todas las conclusiones importantes que hiciste y que te llevaron a la forma en que procesaste y analizaste los datos. Habla de los valores ausentes, los duplicados y las posibles razones y soluciones para los artefactos problemáticos que tuviste que abordar.\n",
    "\n",
    "Las conclusiones que se encontraron han sido importantes pues resumen el proceso y el análisis de todos los datos. Se hablará desde valores ausentes, duplicados, razones y soluciones de los modos para solucionar los problemas que se abordaron durante el proyecto.\n",
    "\n",
    "Durante el análisis de los datos se encontraron valores ausentes en las columnas \"days_employed\" y \"total_income\". \n",
    "Estos valores ausentes podrían deberse a diversos factores, como errores en la recolección de datos o la falta de registro de correcto dela información. Se utilizaron diferentes enfoques para manejar los valores ausentes, imputar de valores medianos o la eliminación de registros con valores ausentes, dependiendo del contexto y el impacto en el análisis.\n",
    "\n",
    "Se identificaron registros duplicados en el conjunto de datos, los cuales fueron eliminados para evitar sesgos y garantizar resultados precisos.\n",
    "\n",
    "Se observó que existen diferentes categorías o rangos en las columnas \"children\", \"family_status\", \"total_income\" y \"purpose\". Estas categorías fueron utilizadas para agrupar y analizar los datos.\n",
    "\n",
    "Al analizar la tasa de incumplimiento en función del número de hijos, se observó que no había una correlación clara entre tener hijos y el incumplimiento de pagos. Sin embargo, destaca que la categoría con 0 y 5 hijos tenía una tasa de incumplimiento del 0%, pero debido al bajo número de registros en esta categoría, los resultados deben interpretarse con precaución.\n",
    "\n",
    "En relación al estado familiar, se encontró que las personas viudas o viudos tenían la tasa de incumplimiento más baja, mientras que las personas solteras y casadas tenían la tasa de incumplimiento más alta. Esto podría indicar una posible relación entre el estado familiar y la capacidad de pago.\n",
    "\n",
    "La tasa de incumplimiento por nivel de ingresos no mostró una tendencia clara. Sin embargo, se observó que las personas con ingresos en el rango de 0 a 10,000 y mayor a 40,000 tenían la tasa de incumplimiento más baja, mientras que las personas con ingresos en el rango de 10,001 a 20,000 tenían la tasa de incumplimiento más alta.\n",
    "\n",
    "Después de analizar la tasa de incumplimiento por propósito del crédito, se pueden extraer las siguientes conclusiones:\n",
    "\n",
    "Los propósitos de crédito con las tasas de incumplimiento más altas son: \"purchase of a car\" (10.99%), \"to get a supplementary education\" (11.43%), y \"purchase of my own house\" (10.48%). Esto indica que los prestatarios que solicitaron crédito para estos propósitos tienen una mayor probabilidad de incumplimiento.\n",
    "\n",
    "Por otro lado, los propósitos de crédito con las tasas de incumplimiento más bajas son: \"purchase of the house for my family\" (7.05%), \"housing renovation\" (5.77%), y \"purchase of the house\" (7.43%). Estos propósitos tienen tasas de incumplimiento relativamente más bajas, lo que indica una menor probabilidad de incumplimiento.\n",
    "\n",
    "Algunos propósitos de crédito, como \"building a property\", \"buying my own car\" y \"going to university\", tienen tasas de incumplimiento moderadas en el rango del 8% al 9%. Estos propósitos podrían considerarse más arriesgados en comparación con los de menor tasa de incumplimiento.\n",
    "\n",
    "Estas conclusiones nos ayudan a comprender cómo el propósito del crédito puede influir en la probabilidad de incumplimiento. Esto puede ser útil para evaluar los riesgos y tomar decisiones informadas al otorgar crédito a los solicitantes.\n",
    "\n",
    "En general, el análisis realizado proporciona una comprensión de las relaciones entre diferentes variables y su impacto en el incumplimiento de pagos. Sin embargo, es importante tener en cuenta que estas conclusiones se basan en el conjunto de datos proporcionado y podrían requerir un análisis más profundo y contextualizado. Se facilitaría con una captura mejor de datos por parte de quienes capturen o de los clientes, para obtener una comprensión completa de los factores que influyen en el incumplimiento de pagos, en el contexto específico de la organización o institución financiera.\n"
   ]
  },
  {
   "cell_type": "markdown",
   "metadata": {},
   "source": [
    "<div class=\"alert alert-block alert-success\">\n",
    "    \n",
    "<b>Comentario del revisor #5</b> <a class=\"tocSkip\"></a>\n",
    "\n",
    "# Comentarios Generales Revisón #5\n",
    "\n",
    "Buen trabajo Jesus, has culminado el proyecto.\n",
    "</div>"
   ]
  }
 ],
 "metadata": {
  "ExecuteTimeLog": [
   {
    "duration": 2741,
    "start_time": "2021-10-21T01:08:49.480Z"
   },
   {
    "duration": 52,
    "start_time": "2021-10-21T01:08:53.315Z"
   },
   {
    "duration": 49,
    "start_time": "2021-10-21T01:08:57.432Z"
   },
   {
    "duration": 70,
    "start_time": "2021-10-21T01:09:07.706Z"
   }
  ],
  "kernelspec": {
   "display_name": "Python 3 (ipykernel)",
   "language": "python",
   "name": "python3"
  },
  "language_info": {
   "codemirror_mode": {
    "name": "ipython",
    "version": 3
   },
   "file_extension": ".py",
   "mimetype": "text/x-python",
   "name": "python",
   "nbconvert_exporter": "python",
   "pygments_lexer": "ipython3",
   "version": "3.9.5"
  },
  "toc": {
   "base_numbering": 1,
   "nav_menu": {},
   "number_sections": true,
   "sideBar": true,
   "skip_h1_title": true,
   "title_cell": "Table of Contents",
   "title_sidebar": "Contents",
   "toc_cell": false,
   "toc_position": {},
   "toc_section_display": true,
   "toc_window_display": false
  }
 },
 "nbformat": 4,
 "nbformat_minor": 2
}
