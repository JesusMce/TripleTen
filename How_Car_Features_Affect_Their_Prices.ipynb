{
 "cells": [
  {
   "cell_type": "markdown",
   "metadata": {},
   "source": [
    "# Hola Jesus!\n",
    "\n",
    "Mi nombre es David Bautista, soy code reviewer de Practicum y voy a revisar el proyecto que acabas de desarrollar.\n",
    "\n",
    "Cuando vea un error la primera vez, lo señalaré. Deberás encontrarlo y arreglarlo. La intención es que te prepares para un espacio real de trabajo. En un trabajo, el líder de tu equipo hará lo mismo. Si no puedes solucionar el error, te daré más información en la próxima ocasión.\n",
    "\n",
    "Encontrarás mis comentarios más abajo - **por favor, no los muevas, no los modifiques ni los borres.**\n",
    "\n",
    "¿Cómo lo voy a hacer? Voy a leer detenidamente cada una de las implementaciones que has llevado a cabo para cumplir con lo solicitado. Verás los comentarios de esta forma:\n",
    "\n",
    "\n",
    "<div class=\"alert alert-block alert-success\">\n",
    "<b>Comentario del revisor</b> <a class=\"tocSkip\"></a>\n",
    "    \n",
    "Si todo está perfecto.\n",
    "</div>\n",
    "\n",
    "\n",
    "<div class=\"alert alert-block alert-warning\">\n",
    "<b>Comentario del revisor</b> <a class=\"tocSkip\"></a>\n",
    "    \n",
    "Si tu código está bien pero se puede mejorar o hay algún detalle que le hace falta.\n",
    "</div>\n",
    "\n",
    "\n",
    "<div class=\"alert alert-block alert-danger\">\n",
    "    \n",
    "<b>Comentario del revisor</b> <a class=\"tocSkip\"></a>\n",
    "    \n",
    "    \n",
    "Si de pronto hace falta algo o existe algún problema con tu código o conclusiones.\n",
    "</div>\n",
    "\n",
    "\n",
    "Puedes responderme de esta forma: \n",
    "\n",
    "<div class=\"alert alert-block alert-info\">\n",
    "<b>Respuesta del estudiante</b> <a class=\"tocSkip\"></a>\n",
    "</div\n",
    "\n",
    "¡Empecemos!"
   ]
  },
  {
   "cell_type": "markdown",
   "metadata": {},
   "source": [
    "# ¿Qué vende un coche?\n",
    "\n",
    "Eres un analista en Crankshaft List. Cientos de anuncios gratuitos de vehículos se publican en tu sitio web cada día. Necesitas estudiar los datos recopilados durante los últimos años y determinar qué factores influyen en el precio de un vehículo."
   ]
  },
  {
   "cell_type": "markdown",
   "metadata": {},
   "source": [
    "Trabajamos en Crankshaft List, un sitio web donde la gente puede poner anuncios de coches para vender de manera gratuita. Nuestro trabajo consiste en estudiar los datos que hemos recopilado durante los últimos años para entender qué factores influyen en el precio de un vehículo.\n",
    "\n",
    "Ahora, ¿por qué estamos haciendo esto? La respuesta es simple: queremos descubrir qué es lo que hace que un coche cueste más dinero que otro. Al entender esto, podemos ayudar tanto a los compradores como a los vendedores a tomar decisiones más informadas sobre los precios de los coches.\n",
    "\n",
    "Y aquí está la clave: este proceso no es una serie de pasos fijos. En realidad, es un poco como explorar. Iremos paso a paso, ajustando lo que hacemos según los resultados que vayamos encontrando."
   ]
  },
  {
   "cell_type": "markdown",
   "metadata": {},
   "source": [
    "<div class=\"alert alert-block alert-success\">\n",
    "    <b>Comentario del revisor</b> <a class=\"tocSkip\"></a>\n",
    "    \n",
    "Buen trabajo con la introducción del proyecto.\n",
    "</div>\n",
    "\n",
    "<div class=\"alert alert-block alert-info\">\n",
    "<b>Respuesta del estudiante</b> <a class=\"tocSkip\"></a>\n",
    "\n",
    "Muchas gracias."
   ]
  },
  {
   "cell_type": "markdown",
   "metadata": {},
   "source": [
    "## Inicialización"
   ]
  },
  {
   "cell_type": "markdown",
   "metadata": {},
   "source": [
    "Primero cargaremos las librerías necesarias."
   ]
  },
  {
   "cell_type": "code",
   "execution_count": 1,
   "metadata": {},
   "outputs": [],
   "source": [
    "# Cargar todas las librerías\n",
    "import pandas as pd\n",
    "import numpy as np\n",
    "import matplotlib.pyplot as plt\n",
    "import seaborn as sns"
   ]
  },
  {
   "cell_type": "markdown",
   "metadata": {},
   "source": [
    "<div class=\"alert alert-block alert-success\">\n",
    "    <b>Comentario del revisor</b> <a class=\"tocSkip\"></a>\n",
    "    \n",
    "Buen trabajo.\n",
    "</div>\n"
   ]
  },
  {
   "cell_type": "markdown",
   "metadata": {},
   "source": [
    "### Cargar datos"
   ]
  },
  {
   "cell_type": "markdown",
   "metadata": {},
   "source": [
    "Con el siguiente código cargaremos todos los datos."
   ]
  },
  {
   "cell_type": "code",
   "execution_count": 2,
   "metadata": {},
   "outputs": [],
   "source": [
    "ruta_archivo = '/datasets/vehicles_us.csv'\n",
    "df = pd.read_csv(ruta_archivo)"
   ]
  },
  {
   "cell_type": "markdown",
   "metadata": {},
   "source": [
    "<div class=\"alert alert-block alert-success\">\n",
    "    <b>Comentario del revisor</b> <a class=\"tocSkip\"></a>\n",
    "    \n",
    "Buen trabajo.\n",
    "</div>\n"
   ]
  },
  {
   "cell_type": "markdown",
   "metadata": {},
   "source": [
    "### Explorar datos iniciales"
   ]
  },
  {
   "cell_type": "markdown",
   "metadata": {},
   "source": [
    "El dataset contiene los siguientes campos:\n",
    "- `price`: Es el precio de venta del vehículo en el anuncio. Representa el costo que el vendedor está pidiendo por el vehículo.\n",
    "- `model_year`:  Indica el año de fabricación del vehículo. Esta es una indicación de la antigüedad general del coche.\n",
    "- `model`: Especifica el modelo exacto del vehículo. Esta columna nos proporciona información sobre las especificaciones y características del vehículo en función del modelo.\n",
    "- `condition`: Describe el estado actual del vehículo en el momento en que se publicó el anuncio. Puede variar desde \"nuevo\" hasta \"necesita reparaciones\".\n",
    "- `cylinders`: Indica el número de cilindros del motor del vehículo. Es un indicativo de la potencia del motor y, en ciertos casos, del consumo de combustible.\n",
    "- `fuel`: Especifica el tipo de combustible que utiliza el vehículo. Los valores comunes incluyen gasolina, diésel, eléctrico, entre otros.\n",
    "- `odometer`: Muestra el millaje o kilometraje acumulado del vehículo hasta la fecha en que se publicó el anuncio. Es un indicativo del uso que se le ha dado al vehículo.\n",
    "- `transmission`: Indica el tipo de transmisión del vehículo, que puede ser manual o automática. La transmisión afecta la experiencia de conducción y el rendimiento del vehículo.\n",
    "- `paint_color`: Representa el color exterior del vehículo. Aunque es mayormente una característica estética, en ciertos casos puede influir en el valor de reventa del vehículo.\n",
    "- `is_4wd`: Es una variable booleana que indica si el vehículo tiene tracción en las cuatro ruedas o no. Los vehículos con tracción en las cuatro ruedas a menudo tienen un mejor rendimiento en condiciones difíciles, como terrenos fangosos o nevados.\n",
    "- `date_posted`: Es la fecha en la que se publicó el anuncio. Nos da una idea de cuándo se puso a la venta el vehículo.\n",
    "- `days_listed`: Representa el número de días que el anuncio estuvo activo desde su publicación hasta que fue retirado o el vehículo fue vendido.\n",
    "\n",
    "Para familiarizarnos, explóraremos para familiarizarnos con los datos."
   ]
  },
  {
   "cell_type": "markdown",
   "metadata": {},
   "source": [
    "Veremos estadísticas que proporcionan una visión general de los diferentes atributos de los vehículos en el conjunto de datos. Podemos ver cosas como los precios promedio y extremos, los años de los modelos, la cantidad de cilindros y más. Esto para tener una idea de la distribución de los datos."
   ]
  },
  {
   "cell_type": "code",
   "execution_count": 3,
   "metadata": {},
   "outputs": [
    {
     "name": "stdout",
     "output_type": "stream",
     "text": [
      "<class 'pandas.core.frame.DataFrame'>\n",
      "RangeIndex: 51525 entries, 0 to 51524\n",
      "Data columns (total 13 columns):\n",
      " #   Column        Non-Null Count  Dtype  \n",
      "---  ------        --------------  -----  \n",
      " 0   price         51525 non-null  int64  \n",
      " 1   model_year    47906 non-null  float64\n",
      " 2   model         51525 non-null  object \n",
      " 3   condition     51525 non-null  object \n",
      " 4   cylinders     46265 non-null  float64\n",
      " 5   fuel          51525 non-null  object \n",
      " 6   odometer      43633 non-null  float64\n",
      " 7   transmission  51525 non-null  object \n",
      " 8   type          51525 non-null  object \n",
      " 9   paint_color   42258 non-null  object \n",
      " 10  is_4wd        25572 non-null  float64\n",
      " 11  date_posted   51525 non-null  object \n",
      " 12  days_listed   51525 non-null  int64  \n",
      "dtypes: float64(4), int64(2), object(7)\n",
      "memory usage: 5.1+ MB\n"
     ]
    }
   ],
   "source": [
    "df.info() # imprime la información general/resumida sobre el DataFrame"
   ]
  },
  {
   "cell_type": "markdown",
   "metadata": {},
   "source": [
    "El resultado del método df.info() proporciona información valiosa sobre el conjunto de datos. \n",
    "Aquí está un resumen de lo que muestra:\n",
    "\n",
    "1. El DataFrame contiene un total de 51,525 filas (entradas) y 13 columnas (atributos).\n",
    "\n",
    "2. Los nombres de las columnas son: 'price', 'model_year', 'model', 'condition', 'cylinders', 'fuel', 'odometer', 'transmission', 'type', 'paint_color', 'is_4wd', 'date_posted' y 'days_listed'.\n",
    "\n",
    "3. Cada columna tiene un recuento de valores no nulos, lo que indica cuántas entradas tienen valores válidos para esa columna.\n",
    "\n",
    "4. Se proporciona el tipo de datos (Dtype) para cada columna: float64 (números decimales), int64 (números enteros) y object (cadena de caracteres).\n",
    "\n",
    "5. La memoria utilizada por el DataFrame es de aproximadamente 5.1 MB.\n",
    "\n",
    "Esta información es útil para entender la calidad y la integridad de los datos. \n",
    "Nos permite identificar columnas con valores nulos, elegir qué columnas utilizar para el análisis y tomar decisiones informadas sobre la manipulación de los datos."
   ]
  },
  {
   "cell_type": "markdown",
   "metadata": {},
   "source": [
    "Usaremos un head, para mostrar las primeras 10 filas del DataFrame. Tendremos una vista previa de los datos para observar como están estructurados en los datos.\n",
    "\n",
    "Las primeras 10 filas del DataFrame se ven así:"
   ]
  },
  {
   "cell_type": "code",
   "execution_count": 4,
   "metadata": {},
   "outputs": [
    {
     "data": {
      "text/html": [
       "<div>\n",
       "<style scoped>\n",
       "    .dataframe tbody tr th:only-of-type {\n",
       "        vertical-align: middle;\n",
       "    }\n",
       "\n",
       "    .dataframe tbody tr th {\n",
       "        vertical-align: top;\n",
       "    }\n",
       "\n",
       "    .dataframe thead th {\n",
       "        text-align: right;\n",
       "    }\n",
       "</style>\n",
       "<table border=\"1\" class=\"dataframe\">\n",
       "  <thead>\n",
       "    <tr style=\"text-align: right;\">\n",
       "      <th></th>\n",
       "      <th>price</th>\n",
       "      <th>model_year</th>\n",
       "      <th>model</th>\n",
       "      <th>condition</th>\n",
       "      <th>cylinders</th>\n",
       "      <th>fuel</th>\n",
       "      <th>odometer</th>\n",
       "      <th>transmission</th>\n",
       "      <th>type</th>\n",
       "      <th>paint_color</th>\n",
       "      <th>is_4wd</th>\n",
       "      <th>date_posted</th>\n",
       "      <th>days_listed</th>\n",
       "    </tr>\n",
       "  </thead>\n",
       "  <tbody>\n",
       "    <tr>\n",
       "      <th>0</th>\n",
       "      <td>9400</td>\n",
       "      <td>2011.0</td>\n",
       "      <td>bmw x5</td>\n",
       "      <td>good</td>\n",
       "      <td>6.0</td>\n",
       "      <td>gas</td>\n",
       "      <td>145000.0</td>\n",
       "      <td>automatic</td>\n",
       "      <td>SUV</td>\n",
       "      <td>NaN</td>\n",
       "      <td>1.0</td>\n",
       "      <td>2018-06-23</td>\n",
       "      <td>19</td>\n",
       "    </tr>\n",
       "    <tr>\n",
       "      <th>1</th>\n",
       "      <td>25500</td>\n",
       "      <td>NaN</td>\n",
       "      <td>ford f-150</td>\n",
       "      <td>good</td>\n",
       "      <td>6.0</td>\n",
       "      <td>gas</td>\n",
       "      <td>88705.0</td>\n",
       "      <td>automatic</td>\n",
       "      <td>pickup</td>\n",
       "      <td>white</td>\n",
       "      <td>1.0</td>\n",
       "      <td>2018-10-19</td>\n",
       "      <td>50</td>\n",
       "    </tr>\n",
       "    <tr>\n",
       "      <th>2</th>\n",
       "      <td>5500</td>\n",
       "      <td>2013.0</td>\n",
       "      <td>hyundai sonata</td>\n",
       "      <td>like new</td>\n",
       "      <td>4.0</td>\n",
       "      <td>gas</td>\n",
       "      <td>110000.0</td>\n",
       "      <td>automatic</td>\n",
       "      <td>sedan</td>\n",
       "      <td>red</td>\n",
       "      <td>NaN</td>\n",
       "      <td>2019-02-07</td>\n",
       "      <td>79</td>\n",
       "    </tr>\n",
       "    <tr>\n",
       "      <th>3</th>\n",
       "      <td>1500</td>\n",
       "      <td>2003.0</td>\n",
       "      <td>ford f-150</td>\n",
       "      <td>fair</td>\n",
       "      <td>8.0</td>\n",
       "      <td>gas</td>\n",
       "      <td>NaN</td>\n",
       "      <td>automatic</td>\n",
       "      <td>pickup</td>\n",
       "      <td>NaN</td>\n",
       "      <td>NaN</td>\n",
       "      <td>2019-03-22</td>\n",
       "      <td>9</td>\n",
       "    </tr>\n",
       "    <tr>\n",
       "      <th>4</th>\n",
       "      <td>14900</td>\n",
       "      <td>2017.0</td>\n",
       "      <td>chrysler 200</td>\n",
       "      <td>excellent</td>\n",
       "      <td>4.0</td>\n",
       "      <td>gas</td>\n",
       "      <td>80903.0</td>\n",
       "      <td>automatic</td>\n",
       "      <td>sedan</td>\n",
       "      <td>black</td>\n",
       "      <td>NaN</td>\n",
       "      <td>2019-04-02</td>\n",
       "      <td>28</td>\n",
       "    </tr>\n",
       "    <tr>\n",
       "      <th>5</th>\n",
       "      <td>14990</td>\n",
       "      <td>2014.0</td>\n",
       "      <td>chrysler 300</td>\n",
       "      <td>excellent</td>\n",
       "      <td>6.0</td>\n",
       "      <td>gas</td>\n",
       "      <td>57954.0</td>\n",
       "      <td>automatic</td>\n",
       "      <td>sedan</td>\n",
       "      <td>black</td>\n",
       "      <td>1.0</td>\n",
       "      <td>2018-06-20</td>\n",
       "      <td>15</td>\n",
       "    </tr>\n",
       "    <tr>\n",
       "      <th>6</th>\n",
       "      <td>12990</td>\n",
       "      <td>2015.0</td>\n",
       "      <td>toyota camry</td>\n",
       "      <td>excellent</td>\n",
       "      <td>4.0</td>\n",
       "      <td>gas</td>\n",
       "      <td>79212.0</td>\n",
       "      <td>automatic</td>\n",
       "      <td>sedan</td>\n",
       "      <td>white</td>\n",
       "      <td>NaN</td>\n",
       "      <td>2018-12-27</td>\n",
       "      <td>73</td>\n",
       "    </tr>\n",
       "    <tr>\n",
       "      <th>7</th>\n",
       "      <td>15990</td>\n",
       "      <td>2013.0</td>\n",
       "      <td>honda pilot</td>\n",
       "      <td>excellent</td>\n",
       "      <td>6.0</td>\n",
       "      <td>gas</td>\n",
       "      <td>109473.0</td>\n",
       "      <td>automatic</td>\n",
       "      <td>SUV</td>\n",
       "      <td>black</td>\n",
       "      <td>1.0</td>\n",
       "      <td>2019-01-07</td>\n",
       "      <td>68</td>\n",
       "    </tr>\n",
       "    <tr>\n",
       "      <th>8</th>\n",
       "      <td>11500</td>\n",
       "      <td>2012.0</td>\n",
       "      <td>kia sorento</td>\n",
       "      <td>excellent</td>\n",
       "      <td>4.0</td>\n",
       "      <td>gas</td>\n",
       "      <td>104174.0</td>\n",
       "      <td>automatic</td>\n",
       "      <td>SUV</td>\n",
       "      <td>NaN</td>\n",
       "      <td>1.0</td>\n",
       "      <td>2018-07-16</td>\n",
       "      <td>19</td>\n",
       "    </tr>\n",
       "    <tr>\n",
       "      <th>9</th>\n",
       "      <td>9200</td>\n",
       "      <td>2008.0</td>\n",
       "      <td>honda pilot</td>\n",
       "      <td>excellent</td>\n",
       "      <td>NaN</td>\n",
       "      <td>gas</td>\n",
       "      <td>147191.0</td>\n",
       "      <td>automatic</td>\n",
       "      <td>SUV</td>\n",
       "      <td>blue</td>\n",
       "      <td>1.0</td>\n",
       "      <td>2019-02-15</td>\n",
       "      <td>17</td>\n",
       "    </tr>\n",
       "  </tbody>\n",
       "</table>\n",
       "</div>"
      ],
      "text/plain": [
       "   price  model_year           model  condition  cylinders fuel  odometer  \\\n",
       "0   9400      2011.0          bmw x5       good        6.0  gas  145000.0   \n",
       "1  25500         NaN      ford f-150       good        6.0  gas   88705.0   \n",
       "2   5500      2013.0  hyundai sonata   like new        4.0  gas  110000.0   \n",
       "3   1500      2003.0      ford f-150       fair        8.0  gas       NaN   \n",
       "4  14900      2017.0    chrysler 200  excellent        4.0  gas   80903.0   \n",
       "5  14990      2014.0    chrysler 300  excellent        6.0  gas   57954.0   \n",
       "6  12990      2015.0    toyota camry  excellent        4.0  gas   79212.0   \n",
       "7  15990      2013.0     honda pilot  excellent        6.0  gas  109473.0   \n",
       "8  11500      2012.0     kia sorento  excellent        4.0  gas  104174.0   \n",
       "9   9200      2008.0     honda pilot  excellent        NaN  gas  147191.0   \n",
       "\n",
       "  transmission    type paint_color  is_4wd date_posted  days_listed  \n",
       "0    automatic     SUV         NaN     1.0  2018-06-23           19  \n",
       "1    automatic  pickup       white     1.0  2018-10-19           50  \n",
       "2    automatic   sedan         red     NaN  2019-02-07           79  \n",
       "3    automatic  pickup         NaN     NaN  2019-03-22            9  \n",
       "4    automatic   sedan       black     NaN  2019-04-02           28  \n",
       "5    automatic   sedan       black     1.0  2018-06-20           15  \n",
       "6    automatic   sedan       white     NaN  2018-12-27           73  \n",
       "7    automatic     SUV       black     1.0  2019-01-07           68  \n",
       "8    automatic     SUV         NaN     1.0  2018-07-16           19  \n",
       "9    automatic     SUV        blue     1.0  2019-02-15           17  "
      ]
     },
     "execution_count": 4,
     "metadata": {},
     "output_type": "execute_result"
    }
   ],
   "source": [
    "df.head(10)  # Se imprime las primeras 10 filas del DataFrame df como muestra"
   ]
  },
  {
   "cell_type": "markdown",
   "metadata": {},
   "source": [
    "Las primeras 10 filas del DataFrame, nos da una idea de cómo están estructurados los datos. Cada fila representa un anuncio de un vehículo y contiene información sobre diferentes atributos del vehículo. \n",
    "Aquí tenemos una descripción de las columnas presentes en las primeras 10 filas:\n",
    "\n",
    "1. price: El precio del vehículo en dólares.\n",
    "2. model_year: El año de fabricación del modelo del vehículo.\n",
    "3. model: El nombre del modelo del vehículo.\n",
    "4. condition: La condición del vehículo (p. ej., \"good\", \"like new\", \"fair\").\n",
    "5. cylinders: El número de cilindros del vehículo.\n",
    "6. fuel: El tipo de combustible del vehículo (p. ej., gasolina, diesel).\n",
    "7. odometer: El millaje del vehículo cuando se publicó el anuncio.\n",
    "8. transmission: El tipo de transmisión del vehículo (p. ej., automática, manual).\n",
    "9. type: El tipo de vehículo (p. ej., SUV, sedán, pickup).\n",
    "10. paint_color: El color de la pintura del vehículo.\n",
    "11. is_4wd: Si el vehículo tiene tracción a las 4 ruedas (1 si es verdadero, NaN si no está disponible).\n",
    "12. date_posted: La fecha en que se publicó el anuncio.\n",
    "13. days_listed: La cantidad de días que el anuncio estuvo listado."
   ]
  },
  {
   "cell_type": "markdown",
   "metadata": {},
   "source": [
    "Cada fila representa un vehículo y sus atributos.\n",
    "\n",
    "Cada fila muestra los valores correspondientes para los atributos de un vehículo en particular. \n",
    "\n",
    "Algunas observaciones de estas primeras filas incluyen los valores nulos en varias columnas, como \"model_year\", \"cylinders\", \"odometer\", \"paint_color\" y \"is_4wd\". Estos valores faltantes pueden requerir atención durante el análisis y procesamiento de datos."
   ]
  },
  {
   "cell_type": "markdown",
   "metadata": {},
   "source": [
    "Imprimimos las últimas 5 filas para ampliar la observación:"
   ]
  },
  {
   "cell_type": "code",
   "execution_count": 5,
   "metadata": {},
   "outputs": [
    {
     "name": "stdout",
     "output_type": "stream",
     "text": [
      "       price  model_year           model  condition  cylinders fuel  odometer  \\\n",
      "51520   9249      2013.0   nissan maxima   like new        6.0  gas   88136.0   \n",
      "51521   2700      2002.0     honda civic    salvage        4.0  gas  181500.0   \n",
      "51522   3950      2009.0  hyundai sonata  excellent        4.0  gas  128000.0   \n",
      "51523   7455      2013.0  toyota corolla       good        4.0  gas  139573.0   \n",
      "51524   6300      2014.0   nissan altima       good        4.0  gas       NaN   \n",
      "\n",
      "      transmission   type paint_color  is_4wd date_posted  days_listed  \n",
      "51520    automatic  sedan       black     NaN  2018-10-03           37  \n",
      "51521    automatic  sedan       white     NaN  2018-11-14           22  \n",
      "51522    automatic  sedan        blue     NaN  2018-11-15           32  \n",
      "51523    automatic  sedan       black     NaN  2018-07-02           71  \n",
      "51524    automatic  sedan         NaN     NaN  2018-06-05           10  \n"
     ]
    }
   ],
   "source": [
    "# Imprime las últimas 5 filas\n",
    "print(df.tail())"
   ]
  },
  {
   "cell_type": "markdown",
   "metadata": {},
   "source": [
    "Al igual que con las primeras filas, estas filas finales representan vehículos en venta y sus atributos correspondientes. \n",
    "\n",
    "Por ejemplo, la última fila muestra que el vehículo tiene un precio de 6300, es un Nissan Altima fabricado en 2014, tiene una condición \"buena\", tiene 4 cilindros, funciona con gasolina, no se proporciona el odómetro, tiene transmisión automática, es un sedán, fue publicado el 5 de junio de 2018 y estuvo listado durante 10 días."
   ]
  },
  {
   "cell_type": "markdown",
   "metadata": {},
   "source": [
    "Usaremos describe, para ver las estadísticas descriptivas, tener una visión general de los atributos de los datos. Se verán cosas como los precios promedio y extremos, años de los modelos, cantidad de cilindraje. Todo esto para tener una mejor idea de la distribución de los datos y tomar mejores desiciones."
   ]
  },
  {
   "cell_type": "code",
   "execution_count": 6,
   "metadata": {},
   "outputs": [
    {
     "data": {
      "text/html": [
       "<div>\n",
       "<style scoped>\n",
       "    .dataframe tbody tr th:only-of-type {\n",
       "        vertical-align: middle;\n",
       "    }\n",
       "\n",
       "    .dataframe tbody tr th {\n",
       "        vertical-align: top;\n",
       "    }\n",
       "\n",
       "    .dataframe thead th {\n",
       "        text-align: right;\n",
       "    }\n",
       "</style>\n",
       "<table border=\"1\" class=\"dataframe\">\n",
       "  <thead>\n",
       "    <tr style=\"text-align: right;\">\n",
       "      <th></th>\n",
       "      <th>price</th>\n",
       "      <th>model_year</th>\n",
       "      <th>cylinders</th>\n",
       "      <th>odometer</th>\n",
       "      <th>is_4wd</th>\n",
       "      <th>days_listed</th>\n",
       "    </tr>\n",
       "  </thead>\n",
       "  <tbody>\n",
       "    <tr>\n",
       "      <th>count</th>\n",
       "      <td>51525.000000</td>\n",
       "      <td>47906.000000</td>\n",
       "      <td>46265.000000</td>\n",
       "      <td>43633.000000</td>\n",
       "      <td>25572.0</td>\n",
       "      <td>51525.00000</td>\n",
       "    </tr>\n",
       "    <tr>\n",
       "      <th>mean</th>\n",
       "      <td>12132.464920</td>\n",
       "      <td>2009.750470</td>\n",
       "      <td>6.125235</td>\n",
       "      <td>115553.461738</td>\n",
       "      <td>1.0</td>\n",
       "      <td>39.55476</td>\n",
       "    </tr>\n",
       "    <tr>\n",
       "      <th>std</th>\n",
       "      <td>10040.803015</td>\n",
       "      <td>6.282065</td>\n",
       "      <td>1.660360</td>\n",
       "      <td>65094.611341</td>\n",
       "      <td>0.0</td>\n",
       "      <td>28.20427</td>\n",
       "    </tr>\n",
       "    <tr>\n",
       "      <th>min</th>\n",
       "      <td>1.000000</td>\n",
       "      <td>1908.000000</td>\n",
       "      <td>3.000000</td>\n",
       "      <td>0.000000</td>\n",
       "      <td>1.0</td>\n",
       "      <td>0.00000</td>\n",
       "    </tr>\n",
       "    <tr>\n",
       "      <th>25%</th>\n",
       "      <td>5000.000000</td>\n",
       "      <td>2006.000000</td>\n",
       "      <td>4.000000</td>\n",
       "      <td>70000.000000</td>\n",
       "      <td>1.0</td>\n",
       "      <td>19.00000</td>\n",
       "    </tr>\n",
       "    <tr>\n",
       "      <th>50%</th>\n",
       "      <td>9000.000000</td>\n",
       "      <td>2011.000000</td>\n",
       "      <td>6.000000</td>\n",
       "      <td>113000.000000</td>\n",
       "      <td>1.0</td>\n",
       "      <td>33.00000</td>\n",
       "    </tr>\n",
       "    <tr>\n",
       "      <th>75%</th>\n",
       "      <td>16839.000000</td>\n",
       "      <td>2014.000000</td>\n",
       "      <td>8.000000</td>\n",
       "      <td>155000.000000</td>\n",
       "      <td>1.0</td>\n",
       "      <td>53.00000</td>\n",
       "    </tr>\n",
       "    <tr>\n",
       "      <th>max</th>\n",
       "      <td>375000.000000</td>\n",
       "      <td>2019.000000</td>\n",
       "      <td>12.000000</td>\n",
       "      <td>990000.000000</td>\n",
       "      <td>1.0</td>\n",
       "      <td>271.00000</td>\n",
       "    </tr>\n",
       "  </tbody>\n",
       "</table>\n",
       "</div>"
      ],
      "text/plain": [
       "               price    model_year     cylinders       odometer   is_4wd  \\\n",
       "count   51525.000000  47906.000000  46265.000000   43633.000000  25572.0   \n",
       "mean    12132.464920   2009.750470      6.125235  115553.461738      1.0   \n",
       "std     10040.803015      6.282065      1.660360   65094.611341      0.0   \n",
       "min         1.000000   1908.000000      3.000000       0.000000      1.0   \n",
       "25%      5000.000000   2006.000000      4.000000   70000.000000      1.0   \n",
       "50%      9000.000000   2011.000000      6.000000  113000.000000      1.0   \n",
       "75%     16839.000000   2014.000000      8.000000  155000.000000      1.0   \n",
       "max    375000.000000   2019.000000     12.000000  990000.000000      1.0   \n",
       "\n",
       "       days_listed  \n",
       "count  51525.00000  \n",
       "mean      39.55476  \n",
       "std       28.20427  \n",
       "min        0.00000  \n",
       "25%       19.00000  \n",
       "50%       33.00000  \n",
       "75%       53.00000  \n",
       "max      271.00000  "
      ]
     },
     "execution_count": 6,
     "metadata": {},
     "output_type": "execute_result"
    }
   ],
   "source": [
    "df.describe()  # Se utiliza el método describe() para obtener estadísticas descriptivas del DataFrame"
   ]
  },
  {
   "cell_type": "markdown",
   "metadata": {},
   "source": [
    "A continuación explicamos por columna, los datos de cada fila:\n",
    "\n",
    "**price:**\n",
    "\n",
    "count: 51,525 registros no nulos.\n",
    "\n",
    "mean: El precio promedio es aproximadamente 12,132.46.\n",
    "\n",
    "std: La desviación estándar del precio es aproximadamente 10,040.80.\n",
    "\n",
    "min: El precio mínimo es 1.\n",
    "\n",
    "25%: El 25% de los precios están por debajo de 5,000.\n",
    "\n",
    "50%: El precio mediano (mediana) es 9,000.\n",
    "\n",
    "75%: El 75% de los precios están por debajo de 16,839.\n",
    "\n",
    "max: El precio máximo es 375,000.\n",
    "\n",
    "\n",
    "**model_year:**\n",
    "\n",
    "count: 47,906 registros no nulos.\n",
    "\n",
    "mean: El año promedio del modelo es aproximadamente 2009.75.\n",
    "\n",
    "std: La desviación estándar de los años del modelo es aproximadamente 6.28.\n",
    "\n",
    "min: El año mínimo del modelo es 1908.\n",
    "\n",
    "25%: El 25% de los años del modelo están por debajo de 2006.\n",
    "\n",
    "50%: El año mediano del modelo es 2011.\n",
    "\n",
    "75%: El 75% de los años del modelo están por debajo de 2014.\n",
    "\n",
    "max: El año máximo del modelo es 2019.\n",
    "\n",
    "\n",
    "**cylinders:**\n",
    "\n",
    "count: 46,265 registros no nulos.\n",
    "\n",
    "mean: El promedio de cilindros es aproximadamente 6.13.\n",
    "\n",
    "std: La desviación estándar de la cantidad de cilindros es aproximadamente 1.66.\n",
    "\n",
    "min: La cantidad mínima de cilindros es 3.\n",
    "\n",
    "25%: El 25% de los vehículos tienen 4 cilindros.\n",
    "\n",
    "50%: La cantidad mediana de cilindros es 6.\n",
    "\n",
    "75%: El 75% de los vehículos tienen 8 cilindros.\n",
    "\n",
    "max: La cantidad máxima de cilindros es 12.\n",
    "\n",
    "**odometer:**\n",
    "\n",
    "count: 43,633 registros no nulos.\n",
    "\n",
    "mean: El millaje promedio en el odómetro es aproximadamente 115,553.46.\n",
    "\n",
    "std: La desviación estándar del millaje en el odómetro es aproximadamente 65,094.61.\n",
    "\n",
    "min: El millaje mínimo en el odómetro es 0.\n",
    "\n",
    "25%: El 25% de los vehículos tienen un millaje de aproximadamente 70,000.\n",
    "\n",
    "50%: El millaje mediano en el odómetro es 113,000.\n",
    "\n",
    "75%: El 75% de los vehículos tienen un millaje de aproximadamente 155,000.\n",
    "\n",
    "max: El millaje máximo en el odómetro es 990,000.\n",
    "\n",
    "\n",
    "**is_4wd:**\n",
    "\n",
    "count: 25,572 registros no nulos.\n",
    "\n",
    "mean: El valor promedio de \"is_4wd\" es 1.0, lo que sugiere que todos los registros con valor no nulo tienen tracción a las 4 ruedas.\n",
    "\n",
    "\n",
    "**days_listed:**\n",
    "\n",
    "count: 51,525 registros no nulos.\n",
    "\n",
    "mean: El promedio de días listados es aproximadamente 39.55.\n",
    "\n",
    "std: La desviación estándar de los días listados es aproximadamente 28.20.\n",
    "\n",
    "min: El número mínimo de días listados es 0.\n",
    "\n",
    "25%: El 25% de los vehículos fueron listados durante aproximadamente 19 días.\n",
    "\n",
    "50%: El número mediano de días listados es 33.\n",
    "\n",
    "75%: El 75% de los vehículos fueron listados durante aproximadamente 53 días.\n",
    "\n",
    "max: El número máximo de días listados es 271."
   ]
  },
  {
   "cell_type": "markdown",
   "metadata": {},
   "source": [
    "Observando la información general y la muestra de datos impresos, se pueden identificar varios aspectos y posibles problemas en el conjunto de datos:\n",
    "\n",
    "**Tipos de Datos Inapropiados:**\n",
    "\n",
    "- La columna \"model_year\" debería tener un tipo de dato entero, pero se muestra como flotante. Puede corregirse convirtiendo esta columna al tipo de dato correcto.\n",
    "\n",
    "- La columna \"date_posted\" debería tener un tipo de dato de fecha en lugar de objeto (cadena de texto). Esto facilitará el análisis temporal y cálculos relacionados con las fechas.\n",
    "\n",
    "**Valores Ausentes:**\n",
    "\n",
    "- Hay valores ausentes en varias columnas. Las columnas con valores ausentes son: \"model_year\", \"cylinders\", \"odometer\", \"paint_color\" y \"is_4wd\".\n",
    "\n",
    "- La columna con la mayor cantidad de valores ausentes es \"is_4wd\", seguida por \"paint_color\", \"odometer\", \"cylinders\" y \"model_year\".\n",
    "\n",
    "**Problemas Potenciales:**\n",
    "\n",
    "- Hay registros con millaje de cero en la columna \"odometer\". Esto podría indicar un problema en la entrada de datos o errores en la recolección de datos.\n",
    "\n",
    "- La columna \"is_4wd\" tiene valores constantes de 1.0, lo que podría indicar un problema en los datos o una falta de variabilidad en esta columna.\n",
    "\n",
    "En resumen, hay varios problemas que necesitarían investigación y cambios adicionales para garantizar la calidad y utilidad de los datos:\n",
    "\n",
    "1. Convertir el tipo de dato de \"model_year\" a entero.\n",
    "\n",
    "2. Convertir el tipo de dato de \"date_posted\" a fecha.\n",
    "\n",
    "3. Evaluar y corregir los registros con millaje de cero en \"odometer\".\n",
    "\n",
    "4. Investigar y corregir los valores constantes en la columna \"is_4wd\".\n",
    "\n",
    "5. Abordar los valores ausentes en las columnas \"model_year\", \"cylinders\", \"odometer\", \"paint_color\" y \"is_4wd\".\n",
    "\n",
    "Realizar estas correcciones y análisis adicionales mejorará la calidad del conjunto de datos y permitirá realizar análisis más confiables y significativos."
   ]
  },
  {
   "cell_type": "markdown",
   "metadata": {},
   "source": [
    "### Conclusiones y siguientes pasos"
   ]
  },
  {
   "cell_type": "markdown",
   "metadata": {},
   "source": [
    "Basándonos en los datos iniciales y en el análisis preliminar realizado, se pueden sacar las siguientes conclusiones:\n",
    "\n",
    "\n",
    "**Lo que parece normal:**\n",
    "\n",
    "- La columna \"price\" muestra una variedad de valores que representan los precios de los vehículos.\n",
    "\n",
    "- La columna \"condition\" contiene categorías que describen la condición de los vehículos, como \"good\", \"excellent\", \"fair\", etc.\n",
    "\n",
    "- La columna \"fuel\" contiene información sobre el tipo de combustible utilizado por los vehículos.\n",
    "\n",
    "- La columna \"transmission\" describe el tipo de transmisión de los vehículos.\n",
    "\n",
    "- La columna \"type\" describe la categoría de los vehículos, como \"sedan\", \"SUV\", \"pickup\", etc.\n",
    "\n",
    "- La columna \"date_posted\" representa las fechas en que se publicaron los anuncios.\n",
    "\n",
    "**Lo que parece no tan normal y requiere atención:**\n",
    "\n",
    "- Valores nulos en múltiples columnas, incluyendo \"model_year\", \"cylinders\", \"odometer\", \"paint_color\" y \"is_4wd\", podrían afectar la calidad de los análisis y visualizaciones.\n",
    "\n",
    "- La columna \"model_year\" se muestra como flotante en lugar de entero, y la columna \"date_posted\" se muestra como objeto en lugar de fecha. Estos tipos de datos incorrectos podrían dificultar el análisis.\n",
    "\n",
    "**Pasos a seguir:**\n",
    "\n",
    "1. **Lidiar con los valores nulos**:\n",
    "   - Decidir cómo manejar los valores nulos en las diferentes columnas. Puedes eliminar las filas con valores nulos si representan una proporción pequeña del conjunto de datos o rellenarlos con valores adecuados, como la mediana para variables numéricas y \"Unknown\" para variables categóricas.\n",
    "\n",
    "2. **Corrección de tipos de datos**:\n",
    "   - Convertir la columna \"model_year\" al tipo de dato entero, ya que representa años.\n",
    "   - Convertir la columna \"date_posted\" al tipo de dato fecha para facilitar el análisis temporal.\n",
    "\n",
    "3. **Lidiar con registros de millaje cero**:\n",
    "   - Evaluar si los registros con millaje de cero son válidos o errores en la entrada de datos. Si son errores, se deben corregir o eliminar.\n",
    "\n",
    "4. **Investigar valores constantes en \"is_4wd\"**:\n",
    "   - Investigar por qué la columna \"is_4wd\" tiene valores constantes de 1.0. Si esto es incorrecto, corregir los valores.\n",
    "\n",
    "Una vez que se hayan realizado estos pasos, los datos estarán más adecuados para el análisis requerido. Los cambios también permitirán realizar análisis temporales y de distribución más precisos. Después de limpiar y preparar los datos, podrás realizar análisis detallados sobre el precio de los vehículos en relación con diferentes atributos, tendencias de precios a lo largo del tiempo y otros patrones relevantes en la venta de vehículos."
   ]
  },
  {
   "cell_type": "markdown",
   "metadata": {},
   "source": [
    "<div class=\"alert alert-block alert-success\">\n",
    "    <b>Comentario del revisor</b> <a class=\"tocSkip\"></a>\n",
    "    \n",
    "Te quiero felicitar por el desarrollo de esta primera sección de exploración de los datos, desarrollas un análisis muy completo. Buen trabajo.\n",
    "</div>\n",
    "\n",
    "\n",
    "<div class=\"alert alert-block alert-info\">\n",
    "<b>Respuesta del estudiante</b> <a class=\"tocSkip\"></a>\n",
    "\n",
    "Estoy alegre, aprecio y estoy agradecido de tus correcciones todo el tiempo. Muchísimas gracias, eres sin duda excelente revisor!"
   ]
  },
  {
   "cell_type": "markdown",
   "metadata": {},
   "source": [
    "## Tratar los valores ausentes (si hay)"
   ]
  },
  {
   "cell_type": "markdown",
   "metadata": {},
   "source": [
    "### **Columna model_year:**"
   ]
  },
  {
   "cell_type": "code",
   "execution_count": 7,
   "metadata": {},
   "outputs": [
    {
     "name": "stdout",
     "output_type": "stream",
     "text": [
      "       price  model_year                       model  condition  cylinders  \\\n",
      "1      25500         NaN                  ford f-150       good        6.0   \n",
      "20      6990         NaN             chevrolet tahoe  excellent        8.0   \n",
      "65     12800         NaN                  ford f-150  excellent        6.0   \n",
      "69      7800         NaN                  ford f-150   like new        8.0   \n",
      "72      3650         NaN              subaru impreza  excellent        NaN   \n",
      "...      ...         ...                         ...        ...        ...   \n",
      "51464   8890         NaN        ford f250 super duty       good        8.0   \n",
      "51465  34595         NaN                   gmc yukon  excellent        8.0   \n",
      "51487   1495         NaN                  ford f-150       fair        6.0   \n",
      "51488  21900         NaN  chevrolet silverado 3500hd  excellent        8.0   \n",
      "51508   4950         NaN     chrysler town & country  excellent        6.0   \n",
      "\n",
      "         fuel  odometer transmission      type paint_color  is_4wd  \\\n",
      "1         gas   88705.0    automatic    pickup       white     1.0   \n",
      "20        gas  147485.0    automatic       SUV      silver     1.0   \n",
      "65        gas  108500.0    automatic    pickup       white     NaN   \n",
      "69        gas   97510.0    automatic     truck       white     1.0   \n",
      "72        gas   74000.0    automatic     sedan        blue     1.0   \n",
      "...       ...       ...          ...       ...         ...     ...   \n",
      "51464     gas  135778.0    automatic     truck         red     1.0   \n",
      "51465     gas   86456.0    automatic       SUV      silver     1.0   \n",
      "51487     gas   15804.0       manual     truck       white     1.0   \n",
      "51488  diesel  203000.0    automatic     truck       white     1.0   \n",
      "51508     gas  150000.0    automatic  mini-van      silver     NaN   \n",
      "\n",
      "      date_posted  days_listed  \n",
      "1      2018-10-19           50  \n",
      "20     2018-08-05           28  \n",
      "65     2018-09-23           15  \n",
      "69     2019-02-20           39  \n",
      "72     2018-08-07           60  \n",
      "...           ...          ...  \n",
      "51464  2018-11-28           24  \n",
      "51465  2019-04-18           13  \n",
      "51487  2018-09-18           56  \n",
      "51488  2018-12-27           37  \n",
      "51508  2018-06-30           48  \n",
      "\n",
      "[3619 rows x 13 columns]\n"
     ]
    }
   ],
   "source": [
    "# Ver valores ausentes en la columna \"model_year\"\n",
    "missing_model_year = df[df['model_year'].isnull()]\n",
    "print(missing_model_year)"
   ]
  },
  {
   "cell_type": "markdown",
   "metadata": {},
   "source": [
    "Verificaremos los datos de los vehiculos \"ford f-150\" para tener más fundamentos ante los valores ausentes.\n",
    "\n",
    "Sí se encuentra que el año del modelo es igual, podremos rellenar. En caso de que el mismo modelo exista en diferentes años, consideraremos más opciones:"
   ]
  },
  {
   "cell_type": "code",
   "execution_count": 8,
   "metadata": {},
   "outputs": [
    {
     "name": "stdout",
     "output_type": "stream",
     "text": [
      "       model_year       model\n",
      "1             NaN  ford f-150\n",
      "3          2003.0  ford f-150\n",
      "39         2009.0  ford f-150\n",
      "50         2006.0  ford f-150\n",
      "65            NaN  ford f-150\n",
      "...           ...         ...\n",
      "51403      2013.0  ford f-150\n",
      "51419      2013.0  ford f-150\n",
      "51425      2006.0  ford f-150\n",
      "51434      2007.0  ford f-150\n",
      "51487         NaN  ford f-150\n",
      "\n",
      "[2796 rows x 2 columns]\n"
     ]
    }
   ],
   "source": [
    "ford_f150_rows = df[df['model'] == 'ford f-150'][['model_year', 'model']]\n",
    "print(ford_f150_rows)"
   ]
  },
  {
   "cell_type": "markdown",
   "metadata": {},
   "source": [
    "Observando los valores, son diferentes. Por el hecho de ser vehiculos sería imprudente buscar el promedio, por lo que tomaremos el valor mediano para rellenar los valores, para todos los datos en la columna \"model\":"
   ]
  },
  {
   "cell_type": "code",
   "execution_count": 9,
   "metadata": {},
   "outputs": [
    {
     "name": "stdout",
     "output_type": "stream",
     "text": [
      "       price  model_year           model  condition  cylinders fuel  odometer  \\\n",
      "0       9400      2011.0          bmw x5       good        6.0  gas  145000.0   \n",
      "1      25500      2011.0      ford f-150       good        6.0  gas   88705.0   \n",
      "2       5500      2013.0  hyundai sonata   like new        4.0  gas  110000.0   \n",
      "3       1500      2003.0      ford f-150       fair        8.0  gas       NaN   \n",
      "4      14900      2017.0    chrysler 200  excellent        4.0  gas   80903.0   \n",
      "...      ...         ...             ...        ...        ...  ...       ...   \n",
      "51520   9249      2013.0   nissan maxima   like new        6.0  gas   88136.0   \n",
      "51521   2700      2002.0     honda civic    salvage        4.0  gas  181500.0   \n",
      "51522   3950      2009.0  hyundai sonata  excellent        4.0  gas  128000.0   \n",
      "51523   7455      2013.0  toyota corolla       good        4.0  gas  139573.0   \n",
      "51524   6300      2014.0   nissan altima       good        4.0  gas       NaN   \n",
      "\n",
      "      transmission    type paint_color  is_4wd date_posted  days_listed  \n",
      "0        automatic     SUV         NaN     1.0  2018-06-23           19  \n",
      "1        automatic  pickup       white     1.0  2018-10-19           50  \n",
      "2        automatic   sedan         red     NaN  2019-02-07           79  \n",
      "3        automatic  pickup         NaN     NaN  2019-03-22            9  \n",
      "4        automatic   sedan       black     NaN  2019-04-02           28  \n",
      "...            ...     ...         ...     ...         ...          ...  \n",
      "51520    automatic   sedan       black     NaN  2018-10-03           37  \n",
      "51521    automatic   sedan       white     NaN  2018-11-14           22  \n",
      "51522    automatic   sedan        blue     NaN  2018-11-15           32  \n",
      "51523    automatic   sedan       black     NaN  2018-07-02           71  \n",
      "51524    automatic   sedan         NaN     NaN  2018-06-05           10  \n",
      "\n",
      "[51525 rows x 13 columns]\n"
     ]
    }
   ],
   "source": [
    "# Define una función para rellenar los valores faltantes en \"model_year\" con la mediana\n",
    "def fill_missing_model_year(group):\n",
    "    group['model_year'].fillna(group['model_year'].median(), inplace=True)\n",
    "    return group\n",
    "\n",
    "# Aplica la función a cada grupo basado en el modelo\n",
    "df_filled_model_year = df.groupby('model').apply(fill_missing_model_year)\n",
    "\n",
    "# Imprime el DataFrame resultante con los valores faltantes en \"model_year\" rellenados\n",
    "print(df_filled_model_year)"
   ]
  },
  {
   "cell_type": "markdown",
   "metadata": {},
   "source": [
    "Verificamos que no existan datos nulos en la columna con un info:"
   ]
  },
  {
   "cell_type": "code",
   "execution_count": 10,
   "metadata": {},
   "outputs": [
    {
     "name": "stdout",
     "output_type": "stream",
     "text": [
      "<class 'pandas.core.frame.DataFrame'>\n",
      "RangeIndex: 51525 entries, 0 to 51524\n",
      "Data columns (total 13 columns):\n",
      " #   Column        Non-Null Count  Dtype  \n",
      "---  ------        --------------  -----  \n",
      " 0   price         51525 non-null  int64  \n",
      " 1   model_year    47906 non-null  float64\n",
      " 2   model         51525 non-null  object \n",
      " 3   condition     51525 non-null  object \n",
      " 4   cylinders     46265 non-null  float64\n",
      " 5   fuel          51525 non-null  object \n",
      " 6   odometer      43633 non-null  float64\n",
      " 7   transmission  51525 non-null  object \n",
      " 8   type          51525 non-null  object \n",
      " 9   paint_color   42258 non-null  object \n",
      " 10  is_4wd        25572 non-null  float64\n",
      " 11  date_posted   51525 non-null  object \n",
      " 12  days_listed   51525 non-null  int64  \n",
      "dtypes: float64(4), int64(2), object(7)\n",
      "memory usage: 5.1+ MB\n",
      "None\n"
     ]
    }
   ],
   "source": [
    "print(df.info())"
   ]
  },
  {
   "cell_type": "markdown",
   "metadata": {},
   "source": [
    "Sigue habiendo valores ausentes en la columna por lo que veremos los valores únicos para ver como manejarlos:"
   ]
  },
  {
   "cell_type": "code",
   "execution_count": 11,
   "metadata": {},
   "outputs": [
    {
     "name": "stdout",
     "output_type": "stream",
     "text": [
      "[2011.   nan 2013. 2003. 2017. 2014. 2015. 2012. 2008. 2018. 2009. 2010.\n",
      " 2007. 2004. 2005. 2001. 2006. 1966. 1994. 2019. 2000. 2016. 1993. 1999.\n",
      " 1997. 2002. 1981. 1995. 1996. 1975. 1998. 1985. 1977. 1987. 1974. 1990.\n",
      " 1992. 1991. 1972. 1967. 1988. 1969. 1989. 1978. 1965. 1979. 1968. 1986.\n",
      " 1980. 1964. 1963. 1984. 1982. 1973. 1970. 1955. 1971. 1976. 1983. 1954.\n",
      " 1962. 1948. 1960. 1908. 1961. 1936. 1949. 1958. 1929.]\n"
     ]
    }
   ],
   "source": [
    "unique_model_years = df['model_year'].unique()\n",
    "print(unique_model_years)"
   ]
  },
  {
   "cell_type": "markdown",
   "metadata": {},
   "source": [
    "Después de el tratamiento, todavía hay faltantes en `model_year`. \n",
    "Esto indica que hay algunos modelos de coches en tu conjunto de datos para los cuales todos los valores de `model_year` son nulos, y por lo tanto, no había una mediana para rellenar.\n",
    "\n",
    "Para identificar estos modelos, hacemos:"
   ]
  },
  {
   "cell_type": "code",
   "execution_count": 12,
   "metadata": {},
   "outputs": [
    {
     "name": "stdout",
     "output_type": "stream",
     "text": [
      "['ford f-150' 'chevrolet tahoe' 'subaru impreza' 'hyundai elantra'\n",
      " 'chevrolet colorado' 'nissan frontier crew cab sv'\n",
      " 'chevrolet camaro lt coupe 2d' 'chevrolet silverado 1500' 'toyota camry'\n",
      " 'ford f350 super duty' 'honda cr-v' 'honda accord' 'nissan rogue'\n",
      " 'ford escape' 'toyota 4runner' 'ford fusion' 'kia soul' 'nissan maxima'\n",
      " 'chevrolet camaro' 'ram 2500' 'toyota corolla' 'ford focus se'\n",
      " 'chevrolet corvette' 'ford f-250 sd' 'toyota prius' 'gmc sierra'\n",
      " 'toyota rav4' 'chevrolet impala' 'volkswagen jetta' 'toyota highlander'\n",
      " 'ford f350' 'honda civic' 'dodge grand caravan'\n",
      " 'chevrolet silverado 2500hd' 'jeep cherokee' 'gmc sierra 1500'\n",
      " 'ford focus' 'toyota tundra' 'ford explorer' 'bmw x5' 'ford mustang'\n",
      " 'jeep wrangler' 'gmc sierra 2500hd' 'ford taurus' 'chevrolet equinox'\n",
      " 'ram 1500' 'jeep grand cherokee' 'chevrolet cruze'\n",
      " 'ford mustang gt coupe 2d' 'nissan sentra' 'ford f-350 sd'\n",
      " 'ford f-250 super duty' 'jeep wrangler unlimited' 'dodge charger'\n",
      " 'nissan altima' 'dodge dakota' 'ford edge' 'ford f150'\n",
      " 'chevrolet trailblazer' 'toyota sienna' 'ram 3500' 'hyundai sonata'\n",
      " 'ford f-250' 'kia sorento' 'subaru forester' 'ford f250' 'chrysler 200'\n",
      " 'jeep liberty' 'chevrolet traverse' 'volkswagen passat'\n",
      " 'chevrolet suburban' 'hyundai santa fe' 'chevrolet silverado'\n",
      " 'honda odyssey' 'nissan murano' 'ford expedition' 'ford ranger'\n",
      " 'ford econoline' 'nissan versa' 'toyota tacoma' 'acura tl' 'gmc yukon'\n",
      " 'ford f250 super duty' 'chevrolet silverado 1500 crew' 'honda pilot'\n",
      " 'chevrolet malibu' 'nissan frontier' 'ford f150 supercrew cab xlt'\n",
      " 'mercedes-benz benze sprinter 2500' 'ford fusion se' 'cadillac escalade'\n",
      " 'jeep grand cherokee laredo' 'chevrolet silverado 3500hd'\n",
      " 'subaru outback' 'chrysler 300' 'chrysler town & country'\n",
      " 'honda civic lx' 'buick enclave' 'toyota camry le' 'gmc acadia']\n"
     ]
    }
   ],
   "source": [
    "models_with_all_nan = df[df['model_year'].isnull()]['model'].unique()\n",
    "print(models_with_all_nan)"
   ]
  },
  {
   "cell_type": "markdown",
   "metadata": {},
   "source": [
    "Sin encontrar algo que ayude a tomar una desición ahora, calcularemos el porcentaje de valores nulos en la columna con respecto al Data Frame:"
   ]
  },
  {
   "cell_type": "code",
   "execution_count": 13,
   "metadata": {},
   "outputs": [
    {
     "name": "stdout",
     "output_type": "stream",
     "text": [
      "El porcentaje de valores nulos en 'model_year' es: 7.02%\n"
     ]
    }
   ],
   "source": [
    "# Número total de registros en el dataframe\n",
    "total_rows = len(df)\n",
    "\n",
    "# Número de valores nulos en la columna 'model_year'\n",
    "null_model_year = df['model_year'].isnull().sum()\n",
    "\n",
    "# Cálculo del porcentaje\n",
    "percentage_null = (null_model_year / total_rows) * 100\n",
    "\n",
    "print(f\"El porcentaje de valores nulos en 'model_year' es: {percentage_null:.2f}%\")"
   ]
  },
  {
   "cell_type": "markdown",
   "metadata": {},
   "source": [
    "Consideramos que es un porcentaje bajo por lo que procedemos a eliminar las filas con valores nuloes en la columna \"model_year\":"
   ]
  },
  {
   "cell_type": "code",
   "execution_count": 14,
   "metadata": {},
   "outputs": [
    {
     "name": "stdout",
     "output_type": "stream",
     "text": [
      "<class 'pandas.core.frame.DataFrame'>\n",
      "Int64Index: 47906 entries, 0 to 51524\n",
      "Data columns (total 13 columns):\n",
      " #   Column        Non-Null Count  Dtype  \n",
      "---  ------        --------------  -----  \n",
      " 0   price         47906 non-null  int64  \n",
      " 1   model_year    47906 non-null  float64\n",
      " 2   model         47906 non-null  object \n",
      " 3   condition     47906 non-null  object \n",
      " 4   cylinders     43009 non-null  float64\n",
      " 5   fuel          47906 non-null  object \n",
      " 6   odometer      40563 non-null  float64\n",
      " 7   transmission  47906 non-null  object \n",
      " 8   type          47906 non-null  object \n",
      " 9   paint_color   39291 non-null  object \n",
      " 10  is_4wd        23764 non-null  float64\n",
      " 11  date_posted   47906 non-null  object \n",
      " 12  days_listed   47906 non-null  int64  \n",
      "dtypes: float64(4), int64(2), object(7)\n",
      "memory usage: 5.1+ MB\n",
      "None\n"
     ]
    }
   ],
   "source": [
    "# Eliminar filas con valores nulos en 'model_year'\n",
    "df = df.dropna(subset=['model_year'])\n",
    "\n",
    "# Verificar los cambios\n",
    "print(df.info())"
   ]
  },
  {
   "cell_type": "markdown",
   "metadata": {},
   "source": [
    "La información del DataFrame actualizado muestra que ahora hay 47,906 entradas.\n",
    "Ya no hay valores nulos en la columna model_year, lo cual es lo esperado después de eliminar las filas con valores nulos en esa columna.\n",
    "\n",
    "También podemos notar que hay valores nulos en la columna cylinders. \n",
    "\n",
    "Continuamos con la columna cylinders, para el procesamiento posterior. Abordaremos los valores nulos."
   ]
  },
  {
   "cell_type": "markdown",
   "metadata": {},
   "source": [
    "<div class=\"alert alert-block alert-success\">\n",
    "    <b>Comentario del revisor</b> <a class=\"tocSkip\"></a>\n",
    "    \n",
    "Buen trabajo, tal cual el ideal para el caso de la columna ``model_year`` es poder imputar los nulos con las medianas de la misma variable sujeta a los grupos que se forman condicionados a las categorías de ``model``\n",
    "</div>\n",
    "\n",
    "\n",
    "\n",
    "\n",
    "<div class=\"alert alert-block alert-info\">\n",
    "<b>Respuesta del estudiante</b> <a class=\"tocSkip\"></a>\n",
    "\n",
    "Muchas gracias."
   ]
  },
  {
   "cell_type": "markdown",
   "metadata": {},
   "source": [
    "### **Columna cylinders:**"
   ]
  },
  {
   "cell_type": "code",
   "execution_count": 15,
   "metadata": {},
   "outputs": [
    {
     "name": "stdout",
     "output_type": "stream",
     "text": [
      "       price  model_year              model  condition  cylinders fuel  \\\n",
      "9       9200      2008.0        honda pilot  excellent        NaN  gas   \n",
      "36     10499      2013.0       chrysler 300       good        NaN  gas   \n",
      "37      7500      2005.0      toyota tacoma       good        NaN  gas   \n",
      "59      5200      2006.0  toyota highlander       good        NaN  gas   \n",
      "63     30000      1966.0       ford mustang  excellent        NaN  gas   \n",
      "...      ...         ...                ...        ...        ...  ...   \n",
      "51429   3250      2004.0       toyota camry       good        NaN  gas   \n",
      "51442  28990      2018.0          ford f150  excellent        NaN  gas   \n",
      "51460   5995      2007.0        ford fusion  excellent        NaN  gas   \n",
      "51477   6499      2007.0           acura tl       good        NaN  gas   \n",
      "51486   5895      2009.0   hyundai santa fe  excellent        NaN  gas   \n",
      "\n",
      "       odometer transmission         type paint_color  is_4wd date_posted  \\\n",
      "9      147191.0    automatic          SUV        blue     1.0  2019-02-15   \n",
      "36      88042.0    automatic        sedan         NaN     NaN  2018-05-05   \n",
      "37     160000.0    automatic       pickup         NaN     NaN  2018-07-22   \n",
      "59     186000.0    automatic          SUV       green     NaN  2018-12-20   \n",
      "63      51000.0       manual  convertible         red     NaN  2019-01-23   \n",
      "...         ...          ...          ...         ...     ...         ...   \n",
      "51429  179412.0    automatic        sedan         NaN     NaN  2018-07-02   \n",
      "51442   10152.0    automatic        truck       white     1.0  2018-06-13   \n",
      "51460   88977.0       manual        sedan      silver     NaN  2019-03-27   \n",
      "51477  112119.0    automatic        sedan       white     NaN  2018-06-22   \n",
      "51486       NaN    automatic        other        blue     NaN  2018-06-30   \n",
      "\n",
      "       days_listed  \n",
      "9               17  \n",
      "36              22  \n",
      "37              44  \n",
      "59               2  \n",
      "63              17  \n",
      "...            ...  \n",
      "51429           25  \n",
      "51442           47  \n",
      "51460           66  \n",
      "51477           28  \n",
      "51486           44  \n",
      "\n",
      "[4897 rows x 13 columns]\n"
     ]
    }
   ],
   "source": [
    "# Ver valores ausentes en la columna \"cylinders\"\n",
    "missing_cylinders = df[df['cylinders'].isnull()]\n",
    "print(missing_cylinders)"
   ]
  },
  {
   "cell_type": "markdown",
   "metadata": {},
   "source": [
    "Haciendo una acción similar a la anterior, ahora elegimos \"honda pilot\", para analizar nuestra desición a futuro. Mostraremos todos los datos de \"honda pilot\" y \"cylinders\""
   ]
  },
  {
   "cell_type": "code",
   "execution_count": 16,
   "metadata": {},
   "outputs": [
    {
     "name": "stdout",
     "output_type": "stream",
     "text": [
      "       model_year  cylinders\n",
      "7          2013.0        6.0\n",
      "9          2008.0        NaN\n",
      "93         2017.0        6.0\n",
      "343        2005.0        6.0\n",
      "598        2011.0        6.0\n",
      "...           ...        ...\n",
      "50448      2003.0        4.0\n",
      "50471      2004.0        NaN\n",
      "50487      2013.0        6.0\n",
      "50708      2009.0        6.0\n",
      "51416      2005.0        6.0\n",
      "\n",
      "[286 rows x 2 columns]\n"
     ]
    }
   ],
   "source": [
    "# Filtrar filas con el modelo \"honda pilot\" y seleccionar las columnas \"model_year\" y \"cylinders\"\n",
    "honda_pilot_rows = df[df['model'] == 'honda pilot'][['model_year', 'cylinders']]\n",
    "print(honda_pilot_rows)"
   ]
  },
  {
   "cell_type": "markdown",
   "metadata": {},
   "source": [
    "Tras observar que el número de \"cylinders\" no se ve afectado en relacion con la columna \"model_year\" es posible rellenar todos los \"NaN\" con \"6.0\" para los \"honda pilot\".\n",
    "\n",
    "Para ser más prácticos, buscaremos la mediana posible por cada modelo, econtrada la usaremos para rellenar todos los valores NaN:"
   ]
  },
  {
   "cell_type": "code",
   "execution_count": 17,
   "metadata": {},
   "outputs": [
    {
     "name": "stdout",
     "output_type": "stream",
     "text": [
      "       price  model_year           model  condition  cylinders fuel  odometer  \\\n",
      "0       9400      2011.0          bmw x5       good        6.0  gas  145000.0   \n",
      "2       5500      2013.0  hyundai sonata   like new        4.0  gas  110000.0   \n",
      "3       1500      2003.0      ford f-150       fair        8.0  gas       NaN   \n",
      "4      14900      2017.0    chrysler 200  excellent        4.0  gas   80903.0   \n",
      "5      14990      2014.0    chrysler 300  excellent        6.0  gas   57954.0   \n",
      "...      ...         ...             ...        ...        ...  ...       ...   \n",
      "51520   9249      2013.0   nissan maxima   like new        6.0  gas   88136.0   \n",
      "51521   2700      2002.0     honda civic    salvage        4.0  gas  181500.0   \n",
      "51522   3950      2009.0  hyundai sonata  excellent        4.0  gas  128000.0   \n",
      "51523   7455      2013.0  toyota corolla       good        4.0  gas  139573.0   \n",
      "51524   6300      2014.0   nissan altima       good        4.0  gas       NaN   \n",
      "\n",
      "      transmission    type paint_color  is_4wd date_posted  days_listed  \n",
      "0        automatic     SUV         NaN     1.0  2018-06-23           19  \n",
      "2        automatic   sedan         red     NaN  2019-02-07           79  \n",
      "3        automatic  pickup         NaN     NaN  2019-03-22            9  \n",
      "4        automatic   sedan       black     NaN  2019-04-02           28  \n",
      "5        automatic   sedan       black     1.0  2018-06-20           15  \n",
      "...            ...     ...         ...     ...         ...          ...  \n",
      "51520    automatic   sedan       black     NaN  2018-10-03           37  \n",
      "51521    automatic   sedan       white     NaN  2018-11-14           22  \n",
      "51522    automatic   sedan        blue     NaN  2018-11-15           32  \n",
      "51523    automatic   sedan       black     NaN  2018-07-02           71  \n",
      "51524    automatic   sedan         NaN     NaN  2018-06-05           10  \n",
      "\n",
      "[47906 rows x 13 columns]\n"
     ]
    }
   ],
   "source": [
    "# Define una función para rellenar los valores faltantes dentro de cada grupo\n",
    "def fill_missing_cylinders(group):\n",
    "    group['cylinders'].fillna(group['cylinders'].median(), inplace=True)\n",
    "    return group\n",
    "\n",
    "# Aplica la función a cada grupo basado en el modelo del vehículo\n",
    "df_filled = df.groupby('model').apply(fill_missing_cylinders)\n",
    "\n",
    "# Imprime el DataFrame resultante con los valores faltantes en \"cylinders\" rellenados\n",
    "print(df_filled)"
   ]
  },
  {
   "cell_type": "code",
   "execution_count": 18,
   "metadata": {},
   "outputs": [
    {
     "name": "stdout",
     "output_type": "stream",
     "text": [
      "<class 'pandas.core.frame.DataFrame'>\n",
      "Int64Index: 47906 entries, 0 to 51524\n",
      "Data columns (total 13 columns):\n",
      " #   Column        Non-Null Count  Dtype  \n",
      "---  ------        --------------  -----  \n",
      " 0   price         47906 non-null  int64  \n",
      " 1   model_year    47906 non-null  float64\n",
      " 2   model         47906 non-null  object \n",
      " 3   condition     47906 non-null  object \n",
      " 4   cylinders     43009 non-null  float64\n",
      " 5   fuel          47906 non-null  object \n",
      " 6   odometer      40563 non-null  float64\n",
      " 7   transmission  47906 non-null  object \n",
      " 8   type          47906 non-null  object \n",
      " 9   paint_color   39291 non-null  object \n",
      " 10  is_4wd        23764 non-null  float64\n",
      " 11  date_posted   47906 non-null  object \n",
      " 12  days_listed   47906 non-null  int64  \n",
      "dtypes: float64(4), int64(2), object(7)\n",
      "memory usage: 5.1+ MB\n",
      "None\n"
     ]
    }
   ],
   "source": [
    "# Verificar los cambios\n",
    "print(df.info())"
   ]
  },
  {
   "cell_type": "markdown",
   "metadata": {},
   "source": [
    "Hemos rellenado los valores ausentes con la mediana que corresponde a cada modelo, por lo que tomamos la desición de eliminar las filas con valores ausentes en cylinders:"
   ]
  },
  {
   "cell_type": "code",
   "execution_count": 19,
   "metadata": {},
   "outputs": [],
   "source": [
    "df = df.dropna(subset=['cylinders'])"
   ]
  },
  {
   "cell_type": "markdown",
   "metadata": {},
   "source": [
    "Verificamos la información del DataFrame después de esta operación:"
   ]
  },
  {
   "cell_type": "code",
   "execution_count": 20,
   "metadata": {},
   "outputs": [
    {
     "name": "stdout",
     "output_type": "stream",
     "text": [
      "<class 'pandas.core.frame.DataFrame'>\n",
      "Int64Index: 43009 entries, 0 to 51524\n",
      "Data columns (total 13 columns):\n",
      " #   Column        Non-Null Count  Dtype  \n",
      "---  ------        --------------  -----  \n",
      " 0   price         43009 non-null  int64  \n",
      " 1   model_year    43009 non-null  float64\n",
      " 2   model         43009 non-null  object \n",
      " 3   condition     43009 non-null  object \n",
      " 4   cylinders     43009 non-null  float64\n",
      " 5   fuel          43009 non-null  object \n",
      " 6   odometer      36419 non-null  float64\n",
      " 7   transmission  43009 non-null  object \n",
      " 8   type          43009 non-null  object \n",
      " 9   paint_color   35293 non-null  object \n",
      " 10  is_4wd        21370 non-null  float64\n",
      " 11  date_posted   43009 non-null  object \n",
      " 12  days_listed   43009 non-null  int64  \n",
      "dtypes: float64(4), int64(2), object(7)\n",
      "memory usage: 4.6+ MB\n",
      "None\n"
     ]
    }
   ],
   "source": [
    "print(df.info())"
   ]
  },
  {
   "cell_type": "markdown",
   "metadata": {},
   "source": [
    "<div class=\"alert alert-block alert-success\">\n",
    "<b>Comentario del revisor</b> <a class=\"tocSkip\"></a>\n",
    "    \n",
    "Buen trabajo, tal cual el ideal para el caso de la columna ``cylinders`` es poder imputar los nulos con las medianas de la misma variable sujeta a los grupos que se forman condicionados a las categorías de ``model``\n",
    "</div>\n",
    "\n",
    "\n",
    "<div class=\"alert alert-block alert-info\">\n",
    "<b>Respuesta del estudiante</b> <a class=\"tocSkip\"></a>\n",
    "\n",
    "Muchas gracias."
   ]
  },
  {
   "cell_type": "markdown",
   "metadata": {},
   "source": [
    "Vemos que el proceso va bien, la siguiente columna a tratar es \"odometer\"."
   ]
  },
  {
   "cell_type": "markdown",
   "metadata": {},
   "source": [
    "### **Columna odometer:**"
   ]
  },
  {
   "cell_type": "markdown",
   "metadata": {},
   "source": [
    "Aquí el código, ahora para filtrar y ver los NaN en la columna \"odometer\"."
   ]
  },
  {
   "cell_type": "code",
   "execution_count": 21,
   "metadata": {},
   "outputs": [
    {
     "name": "stdout",
     "output_type": "stream",
     "text": [
      "       price  model_year                model  condition  cylinders fuel  \\\n",
      "3       1500      2003.0           ford f-150       fair        8.0  gas   \n",
      "15     17990      2013.0             ram 1500  excellent        8.0  gas   \n",
      "23      7500      2004.0        jeep wrangler       good        6.0  gas   \n",
      "24      3950      2009.0         chrysler 200  excellent        4.0  gas   \n",
      "25     11499      2017.0     chevrolet malibu   like new        4.0  gas   \n",
      "...      ...         ...                  ...        ...        ...  ...   \n",
      "51498  15900      2011.0      gmc sierra 1500  excellent        8.0  gas   \n",
      "51507  29500      2012.0        toyota tundra       good        8.0  gas   \n",
      "51516   8999      2011.0  jeep grand cherokee       good        6.0  gas   \n",
      "51519  11750      2015.0         honda accord  excellent        4.0  gas   \n",
      "51524   6300      2014.0        nissan altima       good        4.0  gas   \n",
      "\n",
      "       odometer transmission    type paint_color  is_4wd date_posted  \\\n",
      "3           NaN    automatic  pickup         NaN     NaN  2019-03-22   \n",
      "15          NaN    automatic  pickup         red     1.0  2018-05-15   \n",
      "23          NaN    automatic     SUV         red     1.0  2018-05-17   \n",
      "24          NaN    automatic   sedan         red     NaN  2018-06-11   \n",
      "25          NaN    automatic   sedan         NaN     NaN  2018-07-26   \n",
      "...         ...          ...     ...         ...     ...         ...   \n",
      "51498       NaN    automatic   truck         NaN     1.0  2019-01-25   \n",
      "51507       NaN    automatic  pickup        grey     1.0  2018-05-01   \n",
      "51516       NaN    automatic     SUV       white     1.0  2018-11-01   \n",
      "51519       NaN    automatic   coupe         NaN     NaN  2018-11-24   \n",
      "51524       NaN    automatic   sedan         NaN     NaN  2018-06-05   \n",
      "\n",
      "       days_listed  \n",
      "3                9  \n",
      "15             111  \n",
      "23              39  \n",
      "24              40  \n",
      "25              43  \n",
      "...            ...  \n",
      "51498           69  \n",
      "51507           31  \n",
      "51516           51  \n",
      "51519           89  \n",
      "51524           10  \n",
      "\n",
      "[7343 rows x 13 columns]\n"
     ]
    }
   ],
   "source": [
    "# Filtrar y mostrar las filas con valores ausentes en la columna \"odometer\"\n",
    "missing_odometer_rows = df_filled[df_filled['odometer'].isnull()]\n",
    "\n",
    "print(missing_odometer_rows)"
   ]
  },
  {
   "cell_type": "markdown",
   "metadata": {},
   "source": [
    "Ahora usaremos unique, para ver los datos unicos."
   ]
  },
  {
   "cell_type": "code",
   "execution_count": 22,
   "metadata": {},
   "outputs": [
    {
     "name": "stdout",
     "output_type": "stream",
     "text": [
      "[145000. 110000.     nan ... 121778. 181500. 139573.]\n"
     ]
    }
   ],
   "source": [
    "unique_odometer_values = df['odometer'].unique()\n",
    "print(unique_odometer_values)"
   ]
  },
  {
   "cell_type": "markdown",
   "metadata": {},
   "source": [
    "Procedemos con una imputación basada en la mediana del odómetro para cada categoría de \"condition\". \n",
    "Esta estrategia es una buena idea porque podría ofrecer una estimación más precisa al asumir que vehículos en la misma condición tendrán, en promedio, millajes similares.\n",
    "\n",
    "A continuación, se explica y desglosa el código línea por línea:"
   ]
  },
  {
   "cell_type": "markdown",
   "metadata": {},
   "source": [
    "Calcular la mediana del odómetro para cada categoría de \"condition\":"
   ]
  },
  {
   "cell_type": "code",
   "execution_count": 23,
   "metadata": {},
   "outputs": [
    {
     "name": "stdout",
     "output_type": "stream",
     "text": [
      "condition\n",
      "excellent    104000.0\n",
      "fair         180800.0\n",
      "good         129000.0\n",
      "like new      72000.0\n",
      "new            3396.0\n",
      "salvage      147000.0\n",
      "Name: odometer, dtype: float64\n"
     ]
    }
   ],
   "source": [
    "medians_odometer_by_condition = df.groupby('condition')['odometer'].median()\n",
    "print(medians_odometer_by_condition)"
   ]
  },
  {
   "cell_type": "markdown",
   "metadata": {},
   "source": [
    "Esta línea agrupa el DataFrame por la columna 'condition' y calcula la mediana del odómetro para cada categoría.\n",
    "\n",
    "Por lo que rellenamos los valores NaN en 'odometer' con las medianas basadas en la condición:"
   ]
  },
  {
   "cell_type": "code",
   "execution_count": 24,
   "metadata": {},
   "outputs": [],
   "source": [
    "for condition, median_value in medians_odometer_by_condition.items():\n",
    "    filter_condition = (df['condition'] == condition) & (df['odometer'].isnull())\n",
    "    df.loc[filter_condition, 'odometer'] = median_value"
   ]
  },
  {
   "cell_type": "markdown",
   "metadata": {},
   "source": [
    "Este fragmento de código utiliza un bucle para iterar sobre cada categoría de 'condition' y su mediana asociada del odómetro. Dentro del bucle, se crea un filtro que identifica las filas que tienen esa condición específica y un valor NaN en 'odometer'. Luego, df.loc se utiliza para reemplazar estos NaN con la mediana correspondiente.\n",
    "\n",
    "Con este código, reemplazamos todos los valores NaN en la columna 'odometer' con la mediana del odómetro correspondiente a la categoría de 'condition' de esa fila."
   ]
  },
  {
   "cell_type": "markdown",
   "metadata": {},
   "source": [
    "Ahora ussamos un info para verificar los cambios:"
   ]
  },
  {
   "cell_type": "code",
   "execution_count": 25,
   "metadata": {},
   "outputs": [
    {
     "name": "stdout",
     "output_type": "stream",
     "text": [
      "<class 'pandas.core.frame.DataFrame'>\n",
      "Int64Index: 43009 entries, 0 to 51524\n",
      "Data columns (total 13 columns):\n",
      " #   Column        Non-Null Count  Dtype  \n",
      "---  ------        --------------  -----  \n",
      " 0   price         43009 non-null  int64  \n",
      " 1   model_year    43009 non-null  float64\n",
      " 2   model         43009 non-null  object \n",
      " 3   condition     43009 non-null  object \n",
      " 4   cylinders     43009 non-null  float64\n",
      " 5   fuel          43009 non-null  object \n",
      " 6   odometer      43009 non-null  float64\n",
      " 7   transmission  43009 non-null  object \n",
      " 8   type          43009 non-null  object \n",
      " 9   paint_color   35293 non-null  object \n",
      " 10  is_4wd        21370 non-null  float64\n",
      " 11  date_posted   43009 non-null  object \n",
      " 12  days_listed   43009 non-null  int64  \n",
      "dtypes: float64(4), int64(2), object(7)\n",
      "memory usage: 4.6+ MB\n",
      "None\n"
     ]
    }
   ],
   "source": [
    "print(df.info())"
   ]
  },
  {
   "cell_type": "markdown",
   "metadata": {},
   "source": [
    "De acuerdo con la salida:\n",
    "\n",
    "\n",
    "El hecho de que vehículos \"nuevos\" tengan una mediana de odómetro de solo 3,396 millas tiene sentido, mientras que vehículos en condiciones \"fair\" o \"salvage\" tienden a tener un millaje más alto.\n",
    "\n",
    "\n",
    "Vehículos en condición \"excellent\" tienen una mediana de odómetro de 104,000 millas.\n",
    "\n",
    "Vehículos en condición \"fair\" tienen una mediana de odómetro de 180,800 millas.\n",
    "\n",
    "Vehículos en condición \"good\" tienen una mediana de odómetro de 129,000 millas.\n",
    "\n",
    "Vehículos en condición \"like new\" tienen una mediana de odómetro de 72,000 millas.\n",
    "\n",
    "Vehículos en condición \"new\" tienen una mediana de odómetro de 3,396 millas.\n",
    "\n",
    "Vehículos en condición \"salvage\" tienen una mediana de odómetro de 147,000 millas.\n",
    "\n",
    "\n",
    "Esto proporciona una aproximación más matizada que simplemente usar una mediana global o un promedio para toda la columna. \n",
    "\n",
    "El resumen del DataFrame (info()) muestra que ahora no hay valores nulos en la columna odometer, lo cual es exactamente lo que esperábamos."
   ]
  },
  {
   "cell_type": "markdown",
   "metadata": {},
   "source": [
    "Se considera finalizados los cambios y tratamiento, por lo que continuamos con la columna \"paint_color\"."
   ]
  },
  {
   "cell_type": "markdown",
   "metadata": {},
   "source": [
    "\n",
    "<div class=\"alert alert-block alert-info\">\n",
    "<b>Respuesta del estudiante</b> <a class=\"tocSkip\"></a>\n",
    "\n",
    "Muchas gracias y espero haberlo hecho bien.\n",
    "</div>\n",
    "\n",
    "<div class=\"alert alert-block alert-success\">\n",
    "    <b>Comentario del revisor #2</b> <a class=\"tocSkip\"></a>\n",
    "    \n",
    "Buen trabajo Jesus.\n",
    "</div>\n"
   ]
  },
  {
   "cell_type": "markdown",
   "metadata": {},
   "source": [
    "### **Columna paint_color:**"
   ]
  },
  {
   "cell_type": "markdown",
   "metadata": {},
   "source": [
    "Ahora el siguiente código para filtrar y ver las filas que tienen valores nulos (NaN) en la columna \"paint_color\":"
   ]
  },
  {
   "cell_type": "code",
   "execution_count": 26,
   "metadata": {},
   "outputs": [
    {
     "name": "stdout",
     "output_type": "stream",
     "text": [
      "       price  model_year                        model  condition  cylinders  \\\n",
      "0       9400      2011.0                       bmw x5       good        6.0   \n",
      "3       1500      2003.0                   ford f-150       fair        8.0   \n",
      "8      11500      2012.0                  kia sorento  excellent        4.0   \n",
      "12     18990      2012.0                     ram 1500  excellent        8.0   \n",
      "21      5250      2007.0                  toyota rav4       good        6.0   \n",
      "...      ...         ...                          ...        ...        ...   \n",
      "51502   7995      2011.0            chevrolet equinox   like new        4.0   \n",
      "51503   6595      2011.0             chevrolet malibu  excellent        4.0   \n",
      "51506  28900      2017.0  ford f150 supercrew cab xlt       good        6.0   \n",
      "51519  11750      2015.0                 honda accord  excellent        4.0   \n",
      "51524   6300      2014.0                nissan altima       good        4.0   \n",
      "\n",
      "      fuel  odometer transmission    type paint_color  is_4wd date_posted  \\\n",
      "0      gas  145000.0    automatic     SUV         NaN     1.0  2018-06-23   \n",
      "3      gas  180800.0    automatic  pickup         NaN     NaN  2019-03-22   \n",
      "8      gas  104174.0    automatic     SUV         NaN     1.0  2018-07-16   \n",
      "12     gas  140742.0    automatic  pickup         NaN     1.0  2019-04-02   \n",
      "21     gas  154000.0    automatic     SUV         NaN     NaN  2018-08-22   \n",
      "...    ...       ...          ...     ...         ...     ...         ...   \n",
      "51502  gas  111088.0    automatic     SUV         NaN     NaN  2019-04-01   \n",
      "51503  gas  100780.0    automatic   sedan         NaN     NaN  2019-02-27   \n",
      "51506  gas   49225.0    automatic  pickup         NaN     1.0  2019-04-11   \n",
      "51519  gas  104000.0    automatic   coupe         NaN     NaN  2018-11-24   \n",
      "51524  gas  129000.0    automatic   sedan         NaN     NaN  2018-06-05   \n",
      "\n",
      "       days_listed  \n",
      "0               19  \n",
      "3                9  \n",
      "8               19  \n",
      "12              37  \n",
      "21               8  \n",
      "...            ...  \n",
      "51502          175  \n",
      "51503           73  \n",
      "51506           25  \n",
      "51519           89  \n",
      "51524           10  \n",
      "\n",
      "[7716 rows x 13 columns]\n"
     ]
    }
   ],
   "source": [
    "null_paint_color_rows = df[df['paint_color'].isnull()]\n",
    "print(null_paint_color_rows)"
   ]
  },
  {
   "cell_type": "markdown",
   "metadata": {},
   "source": [
    "Usaremos un valor como \"desconocido\" o \"no especificado\" en lugar de la moda, sus ventajas:"
   ]
  },
  {
   "cell_type": "markdown",
   "metadata": {},
   "source": [
    "Transparencia: \n",
    "Al usar \"desconocido\", estás siendo claro acerca del hecho de que ese dato no estaba originalmente en el dataset y no estamos seguro de su valor real.\n",
    "\n",
    "Evita Sesgos: \n",
    "Si simplemente reemplazamos con la moda, podriamos estar introduciendo un sesgo en los datos. Entonces estaríamos oscureciendo relaciones.\n",
    "\n",
    "Análisis Posterior: \n",
    "Al tener una categoría de \"desconocido\", podemos fácilmente filtrar o excluir esos registros en futuros análisis si lo consideramos necesario."
   ]
  },
  {
   "cell_type": "markdown",
   "metadata": {},
   "source": [
    "Para reemplazar los valores nulos con \"desconocido\", hacemos lo siguiente:"
   ]
  },
  {
   "cell_type": "code",
   "execution_count": 27,
   "metadata": {},
   "outputs": [],
   "source": [
    "df['paint_color'].fillna('desconocido', inplace=True)"
   ]
  },
  {
   "cell_type": "markdown",
   "metadata": {},
   "source": [
    "Verificamos cuántos registros tienen el valor \"desconocido\", podemos hacer:"
   ]
  },
  {
   "cell_type": "code",
   "execution_count": 28,
   "metadata": {},
   "outputs": [
    {
     "name": "stdout",
     "output_type": "stream",
     "text": [
      "7716\n"
     ]
    }
   ],
   "source": [
    "print(df[df['paint_color'] == 'desconocido'].shape[0])"
   ]
  },
  {
   "cell_type": "markdown",
   "metadata": {},
   "source": [
    "También verificamos con un info:"
   ]
  },
  {
   "cell_type": "code",
   "execution_count": 29,
   "metadata": {},
   "outputs": [
    {
     "name": "stdout",
     "output_type": "stream",
     "text": [
      "<class 'pandas.core.frame.DataFrame'>\n",
      "Int64Index: 43009 entries, 0 to 51524\n",
      "Data columns (total 13 columns):\n",
      " #   Column        Non-Null Count  Dtype  \n",
      "---  ------        --------------  -----  \n",
      " 0   price         43009 non-null  int64  \n",
      " 1   model_year    43009 non-null  float64\n",
      " 2   model         43009 non-null  object \n",
      " 3   condition     43009 non-null  object \n",
      " 4   cylinders     43009 non-null  float64\n",
      " 5   fuel          43009 non-null  object \n",
      " 6   odometer      43009 non-null  float64\n",
      " 7   transmission  43009 non-null  object \n",
      " 8   type          43009 non-null  object \n",
      " 9   paint_color   43009 non-null  object \n",
      " 10  is_4wd        21370 non-null  float64\n",
      " 11  date_posted   43009 non-null  object \n",
      " 12  days_listed   43009 non-null  int64  \n",
      "dtypes: float64(4), int64(2), object(7)\n",
      "memory usage: 4.6+ MB\n",
      "None\n"
     ]
    }
   ],
   "source": [
    "print(df.info())"
   ]
  },
  {
   "cell_type": "markdown",
   "metadata": {},
   "source": [
    "Perfecto, hemos reemplazado los valores nulos de la columna paint_color con \"desconocido\", y ahora tenemos 7,716 registros con ese valor."
   ]
  },
  {
   "cell_type": "markdown",
   "metadata": {},
   "source": [
    "Vemos 21370  en la columna: is_4wd, ahora procedemos a tratar sus valores ausentes."
   ]
  },
  {
   "cell_type": "markdown",
   "metadata": {},
   "source": [
    "\n",
    "<div class=\"alert alert-block alert-info\">\n",
    "<b>Respuesta del estudiante</b> <a class=\"tocSkip\"></a>\n",
    "\n",
    "Hecho. Muchas gracias.\n",
    "</div>\n",
    "\n",
    "\n",
    "<div class=\"alert alert-block alert-success\">\n",
    "    <b>Comentario del revisor #2</b> <a class=\"tocSkip\"></a>\n",
    "    \n",
    "Buen trabajo Jesus.\n",
    "</div>\n"
   ]
  },
  {
   "cell_type": "markdown",
   "metadata": {},
   "source": [
    "### **Columna is_4wd:**"
   ]
  },
  {
   "cell_type": "markdown",
   "metadata": {},
   "source": [
    "Para filtrar y ver las filas con valores nulos en la columna `is_4wd`, usaremos el método `isnull()` junto con el operador de filtrado. Aquí el código:"
   ]
  },
  {
   "cell_type": "code",
   "execution_count": 30,
   "metadata": {},
   "outputs": [
    {
     "name": "stdout",
     "output_type": "stream",
     "text": [
      "       price  model_year           model  condition  cylinders fuel  odometer  \\\n",
      "2       5500      2013.0  hyundai sonata   like new        4.0  gas  110000.0   \n",
      "3       1500      2003.0      ford f-150       fair        8.0  gas  180800.0   \n",
      "4      14900      2017.0    chrysler 200  excellent        4.0  gas   80903.0   \n",
      "6      12990      2015.0    toyota camry  excellent        4.0  gas   79212.0   \n",
      "11      8990      2012.0    honda accord  excellent        4.0  gas  111142.0   \n",
      "...      ...         ...             ...        ...        ...  ...       ...   \n",
      "51520   9249      2013.0   nissan maxima   like new        6.0  gas   88136.0   \n",
      "51521   2700      2002.0     honda civic    salvage        4.0  gas  181500.0   \n",
      "51522   3950      2009.0  hyundai sonata  excellent        4.0  gas  128000.0   \n",
      "51523   7455      2013.0  toyota corolla       good        4.0  gas  139573.0   \n",
      "51524   6300      2014.0   nissan altima       good        4.0  gas  129000.0   \n",
      "\n",
      "      transmission    type  paint_color  is_4wd date_posted  days_listed  \n",
      "2        automatic   sedan          red     NaN  2019-02-07           79  \n",
      "3        automatic  pickup  desconocido     NaN  2019-03-22            9  \n",
      "4        automatic   sedan        black     NaN  2019-04-02           28  \n",
      "6        automatic   sedan        white     NaN  2018-12-27           73  \n",
      "11       automatic   sedan         grey     NaN  2019-03-28           29  \n",
      "...            ...     ...          ...     ...         ...          ...  \n",
      "51520    automatic   sedan        black     NaN  2018-10-03           37  \n",
      "51521    automatic   sedan        white     NaN  2018-11-14           22  \n",
      "51522    automatic   sedan         blue     NaN  2018-11-15           32  \n",
      "51523    automatic   sedan        black     NaN  2018-07-02           71  \n",
      "51524    automatic   sedan  desconocido     NaN  2018-06-05           10  \n",
      "\n",
      "[21639 rows x 13 columns]\n"
     ]
    }
   ],
   "source": [
    "# Filtrar y mostrar las filas con valores NaN en la columna 'is_4wd'\n",
    "df_is_4wd_nan = df[df['is_4wd'].isnull()]\n",
    "print(df_is_4wd_nan)"
   ]
  },
  {
   "cell_type": "markdown",
   "metadata": {},
   "source": [
    "Con el conocimiento de que los vehículos pueden ser del mismo modelo, y al mismo tiempo tener o carecer de la característica.\n",
    "\n",
    "Decidimos que queremos rellenar estos valores nulos con 0 (lo que sería una suposición lógica si asumimos que NaN significa que el vehículo no es 4WD), lo hacemos con el siguiente código:"
   ]
  },
  {
   "cell_type": "code",
   "execution_count": 31,
   "metadata": {},
   "outputs": [],
   "source": [
    "df['is_4wd'].fillna(0, inplace=True)"
   ]
  },
  {
   "cell_type": "markdown",
   "metadata": {},
   "source": [
    "Cómo ésta es la última columna que debemos tratar los valores ausentes, usaremos un info en el Data Frame:"
   ]
  },
  {
   "cell_type": "code",
   "execution_count": 32,
   "metadata": {
    "scrolled": true
   },
   "outputs": [
    {
     "name": "stdout",
     "output_type": "stream",
     "text": [
      "<class 'pandas.core.frame.DataFrame'>\n",
      "Int64Index: 43009 entries, 0 to 51524\n",
      "Data columns (total 13 columns):\n",
      " #   Column        Non-Null Count  Dtype  \n",
      "---  ------        --------------  -----  \n",
      " 0   price         43009 non-null  int64  \n",
      " 1   model_year    43009 non-null  float64\n",
      " 2   model         43009 non-null  object \n",
      " 3   condition     43009 non-null  object \n",
      " 4   cylinders     43009 non-null  float64\n",
      " 5   fuel          43009 non-null  object \n",
      " 6   odometer      43009 non-null  float64\n",
      " 7   transmission  43009 non-null  object \n",
      " 8   type          43009 non-null  object \n",
      " 9   paint_color   43009 non-null  object \n",
      " 10  is_4wd        43009 non-null  float64\n",
      " 11  date_posted   43009 non-null  object \n",
      " 12  days_listed   43009 non-null  int64  \n",
      "dtypes: float64(4), int64(2), object(7)\n",
      "memory usage: 4.6+ MB\n",
      "None\n"
     ]
    }
   ],
   "source": [
    "print(df.info())"
   ]
  },
  {
   "cell_type": "markdown",
   "metadata": {},
   "source": [
    "<div class=\"alert alert-block alert-success\">\n",
    "    <b>Comentario del revisor</b> <a class=\"tocSkip\"></a>\n",
    "    \n",
    "Buen trabajo.\n",
    "</div>\n",
    "\n",
    "\n",
    "<div class=\"alert alert-block alert-info\">\n",
    "<b>Respuesta del estudiante</b> <a class=\"tocSkip\"></a>\n",
    "\n",
    "Muchas gracias."
   ]
  },
  {
   "cell_type": "markdown",
   "metadata": {},
   "source": [
    "## Corregir los tipos de datos"
   ]
  },
  {
   "cell_type": "markdown",
   "metadata": {},
   "source": [
    "### **Columna model_year:**"
   ]
  },
  {
   "cell_type": "markdown",
   "metadata": {},
   "source": [
    "Basándonos en la información, corregiremos lo siguiente, convertirlo de float64 a int64 ya que un año es un número entero:"
   ]
  },
  {
   "cell_type": "code",
   "execution_count": 33,
   "metadata": {},
   "outputs": [],
   "source": [
    "df['model_year'] = df['model_year'].astype(int)"
   ]
  },
  {
   "cell_type": "markdown",
   "metadata": {},
   "source": [
    "Tratar años como números enteros facilita el análisis y es más natural. Por ejemplo, el año 2011.5 no tiene un significado práctico."
   ]
  },
  {
   "cell_type": "markdown",
   "metadata": {},
   "source": [
    "<div class=\"alert alert-block alert-success\">\n",
    "    <b>Comentario del revisor</b> <a class=\"tocSkip\"></a>\n",
    "    \n",
    "Buen trabajo.\n",
    "</div>\n",
    "\n",
    "\n",
    "<div class=\"alert alert-block alert-info\">\n",
    "<b>Respuesta del estudiante</b> <a class=\"tocSkip\"></a>\n",
    "\n",
    "Muchas gracias."
   ]
  },
  {
   "cell_type": "markdown",
   "metadata": {},
   "source": [
    "### **Columna cylinders:**"
   ]
  },
  {
   "cell_type": "markdown",
   "metadata": {},
   "source": [
    "Podemos convertirlo de float64 a int64 porque el número de cilindros de un vehículo es un valor entero. Los autos no tienen un número fraccional de cilindros."
   ]
  },
  {
   "cell_type": "code",
   "execution_count": 34,
   "metadata": {},
   "outputs": [],
   "source": [
    "df['cylinders'] = df['cylinders'].astype(int)"
   ]
  },
  {
   "cell_type": "markdown",
   "metadata": {},
   "source": [
    "Al igual que con el año del modelo, no tiene sentido tener un número decimal de cilindros en un vehículo."
   ]
  },
  {
   "cell_type": "markdown",
   "metadata": {},
   "source": [
    "<div class=\"alert alert-block alert-success\">\n",
    "    <b>Comentario del revisor</b> <a class=\"tocSkip\"></a>\n",
    "    \n",
    "Buen trabajo.\n",
    "</div>\n",
    "\n",
    "\n",
    "<div class=\"alert alert-block alert-info\">\n",
    "<b>Respuesta del estudiante</b> <a class=\"tocSkip\"></a>\n",
    "\n",
    "Muchas gracias."
   ]
  },
  {
   "cell_type": "markdown",
   "metadata": {},
   "source": [
    "### **Columna is_4wd:**"
   ]
  },
  {
   "cell_type": "markdown",
   "metadata": {},
   "source": [
    "Lo que tiene sentido es convertir esta columna a un tipo de dato booleano. \n",
    "De esta manera, 1 (o Verdadero) representaría que el vehículo tiene tracción en las cuatro ruedas, y 0 (o Falso) que no la tiene.\n",
    "\n",
    "Hagamos ese cambio:"
   ]
  },
  {
   "cell_type": "code",
   "execution_count": 35,
   "metadata": {},
   "outputs": [],
   "source": [
    "df['is_4wd'] = df['is_4wd'].astype(bool)"
   ]
  },
  {
   "cell_type": "markdown",
   "metadata": {},
   "source": [
    "Con esta conversión, la columna is_4wd ahora tendrá valores de True para vehículos con tracción en las cuatro ruedas y False para aquellos que no la tienen. \n",
    "\n",
    "Esta representación no solo es más eficiente en términos de memoria, sino que también es más intuitiva."
   ]
  },
  {
   "cell_type": "markdown",
   "metadata": {},
   "source": [
    "\n",
    "<div class=\"alert alert-block alert-info\">\n",
    "<b>Respuesta del estudiante</b> <a class=\"tocSkip\"></a>\n",
    "\n",
    "Muchas gracias.\n",
    "</div>\n",
    "\n",
    "\n",
    "<div class=\"alert alert-block alert-success\">\n",
    "    <b>Comentario del revisor #2</b> <a class=\"tocSkip\"></a>\n",
    "    \n",
    "Buen trabajo Jesus.\n",
    "</div>\n"
   ]
  },
  {
   "cell_type": "markdown",
   "metadata": {},
   "source": [
    "### **Columna odometer:**"
   ]
  },
  {
   "cell_type": "markdown",
   "metadata": {},
   "source": [
    "Mantenemos la columna odometer como float, en términos técnicos no causa ningún problema para la mayoría de los análisis. \n",
    "\n",
    "\"12345.6\" millas o kilómetros es una representación que no debería dar lugar a malentendidos."
   ]
  },
  {
   "cell_type": "markdown",
   "metadata": {},
   "source": [
    "\n",
    "\n",
    "<div class=\"alert alert-block alert-info\">\n",
    "<b>Respuesta del estudiante</b> <a class=\"tocSkip\"></a>\n",
    "\n",
    "Muchas gracias."
   ]
  },
  {
   "cell_type": "markdown",
   "metadata": {},
   "source": [
    "### **Columna date_posted:**"
   ]
  },
  {
   "cell_type": "markdown",
   "metadata": {},
   "source": [
    "Esta columna parece representar fechas, así que debemos convertirla al tipo datetime para que puedas realizar operaciones relacionadas con fechas de manera más eficiente."
   ]
  },
  {
   "cell_type": "code",
   "execution_count": 36,
   "metadata": {},
   "outputs": [],
   "source": [
    "df['date_posted'] = pd.to_datetime(df['date_posted'])"
   ]
  },
  {
   "cell_type": "markdown",
   "metadata": {},
   "source": [
    "Al convertir una columna que contiene fechas al tipo de dato datetime, se puede aprovechar toda la funcionalidad que ofrece pandas para trabajar con fechas, como la diferencia entre fechas, extracción de mes/año, etc.\n",
    "\n",
    "Después de realizar estas correcciones, sería bueno verificar los tipos de datos para asegurarse de que las transformaciones se realizaron correctamente:"
   ]
  },
  {
   "cell_type": "markdown",
   "metadata": {},
   "source": [
    "<div class=\"alert alert-block alert-success\">\n",
    "    <b>Comentario del revisor</b> <a class=\"tocSkip\"></a>\n",
    "    \n",
    "Buen trabajo con la fecha.\n",
    "</div>\n",
    "\n",
    "\n",
    "<div class=\"alert alert-block alert-info\">\n",
    "<b>Respuesta del estudiante</b> <a class=\"tocSkip\"></a>\n",
    "\n",
    "Muchas gracias."
   ]
  },
  {
   "cell_type": "code",
   "execution_count": 37,
   "metadata": {},
   "outputs": [
    {
     "name": "stdout",
     "output_type": "stream",
     "text": [
      "<class 'pandas.core.frame.DataFrame'>\n",
      "Int64Index: 43009 entries, 0 to 51524\n",
      "Data columns (total 13 columns):\n",
      " #   Column        Non-Null Count  Dtype         \n",
      "---  ------        --------------  -----         \n",
      " 0   price         43009 non-null  int64         \n",
      " 1   model_year    43009 non-null  int64         \n",
      " 2   model         43009 non-null  object        \n",
      " 3   condition     43009 non-null  object        \n",
      " 4   cylinders     43009 non-null  int64         \n",
      " 5   fuel          43009 non-null  object        \n",
      " 6   odometer      43009 non-null  float64       \n",
      " 7   transmission  43009 non-null  object        \n",
      " 8   type          43009 non-null  object        \n",
      " 9   paint_color   43009 non-null  object        \n",
      " 10  is_4wd        43009 non-null  bool          \n",
      " 11  date_posted   43009 non-null  datetime64[ns]\n",
      " 12  days_listed   43009 non-null  int64         \n",
      "dtypes: bool(1), datetime64[ns](1), float64(1), int64(4), object(6)\n",
      "memory usage: 4.3+ MB\n",
      "None\n"
     ]
    }
   ],
   "source": [
    "print(df.info())"
   ]
  },
  {
   "cell_type": "markdown",
   "metadata": {},
   "source": [
    "## Enriquecer datos"
   ]
  },
  {
   "cell_type": "markdown",
   "metadata": {},
   "source": [
    "Agregamos factores adicionales a los datos para facilitar el análisis:"
   ]
  },
  {
   "cell_type": "markdown",
   "metadata": {},
   "source": [
    "### **Agregamos valores de fecha y hora para cuando se colocó el anuncio:**"
   ]
  },
  {
   "cell_type": "markdown",
   "metadata": {},
   "source": [
    "Ya tenemos la columna date_posted en formato datetime, por lo que esta tarea ya está realizada."
   ]
  },
  {
   "cell_type": "markdown",
   "metadata": {},
   "source": [
    "Tener la fecha en que se publicó el anuncio nos permite hacer análisis temporales, como ver tendencias en el tiempo o calcular la edad del vehículo en el momento de la publicación."
   ]
  },
  {
   "cell_type": "markdown",
   "metadata": {},
   "source": [
    "### **Agregar los años del vehículo cuando el anuncio se colocó:**"
   ]
  },
  {
   "cell_type": "markdown",
   "metadata": {},
   "source": [
    "Necesitamos calcular la diferencia entre el año actual (cuando se publicó el anuncio) y el model_year del vehículo."
   ]
  },
  {
   "cell_type": "code",
   "execution_count": 38,
   "metadata": {},
   "outputs": [],
   "source": [
    "df['vehicle_age'] = df['date_posted'].dt.year - df['model_year']"
   ]
  },
  {
   "cell_type": "markdown",
   "metadata": {},
   "source": [
    "Esto servirá si queremos saber la edad del vehículo en el momento en que el anuncio se publicó para tener una idea del desgaste o uso potencial del vehículo.\n",
    "\n",
    "La información es útil para análisis posteriores, ya que la edad del vehículo puede influir en el precio y en la percepción del valor por parte de los compradores."
   ]
  },
  {
   "cell_type": "markdown",
   "metadata": {},
   "source": [
    "### **Agregamos el millaje promedio del vehículo por año.**"
   ]
  },
  {
   "cell_type": "markdown",
   "metadata": {},
   "source": [
    "Para esto, dividimos el millaje (odómetro) entre la antigüedad del vehículo."
   ]
  },
  {
   "cell_type": "code",
   "execution_count": 39,
   "metadata": {},
   "outputs": [],
   "source": [
    "df['average_mileage_per_year'] = df['odometer'] / df['vehicle_age']"
   ]
  },
  {
   "cell_type": "markdown",
   "metadata": {},
   "source": [
    "Esta operación nos proporciona una idea de cuánto se ha utilizado el vehículo anualmente desde que fue adquirido.\n",
    "\n",
    "Este dato nos brinda una métrica relevante para determinar el uso y desgaste relativo del vehículo en función de su edad. Por ejemplo, un vehículo con un alto millaje promedio anual podría indicar un uso intensivo."
   ]
  },
  {
   "cell_type": "markdown",
   "metadata": {},
   "source": [
    "Comprobamos la descripción estadística de la columna:"
   ]
  },
  {
   "cell_type": "code",
   "execution_count": 40,
   "metadata": {},
   "outputs": [
    {
     "name": "stdout",
     "output_type": "stream",
     "text": [
      "count    4.300800e+04\n",
      "mean              inf\n",
      "std               NaN\n",
      "min      0.000000e+00\n",
      "25%      1.062450e+04\n",
      "50%      1.533130e+04\n",
      "75%      2.328571e+04\n",
      "max               inf\n",
      "Name: average_mileage_per_year, dtype: float64\n"
     ]
    }
   ],
   "source": [
    "print(df['average_mileage_per_year'].describe())"
   ]
  },
  {
   "cell_type": "markdown",
   "metadata": {},
   "source": [
    "Identifica valores no finitos en la columna:"
   ]
  },
  {
   "cell_type": "code",
   "execution_count": 41,
   "metadata": {},
   "outputs": [
    {
     "name": "stdout",
     "output_type": "stream",
     "text": [
      "Number of NaN values: 1\n",
      "Number of infinite values: 1938\n"
     ]
    }
   ],
   "source": [
    "non_finite_values = df['average_mileage_per_year'].isna().sum()\n",
    "inf_values = (df['average_mileage_per_year'] == np.inf).sum()\n",
    "print(f\"Number of NaN values: {non_finite_values}\")\n",
    "print(f\"Number of infinite values: {inf_values}\")"
   ]
  },
  {
   "cell_type": "markdown",
   "metadata": {},
   "source": [
    "Visualiza algunos de los datos:"
   ]
  },
  {
   "cell_type": "code",
   "execution_count": 42,
   "metadata": {},
   "outputs": [
    {
     "name": "stdout",
     "output_type": "stream",
     "text": [
      "       odometer  vehicle_age  average_mileage_per_year\n",
      "48876   15149.0            0                       inf\n",
      "10719  138368.0            6              2.306133e+04\n",
      "1714    97000.0            6              1.616667e+04\n",
      "585     99084.0            6              1.651400e+04\n",
      "6394   129000.0           12              1.075000e+04\n",
      "21702  130000.0           16              8.125000e+03\n",
      "2378   109000.0            7              1.557143e+04\n",
      "1489   156459.0            9              1.738433e+04\n",
      "10883   50236.0            9              5.581778e+03\n",
      "22777   14713.0            1              1.471300e+04\n"
     ]
    }
   ],
   "source": [
    "print(df[['odometer', 'vehicle_age', 'average_mileage_per_year']].sample(10))"
   ]
  },
  {
   "cell_type": "markdown",
   "metadata": {},
   "source": [
    "Hay presencia de valores infinitos (inf) en la columna average_mileage_per_year. \n",
    "Estos valores infinitos vienen de divisiones por cero. \n",
    "Es decir, en algunas filas, la columna vehicle_age tiene un valor de 0, lo que resulta en un valor infinito cuando divides odometer por vehicle_age.\n",
    "\n",
    "Solucionaremos éste problema:"
   ]
  },
  {
   "cell_type": "markdown",
   "metadata": {},
   "source": [
    "Encuentra los valores donde vehicle_age es 0:"
   ]
  },
  {
   "cell_type": "code",
   "execution_count": 43,
   "metadata": {},
   "outputs": [
    {
     "name": "stdout",
     "output_type": "stream",
     "text": [
      "       odometer  vehicle_age\n",
      "19      31932.0            0\n",
      "71      27493.0            0\n",
      "78      10899.0            0\n",
      "99      18500.0            0\n",
      "106     16168.0            0\n",
      "...         ...          ...\n",
      "51344   10622.0            0\n",
      "51376    9446.0            0\n",
      "51446   50502.0            0\n",
      "51447    9000.0            0\n",
      "51504   38590.0            0\n",
      "\n",
      "[1939 rows x 2 columns]\n"
     ]
    }
   ],
   "source": [
    "zero_age = df[df['vehicle_age'] == 0]\n",
    "print(zero_age[['odometer', 'vehicle_age']])"
   ]
  },
  {
   "cell_type": "markdown",
   "metadata": {},
   "source": [
    "Trataremos estos valores:"
   ]
  },
  {
   "cell_type": "markdown",
   "metadata": {},
   "source": [
    "Trataremos estos valores reemplazando el vehicle_age de 0 con 1, un vehículo mantiene casi el mismo estado en éste periodo de tiempo.\n",
    "Por simplicidad, vamos a reemplazar los valores de 0 con 1."
   ]
  },
  {
   "cell_type": "code",
   "execution_count": 44,
   "metadata": {},
   "outputs": [],
   "source": [
    "df['vehicle_age'] = df['vehicle_age'].replace(0, 1)\n",
    "df['average_mileage_per_year'] = df['odometer'] / df['vehicle_age']"
   ]
  },
  {
   "cell_type": "markdown",
   "metadata": {},
   "source": [
    "Reinspecciona los datos, después de su corrección:"
   ]
  },
  {
   "cell_type": "markdown",
   "metadata": {},
   "source": [
    "Volveremos a calcular la columna average_mileage_per_year y luego verificar su descripción estadística y la presencia de valores no finitos:"
   ]
  },
  {
   "cell_type": "code",
   "execution_count": 45,
   "metadata": {},
   "outputs": [
    {
     "name": "stdout",
     "output_type": "stream",
     "text": [
      "count     43009.000000\n",
      "mean      19138.049513\n",
      "std       16546.680902\n",
      "min           0.000000\n",
      "25%       10400.000000\n",
      "50%       15000.000000\n",
      "75%       22010.000000\n",
      "max      373200.000000\n",
      "Name: average_mileage_per_year, dtype: float64\n",
      "Number of NaN values: 0\n",
      "Number of infinite values: 0\n"
     ]
    }
   ],
   "source": [
    "print(df['average_mileage_per_year'].describe())\n",
    "non_finite_values = df['average_mileage_per_year'].isna().sum()\n",
    "inf_values = (df['average_mileage_per_year'] == np.inf).sum()\n",
    "print(f\"Number of NaN values: {non_finite_values}\")\n",
    "print(f\"Number of infinite values: {inf_values}\")"
   ]
  },
  {
   "cell_type": "markdown",
   "metadata": {},
   "source": [
    "Ahora los datos en la columna average_mileage_per_year ya no contienen valores infinitos o NaN, \n",
    "lo que significa que la limpieza y el cálculo se han realizado correctamente."
   ]
  },
  {
   "cell_type": "markdown",
   "metadata": {},
   "source": [
    "Ante valores como 22458.181818, haremos un tratamiento para que genere menos ruido.\n",
    "\n",
    "Se prefiere redondear los datos para hacerlos más legibles y reducir el ruido, especialmente cuando se trata de millas por año, donde una precisión de décimas o centésimas no suele ser crucial.\n",
    "\n",
    "Redondearemos los valores en la columna average_mileage_per_year al número entero más cercano:"
   ]
  },
  {
   "cell_type": "code",
   "execution_count": 46,
   "metadata": {},
   "outputs": [],
   "source": [
    "df['average_mileage_per_year'] = df['average_mileage_per_year'].round()"
   ]
  },
  {
   "cell_type": "markdown",
   "metadata": {},
   "source": [
    "Reinspeccionamos los datos para verificar que los valores infinitos se hayan manejado:"
   ]
  },
  {
   "cell_type": "code",
   "execution_count": 47,
   "metadata": {},
   "outputs": [
    {
     "name": "stdout",
     "output_type": "stream",
     "text": [
      "count     43009.000000\n",
      "mean      19138.051896\n",
      "std       16546.679056\n",
      "min           0.000000\n",
      "25%       10400.000000\n",
      "50%       15000.000000\n",
      "75%       22010.000000\n",
      "max      373200.000000\n",
      "Name: average_mileage_per_year, dtype: float64\n",
      "Number of NaN values: 0\n",
      "Number of infinite values: 0\n"
     ]
    }
   ],
   "source": [
    "print(df['average_mileage_per_year'].describe())\n",
    "non_finite_values = df['average_mileage_per_year'].isna().sum()\n",
    "inf_values = (df['average_mileage_per_year'] == np.inf).sum()\n",
    "print(f\"Number of NaN values: {non_finite_values}\")\n",
    "print(f\"Number of infinite values: {inf_values}\")"
   ]
  },
  {
   "cell_type": "markdown",
   "metadata": {},
   "source": [
    "El total de entradas es 43009.\n",
    "\n",
    "El valor promedio (mean) de millas por año es 19446.84.\n",
    "\n",
    "La desviación estándar (std), que nos da una idea de la variabilidad de los datos, es de 17459.60.\n",
    "\n",
    "El valor mínimo (min) es 0. Esto podría indicar que hay vehículos que apenas han sido usados o que hay algún error en los datos. Sería útil revisar estos registros más adelante.\n",
    "\n",
    "El 25% de los vehículos tiene un promedio anual de 10484 millas o menos.\n",
    "\n",
    "La mediana (50% percentile) es 15081, lo que significa que el 50% de los vehículos ha recorrido menos de 15081 millas por año y el otro 50% ha recorrido más.\n",
    "\n",
    "El 75% de los vehículos ha recorrido menos de 22458 millas por año.\n",
    "\n",
    "El valor máximo (max) es 373200."
   ]
  },
  {
   "cell_type": "markdown",
   "metadata": {},
   "source": [
    "Agregaremos dos columnas, una que referencie al mes y otra la semana del día de publicación del anuncio.\n",
    "\n",
    "Éstas columnas pueden ofrecernos más detalles sobre cuándo se suelen publicar los anuncios. Esto puede ser útil para un análisis temporal posterior, donde podríamos observar tendencias mensuales o semanales."
   ]
  },
  {
   "cell_type": "markdown",
   "metadata": {},
   "source": [
    "Después, creamos la columna del mes:"
   ]
  },
  {
   "cell_type": "code",
   "execution_count": 48,
   "metadata": {},
   "outputs": [],
   "source": [
    "df['month_posted'] = df['date_posted'].dt.month"
   ]
  },
  {
   "cell_type": "markdown",
   "metadata": {},
   "source": [
    "Y ahora creamos la columna del día de la semana. Tendremos en cuenta que por defecto, 0 representa el lunes y 6 el domingo:"
   ]
  },
  {
   "cell_type": "code",
   "execution_count": 49,
   "metadata": {},
   "outputs": [],
   "source": [
    "df['weekday_posted'] = df['date_posted'].dt.weekday"
   ]
  },
  {
   "cell_type": "markdown",
   "metadata": {},
   "source": [
    "Con estas dos nuevas columnas, tendremos una visión más granular de cuándo se publican los anuncios en el conjunto de datos. Como siguiente paso reemplazaremos los valores de cadena en la columna 'condition'."
   ]
  },
  {
   "cell_type": "markdown",
   "metadata": {},
   "source": [
    "\n",
    "\n",
    "<div class=\"alert alert-block alert-info\">\n",
    "<b>Respuesta del estudiante</b> <a class=\"tocSkip\"></a>\n",
    "\n",
    "Muchas gracias.\n",
    "    \n",
    "</div>\n",
    "\n",
    "\n",
    "<div class=\"alert alert-block alert-success\">\n",
    "    <b>Comentario del revisor #2</b> <a class=\"tocSkip\"></a>\n",
    "    \n",
    "Buen trabajo Jesus.\n",
    "</div>\n"
   ]
  },
  {
   "cell_type": "markdown",
   "metadata": {},
   "source": [
    "### **Reemplazamos los valores de cadena en la columna 'condition' con una escala numérica.**"
   ]
  },
  {
   "cell_type": "markdown",
   "metadata": {},
   "source": [
    "Encontramos más útil expresar la condición del vehículo con números en lugar de palabras:"
   ]
  },
  {
   "cell_type": "code",
   "execution_count": 50,
   "metadata": {},
   "outputs": [],
   "source": [
    "condition_mapping = {\n",
    "    'new': 5,\n",
    "    'like new': 4,\n",
    "    'excellent': 3,\n",
    "    'good': 2,\n",
    "    'fair': 1,\n",
    "    'salvage': 0\n",
    "}\n",
    "df['condition'] = df['condition'].map(condition_mapping)"
   ]
  },
  {
   "cell_type": "markdown",
   "metadata": {},
   "source": [
    "El propósito de este paso es convertir descripciones textuales a una escala numérica para simplificar el análisis cuantitativo.\n",
    "\n",
    "Esta transformación nos permite analizar y comparar de manera cuantitativa la condición de los vehículos. Además, al ser numérico, facilita su uso en análisis estadísticos y modelos predictivos, permitiéndonos identificar posibles correlaciones entre la condición del vehículo y otras variables, como el precio."
   ]
  },
  {
   "cell_type": "markdown",
   "metadata": {},
   "source": [
    "<div class=\"alert alert-block alert-success\">\n",
    "    <b>Comentario del revisor</b> <a class=\"tocSkip\"></a>\n",
    "    \n",
    "Buen trabajo.</div>\n",
    "\n",
    "\n",
    "<div class=\"alert alert-block alert-info\">\n",
    "<b>Respuesta del estudiante</b> <a class=\"tocSkip\"></a>\n",
    "\n",
    "Muchas gracias."
   ]
  },
  {
   "cell_type": "markdown",
   "metadata": {},
   "source": [
    "## Comprobar datos limpios"
   ]
  },
  {
   "cell_type": "markdown",
   "metadata": {},
   "source": [
    "Dado que los datos están listos para el análisis, echamos otro vistazo rápido. Es útil ver qué es exactamente lo que vamos a utilizar para el análisis."
   ]
  },
  {
   "cell_type": "markdown",
   "metadata": {},
   "source": [
    "### **Imprimir la información general/resumida sobre el DataFrame.**"
   ]
  },
  {
   "cell_type": "markdown",
   "metadata": {},
   "source": [
    "Esto nos proporcionará información sobre el número de entradas no nulas en cada columna, así como los tipos de datos actuales:"
   ]
  },
  {
   "cell_type": "code",
   "execution_count": 51,
   "metadata": {},
   "outputs": [
    {
     "name": "stdout",
     "output_type": "stream",
     "text": [
      "<class 'pandas.core.frame.DataFrame'>\n",
      "Int64Index: 43009 entries, 0 to 51524\n",
      "Data columns (total 17 columns):\n",
      " #   Column                    Non-Null Count  Dtype         \n",
      "---  ------                    --------------  -----         \n",
      " 0   price                     43009 non-null  int64         \n",
      " 1   model_year                43009 non-null  int64         \n",
      " 2   model                     43009 non-null  object        \n",
      " 3   condition                 43009 non-null  int64         \n",
      " 4   cylinders                 43009 non-null  int64         \n",
      " 5   fuel                      43009 non-null  object        \n",
      " 6   odometer                  43009 non-null  float64       \n",
      " 7   transmission              43009 non-null  object        \n",
      " 8   type                      43009 non-null  object        \n",
      " 9   paint_color               43009 non-null  object        \n",
      " 10  is_4wd                    43009 non-null  bool          \n",
      " 11  date_posted               43009 non-null  datetime64[ns]\n",
      " 12  days_listed               43009 non-null  int64         \n",
      " 13  vehicle_age               43009 non-null  int64         \n",
      " 14  average_mileage_per_year  43009 non-null  float64       \n",
      " 15  month_posted              43009 non-null  int64         \n",
      " 16  weekday_posted            43009 non-null  int64         \n",
      "dtypes: bool(1), datetime64[ns](1), float64(2), int64(8), object(5)\n",
      "memory usage: 5.6+ MB\n",
      "None\n"
     ]
    }
   ],
   "source": [
    "print(df.info())"
   ]
  },
  {
   "cell_type": "markdown",
   "metadata": {},
   "source": [
    "Al ejecutar esta instrucción, obtuvimos un resumen del DataFrame, lo que nos permitirá ver cuántas entradas hay en total, cuántos valores no nulos hay en cada columna, y el tipo de dato de cada columna."
   ]
  },
  {
   "cell_type": "markdown",
   "metadata": {},
   "source": [
    "<div class=\"alert alert-block alert-success\">\n",
    "    <b>Comentario del revisor</b> <a class=\"tocSkip\"></a>\n",
    "    \n",
    "Excelente, buen trabajo.</div>\n",
    "\n",
    "\n",
    "<div class=\"alert alert-block alert-info\">\n",
    "<b>Respuesta del estudiante</b> <a class=\"tocSkip\"></a>\n",
    "\n",
    "Muchas gracias."
   ]
  },
  {
   "cell_type": "markdown",
   "metadata": {},
   "source": [
    "### **Imprimir una muestra de datos.**"
   ]
  },
  {
   "cell_type": "markdown",
   "metadata": {},
   "source": [
    "Visualizar algunas filas del DataFrame nos dará una idea general de cómo están estructurados los datos y nos ayudará a confirmar que todas las transformaciones y limpiezas se hayan realizado correctamente."
   ]
  },
  {
   "cell_type": "code",
   "execution_count": 52,
   "metadata": {},
   "outputs": [
    {
     "data": {
      "text/html": [
       "<div>\n",
       "<style scoped>\n",
       "    .dataframe tbody tr th:only-of-type {\n",
       "        vertical-align: middle;\n",
       "    }\n",
       "\n",
       "    .dataframe tbody tr th {\n",
       "        vertical-align: top;\n",
       "    }\n",
       "\n",
       "    .dataframe thead th {\n",
       "        text-align: right;\n",
       "    }\n",
       "</style>\n",
       "<table border=\"1\" class=\"dataframe\">\n",
       "  <thead>\n",
       "    <tr style=\"text-align: right;\">\n",
       "      <th></th>\n",
       "      <th>price</th>\n",
       "      <th>model_year</th>\n",
       "      <th>model</th>\n",
       "      <th>condition</th>\n",
       "      <th>cylinders</th>\n",
       "      <th>fuel</th>\n",
       "      <th>odometer</th>\n",
       "      <th>transmission</th>\n",
       "      <th>type</th>\n",
       "      <th>paint_color</th>\n",
       "      <th>is_4wd</th>\n",
       "      <th>date_posted</th>\n",
       "      <th>days_listed</th>\n",
       "      <th>vehicle_age</th>\n",
       "      <th>average_mileage_per_year</th>\n",
       "      <th>month_posted</th>\n",
       "      <th>weekday_posted</th>\n",
       "    </tr>\n",
       "  </thead>\n",
       "  <tbody>\n",
       "    <tr>\n",
       "      <th>39128</th>\n",
       "      <td>1900</td>\n",
       "      <td>1999</td>\n",
       "      <td>toyota corolla</td>\n",
       "      <td>0</td>\n",
       "      <td>4</td>\n",
       "      <td>gas</td>\n",
       "      <td>163.0</td>\n",
       "      <td>automatic</td>\n",
       "      <td>sedan</td>\n",
       "      <td>green</td>\n",
       "      <td>False</td>\n",
       "      <td>2019-04-18</td>\n",
       "      <td>52</td>\n",
       "      <td>20</td>\n",
       "      <td>8.0</td>\n",
       "      <td>4</td>\n",
       "      <td>3</td>\n",
       "    </tr>\n",
       "    <tr>\n",
       "      <th>51522</th>\n",
       "      <td>3950</td>\n",
       "      <td>2009</td>\n",
       "      <td>hyundai sonata</td>\n",
       "      <td>3</td>\n",
       "      <td>4</td>\n",
       "      <td>gas</td>\n",
       "      <td>128000.0</td>\n",
       "      <td>automatic</td>\n",
       "      <td>sedan</td>\n",
       "      <td>blue</td>\n",
       "      <td>False</td>\n",
       "      <td>2018-11-15</td>\n",
       "      <td>32</td>\n",
       "      <td>9</td>\n",
       "      <td>14222.0</td>\n",
       "      <td>11</td>\n",
       "      <td>3</td>\n",
       "    </tr>\n",
       "    <tr>\n",
       "      <th>35201</th>\n",
       "      <td>40950</td>\n",
       "      <td>2019</td>\n",
       "      <td>ford f-250 super duty</td>\n",
       "      <td>3</td>\n",
       "      <td>8</td>\n",
       "      <td>diesel</td>\n",
       "      <td>31872.0</td>\n",
       "      <td>automatic</td>\n",
       "      <td>truck</td>\n",
       "      <td>white</td>\n",
       "      <td>True</td>\n",
       "      <td>2019-02-23</td>\n",
       "      <td>42</td>\n",
       "      <td>1</td>\n",
       "      <td>31872.0</td>\n",
       "      <td>2</td>\n",
       "      <td>5</td>\n",
       "    </tr>\n",
       "    <tr>\n",
       "      <th>219</th>\n",
       "      <td>2800</td>\n",
       "      <td>2006</td>\n",
       "      <td>ford escape</td>\n",
       "      <td>3</td>\n",
       "      <td>6</td>\n",
       "      <td>gas</td>\n",
       "      <td>104000.0</td>\n",
       "      <td>automatic</td>\n",
       "      <td>SUV</td>\n",
       "      <td>white</td>\n",
       "      <td>False</td>\n",
       "      <td>2018-05-11</td>\n",
       "      <td>5</td>\n",
       "      <td>12</td>\n",
       "      <td>8667.0</td>\n",
       "      <td>5</td>\n",
       "      <td>4</td>\n",
       "    </tr>\n",
       "    <tr>\n",
       "      <th>38861</th>\n",
       "      <td>16995</td>\n",
       "      <td>2011</td>\n",
       "      <td>gmc yukon</td>\n",
       "      <td>3</td>\n",
       "      <td>8</td>\n",
       "      <td>gas</td>\n",
       "      <td>88527.0</td>\n",
       "      <td>automatic</td>\n",
       "      <td>SUV</td>\n",
       "      <td>black</td>\n",
       "      <td>True</td>\n",
       "      <td>2019-02-07</td>\n",
       "      <td>7</td>\n",
       "      <td>8</td>\n",
       "      <td>11066.0</td>\n",
       "      <td>2</td>\n",
       "      <td>3</td>\n",
       "    </tr>\n",
       "  </tbody>\n",
       "</table>\n",
       "</div>"
      ],
      "text/plain": [
       "       price  model_year                  model  condition  cylinders    fuel  \\\n",
       "39128   1900        1999         toyota corolla          0          4     gas   \n",
       "51522   3950        2009         hyundai sonata          3          4     gas   \n",
       "35201  40950        2019  ford f-250 super duty          3          8  diesel   \n",
       "219     2800        2006            ford escape          3          6     gas   \n",
       "38861  16995        2011              gmc yukon          3          8     gas   \n",
       "\n",
       "       odometer transmission   type paint_color  is_4wd date_posted  \\\n",
       "39128     163.0    automatic  sedan       green   False  2019-04-18   \n",
       "51522  128000.0    automatic  sedan        blue   False  2018-11-15   \n",
       "35201   31872.0    automatic  truck       white    True  2019-02-23   \n",
       "219    104000.0    automatic    SUV       white   False  2018-05-11   \n",
       "38861   88527.0    automatic    SUV       black    True  2019-02-07   \n",
       "\n",
       "       days_listed  vehicle_age  average_mileage_per_year  month_posted  \\\n",
       "39128           52           20                       8.0             4   \n",
       "51522           32            9                   14222.0            11   \n",
       "35201           42            1                   31872.0             2   \n",
       "219              5           12                    8667.0             5   \n",
       "38861            7            8                   11066.0             2   \n",
       "\n",
       "       weekday_posted  \n",
       "39128               3  \n",
       "51522               3  \n",
       "35201               5  \n",
       "219                 4  \n",
       "38861               3  "
      ]
     },
     "metadata": {},
     "output_type": "display_data"
    }
   ],
   "source": [
    "# imprimir una muestra de datos\n",
    "display(df.sample(5))"
   ]
  },
  {
   "cell_type": "markdown",
   "metadata": {},
   "source": [
    "\n",
    "\n",
    "<div class=\"alert alert-block alert-info\">\n",
    "<b>Respuesta del estudiante</b> <a class=\"tocSkip\"></a>\n",
    "\n",
    "Muchas gracias.\n",
    "\n",
    "</div>\n",
    "\n",
    "<div class=\"alert alert-block alert-success\">\n",
    "    <b>Comentario del revisor</b> <a class=\"tocSkip\"></a>\n",
    "    \n",
    "Buen trabajo Jesus.\n",
    "</div>\n"
   ]
  },
  {
   "cell_type": "markdown",
   "metadata": {},
   "source": [
    "## Estudiar parámetros principales"
   ]
  },
  {
   "cell_type": "markdown",
   "metadata": {},
   "source": [
    "### **Precio**"
   ]
  },
  {
   "cell_type": "markdown",
   "metadata": {},
   "source": [
    "Para estudiar el parámetro precio es importante visualizar su distribución utilizando histogramas. \n",
    "Dado que los valores atípicos pueden afectar la legibilidad y la interpretación de los histogramas, es fundamental identificarlos y decidir cómo manejarlos."
   ]
  },
  {
   "cell_type": "markdown",
   "metadata": {},
   "source": [
    "Paso 1: Visualización Inicial.\n",
    "Dibujamos un histograma del precio para ver su distribución.\n",
    "\n",
    "Paso 2: Identificación de Valores Atípicos.\n",
    "Utilizaremos el rango intercuartil (IQR) para identificar valores atípicos.\n",
    "\n",
    "Paso 3: Manejo de Valores Atípicos.\n",
    "Definimos un rango para definir el número de valores atípicos.\n",
    "\n",
    "Paso 4: Revisualización.\n",
    "Dibuja el histograma nuevamente después de tratar los valores atípicos para ver la nueva distribución. \n",
    "Con los dos histogramas podremos hacer comparaciones visuales."
   ]
  },
  {
   "cell_type": "code",
   "execution_count": 53,
   "metadata": {},
   "outputs": [
    {
     "name": "stdout",
     "output_type": "stream",
     "text": [
      "Número de valores atípicos detectados: 1388\n"
     ]
    },
    {
     "data": {
      "image/png": "[encoded data removed]",
      "text/plain": [
       "<Figure size 864x360 with 2 Axes>"
      ]
     },
     "metadata": {
      "needs_background": "light"
     },
     "output_type": "display_data"
    }
   ],
   "source": [
    "def analyze_and_plot(data, column, title, xlabel, ylabel):\n",
    "    # Paso 1: Visualización inicial\n",
    "    plt.figure(figsize=(12,5))\n",
    "    plt.subplot(1,2,1)\n",
    "    plt.hist(data[column], bins=50, edgecolor='black')\n",
    "    plt.title(f'Distribución inicial de {title}')\n",
    "    plt.xlabel(xlabel)\n",
    "    plt.ylabel(ylabel)\n",
    "    \n",
    "    # Paso 2: Identificación de Valores Atípicos usando IQR\n",
    "    Q1 = data[column].quantile(0.25)\n",
    "    Q3 = data[column].quantile(0.75)\n",
    "    IQR = Q3 - Q1\n",
    "    lower_bound = Q1 - 1.5 * IQR\n",
    "    upper_bound = Q3 + 1.5 * IQR\n",
    "\n",
    "    outliers = data[(data[column] < lower_bound) | (data[column] > upper_bound)]\n",
    "    print(f\"Número de valores atípicos detectados: {len(outliers)}\")\n",
    "    \n",
    "    # Paso 3: Excluir Valores Atípicos\n",
    "    filtered_data = data[(data[column] >= lower_bound) & (data[column] <= upper_bound)]\n",
    "    \n",
    "    # Paso 4: Revisualización\n",
    "    plt.subplot(1,2,2)\n",
    "    plt.hist(filtered_data[column], bins=50, edgecolor='black')\n",
    "    plt.title(f'Distribución de {title} sin valores atípicos')\n",
    "    plt.xlabel(xlabel)\n",
    "    plt.ylabel(ylabel)\n",
    "    \n",
    "    plt.tight_layout()\n",
    "    plt.show()\n",
    "    \n",
    "    # Devolver el dataframe filtrado\n",
    "    return filtered_data\n",
    "\n",
    "# Usando la función para el Precio y conservando el dataframe filtrado:\n",
    "filtered_df = analyze_and_plot(df, 'price', 'Precio', 'Precio ($)', 'Cantidad de Vehículos')"
   ]
  },
  {
   "cell_type": "markdown",
   "metadata": {},
   "source": [
    "En el gráfico de Distribución inicial de Precio:\n",
    "\n",
    "Primero que existen alrededor de 17500 vehiculos con un precio estimado desde 0 a 7,142 dólares. Puede hablar que la compañía prefiere hacer negocios pequeños, o es el mercado con mayor movimiento. Pueden ser vehículos dañados, venta para autopartes, listados de prueba, errores en la entrada de datos.\n",
    "\n",
    "Segundo que exusten alrededor de 1000 vehículos con un precio estimado desde 50,000 dólares. \n",
    "Lo que puede considerarse atípico en comparación con la mayoría de los vehículos listados. \n",
    "Pero estos podrían ser vehículos de lujo, ediciones especiales, o vehículos con características particulares que justifiquen su alto precio.\n",
    "\n",
    "En el gráfico de Distribución de Precio sin valores atípicos:\n",
    "\n",
    "Primero que existen alrededor de 1000 vehículos con un precio máximo de 714 dólares. Alrededor 500 vehículos con un precio alrededor de 1428 dólares.\n",
    "\n",
    "Segundo que hay alrededor de 5000 vehículos con un precio entre 30000 y 35000 dólares.\n",
    "\n",
    "Tercero, éste gráfico tiene más sentido que el anterior y también es mucho más fácil de leer.\n",
    "$7,000 y $35,000, podría ser indicativo del rango de precios más común o popular para el mercado objetivo de estos anuncios. Esto podría considerarse el \"rango medio\" del mercado."
   ]
  },
  {
   "cell_type": "markdown",
   "metadata": {},
   "source": [
    "### **Los años del vehículo cuando el anuncio se colocó**"
   ]
  },
  {
   "cell_type": "markdown",
   "metadata": {},
   "source": [
    "Primero, ya hemos derivado la edad del vehículo en el momento en que se publicó el anuncio. \n",
    "(1.4.2  Agregar los años del vehículo cuando el anuncio se colocó)\n",
    "Luego, visualizaremos la distribución de la edad de los vehículos y abordaremos cualquier valor atípico que pueda afectar la legibilidad del histograma."
   ]
  },
  {
   "cell_type": "markdown",
   "metadata": {},
   "source": [
    "Análisis y visualización:"
   ]
  },
  {
   "cell_type": "markdown",
   "metadata": {},
   "source": [
    "Utilizaremos la función analyze_and_plot para visualizar la distribución de la edad de los vehículos."
   ]
  },
  {
   "cell_type": "code",
   "execution_count": 54,
   "metadata": {},
   "outputs": [
    {
     "name": "stdout",
     "output_type": "stream",
     "text": [
      "Número de valores atípicos detectados: 650\n"
     ]
    },
    {
     "data": {
      "image/png": "[encoded data removed]",
      "text/plain": [
       "<Figure size 864x360 with 2 Axes>"
      ]
     },
     "metadata": {
      "needs_background": "light"
     },
     "output_type": "display_data"
    },
    {
     "data": {
      "text/html": [
       "<div>\n",
       "<style scoped>\n",
       "    .dataframe tbody tr th:only-of-type {\n",
       "        vertical-align: middle;\n",
       "    }\n",
       "\n",
       "    .dataframe tbody tr th {\n",
       "        vertical-align: top;\n",
       "    }\n",
       "\n",
       "    .dataframe thead th {\n",
       "        text-align: right;\n",
       "    }\n",
       "</style>\n",
       "<table border=\"1\" class=\"dataframe\">\n",
       "  <thead>\n",
       "    <tr style=\"text-align: right;\">\n",
       "      <th></th>\n",
       "      <th>price</th>\n",
       "      <th>model_year</th>\n",
       "      <th>model</th>\n",
       "      <th>condition</th>\n",
       "      <th>cylinders</th>\n",
       "      <th>fuel</th>\n",
       "      <th>odometer</th>\n",
       "      <th>transmission</th>\n",
       "      <th>type</th>\n",
       "      <th>paint_color</th>\n",
       "      <th>is_4wd</th>\n",
       "      <th>date_posted</th>\n",
       "      <th>days_listed</th>\n",
       "      <th>vehicle_age</th>\n",
       "      <th>average_mileage_per_year</th>\n",
       "      <th>month_posted</th>\n",
       "      <th>weekday_posted</th>\n",
       "    </tr>\n",
       "  </thead>\n",
       "  <tbody>\n",
       "    <tr>\n",
       "      <th>0</th>\n",
       "      <td>9400</td>\n",
       "      <td>2011</td>\n",
       "      <td>bmw x5</td>\n",
       "      <td>2</td>\n",
       "      <td>6</td>\n",
       "      <td>gas</td>\n",
       "      <td>145000.0</td>\n",
       "      <td>automatic</td>\n",
       "      <td>SUV</td>\n",
       "      <td>desconocido</td>\n",
       "      <td>True</td>\n",
       "      <td>2018-06-23</td>\n",
       "      <td>19</td>\n",
       "      <td>7</td>\n",
       "      <td>20714.0</td>\n",
       "      <td>6</td>\n",
       "      <td>5</td>\n",
       "    </tr>\n",
       "    <tr>\n",
       "      <th>2</th>\n",
       "      <td>5500</td>\n",
       "      <td>2013</td>\n",
       "      <td>hyundai sonata</td>\n",
       "      <td>4</td>\n",
       "      <td>4</td>\n",
       "      <td>gas</td>\n",
       "      <td>110000.0</td>\n",
       "      <td>automatic</td>\n",
       "      <td>sedan</td>\n",
       "      <td>red</td>\n",
       "      <td>False</td>\n",
       "      <td>2019-02-07</td>\n",
       "      <td>79</td>\n",
       "      <td>6</td>\n",
       "      <td>18333.0</td>\n",
       "      <td>2</td>\n",
       "      <td>3</td>\n",
       "    </tr>\n",
       "    <tr>\n",
       "      <th>3</th>\n",
       "      <td>1500</td>\n",
       "      <td>2003</td>\n",
       "      <td>ford f-150</td>\n",
       "      <td>1</td>\n",
       "      <td>8</td>\n",
       "      <td>gas</td>\n",
       "      <td>180800.0</td>\n",
       "      <td>automatic</td>\n",
       "      <td>pickup</td>\n",
       "      <td>desconocido</td>\n",
       "      <td>False</td>\n",
       "      <td>2019-03-22</td>\n",
       "      <td>9</td>\n",
       "      <td>16</td>\n",
       "      <td>11300.0</td>\n",
       "      <td>3</td>\n",
       "      <td>4</td>\n",
       "    </tr>\n",
       "    <tr>\n",
       "      <th>4</th>\n",
       "      <td>14900</td>\n",
       "      <td>2017</td>\n",
       "      <td>chrysler 200</td>\n",
       "      <td>3</td>\n",
       "      <td>4</td>\n",
       "      <td>gas</td>\n",
       "      <td>80903.0</td>\n",
       "      <td>automatic</td>\n",
       "      <td>sedan</td>\n",
       "      <td>black</td>\n",
       "      <td>False</td>\n",
       "      <td>2019-04-02</td>\n",
       "      <td>28</td>\n",
       "      <td>2</td>\n",
       "      <td>40452.0</td>\n",
       "      <td>4</td>\n",
       "      <td>1</td>\n",
       "    </tr>\n",
       "    <tr>\n",
       "      <th>5</th>\n",
       "      <td>14990</td>\n",
       "      <td>2014</td>\n",
       "      <td>chrysler 300</td>\n",
       "      <td>3</td>\n",
       "      <td>6</td>\n",
       "      <td>gas</td>\n",
       "      <td>57954.0</td>\n",
       "      <td>automatic</td>\n",
       "      <td>sedan</td>\n",
       "      <td>black</td>\n",
       "      <td>True</td>\n",
       "      <td>2018-06-20</td>\n",
       "      <td>15</td>\n",
       "      <td>4</td>\n",
       "      <td>14488.0</td>\n",
       "      <td>6</td>\n",
       "      <td>2</td>\n",
       "    </tr>\n",
       "    <tr>\n",
       "      <th>...</th>\n",
       "      <td>...</td>\n",
       "      <td>...</td>\n",
       "      <td>...</td>\n",
       "      <td>...</td>\n",
       "      <td>...</td>\n",
       "      <td>...</td>\n",
       "      <td>...</td>\n",
       "      <td>...</td>\n",
       "      <td>...</td>\n",
       "      <td>...</td>\n",
       "      <td>...</td>\n",
       "      <td>...</td>\n",
       "      <td>...</td>\n",
       "      <td>...</td>\n",
       "      <td>...</td>\n",
       "      <td>...</td>\n",
       "      <td>...</td>\n",
       "    </tr>\n",
       "    <tr>\n",
       "      <th>51520</th>\n",
       "      <td>9249</td>\n",
       "      <td>2013</td>\n",
       "      <td>nissan maxima</td>\n",
       "      <td>4</td>\n",
       "      <td>6</td>\n",
       "      <td>gas</td>\n",
       "      <td>88136.0</td>\n",
       "      <td>automatic</td>\n",
       "      <td>sedan</td>\n",
       "      <td>black</td>\n",
       "      <td>False</td>\n",
       "      <td>2018-10-03</td>\n",
       "      <td>37</td>\n",
       "      <td>5</td>\n",
       "      <td>17627.0</td>\n",
       "      <td>10</td>\n",
       "      <td>2</td>\n",
       "    </tr>\n",
       "    <tr>\n",
       "      <th>51521</th>\n",
       "      <td>2700</td>\n",
       "      <td>2002</td>\n",
       "      <td>honda civic</td>\n",
       "      <td>0</td>\n",
       "      <td>4</td>\n",
       "      <td>gas</td>\n",
       "      <td>181500.0</td>\n",
       "      <td>automatic</td>\n",
       "      <td>sedan</td>\n",
       "      <td>white</td>\n",
       "      <td>False</td>\n",
       "      <td>2018-11-14</td>\n",
       "      <td>22</td>\n",
       "      <td>16</td>\n",
       "      <td>11344.0</td>\n",
       "      <td>11</td>\n",
       "      <td>2</td>\n",
       "    </tr>\n",
       "    <tr>\n",
       "      <th>51522</th>\n",
       "      <td>3950</td>\n",
       "      <td>2009</td>\n",
       "      <td>hyundai sonata</td>\n",
       "      <td>3</td>\n",
       "      <td>4</td>\n",
       "      <td>gas</td>\n",
       "      <td>128000.0</td>\n",
       "      <td>automatic</td>\n",
       "      <td>sedan</td>\n",
       "      <td>blue</td>\n",
       "      <td>False</td>\n",
       "      <td>2018-11-15</td>\n",
       "      <td>32</td>\n",
       "      <td>9</td>\n",
       "      <td>14222.0</td>\n",
       "      <td>11</td>\n",
       "      <td>3</td>\n",
       "    </tr>\n",
       "    <tr>\n",
       "      <th>51523</th>\n",
       "      <td>7455</td>\n",
       "      <td>2013</td>\n",
       "      <td>toyota corolla</td>\n",
       "      <td>2</td>\n",
       "      <td>4</td>\n",
       "      <td>gas</td>\n",
       "      <td>139573.0</td>\n",
       "      <td>automatic</td>\n",
       "      <td>sedan</td>\n",
       "      <td>black</td>\n",
       "      <td>False</td>\n",
       "      <td>2018-07-02</td>\n",
       "      <td>71</td>\n",
       "      <td>5</td>\n",
       "      <td>27915.0</td>\n",
       "      <td>7</td>\n",
       "      <td>0</td>\n",
       "    </tr>\n",
       "    <tr>\n",
       "      <th>51524</th>\n",
       "      <td>6300</td>\n",
       "      <td>2014</td>\n",
       "      <td>nissan altima</td>\n",
       "      <td>2</td>\n",
       "      <td>4</td>\n",
       "      <td>gas</td>\n",
       "      <td>129000.0</td>\n",
       "      <td>automatic</td>\n",
       "      <td>sedan</td>\n",
       "      <td>desconocido</td>\n",
       "      <td>False</td>\n",
       "      <td>2018-06-05</td>\n",
       "      <td>10</td>\n",
       "      <td>4</td>\n",
       "      <td>32250.0</td>\n",
       "      <td>6</td>\n",
       "      <td>1</td>\n",
       "    </tr>\n",
       "  </tbody>\n",
       "</table>\n",
       "<p>42359 rows × 17 columns</p>\n",
       "</div>"
      ],
      "text/plain": [
       "       price  model_year           model  condition  cylinders fuel  odometer  \\\n",
       "0       9400        2011          bmw x5          2          6  gas  145000.0   \n",
       "2       5500        2013  hyundai sonata          4          4  gas  110000.0   \n",
       "3       1500        2003      ford f-150          1          8  gas  180800.0   \n",
       "4      14900        2017    chrysler 200          3          4  gas   80903.0   \n",
       "5      14990        2014    chrysler 300          3          6  gas   57954.0   \n",
       "...      ...         ...             ...        ...        ...  ...       ...   \n",
       "51520   9249        2013   nissan maxima          4          6  gas   88136.0   \n",
       "51521   2700        2002     honda civic          0          4  gas  181500.0   \n",
       "51522   3950        2009  hyundai sonata          3          4  gas  128000.0   \n",
       "51523   7455        2013  toyota corolla          2          4  gas  139573.0   \n",
       "51524   6300        2014   nissan altima          2          4  gas  129000.0   \n",
       "\n",
       "      transmission    type  paint_color  is_4wd date_posted  days_listed  \\\n",
       "0        automatic     SUV  desconocido    True  2018-06-23           19   \n",
       "2        automatic   sedan          red   False  2019-02-07           79   \n",
       "3        automatic  pickup  desconocido   False  2019-03-22            9   \n",
       "4        automatic   sedan        black   False  2019-04-02           28   \n",
       "5        automatic   sedan        black    True  2018-06-20           15   \n",
       "...            ...     ...          ...     ...         ...          ...   \n",
       "51520    automatic   sedan        black   False  2018-10-03           37   \n",
       "51521    automatic   sedan        white   False  2018-11-14           22   \n",
       "51522    automatic   sedan         blue   False  2018-11-15           32   \n",
       "51523    automatic   sedan        black   False  2018-07-02           71   \n",
       "51524    automatic   sedan  desconocido   False  2018-06-05           10   \n",
       "\n",
       "       vehicle_age  average_mileage_per_year  month_posted  weekday_posted  \n",
       "0                7                   20714.0             6               5  \n",
       "2                6                   18333.0             2               3  \n",
       "3               16                   11300.0             3               4  \n",
       "4                2                   40452.0             4               1  \n",
       "5                4                   14488.0             6               2  \n",
       "...            ...                       ...           ...             ...  \n",
       "51520            5                   17627.0            10               2  \n",
       "51521           16                   11344.0            11               2  \n",
       "51522            9                   14222.0            11               3  \n",
       "51523            5                   27915.0             7               0  \n",
       "51524            4                   32250.0             6               1  \n",
       "\n",
       "[42359 rows x 17 columns]"
      ]
     },
     "execution_count": 54,
     "metadata": {},
     "output_type": "execute_result"
    }
   ],
   "source": [
    "analyze_and_plot(df, 'vehicle_age', 'Edad del Vehículo al Publicarse el Anuncio', 'Número de Vehículos', 'Edad del Vehículo (años)')"
   ]
  },
  {
   "cell_type": "markdown",
   "metadata": {},
   "source": [
    "Después de correr esta función, observamos los histogramas:\n",
    "\n",
    "Distribución inicial de edad del vehículo al publicarse el anuncio sin valores atípicos:\n",
    "\n",
    "1 vehículo tiene más de 36 años.\n",
    "5 vehículos alrededor de 30 años.\n",
    "10 vehículos tienen alrededor de 25 años.\n",
    "15 vehículos tienen alrededor de 15 años.\n",
    "20 vehículos tienen alrededor de 5 años.\n",
    "24 vehículos tienen menos de 5 años.\n",
    "\n",
    "La mayoría de los vehículos listados para la venta en la plataforma son relativamente nuevos. \n",
    "Una gran cantidad tiene menos de 5 años, lo que indica que las personas tienden a vender o intercambiar sus vehículos cuando todavía son bastante nuevos.\n",
    "\n",
    "Hay una disminución gradual en el número de listados a medida que aumenta la edad del vehículo. \n",
    "Esto tiene sentido ya que los vehículos más antiguos pueden haber llegado al final de su vida útil o pueden no ser tan deseables para los compradores.\n",
    "\n",
    "Es interesante notar que todavía hay vehículos muy antiguos listados, con algunos que incluso tienen más de 30 años. Esto podría indicar vehículos clásicos o vintage que podrían tener un valor coleccionable. Razón por la que se mantienen anunciados.\n",
    "\n",
    "Distribución inicial de edad del vehículo al publicarse el anuncio con valores atípicos:\n",
    "\n",
    "Se observa que alrededor de 2.5 vehículos, tienen más de 80 años.\n",
    "Alrededor de 5 vehículos, tienen alrededor de 60 años.\n",
    "Alrededor de 7.5 vehículos, tienen alrededor de 60 años.\n",
    "Alrededor de 10 vehículos, tienen alrededor de 40 años.\n",
    "Alrededor de 12.5 vehículos, tienen alrededor de 50 años.\n",
    "Alrededor de 20 vehículos, tienen más de 20 años.\n",
    "Después de aquí vemos al menos 15 columnas, que la edad del vehículo es menor a 5, y el número de vehículos de 20 a 60.\n",
    "\n",
    "La presencia de vehículos que tienen más de 80 años en la lista es sorprendente. \n",
    "Estos son definitivamente valores atípicos y podrían ser vehículos coleccionables o clásicos que tienen un alto valor. Alternativamente, estos podrían ser errores en los datos.\n",
    "\n",
    "La distribución muestra una variabilidad más amplia en la edad de los vehículos cuando se incluyen valores atípicos. \n",
    "Los vehículos en el rango de edad de 20 a 60 años son bastante comunes en el listado, indicando que hay una variedad de vehículos disponibles para la venta.\n",
    "\n",
    "Conclusiones:\n",
    "\n",
    "Las personas tienden a vender o intercambiar sus vehículos cuando todavía son relativamente nuevos, \n",
    "probablemente para obtener un buen valor de reventa.\n",
    "\n",
    "Los vehículos extremadamente antiguos en la lista podrían ser vehículos de colección o simplemente errores en los datos. \n",
    "Es importante verificar esos listados específicos para determinar la validez de los mismos.\n",
    "\n",
    "La plataforma en cuestión tiene una amplia variedad de vehículos en términos de edad, ofreciendo opciones tanto para aquellos interesados en vehículos más nuevos como para aquellos que buscan algo más antiguo o incluso clásico."
   ]
  },
  {
   "cell_type": "markdown",
   "metadata": {},
   "source": [
    "### **Millaje**"
   ]
  },
  {
   "cell_type": "markdown",
   "metadata": {},
   "source": [
    "Para estudiar el parámetro \"Millaje\" (odometer en el dataset original), vamos a seguir un proceso similar al que hemos aplicado para los años o \"edad del vehículo\". Aquí el plan de acción:\n",
    "\n",
    "Comparación y análisis:\n",
    "Comparamos los histogramas, y observaremos como los valores atípicos afectan la distribución y lectura."
   ]
  },
  {
   "cell_type": "code",
   "execution_count": 55,
   "metadata": {},
   "outputs": [
    {
     "name": "stdout",
     "output_type": "stream",
     "text": [
      "Número de valores atípicos detectados: 753\n"
     ]
    },
    {
     "data": {
      "image/png": "[encoded data removed]",
      "text/plain": [
       "<Figure size 864x360 with 2 Axes>"
      ]
     },
     "metadata": {
      "needs_background": "light"
     },
     "output_type": "display_data"
    },
    {
     "data": {
      "text/html": [
       "<div>\n",
       "<style scoped>\n",
       "    .dataframe tbody tr th:only-of-type {\n",
       "        vertical-align: middle;\n",
       "    }\n",
       "\n",
       "    .dataframe tbody tr th {\n",
       "        vertical-align: top;\n",
       "    }\n",
       "\n",
       "    .dataframe thead th {\n",
       "        text-align: right;\n",
       "    }\n",
       "</style>\n",
       "<table border=\"1\" class=\"dataframe\">\n",
       "  <thead>\n",
       "    <tr style=\"text-align: right;\">\n",
       "      <th></th>\n",
       "      <th>price</th>\n",
       "      <th>model_year</th>\n",
       "      <th>model</th>\n",
       "      <th>condition</th>\n",
       "      <th>cylinders</th>\n",
       "      <th>fuel</th>\n",
       "      <th>odometer</th>\n",
       "      <th>transmission</th>\n",
       "      <th>type</th>\n",
       "      <th>paint_color</th>\n",
       "      <th>is_4wd</th>\n",
       "      <th>date_posted</th>\n",
       "      <th>days_listed</th>\n",
       "      <th>vehicle_age</th>\n",
       "      <th>average_mileage_per_year</th>\n",
       "      <th>month_posted</th>\n",
       "      <th>weekday_posted</th>\n",
       "    </tr>\n",
       "  </thead>\n",
       "  <tbody>\n",
       "    <tr>\n",
       "      <th>0</th>\n",
       "      <td>9400</td>\n",
       "      <td>2011</td>\n",
       "      <td>bmw x5</td>\n",
       "      <td>2</td>\n",
       "      <td>6</td>\n",
       "      <td>gas</td>\n",
       "      <td>145000.0</td>\n",
       "      <td>automatic</td>\n",
       "      <td>SUV</td>\n",
       "      <td>desconocido</td>\n",
       "      <td>True</td>\n",
       "      <td>2018-06-23</td>\n",
       "      <td>19</td>\n",
       "      <td>7</td>\n",
       "      <td>20714.0</td>\n",
       "      <td>6</td>\n",
       "      <td>5</td>\n",
       "    </tr>\n",
       "    <tr>\n",
       "      <th>2</th>\n",
       "      <td>5500</td>\n",
       "      <td>2013</td>\n",
       "      <td>hyundai sonata</td>\n",
       "      <td>4</td>\n",
       "      <td>4</td>\n",
       "      <td>gas</td>\n",
       "      <td>110000.0</td>\n",
       "      <td>automatic</td>\n",
       "      <td>sedan</td>\n",
       "      <td>red</td>\n",
       "      <td>False</td>\n",
       "      <td>2019-02-07</td>\n",
       "      <td>79</td>\n",
       "      <td>6</td>\n",
       "      <td>18333.0</td>\n",
       "      <td>2</td>\n",
       "      <td>3</td>\n",
       "    </tr>\n",
       "    <tr>\n",
       "      <th>3</th>\n",
       "      <td>1500</td>\n",
       "      <td>2003</td>\n",
       "      <td>ford f-150</td>\n",
       "      <td>1</td>\n",
       "      <td>8</td>\n",
       "      <td>gas</td>\n",
       "      <td>180800.0</td>\n",
       "      <td>automatic</td>\n",
       "      <td>pickup</td>\n",
       "      <td>desconocido</td>\n",
       "      <td>False</td>\n",
       "      <td>2019-03-22</td>\n",
       "      <td>9</td>\n",
       "      <td>16</td>\n",
       "      <td>11300.0</td>\n",
       "      <td>3</td>\n",
       "      <td>4</td>\n",
       "    </tr>\n",
       "    <tr>\n",
       "      <th>4</th>\n",
       "      <td>14900</td>\n",
       "      <td>2017</td>\n",
       "      <td>chrysler 200</td>\n",
       "      <td>3</td>\n",
       "      <td>4</td>\n",
       "      <td>gas</td>\n",
       "      <td>80903.0</td>\n",
       "      <td>automatic</td>\n",
       "      <td>sedan</td>\n",
       "      <td>black</td>\n",
       "      <td>False</td>\n",
       "      <td>2019-04-02</td>\n",
       "      <td>28</td>\n",
       "      <td>2</td>\n",
       "      <td>40452.0</td>\n",
       "      <td>4</td>\n",
       "      <td>1</td>\n",
       "    </tr>\n",
       "    <tr>\n",
       "      <th>5</th>\n",
       "      <td>14990</td>\n",
       "      <td>2014</td>\n",
       "      <td>chrysler 300</td>\n",
       "      <td>3</td>\n",
       "      <td>6</td>\n",
       "      <td>gas</td>\n",
       "      <td>57954.0</td>\n",
       "      <td>automatic</td>\n",
       "      <td>sedan</td>\n",
       "      <td>black</td>\n",
       "      <td>True</td>\n",
       "      <td>2018-06-20</td>\n",
       "      <td>15</td>\n",
       "      <td>4</td>\n",
       "      <td>14488.0</td>\n",
       "      <td>6</td>\n",
       "      <td>2</td>\n",
       "    </tr>\n",
       "    <tr>\n",
       "      <th>...</th>\n",
       "      <td>...</td>\n",
       "      <td>...</td>\n",
       "      <td>...</td>\n",
       "      <td>...</td>\n",
       "      <td>...</td>\n",
       "      <td>...</td>\n",
       "      <td>...</td>\n",
       "      <td>...</td>\n",
       "      <td>...</td>\n",
       "      <td>...</td>\n",
       "      <td>...</td>\n",
       "      <td>...</td>\n",
       "      <td>...</td>\n",
       "      <td>...</td>\n",
       "      <td>...</td>\n",
       "      <td>...</td>\n",
       "      <td>...</td>\n",
       "    </tr>\n",
       "    <tr>\n",
       "      <th>51520</th>\n",
       "      <td>9249</td>\n",
       "      <td>2013</td>\n",
       "      <td>nissan maxima</td>\n",
       "      <td>4</td>\n",
       "      <td>6</td>\n",
       "      <td>gas</td>\n",
       "      <td>88136.0</td>\n",
       "      <td>automatic</td>\n",
       "      <td>sedan</td>\n",
       "      <td>black</td>\n",
       "      <td>False</td>\n",
       "      <td>2018-10-03</td>\n",
       "      <td>37</td>\n",
       "      <td>5</td>\n",
       "      <td>17627.0</td>\n",
       "      <td>10</td>\n",
       "      <td>2</td>\n",
       "    </tr>\n",
       "    <tr>\n",
       "      <th>51521</th>\n",
       "      <td>2700</td>\n",
       "      <td>2002</td>\n",
       "      <td>honda civic</td>\n",
       "      <td>0</td>\n",
       "      <td>4</td>\n",
       "      <td>gas</td>\n",
       "      <td>181500.0</td>\n",
       "      <td>automatic</td>\n",
       "      <td>sedan</td>\n",
       "      <td>white</td>\n",
       "      <td>False</td>\n",
       "      <td>2018-11-14</td>\n",
       "      <td>22</td>\n",
       "      <td>16</td>\n",
       "      <td>11344.0</td>\n",
       "      <td>11</td>\n",
       "      <td>2</td>\n",
       "    </tr>\n",
       "    <tr>\n",
       "      <th>51522</th>\n",
       "      <td>3950</td>\n",
       "      <td>2009</td>\n",
       "      <td>hyundai sonata</td>\n",
       "      <td>3</td>\n",
       "      <td>4</td>\n",
       "      <td>gas</td>\n",
       "      <td>128000.0</td>\n",
       "      <td>automatic</td>\n",
       "      <td>sedan</td>\n",
       "      <td>blue</td>\n",
       "      <td>False</td>\n",
       "      <td>2018-11-15</td>\n",
       "      <td>32</td>\n",
       "      <td>9</td>\n",
       "      <td>14222.0</td>\n",
       "      <td>11</td>\n",
       "      <td>3</td>\n",
       "    </tr>\n",
       "    <tr>\n",
       "      <th>51523</th>\n",
       "      <td>7455</td>\n",
       "      <td>2013</td>\n",
       "      <td>toyota corolla</td>\n",
       "      <td>2</td>\n",
       "      <td>4</td>\n",
       "      <td>gas</td>\n",
       "      <td>139573.0</td>\n",
       "      <td>automatic</td>\n",
       "      <td>sedan</td>\n",
       "      <td>black</td>\n",
       "      <td>False</td>\n",
       "      <td>2018-07-02</td>\n",
       "      <td>71</td>\n",
       "      <td>5</td>\n",
       "      <td>27915.0</td>\n",
       "      <td>7</td>\n",
       "      <td>0</td>\n",
       "    </tr>\n",
       "    <tr>\n",
       "      <th>51524</th>\n",
       "      <td>6300</td>\n",
       "      <td>2014</td>\n",
       "      <td>nissan altima</td>\n",
       "      <td>2</td>\n",
       "      <td>4</td>\n",
       "      <td>gas</td>\n",
       "      <td>129000.0</td>\n",
       "      <td>automatic</td>\n",
       "      <td>sedan</td>\n",
       "      <td>desconocido</td>\n",
       "      <td>False</td>\n",
       "      <td>2018-06-05</td>\n",
       "      <td>10</td>\n",
       "      <td>4</td>\n",
       "      <td>32250.0</td>\n",
       "      <td>6</td>\n",
       "      <td>1</td>\n",
       "    </tr>\n",
       "  </tbody>\n",
       "</table>\n",
       "<p>42256 rows × 17 columns</p>\n",
       "</div>"
      ],
      "text/plain": [
       "       price  model_year           model  condition  cylinders fuel  odometer  \\\n",
       "0       9400        2011          bmw x5          2          6  gas  145000.0   \n",
       "2       5500        2013  hyundai sonata          4          4  gas  110000.0   \n",
       "3       1500        2003      ford f-150          1          8  gas  180800.0   \n",
       "4      14900        2017    chrysler 200          3          4  gas   80903.0   \n",
       "5      14990        2014    chrysler 300          3          6  gas   57954.0   \n",
       "...      ...         ...             ...        ...        ...  ...       ...   \n",
       "51520   9249        2013   nissan maxima          4          6  gas   88136.0   \n",
       "51521   2700        2002     honda civic          0          4  gas  181500.0   \n",
       "51522   3950        2009  hyundai sonata          3          4  gas  128000.0   \n",
       "51523   7455        2013  toyota corolla          2          4  gas  139573.0   \n",
       "51524   6300        2014   nissan altima          2          4  gas  129000.0   \n",
       "\n",
       "      transmission    type  paint_color  is_4wd date_posted  days_listed  \\\n",
       "0        automatic     SUV  desconocido    True  2018-06-23           19   \n",
       "2        automatic   sedan          red   False  2019-02-07           79   \n",
       "3        automatic  pickup  desconocido   False  2019-03-22            9   \n",
       "4        automatic   sedan        black   False  2019-04-02           28   \n",
       "5        automatic   sedan        black    True  2018-06-20           15   \n",
       "...            ...     ...          ...     ...         ...          ...   \n",
       "51520    automatic   sedan        black   False  2018-10-03           37   \n",
       "51521    automatic   sedan        white   False  2018-11-14           22   \n",
       "51522    automatic   sedan         blue   False  2018-11-15           32   \n",
       "51523    automatic   sedan        black   False  2018-07-02           71   \n",
       "51524    automatic   sedan  desconocido   False  2018-06-05           10   \n",
       "\n",
       "       vehicle_age  average_mileage_per_year  month_posted  weekday_posted  \n",
       "0                7                   20714.0             6               5  \n",
       "2                6                   18333.0             2               3  \n",
       "3               16                   11300.0             3               4  \n",
       "4                2                   40452.0             4               1  \n",
       "5                4                   14488.0             6               2  \n",
       "...            ...                       ...           ...             ...  \n",
       "51520            5                   17627.0            10               2  \n",
       "51521           16                   11344.0            11               2  \n",
       "51522            9                   14222.0            11               3  \n",
       "51523            5                   27915.0             7               0  \n",
       "51524            4                   32250.0             6               1  \n",
       "\n",
       "[42256 rows x 17 columns]"
      ]
     },
     "execution_count": 55,
     "metadata": {},
     "output_type": "execute_result"
    }
   ],
   "source": [
    "# Usando la función previamente definida, para el Millaje:\n",
    "analyze_and_plot(df, 'odometer', 'Millaje del Vehículo', 'Millaje', 'Número de Vehículos')"
   ]
  },
  {
   "cell_type": "markdown",
   "metadata": {},
   "source": [
    "Distribución de millaje del vehículo sin valores atípicos, aproximaciones para todos los casos:\n",
    "\n",
    "Fácil de entender e identificar.\n",
    "Millaje en 0, 1000 vehículos. Lo mismo para Millaje en 250000.\n",
    "Millaje en 5000, 300 vehículos. Lo mismo para Millaje en 225000.\n",
    "Millaje en 10000, 450 vehículos. Lo mismo para Millaje en 200000.\n",
    "Millaje en 120000, más de 7000 vehículos.\n",
    "\n",
    "Vehículos con Bajo Millaje:\n",
    "Hay una notable cantidad de vehículos con millaje cercano a 0 (aproximadamente 1000 vehículos). \n",
    "Esto podría indicar que muchos vehículos casi nuevos o con muy poco uso están siendo puestos a la venta. \n",
    "Estos vehículos podrían ser de personas que compran y venden rápidamente, \n",
    "o podrían ser vehículos que no cumplen con las expectativas del dueño inicial.\n",
    "\n",
    "Vehículos de Alto Millaje:\n",
    "Hay alrededor de 1000 vehículos con un millaje cercano a 250,000. \n",
    "Estos son vehículos que han sido usados intensamente a lo largo de los años. \n",
    "Es probable que estos vehículos se vendan a un precio más bajo debido a su alto uso.\n",
    "\n",
    "Distribución Central:\n",
    "La mayor concentración de vehículos se encuentra en el rango de millaje alrededor de 120,000, con más de 7000 vehículos. \n",
    "Esto indica que la mayoría de los vehículos en venta han sido usados moderadamente.\n",
    "\n",
    "Distribución de millaje del vehículo con valores atípicos, aproximaciones para todos los casos:\n",
    "\n",
    "Dificil de entender e identificar.\n",
    "Millaje en 0, 2000 vehículos.\n",
    "Millaje en 0.5, más de 10000 vehículos.\n",
    "Millaje de 0.2 a 0.4, 4000 vehículos.\n",
    "\n",
    "Vehículos con Bajo Millaje:\n",
    "Una alta concentración de vehículos tiene un millaje muy bajo, \n",
    "con 2000 vehículos en 0 y más de 10,000 en 0.5. \n",
    "Este alto número puede haber distorsionado la visualización, lo que hace difícil entender el resto del histograma. \n",
    "Puede haber vehículos que apenas se han movido o que son nuevos.\n",
    "\n",
    "Rango Medio:\n",
    "Hay una distribución uniforme de vehículos con millaje entre 200mil y 400mil con alrededor de 4000 vehículos. \n",
    "Esto quiere decir que el mercado sigue abierto a vehículos viejos pero que dan buen comportamiento para la percepción de los compradores."
   ]
  },
  {
   "cell_type": "markdown",
   "metadata": {},
   "source": [
    "### **Millaje Promedio**"
   ]
  },
  {
   "cell_type": "markdown",
   "metadata": {},
   "source": [
    "Sigamos los mismos pasos que discutimos anteriormente en los otros parámetros:\n",
    "\n",
    "1. Análisis Exploratorio y Visualización\n",
    "\n",
    "Llamar a la función para el Millaje Promedio:"
   ]
  },
  {
   "cell_type": "code",
   "execution_count": 56,
   "metadata": {},
   "outputs": [
    {
     "name": "stdout",
     "output_type": "stream",
     "text": [
      "Número de valores atípicos detectados: 3101\n"
     ]
    },
    {
     "data": {
      "image/png": "[encoded data removed]",
      "text/plain": [
       "<Figure size 864x360 with 2 Axes>"
      ]
     },
     "metadata": {
      "needs_background": "light"
     },
     "output_type": "display_data"
    },
    {
     "data": {
      "text/html": [
       "<div>\n",
       "<style scoped>\n",
       "    .dataframe tbody tr th:only-of-type {\n",
       "        vertical-align: middle;\n",
       "    }\n",
       "\n",
       "    .dataframe tbody tr th {\n",
       "        vertical-align: top;\n",
       "    }\n",
       "\n",
       "    .dataframe thead th {\n",
       "        text-align: right;\n",
       "    }\n",
       "</style>\n",
       "<table border=\"1\" class=\"dataframe\">\n",
       "  <thead>\n",
       "    <tr style=\"text-align: right;\">\n",
       "      <th></th>\n",
       "      <th>price</th>\n",
       "      <th>model_year</th>\n",
       "      <th>model</th>\n",
       "      <th>condition</th>\n",
       "      <th>cylinders</th>\n",
       "      <th>fuel</th>\n",
       "      <th>odometer</th>\n",
       "      <th>transmission</th>\n",
       "      <th>type</th>\n",
       "      <th>paint_color</th>\n",
       "      <th>is_4wd</th>\n",
       "      <th>date_posted</th>\n",
       "      <th>days_listed</th>\n",
       "      <th>vehicle_age</th>\n",
       "      <th>average_mileage_per_year</th>\n",
       "      <th>month_posted</th>\n",
       "      <th>weekday_posted</th>\n",
       "    </tr>\n",
       "  </thead>\n",
       "  <tbody>\n",
       "    <tr>\n",
       "      <th>0</th>\n",
       "      <td>9400</td>\n",
       "      <td>2011</td>\n",
       "      <td>bmw x5</td>\n",
       "      <td>2</td>\n",
       "      <td>6</td>\n",
       "      <td>gas</td>\n",
       "      <td>145000.0</td>\n",
       "      <td>automatic</td>\n",
       "      <td>SUV</td>\n",
       "      <td>desconocido</td>\n",
       "      <td>True</td>\n",
       "      <td>2018-06-23</td>\n",
       "      <td>19</td>\n",
       "      <td>7</td>\n",
       "      <td>20714.0</td>\n",
       "      <td>6</td>\n",
       "      <td>5</td>\n",
       "    </tr>\n",
       "    <tr>\n",
       "      <th>2</th>\n",
       "      <td>5500</td>\n",
       "      <td>2013</td>\n",
       "      <td>hyundai sonata</td>\n",
       "      <td>4</td>\n",
       "      <td>4</td>\n",
       "      <td>gas</td>\n",
       "      <td>110000.0</td>\n",
       "      <td>automatic</td>\n",
       "      <td>sedan</td>\n",
       "      <td>red</td>\n",
       "      <td>False</td>\n",
       "      <td>2019-02-07</td>\n",
       "      <td>79</td>\n",
       "      <td>6</td>\n",
       "      <td>18333.0</td>\n",
       "      <td>2</td>\n",
       "      <td>3</td>\n",
       "    </tr>\n",
       "    <tr>\n",
       "      <th>3</th>\n",
       "      <td>1500</td>\n",
       "      <td>2003</td>\n",
       "      <td>ford f-150</td>\n",
       "      <td>1</td>\n",
       "      <td>8</td>\n",
       "      <td>gas</td>\n",
       "      <td>180800.0</td>\n",
       "      <td>automatic</td>\n",
       "      <td>pickup</td>\n",
       "      <td>desconocido</td>\n",
       "      <td>False</td>\n",
       "      <td>2019-03-22</td>\n",
       "      <td>9</td>\n",
       "      <td>16</td>\n",
       "      <td>11300.0</td>\n",
       "      <td>3</td>\n",
       "      <td>4</td>\n",
       "    </tr>\n",
       "    <tr>\n",
       "      <th>5</th>\n",
       "      <td>14990</td>\n",
       "      <td>2014</td>\n",
       "      <td>chrysler 300</td>\n",
       "      <td>3</td>\n",
       "      <td>6</td>\n",
       "      <td>gas</td>\n",
       "      <td>57954.0</td>\n",
       "      <td>automatic</td>\n",
       "      <td>sedan</td>\n",
       "      <td>black</td>\n",
       "      <td>True</td>\n",
       "      <td>2018-06-20</td>\n",
       "      <td>15</td>\n",
       "      <td>4</td>\n",
       "      <td>14488.0</td>\n",
       "      <td>6</td>\n",
       "      <td>2</td>\n",
       "    </tr>\n",
       "    <tr>\n",
       "      <th>6</th>\n",
       "      <td>12990</td>\n",
       "      <td>2015</td>\n",
       "      <td>toyota camry</td>\n",
       "      <td>3</td>\n",
       "      <td>4</td>\n",
       "      <td>gas</td>\n",
       "      <td>79212.0</td>\n",
       "      <td>automatic</td>\n",
       "      <td>sedan</td>\n",
       "      <td>white</td>\n",
       "      <td>False</td>\n",
       "      <td>2018-12-27</td>\n",
       "      <td>73</td>\n",
       "      <td>3</td>\n",
       "      <td>26404.0</td>\n",
       "      <td>12</td>\n",
       "      <td>3</td>\n",
       "    </tr>\n",
       "    <tr>\n",
       "      <th>...</th>\n",
       "      <td>...</td>\n",
       "      <td>...</td>\n",
       "      <td>...</td>\n",
       "      <td>...</td>\n",
       "      <td>...</td>\n",
       "      <td>...</td>\n",
       "      <td>...</td>\n",
       "      <td>...</td>\n",
       "      <td>...</td>\n",
       "      <td>...</td>\n",
       "      <td>...</td>\n",
       "      <td>...</td>\n",
       "      <td>...</td>\n",
       "      <td>...</td>\n",
       "      <td>...</td>\n",
       "      <td>...</td>\n",
       "      <td>...</td>\n",
       "    </tr>\n",
       "    <tr>\n",
       "      <th>51520</th>\n",
       "      <td>9249</td>\n",
       "      <td>2013</td>\n",
       "      <td>nissan maxima</td>\n",
       "      <td>4</td>\n",
       "      <td>6</td>\n",
       "      <td>gas</td>\n",
       "      <td>88136.0</td>\n",
       "      <td>automatic</td>\n",
       "      <td>sedan</td>\n",
       "      <td>black</td>\n",
       "      <td>False</td>\n",
       "      <td>2018-10-03</td>\n",
       "      <td>37</td>\n",
       "      <td>5</td>\n",
       "      <td>17627.0</td>\n",
       "      <td>10</td>\n",
       "      <td>2</td>\n",
       "    </tr>\n",
       "    <tr>\n",
       "      <th>51521</th>\n",
       "      <td>2700</td>\n",
       "      <td>2002</td>\n",
       "      <td>honda civic</td>\n",
       "      <td>0</td>\n",
       "      <td>4</td>\n",
       "      <td>gas</td>\n",
       "      <td>181500.0</td>\n",
       "      <td>automatic</td>\n",
       "      <td>sedan</td>\n",
       "      <td>white</td>\n",
       "      <td>False</td>\n",
       "      <td>2018-11-14</td>\n",
       "      <td>22</td>\n",
       "      <td>16</td>\n",
       "      <td>11344.0</td>\n",
       "      <td>11</td>\n",
       "      <td>2</td>\n",
       "    </tr>\n",
       "    <tr>\n",
       "      <th>51522</th>\n",
       "      <td>3950</td>\n",
       "      <td>2009</td>\n",
       "      <td>hyundai sonata</td>\n",
       "      <td>3</td>\n",
       "      <td>4</td>\n",
       "      <td>gas</td>\n",
       "      <td>128000.0</td>\n",
       "      <td>automatic</td>\n",
       "      <td>sedan</td>\n",
       "      <td>blue</td>\n",
       "      <td>False</td>\n",
       "      <td>2018-11-15</td>\n",
       "      <td>32</td>\n",
       "      <td>9</td>\n",
       "      <td>14222.0</td>\n",
       "      <td>11</td>\n",
       "      <td>3</td>\n",
       "    </tr>\n",
       "    <tr>\n",
       "      <th>51523</th>\n",
       "      <td>7455</td>\n",
       "      <td>2013</td>\n",
       "      <td>toyota corolla</td>\n",
       "      <td>2</td>\n",
       "      <td>4</td>\n",
       "      <td>gas</td>\n",
       "      <td>139573.0</td>\n",
       "      <td>automatic</td>\n",
       "      <td>sedan</td>\n",
       "      <td>black</td>\n",
       "      <td>False</td>\n",
       "      <td>2018-07-02</td>\n",
       "      <td>71</td>\n",
       "      <td>5</td>\n",
       "      <td>27915.0</td>\n",
       "      <td>7</td>\n",
       "      <td>0</td>\n",
       "    </tr>\n",
       "    <tr>\n",
       "      <th>51524</th>\n",
       "      <td>6300</td>\n",
       "      <td>2014</td>\n",
       "      <td>nissan altima</td>\n",
       "      <td>2</td>\n",
       "      <td>4</td>\n",
       "      <td>gas</td>\n",
       "      <td>129000.0</td>\n",
       "      <td>automatic</td>\n",
       "      <td>sedan</td>\n",
       "      <td>desconocido</td>\n",
       "      <td>False</td>\n",
       "      <td>2018-06-05</td>\n",
       "      <td>10</td>\n",
       "      <td>4</td>\n",
       "      <td>32250.0</td>\n",
       "      <td>6</td>\n",
       "      <td>1</td>\n",
       "    </tr>\n",
       "  </tbody>\n",
       "</table>\n",
       "<p>39908 rows × 17 columns</p>\n",
       "</div>"
      ],
      "text/plain": [
       "       price  model_year           model  condition  cylinders fuel  odometer  \\\n",
       "0       9400        2011          bmw x5          2          6  gas  145000.0   \n",
       "2       5500        2013  hyundai sonata          4          4  gas  110000.0   \n",
       "3       1500        2003      ford f-150          1          8  gas  180800.0   \n",
       "5      14990        2014    chrysler 300          3          6  gas   57954.0   \n",
       "6      12990        2015    toyota camry          3          4  gas   79212.0   \n",
       "...      ...         ...             ...        ...        ...  ...       ...   \n",
       "51520   9249        2013   nissan maxima          4          6  gas   88136.0   \n",
       "51521   2700        2002     honda civic          0          4  gas  181500.0   \n",
       "51522   3950        2009  hyundai sonata          3          4  gas  128000.0   \n",
       "51523   7455        2013  toyota corolla          2          4  gas  139573.0   \n",
       "51524   6300        2014   nissan altima          2          4  gas  129000.0   \n",
       "\n",
       "      transmission    type  paint_color  is_4wd date_posted  days_listed  \\\n",
       "0        automatic     SUV  desconocido    True  2018-06-23           19   \n",
       "2        automatic   sedan          red   False  2019-02-07           79   \n",
       "3        automatic  pickup  desconocido   False  2019-03-22            9   \n",
       "5        automatic   sedan        black    True  2018-06-20           15   \n",
       "6        automatic   sedan        white   False  2018-12-27           73   \n",
       "...            ...     ...          ...     ...         ...          ...   \n",
       "51520    automatic   sedan        black   False  2018-10-03           37   \n",
       "51521    automatic   sedan        white   False  2018-11-14           22   \n",
       "51522    automatic   sedan         blue   False  2018-11-15           32   \n",
       "51523    automatic   sedan        black   False  2018-07-02           71   \n",
       "51524    automatic   sedan  desconocido   False  2018-06-05           10   \n",
       "\n",
       "       vehicle_age  average_mileage_per_year  month_posted  weekday_posted  \n",
       "0                7                   20714.0             6               5  \n",
       "2                6                   18333.0             2               3  \n",
       "3               16                   11300.0             3               4  \n",
       "5                4                   14488.0             6               2  \n",
       "6                3                   26404.0            12               3  \n",
       "...            ...                       ...           ...             ...  \n",
       "51520            5                   17627.0            10               2  \n",
       "51521           16                   11344.0            11               2  \n",
       "51522            9                   14222.0            11               3  \n",
       "51523            5                   27915.0             7               0  \n",
       "51524            4                   32250.0             6               1  \n",
       "\n",
       "[39908 rows x 17 columns]"
      ]
     },
     "execution_count": 56,
     "metadata": {},
     "output_type": "execute_result"
    }
   ],
   "source": [
    "analyze_and_plot(df, 'average_mileage_per_year', 'Distribución del Millaje Promedio por Año', 'Millaje Promedio por Año', 'Número de Vehículos')"
   ]
  },
  {
   "cell_type": "markdown",
   "metadata": {},
   "source": [
    "Sin valores atípicos (recordemos que los valores o datos son aproximados o cercanos):\n",
    "0 a 834 Millas, 750 vehículos.\n",
    "5000 a 5834 Millas, 625 vehículos.\n",
    "10000 a 10834 Millas, 1750 vehículos.\n",
    "12000 Millas, 2000 vehículos.\n",
    "13000 Millas, 2100 vehículos.\n",
    "15000 a 15834 Millas, 1625 vehículos.\n",
    "20000 a 20834 Millas, 1000 vehículos.\n",
    "25000 a 25834 Millas, 500 vehículos.\n",
    "30000 a 30834, 250 vehículos.\n",
    "35000 a 35834, 200 vehículos.\n",
    "40000 a 40834, 150 vehículos.\n",
    "\n",
    "Bajo millaje anual: Hay una cantidad significativa de vehículos (750) con un millaje anual muy bajo de 0 a 834 millas.\n",
    "\n",
    "Millaje medio: Una gran proporción de vehículos tienen un millaje promedio de entre 10,000 y 15,000 millas por año. \n",
    "La mayoría cae en el rango de 12,000 a 13,000 millas, lo cual es coherente con el uso medio anual de un vehículo.\n",
    "\n",
    "Alto millaje anual: La cantidad de vehículos disminuye a medida que el millaje anual aumenta más allá de 15,000. Es notable ver cómo la cantidad de vehículos disminuye drásticamente cuando el millaje promedio por año supera las 25,000 millas.\n",
    "\n",
    "Con valores atípicos (recordemos que los valores o datos son aproximados o cercanos):\n",
    "\n",
    "0 Millas, 5000 vehículos.\n",
    "9000 Millas, 16000 vehículos.\n",
    "18000 Millas, 11000 vehículos.\n",
    "27000 Millas, 5000 vehículos.\n",
    "36000 Millas, 3300 vehículos.\n",
    "45000 Millas, 1600 vehículos.\n",
    "50000 Millas, 300 vehículos.\n",
    "59000 a 95000 Millas, son 6 columnas con 100 vehículos.\n",
    "100000 Millas, 100 vehículos.\n",
    "109000 Millas, 100 vehículos.\n",
    "120000 Millas, 400 vehículos.\n",
    "\n",
    "Bajo millaje: Hay un alto número de vehículos (5000) con 0 millas de millaje promedio por año. \n",
    "Esto es bastante inusual y puede sugerir vehículos que son raramente usados o que posiblemente sean errores en los datos.\n",
    "\n",
    "Popularidad de rangos de millaje: La mayoría de los vehículos caen en el rango de 9,000 a 18,000 millas por año, siendo 9,000 y 18,000 las cifras más comunes.\n",
    "\n",
    "Millaje extremadamente alto: Hay vehículos con un millaje anual de más de 59,000 millas. Estos valores son muy atípicos y sugieren un uso extremadamente alto del vehículo o posibles errores en los datos."
   ]
  },
  {
   "cell_type": "markdown",
   "metadata": {},
   "source": [
    "### **Número de cilindros**"
   ]
  },
  {
   "cell_type": "markdown",
   "metadata": {},
   "source": [
    "Análisis Exploratorio y Visualización\n",
    "Llamar a la función, para el número de cilindros:"
   ]
  },
  {
   "cell_type": "code",
   "execution_count": 57,
   "metadata": {},
   "outputs": [
    {
     "name": "stdout",
     "output_type": "stream",
     "text": [
      "Número de valores atípicos detectados: 0\n"
     ]
    },
    {
     "data": {
      "image/png": "[encoded data removed]",
      "text/plain": [
       "<Figure size 864x360 with 2 Axes>"
      ]
     },
     "metadata": {
      "needs_background": "light"
     },
     "output_type": "display_data"
    },
    {
     "data": {
      "text/html": [
       "<div>\n",
       "<style scoped>\n",
       "    .dataframe tbody tr th:only-of-type {\n",
       "        vertical-align: middle;\n",
       "    }\n",
       "\n",
       "    .dataframe tbody tr th {\n",
       "        vertical-align: top;\n",
       "    }\n",
       "\n",
       "    .dataframe thead th {\n",
       "        text-align: right;\n",
       "    }\n",
       "</style>\n",
       "<table border=\"1\" class=\"dataframe\">\n",
       "  <thead>\n",
       "    <tr style=\"text-align: right;\">\n",
       "      <th></th>\n",
       "      <th>price</th>\n",
       "      <th>model_year</th>\n",
       "      <th>model</th>\n",
       "      <th>condition</th>\n",
       "      <th>cylinders</th>\n",
       "      <th>fuel</th>\n",
       "      <th>odometer</th>\n",
       "      <th>transmission</th>\n",
       "      <th>type</th>\n",
       "      <th>paint_color</th>\n",
       "      <th>is_4wd</th>\n",
       "      <th>date_posted</th>\n",
       "      <th>days_listed</th>\n",
       "      <th>vehicle_age</th>\n",
       "      <th>average_mileage_per_year</th>\n",
       "      <th>month_posted</th>\n",
       "      <th>weekday_posted</th>\n",
       "    </tr>\n",
       "  </thead>\n",
       "  <tbody>\n",
       "    <tr>\n",
       "      <th>0</th>\n",
       "      <td>9400</td>\n",
       "      <td>2011</td>\n",
       "      <td>bmw x5</td>\n",
       "      <td>2</td>\n",
       "      <td>6</td>\n",
       "      <td>gas</td>\n",
       "      <td>145000.0</td>\n",
       "      <td>automatic</td>\n",
       "      <td>SUV</td>\n",
       "      <td>desconocido</td>\n",
       "      <td>True</td>\n",
       "      <td>2018-06-23</td>\n",
       "      <td>19</td>\n",
       "      <td>7</td>\n",
       "      <td>20714.0</td>\n",
       "      <td>6</td>\n",
       "      <td>5</td>\n",
       "    </tr>\n",
       "    <tr>\n",
       "      <th>2</th>\n",
       "      <td>5500</td>\n",
       "      <td>2013</td>\n",
       "      <td>hyundai sonata</td>\n",
       "      <td>4</td>\n",
       "      <td>4</td>\n",
       "      <td>gas</td>\n",
       "      <td>110000.0</td>\n",
       "      <td>automatic</td>\n",
       "      <td>sedan</td>\n",
       "      <td>red</td>\n",
       "      <td>False</td>\n",
       "      <td>2019-02-07</td>\n",
       "      <td>79</td>\n",
       "      <td>6</td>\n",
       "      <td>18333.0</td>\n",
       "      <td>2</td>\n",
       "      <td>3</td>\n",
       "    </tr>\n",
       "    <tr>\n",
       "      <th>3</th>\n",
       "      <td>1500</td>\n",
       "      <td>2003</td>\n",
       "      <td>ford f-150</td>\n",
       "      <td>1</td>\n",
       "      <td>8</td>\n",
       "      <td>gas</td>\n",
       "      <td>180800.0</td>\n",
       "      <td>automatic</td>\n",
       "      <td>pickup</td>\n",
       "      <td>desconocido</td>\n",
       "      <td>False</td>\n",
       "      <td>2019-03-22</td>\n",
       "      <td>9</td>\n",
       "      <td>16</td>\n",
       "      <td>11300.0</td>\n",
       "      <td>3</td>\n",
       "      <td>4</td>\n",
       "    </tr>\n",
       "    <tr>\n",
       "      <th>4</th>\n",
       "      <td>14900</td>\n",
       "      <td>2017</td>\n",
       "      <td>chrysler 200</td>\n",
       "      <td>3</td>\n",
       "      <td>4</td>\n",
       "      <td>gas</td>\n",
       "      <td>80903.0</td>\n",
       "      <td>automatic</td>\n",
       "      <td>sedan</td>\n",
       "      <td>black</td>\n",
       "      <td>False</td>\n",
       "      <td>2019-04-02</td>\n",
       "      <td>28</td>\n",
       "      <td>2</td>\n",
       "      <td>40452.0</td>\n",
       "      <td>4</td>\n",
       "      <td>1</td>\n",
       "    </tr>\n",
       "    <tr>\n",
       "      <th>5</th>\n",
       "      <td>14990</td>\n",
       "      <td>2014</td>\n",
       "      <td>chrysler 300</td>\n",
       "      <td>3</td>\n",
       "      <td>6</td>\n",
       "      <td>gas</td>\n",
       "      <td>57954.0</td>\n",
       "      <td>automatic</td>\n",
       "      <td>sedan</td>\n",
       "      <td>black</td>\n",
       "      <td>True</td>\n",
       "      <td>2018-06-20</td>\n",
       "      <td>15</td>\n",
       "      <td>4</td>\n",
       "      <td>14488.0</td>\n",
       "      <td>6</td>\n",
       "      <td>2</td>\n",
       "    </tr>\n",
       "    <tr>\n",
       "      <th>...</th>\n",
       "      <td>...</td>\n",
       "      <td>...</td>\n",
       "      <td>...</td>\n",
       "      <td>...</td>\n",
       "      <td>...</td>\n",
       "      <td>...</td>\n",
       "      <td>...</td>\n",
       "      <td>...</td>\n",
       "      <td>...</td>\n",
       "      <td>...</td>\n",
       "      <td>...</td>\n",
       "      <td>...</td>\n",
       "      <td>...</td>\n",
       "      <td>...</td>\n",
       "      <td>...</td>\n",
       "      <td>...</td>\n",
       "      <td>...</td>\n",
       "    </tr>\n",
       "    <tr>\n",
       "      <th>51520</th>\n",
       "      <td>9249</td>\n",
       "      <td>2013</td>\n",
       "      <td>nissan maxima</td>\n",
       "      <td>4</td>\n",
       "      <td>6</td>\n",
       "      <td>gas</td>\n",
       "      <td>88136.0</td>\n",
       "      <td>automatic</td>\n",
       "      <td>sedan</td>\n",
       "      <td>black</td>\n",
       "      <td>False</td>\n",
       "      <td>2018-10-03</td>\n",
       "      <td>37</td>\n",
       "      <td>5</td>\n",
       "      <td>17627.0</td>\n",
       "      <td>10</td>\n",
       "      <td>2</td>\n",
       "    </tr>\n",
       "    <tr>\n",
       "      <th>51521</th>\n",
       "      <td>2700</td>\n",
       "      <td>2002</td>\n",
       "      <td>honda civic</td>\n",
       "      <td>0</td>\n",
       "      <td>4</td>\n",
       "      <td>gas</td>\n",
       "      <td>181500.0</td>\n",
       "      <td>automatic</td>\n",
       "      <td>sedan</td>\n",
       "      <td>white</td>\n",
       "      <td>False</td>\n",
       "      <td>2018-11-14</td>\n",
       "      <td>22</td>\n",
       "      <td>16</td>\n",
       "      <td>11344.0</td>\n",
       "      <td>11</td>\n",
       "      <td>2</td>\n",
       "    </tr>\n",
       "    <tr>\n",
       "      <th>51522</th>\n",
       "      <td>3950</td>\n",
       "      <td>2009</td>\n",
       "      <td>hyundai sonata</td>\n",
       "      <td>3</td>\n",
       "      <td>4</td>\n",
       "      <td>gas</td>\n",
       "      <td>128000.0</td>\n",
       "      <td>automatic</td>\n",
       "      <td>sedan</td>\n",
       "      <td>blue</td>\n",
       "      <td>False</td>\n",
       "      <td>2018-11-15</td>\n",
       "      <td>32</td>\n",
       "      <td>9</td>\n",
       "      <td>14222.0</td>\n",
       "      <td>11</td>\n",
       "      <td>3</td>\n",
       "    </tr>\n",
       "    <tr>\n",
       "      <th>51523</th>\n",
       "      <td>7455</td>\n",
       "      <td>2013</td>\n",
       "      <td>toyota corolla</td>\n",
       "      <td>2</td>\n",
       "      <td>4</td>\n",
       "      <td>gas</td>\n",
       "      <td>139573.0</td>\n",
       "      <td>automatic</td>\n",
       "      <td>sedan</td>\n",
       "      <td>black</td>\n",
       "      <td>False</td>\n",
       "      <td>2018-07-02</td>\n",
       "      <td>71</td>\n",
       "      <td>5</td>\n",
       "      <td>27915.0</td>\n",
       "      <td>7</td>\n",
       "      <td>0</td>\n",
       "    </tr>\n",
       "    <tr>\n",
       "      <th>51524</th>\n",
       "      <td>6300</td>\n",
       "      <td>2014</td>\n",
       "      <td>nissan altima</td>\n",
       "      <td>2</td>\n",
       "      <td>4</td>\n",
       "      <td>gas</td>\n",
       "      <td>129000.0</td>\n",
       "      <td>automatic</td>\n",
       "      <td>sedan</td>\n",
       "      <td>desconocido</td>\n",
       "      <td>False</td>\n",
       "      <td>2018-06-05</td>\n",
       "      <td>10</td>\n",
       "      <td>4</td>\n",
       "      <td>32250.0</td>\n",
       "      <td>6</td>\n",
       "      <td>1</td>\n",
       "    </tr>\n",
       "  </tbody>\n",
       "</table>\n",
       "<p>43009 rows × 17 columns</p>\n",
       "</div>"
      ],
      "text/plain": [
       "       price  model_year           model  condition  cylinders fuel  odometer  \\\n",
       "0       9400        2011          bmw x5          2          6  gas  145000.0   \n",
       "2       5500        2013  hyundai sonata          4          4  gas  110000.0   \n",
       "3       1500        2003      ford f-150          1          8  gas  180800.0   \n",
       "4      14900        2017    chrysler 200          3          4  gas   80903.0   \n",
       "5      14990        2014    chrysler 300          3          6  gas   57954.0   \n",
       "...      ...         ...             ...        ...        ...  ...       ...   \n",
       "51520   9249        2013   nissan maxima          4          6  gas   88136.0   \n",
       "51521   2700        2002     honda civic          0          4  gas  181500.0   \n",
       "51522   3950        2009  hyundai sonata          3          4  gas  128000.0   \n",
       "51523   7455        2013  toyota corolla          2          4  gas  139573.0   \n",
       "51524   6300        2014   nissan altima          2          4  gas  129000.0   \n",
       "\n",
       "      transmission    type  paint_color  is_4wd date_posted  days_listed  \\\n",
       "0        automatic     SUV  desconocido    True  2018-06-23           19   \n",
       "2        automatic   sedan          red   False  2019-02-07           79   \n",
       "3        automatic  pickup  desconocido   False  2019-03-22            9   \n",
       "4        automatic   sedan        black   False  2019-04-02           28   \n",
       "5        automatic   sedan        black    True  2018-06-20           15   \n",
       "...            ...     ...          ...     ...         ...          ...   \n",
       "51520    automatic   sedan        black   False  2018-10-03           37   \n",
       "51521    automatic   sedan        white   False  2018-11-14           22   \n",
       "51522    automatic   sedan         blue   False  2018-11-15           32   \n",
       "51523    automatic   sedan        black   False  2018-07-02           71   \n",
       "51524    automatic   sedan  desconocido   False  2018-06-05           10   \n",
       "\n",
       "       vehicle_age  average_mileage_per_year  month_posted  weekday_posted  \n",
       "0                7                   20714.0             6               5  \n",
       "2                6                   18333.0             2               3  \n",
       "3               16                   11300.0             3               4  \n",
       "4                2                   40452.0             4               1  \n",
       "5                4                   14488.0             6               2  \n",
       "...            ...                       ...           ...             ...  \n",
       "51520            5                   17627.0            10               2  \n",
       "51521           16                   11344.0            11               2  \n",
       "51522            9                   14222.0            11               3  \n",
       "51523            5                   27915.0             7               0  \n",
       "51524            4                   32250.0             6               1  \n",
       "\n",
       "[43009 rows x 17 columns]"
      ]
     },
     "execution_count": 57,
     "metadata": {},
     "output_type": "execute_result"
    }
   ],
   "source": [
    "analyze_and_plot(df, 'cylinders', 'Distribución del Número de Cilindros', 'Número de Cilindros', 'Número de Vehículos')"
   ]
  },
  {
   "cell_type": "markdown",
   "metadata": {},
   "source": [
    "En el parametro número de cilindros, observamos que ambos gráficos se ven y leen igual.\n",
    "Con cifras aproximadas:\n",
    "\n",
    "Vehículos de 1 a 3 cilindros, son alrededor de 200.\n",
    "\n",
    "Vehículos de 4 cilindros, son alrededor de 13000.\n",
    "\n",
    "5 cilindros, alrededor de 300.\n",
    "\n",
    "6 cilindros, alrededor de 14000.\n",
    "\n",
    "8 cilindros, alrededor de 14000.\n",
    "\n",
    "10 cilindros, alrededor de 400.\n",
    "\n",
    "12 cilindros, alrededor de 100."
   ]
  },
  {
   "cell_type": "markdown",
   "metadata": {},
   "source": [
    "El parámetro \"número de cilindros\".\n",
    "Es interesante en varios aspectos:\n",
    "\n",
    "Distribución General: La mayoría de los vehículos caen en las categorías de 4, 6 y 8 cilindros. \n",
    "Esto es esperado, ya que estos son los tipos de motores más comunes en automóviles y camionetas.\n",
    "\n",
    "No hay Valores Atípicos: Es útil notar que no hay valores atípicos en este parámetro. \n",
    "Esto sugiere que todos los valores de cilindros presentes en el conjunto de datos son típicos para vehículos.\n",
    "\n",
    "Vehículos con Cilindros Impares: \n",
    "Hay vehículos con 3 y 5 cilindros, aunque son mucho menos comunes. \n",
    "Los vehículos de 3 cilindros suelen ser más eficientes en términos de consumo de combustible y se encuentran comúnmente en coches más pequeños. \n",
    "Los de 5 cilindros, por otro lado, ofrecen un equilibrio entre potencia y eficiencia, y se pueden encontrar en ciertos modelos de automóviles.\n",
    "\n",
    "Vehículos de Alta Potencia: \n",
    "Los vehículos con 10 y 12 cilindros son raros y suelen asociarse con coches de lujo o deportivos de alto rendimiento. \n",
    "Su presencia en el conjunto de datos es limitada, pero reflejan la variedad de vehículos disponibles en el mercado.\n",
    "\n",
    "En resumen, el análisis del número de cilindros muestra una distribución esperada con una concentración en torno a 4, 6 y 8 cilindros, y algunas categorías menos comunes que reflejan la diversidad de vehículos en el mercado. \n",
    "\n",
    "Es una buena señal que no haya valores atípicos, ya que esto indica que los datos son consistentes y reflejan realidades típicas del mercado automovilístico."
   ]
  },
  {
   "cell_type": "markdown",
   "metadata": {},
   "source": [
    "### **Estado**"
   ]
  },
  {
   "cell_type": "markdown",
   "metadata": {},
   "source": [
    "Para el parámetro \"estado\", estamos lidiando con datos categóricos, no numéricos. \n",
    "Los histogramas son ideales para datos numéricos, pero para datos categóricos como \"estado\", encontramos un diagrama de barras es más adecuado.\n",
    "\n",
    "Se ha utilizado anteriormente la función analyze_and_plot para analizar y visualizar los datos, se puede modificar para adaptarle:"
   ]
  },
  {
   "cell_type": "code",
   "execution_count": 58,
   "metadata": {},
   "outputs": [],
   "source": [
    "def analyze_and_plot_categorical(data, column, title, xlabel, ylabel):\n",
    "    # Paso 1: Visualización inicial\n",
    "    plt.figure(figsize=(12,5))\n",
    "    plt.subplot(1,2,1)\n",
    "    data[column].value_counts().plot(kind='bar', edgecolor='black', color='skyblue')\n",
    "    plt.title(f'Distribución inicial de {title}')\n",
    "    plt.xlabel(xlabel)\n",
    "    plt.ylabel(ylabel)\n",
    "    \n",
    "    # Paso 2: Identificación de Valores Atípicos basado en frecuencia relativa\n",
    "    total = len(data)\n",
    "    relative_freq = data[column].value_counts() / total\n",
    "    outliers = relative_freq[relative_freq < 0.01].index.tolist()  # consideramos atípicos aquellos con una frecuencia relativa menor al 1%\n",
    "    print(f\"Categorías atípicas detectadas: {outliers}\")\n",
    "    \n",
    "    # Paso 3: Excluir Valores Atípicos\n",
    "    filtered_data = data[~data[column].isin(outliers)]\n",
    "    \n",
    "    # Paso 4: Revisualización\n",
    "    plt.subplot(1,2,2)\n",
    "    filtered_data[column].value_counts().plot(kind='bar', edgecolor='black', color='skyblue')\n",
    "    plt.title(f'Distribución de {title} sin valores atípicos')\n",
    "    plt.xlabel(xlabel)\n",
    "    plt.ylabel(ylabel)\n",
    "    \n",
    "    plt.tight_layout()\n",
    "    plt.show()\n",
    "\n",
    "    return filtered_data  # Devolvemos el DataFrame filtrado"
   ]
  },
  {
   "cell_type": "markdown",
   "metadata": {},
   "source": [
    "Visualicemos la distribución de los estados de los vehículos:"
   ]
  },
  {
   "cell_type": "code",
   "execution_count": 59,
   "metadata": {},
   "outputs": [
    {
     "name": "stdout",
     "output_type": "stream",
     "text": [
      "Categorías atípicas detectadas: [5, 0]\n"
     ]
    },
    {
     "data": {
      "image/png": "[encoded data removed]",
      "text/plain": [
       "<Figure size 864x360 with 2 Axes>"
      ]
     },
     "metadata": {
      "needs_background": "light"
     },
     "output_type": "display_data"
    }
   ],
   "source": [
    "filtered_df = analyze_and_plot_categorical(df, 'condition', 'Condición del Vehículo', 'Condición', 'Número de Vehículos')"
   ]
  },
  {
   "cell_type": "markdown",
   "metadata": {},
   "source": [
    "Gráfico sin valores atípicos:\n",
    "\n",
    "Como nuevo o like new es 4, tiene casi 5000 vehículos.\n",
    "\n",
    "Excelente o excellent es 3, tiene más de 20000 vehículos.\n",
    "\n",
    "Bueno o good es 2, tiene casi 17500 vehículos.\n",
    "\n",
    "Regular o fair es 1, probablemente 2000 vehículos.\n",
    "\n",
    "\n",
    "Gráfico con valores atípicos:\n",
    "\n",
    "Nuevo o new es 5, tiene probablemente 150 vehículos.\n",
    "\n",
    "Como nuevo o like new es 4, tiene casi 5000 vehículos.\n",
    "\n",
    "Excelente o excellent es 3, tiene 20000 vehículos.\n",
    "\n",
    "Bueno o good es 2, tiene casi 17500 vehículos.\n",
    "\n",
    "Regular o fair es 1, probablemente 2000 vehículos.\n",
    "\n",
    "Malo o salvage es 0, probablemente 150 vehículos."
   ]
  },
  {
   "cell_type": "markdown",
   "metadata": {},
   "source": [
    "Es bueno ver que la mayoría de los vehículos están en buenas condiciones, con \"Excelente\" y \"Bueno\" siendo las categorías más comunes. \n",
    "Esto indica que los vehículos en el conjunto de datos tienden a estar bien mantenidos y en buen estado general.\n",
    "\n",
    "Es interesante notar que hay una pequeña cantidad de vehículos etiquetados como \"Nuevo\", lo que es atípico dado que la mayoría de los vehículos usados no deberían tener esta etiqueta. \n",
    "\n",
    "Además, solo unos pocos vehículos tienen la condición \"Malo\", lo que podría indicar que la gente generalmente no vende vehículos en muy mal estado o que estos vehículos se venden a través de diferentes canales y no se incluyen en este conjunto de datos.\n",
    "\n",
    "En resumen, esta exploración de la condición del vehículo proporciona una imagen valiosa de la calidad general de los vehículos disponibles en el mercado de autos usados representado por tu conjunto de datos."
   ]
  },
  {
   "cell_type": "markdown",
   "metadata": {},
   "source": [
    "## Estudiar y tratar valores atípicos"
   ]
  },
  {
   "cell_type": "markdown",
   "metadata": {},
   "source": [
    "En la sección 1.6, ya se han identificado los valores atípicos, con el método IQR o rango intercuartil, para definir los límites superiores e inferiores de valores atípicos.\n",
    "También se ha creado un DataFrame, para los principales parámetros."
   ]
  },
  {
   "cell_type": "markdown",
   "metadata": {},
   "source": [
    "## Estudiar parámetros principales sin valores atípicos"
   ]
  },
  {
   "cell_type": "markdown",
   "metadata": {},
   "source": [
    "En la sección 1.6, ya se usaron los datos filtrados para crear histogramas, así mismo se comparo los graficos con valores y sin valores atípicos. También se sacaron conclusiones."
   ]
  },
  {
   "cell_type": "markdown",
   "metadata": {},
   "source": [
    "<div class=\"alert alert-block alert-success\">\n",
    "    <b>Comentario del revisor</b> <a class=\"tocSkip\"></a>\n",
    "    \n",
    "Buen trabajo Jesús, esta forma de presentar el análisis de las distribuciones de cada variable tanto en versión normal como en la de outliers enriquece mucho las conclusiones realizadas.</div>\n",
    "\n",
    "\n",
    "<div class=\"alert alert-block alert-info\">\n",
    "<b>Respuesta del estudiante</b> <a class=\"tocSkip\"></a>\n",
    "\n",
    "Muchas gracias."
   ]
  },
  {
   "cell_type": "markdown",
   "metadata": {},
   "source": [
    "## Periodo de colocación de los anuncios"
   ]
  },
  {
   "cell_type": "markdown",
   "metadata": {},
   "source": [
    "Para estudiar el periodo de colocación de los anuncios en términos del número de días que los anuncios fueron mostrados (days_listed), primero debemos calcular estadísticas descriptivas clave como la media y la mediana. \n",
    "\n",
    "Luego, para determinar cuándo se eliminaron rápidamente los anuncios y cuándo se mantuvieron publicados por un periodo anormalmente largo, usaremos técnicas de detección de valores atípicos.\n",
    "\n",
    "Vamos a realizar este análisis paso a paso:"
   ]
  },
  {
   "cell_type": "markdown",
   "metadata": {},
   "source": [
    "Cálculo de la media y la mediana:\n",
    "\n",
    "Primero, obtenemos la media y la mediana del periodo de colocación de los anuncios (days_listed)."
   ]
  },
  {
   "cell_type": "code",
   "execution_count": 60,
   "metadata": {},
   "outputs": [
    {
     "name": "stdout",
     "output_type": "stream",
     "text": [
      "Media de días listados: 39.57\n",
      "Mediana de días listados: 33.0\n"
     ]
    }
   ],
   "source": [
    "media = df['days_listed'].mean()\n",
    "mediana = df['days_listed'].median()\n",
    "print(f\"Media de días listados: {media:.2f}\")\n",
    "print(f\"Mediana de días listados: {mediana}\")"
   ]
  },
  {
   "cell_type": "markdown",
   "metadata": {},
   "source": [
    "Primero, tenemos la media y la mediana de los días en que los anuncios estuvieron listados, que son: \n",
    "39.57 y 33.0 respectivamente.\n",
    "\n",
    "La media (promedio) de 39.57 días nos indica que, en promedio, los anuncios se mantienen listados durante un poco más de un mes. \n",
    "Sin embargo, el valor de la media puede verse influenciado por valores extremadamente bajos o altos (valores atípicos).\n",
    "\n",
    "Por otro lado, la mediana es el valor del medio cuando todos los valores están ordenados. \n",
    "Una mediana de 33.0 días indica que el 50% de los anuncios estuvo listado por 33 días o menos, mientras que el otro 50% estuvo listado por 33 días o más. \n",
    "Esto da una mejor idea de lo que es \"típico\".\n",
    "\n",
    "El periodo de colocación habitual de un anuncio parece rondar el mes, con algunos anuncios durando un poco más y otros un poco menos.\n",
    "\n",
    "Ahora, para determinar cuándo se eliminaron rápidamente los anuncios y cuándo se publicaron por un tiempo anormalmente largo, podemos usar el rango intercuartil:"
   ]
  },
  {
   "cell_type": "code",
   "execution_count": 61,
   "metadata": {},
   "outputs": [
    {
     "name": "stdout",
     "output_type": "stream",
     "text": [
      "Número de anuncios eliminados rápidamente: 0\n",
      "Número de anuncios con una duración anormalmente larga: 1341\n"
     ]
    }
   ],
   "source": [
    "# DataFrame y la columna de interés 'days_listed'\n",
    "Q1 = df['days_listed'].quantile(0.25)\n",
    "Q3 = df['days_listed'].quantile(0.75)\n",
    "IQR = Q3 - Q1\n",
    "\n",
    "# Límites\n",
    "lower_bound = Q1 - 1.5 * IQR\n",
    "upper_bound = Q3 + 1.5 * IQR\n",
    "\n",
    "# Anuncios eliminados rápidamente\n",
    "rapidly_removed_ads = df[df['days_listed'] < lower_bound]\n",
    "\n",
    "# Anuncios con una duración anormalmente larga\n",
    "long_duration_ads = df[df['days_listed'] > upper_bound]\n",
    "\n",
    "print(f\"Número de anuncios eliminados rápidamente: {len(rapidly_removed_ads)}\")\n",
    "print(f\"Número de anuncios con una duración anormalmente larga: {len(long_duration_ads)}\")"
   ]
  },
  {
   "cell_type": "markdown",
   "metadata": {},
   "source": [
    "No hay anuncios que hayan sido eliminados \"rápidamente\" según la definición basada en IQR. \n",
    "Esto significa que no hay anuncios que hayan sido listados por un tiempo significativamente más corto que el 25% de todos los anuncios.\n",
    "\n",
    "Hay 1341 anuncios que han estado listados por un tiempo anormalmente largo, según nuestra definición basada en IQR. \n",
    "Estos anuncios estuvieron listados por un tiempo significativamente mayor que el 75% de todos los anuncios.\n",
    "\n",
    "Estos anuncios podrían considerarse como no efectivos, ya que han requerido un tiempo mucho mayor para venderse (o tal vez nunca se vendieron y por eso se listaron durante tanto tiempo)."
   ]
  },
  {
   "cell_type": "markdown",
   "metadata": {},
   "source": [
    "## Precio promedio por cada tipo de vehículo"
   ]
  },
  {
   "cell_type": "markdown",
   "metadata": {},
   "source": [
    "Para analizar el número de anuncios y el precio promedio por cada tipo de vehículo, seguiríamos estos pasos:\n",
    "\n",
    "Primero, agrupar por tipo de vehículo y calcular el número de anuncios y el precio promedio.\n",
    "\n",
    "Segundo, graficar la cantidad de anuncios por tipo de vehículo.\n",
    "\n",
    "Tercero, identificar los dos tipos de vehículo con mayor número de anuncios.\n",
    "\n",
    "Aquí está en el código:"
   ]
  },
  {
   "cell_type": "code",
   "execution_count": 62,
   "metadata": {},
   "outputs": [
    {
     "data": {
      "image/png": "[encoded data removed]",
      "text/plain": [
       "<Figure size 1008x504 with 1 Axes>"
      ]
     },
     "metadata": {
      "needs_background": "light"
     },
     "output_type": "display_data"
    },
    {
     "name": "stdout",
     "output_type": "stream",
     "text": [
      "     type  number_of_ads\n",
      "0     SUV          10355\n",
      "10  truck          10333\n"
     ]
    }
   ],
   "source": [
    "# Paso 1: Agrupar por tipo de vehículo\n",
    "grouped = df.groupby('type').agg({'price': 'mean', 'model': 'count'}).rename(columns={'model': 'number_of_ads'}).reset_index()\n",
    "\n",
    "# Ordenar los datos por número de anuncios\n",
    "sorted_grouped = grouped.sort_values(by='number_of_ads', ascending=False)\n",
    "\n",
    "# Paso 2: Graficar la cantidad de anuncios por tipo de vehículo\n",
    "plt.figure(figsize=(14,7))\n",
    "plt.bar(sorted_grouped['type'], sorted_grouped['number_of_ads'], color='skyblue')\n",
    "plt.title('Número de Anuncios por Tipo de Vehículo')\n",
    "plt.xlabel('Tipo de Vehículo')\n",
    "plt.ylabel('Número de Anuncios')\n",
    "plt.xticks(rotation=45)\n",
    "plt.tight_layout()\n",
    "plt.show()\n",
    "\n",
    "# Paso 3: Identificar los dos tipos con mayor número de anuncios\n",
    "top_2_types = sorted_grouped.head(2)\n",
    "print(top_2_types[['type', 'number_of_ads']])"
   ]
  },
  {
   "cell_type": "markdown",
   "metadata": {},
   "source": [
    "El gráfico muestra lo siguiente en números aproximados:\n",
    "\n",
    "SUV tiene más de 10000 anuncios.\n",
    "\n",
    "Igualmente truck y parece que sedan también.\n",
    "\n",
    "Pick up, está cerca de 6000 anuncios.\n",
    "\n",
    "Coupe, está cerca de 2000 anuncios.\n",
    "\n",
    "Wagon, está cerca de 1800 anuncios.\n",
    "\n",
    "Mini-van, está cerca de 1000 anuncios.\n",
    "\n",
    "Hatchback, le sigue por debajo.\n",
    "\n",
    "Van, le sigue por debajo.\n",
    "\n",
    "Convertible, le sigue por debajo.\n",
    "\n",
    "Other, le sigue por debajo.\n",
    "\n",
    "Offroad, le sigue por debajo.\n",
    "\n",
    "Bus, le sigue por debajo."
   ]
  },
  {
   "cell_type": "markdown",
   "metadata": {},
   "source": [
    "Conclusiones:\n",
    "\n",
    "SUVs y trucks dominan los anuncios: Estos vehículos claramente tienen una demanda alta, ya sea para vender o comprar, lo que indica que podrían ser vehículos populares entre los usuarios.\n",
    "\n",
    "Sedans también tienen una presencia significativa: Es evidente que este tipo de vehículo también es común en el mercado.\n",
    "\n",
    "La demanda disminuye drásticamente después de los pickups: Vehículos como coupes, wagons y mini-vans tienen una presencia, pero no tan alta como SUVs, trucks o sedans.\n",
    "\n",
    "Vehículos especializados tienen menos presencia: Offroad, bus y otros tipos de vehículos especializados tienen una presencia mucho menor. Esto tiene sentido ya que estos vehículos no son comunes para el uso diario de la mayoría de las personas.\n",
    "\n",
    "Acciones a considerar:\n",
    "\n",
    "Es esencial centrarse en los vehículos más populares para maximizar el retorno de inversión.\n",
    "\n",
    "Investigar si hay tendencias regionales: La popularidad de ciertos tipos de vehículos puede variar según la región. \n",
    "Sería interesante estudiar si ciertas áreas geográficas tienen una mayor demanda de, digamos, pickups en comparación con sedans."
   ]
  },
  {
   "cell_type": "markdown",
   "metadata": {},
   "source": [
    "<div class=\"alert alert-block alert-success\">\n",
    "    <b>Comentario del revisor</b> <a class=\"tocSkip\"></a>\n",
    "    \n",
    "Buen trabajo Jesús.</div>\n",
    "\n",
    "\n",
    "<div class=\"alert alert-block alert-info\">\n",
    "<b>Respuesta del estudiante</b> <a class=\"tocSkip\"></a>\n",
    "\n",
    "Muchas gracias."
   ]
  },
  {
   "cell_type": "markdown",
   "metadata": {},
   "source": [
    "## Factores de precio"
   ]
  },
  {
   "cell_type": "markdown",
   "metadata": {},
   "source": [
    "Para entender cómo diferentes factores impactan en el precio de los vehículos, haremos un análisis detallado. Vamos a considerar los dos tipos de vehículos más populares: SUV y truck."
   ]
  },
  {
   "cell_type": "markdown",
   "metadata": {},
   "source": [
    "### **SUV**"
   ]
  },
  {
   "cell_type": "markdown",
   "metadata": {},
   "source": [
    "#### **Variables numéricos**"
   ]
  },
  {
   "cell_type": "markdown",
   "metadata": {},
   "source": [
    "Para las variables Numéricas (millas, edad y precio), utilizaremos gráficos de dispersión."
   ]
  },
  {
   "cell_type": "markdown",
   "metadata": {},
   "source": [
    "##### **Edad y Precio**"
   ]
  },
  {
   "cell_type": "code",
   "execution_count": 63,
   "metadata": {},
   "outputs": [
    {
     "data": {
      "image/png": "[encoded data removed]",
      "text/plain": [
       "<Figure size 576x432 with 1 Axes>"
      ]
     },
     "metadata": {
      "needs_background": "light"
     },
     "output_type": "display_data"
    }
   ],
   "source": [
    "plt.figure(figsize=(8,6))\n",
    "plt.scatter(filtered_df[filtered_df['type'] == 'SUV']['vehicle_age'], filtered_df[filtered_df['type'] == 'SUV']['price'])\n",
    "plt.title('SUV: Edad del Vehículo vs Precio')\n",
    "plt.xlabel('Edad del Vehículo (años)')\n",
    "plt.ylabel('Precio ($)')\n",
    "plt.show()"
   ]
  },
  {
   "cell_type": "markdown",
   "metadata": {},
   "source": [
    "Gráfico SUV: Edad del vehículo vs Precio.\n",
    "\n",
    "Los puntos estan concentrados en diagonal hacia abajo, el punto A de la diagonal, \n",
    "empezaría aproximadamente en precio 50000, edad 0.\n",
    "\n",
    "Finaliza la diagonal, en el punto b, \n",
    "aproximadamente en precio debajo de 10000 y edad antes de 40."
   ]
  },
  {
   "cell_type": "markdown",
   "metadata": {},
   "source": [
    "##### **Millaje vs Precio**"
   ]
  },
  {
   "cell_type": "markdown",
   "metadata": {},
   "source": [
    "Observemos su gráfico con el siguiente código:"
   ]
  },
  {
   "cell_type": "code",
   "execution_count": 64,
   "metadata": {},
   "outputs": [
    {
     "data": {
      "image/png": "[encoded data removed]",
      "text/plain": [
       "<Figure size 576x432 with 1 Axes>"
      ]
     },
     "metadata": {
      "needs_background": "light"
     },
     "output_type": "display_data"
    }
   ],
   "source": [
    "plt.figure(figsize=(8,6))\n",
    "plt.scatter(filtered_df[filtered_df['type'] == 'SUV']['average_mileage_per_year'], filtered_df[filtered_df['type'] == 'SUV']['price'])\n",
    "plt.title('SUV: Millaje Anual vs Precio')\n",
    "plt.xlabel('Millaje Anual')\n",
    "plt.ylabel('Precio ($)')\n",
    "plt.show()"
   ]
  },
  {
   "cell_type": "markdown",
   "metadata": {},
   "source": [
    "Gráfico SUV: Millaje Anual vs Precio.\n",
    "\n",
    "Los puntos estan concentrados en diagonal hacia abajo, el punto A de la diagonal, \n",
    "empezaría aproximadamente en precio 50000, millaje anual 0.\n",
    "\n",
    "Finaliza la diagonal, en el punto b, \n",
    "aproximadamente en precio debajo de 10000 y millaje anual cerca de 100000."
   ]
  },
  {
   "cell_type": "markdown",
   "metadata": {},
   "source": [
    "#### **Variables Categóricos**"
   ]
  },
  {
   "cell_type": "markdown",
   "metadata": {},
   "source": [
    "Para las variables categóricas (condición, tipo de transmisión, color), utilizaremos gráficos de caja y bigotes."
   ]
  },
  {
   "cell_type": "markdown",
   "metadata": {},
   "source": [
    "##### **Condición vs Precio**"
   ]
  },
  {
   "cell_type": "code",
   "execution_count": 65,
   "metadata": {},
   "outputs": [
    {
     "data": {
      "image/png": "[encoded data removed]",
      "text/plain": [
       "<Figure size 432x288 with 1 Axes>"
      ]
     },
     "metadata": {
      "needs_background": "light"
     },
     "output_type": "display_data"
    }
   ],
   "source": [
    "sns.boxplot(x=filtered_df[filtered_df['type'] == 'SUV']['condition'], y=filtered_df[filtered_df['type'] == 'SUV']['price'])\n",
    "plt.title('SUV: Condición del Vehículo vs Precio')\n",
    "plt.xlabel('Condición')\n",
    "plt.ylabel('Precio ($)')\n",
    "plt.xticks(rotation=45)\n",
    "plt.show()"
   ]
  },
  {
   "cell_type": "markdown",
   "metadata": {},
   "source": [
    "Gráfico SUV: Condición del vehículo vs Precio.\n",
    "\n",
    "Condición General:\n",
    "\n",
    "La condición con la mediana de precio más alta es la \"4\".\n",
    "\n",
    "La condición con la mediana de precio más baja es la \"1\".\n",
    "\n",
    "\n",
    "Rango intercuartil (IQR):\n",
    "\n",
    "La condición \"4\" muestra el rango intercuartil (IQR) más amplio, lo que indica una mayor variabilidad en el precio.\n",
    "\n",
    "Por otro lado, la condición \"1\" tiene el IQR más estrecho, sugiriendo una menor variabilidad en el precio para esos vehículos.\n",
    "\n",
    "\n",
    "Valores Atípicos:\n",
    "\n",
    "Se observan valores atípicos en todas las condiciones. \n",
    "La condición \"3\" tiene la mayor cantidad de valores atípicos, seguida de \"2\", \"4\" y \"1\"."
   ]
  },
  {
   "cell_type": "markdown",
   "metadata": {},
   "source": [
    "##### **Tipo de Transmisión vs Precio**"
   ]
  },
  {
   "cell_type": "code",
   "execution_count": 66,
   "metadata": {},
   "outputs": [
    {
     "data": {
      "image/png": "[encoded data removed]",
      "text/plain": [
       "<Figure size 432x288 with 1 Axes>"
      ]
     },
     "metadata": {
      "needs_background": "light"
     },
     "output_type": "display_data"
    }
   ],
   "source": [
    "sns.boxplot(x=filtered_df[filtered_df['type'] == 'SUV']['transmission'], y=filtered_df[filtered_df['type'] == 'SUV']['price'])\n",
    "plt.title('SUV: Tipo de Transmisión vs Precio')\n",
    "plt.xlabel('Tipo de Transmisión')\n",
    "plt.ylabel('Precio ($)')\n",
    "plt.show()"
   ]
  },
  {
   "cell_type": "markdown",
   "metadata": {},
   "source": [
    "Gráfico SUV: Tipo de Transmisión vs Precio.\n",
    "\n",
    "Manual: Esta transmisión presenta la mediana de precio más alta en comparación con las demás.\n",
    "\n",
    "Other: Esta categoría tiene la mediana de precio más baja. \n",
    "\n",
    "\n",
    "Rango intercuartil (IQR):\n",
    "\n",
    "Other: Esta categoría presenta el IQR más amplio, lo que indica una mayor variabilidad en los precios.\n",
    "\n",
    "Manual: La transmisión manual tiene el IQR más estrecho, lo que señala que la mayoría de los SUVs manuales tienen precios bastante cercanos entre sí, con menos variabilidad.\n",
    "\n",
    "Valores Atípicos:\n",
    "\n",
    "La categoría \"automático\" tiene la mayor cantidad, seguida de \"manual\" y, por último, \"other\". Estos valores atípicos podrían representar ediciones de lujo o modelos raros en el mercado que tienen un precio significativamente más alto que la media."
   ]
  },
  {
   "cell_type": "markdown",
   "metadata": {},
   "source": [
    "##### **Color vs Precio**"
   ]
  },
  {
   "cell_type": "code",
   "execution_count": 67,
   "metadata": {},
   "outputs": [
    {
     "data": {
      "image/png": "[encoded data removed]",
      "text/plain": [
       "<Figure size 432x288 with 1 Axes>"
      ]
     },
     "metadata": {
      "needs_background": "light"
     },
     "output_type": "display_data"
    }
   ],
   "source": [
    "colors_with_enough_data = filtered_df['paint_color'].value_counts()[filtered_df['paint_color'].value_counts() > 50].index\n",
    "sns.boxplot(x=filtered_df[filtered_df['type'] == 'SUV']['paint_color'], y=filtered_df[filtered_df['type'] == 'SUV']['price'], order=colors_with_enough_data)\n",
    "plt.title('SUV: Color del Vehículo vs Precio')\n",
    "plt.xlabel('Color')\n",
    "plt.ylabel('Precio ($)')\n",
    "plt.xticks(rotation=45)\n",
    "plt.show()"
   ]
  },
  {
   "cell_type": "markdown",
   "metadata": {},
   "source": [
    "Gráfico SUV: Color del vehículo vs Precio.\n",
    "\n",
    "Color General:\n",
    "\n",
    "¿Cuál es el color que tiene la mediana de precio más alta? Orange\n",
    "\n",
    "¿Cuál es el color que tiene la mediana de precio más baja? Verde\n",
    "\n",
    "Rango intercuartil (IQR):\n",
    "\n",
    "¿Qué color muestra el rango intercuartil (IQR) más amplio, indicando mayor variabilidad en el precio? Yellow\n",
    "\n",
    "¿Qué color muestra el IQR más estrecho? Purple\n",
    "\n",
    "Valores Atípicos:\n",
    "\n",
    "¿Observas valores atípicos en algunos de los colores? [Respuesta]\n",
    "\n",
    "Todos tienen.\n",
    "White y Red, tienen valores cerca de 80000. Le siguen Black y Silver, entre 70000 y 80000."
   ]
  },
  {
   "cell_type": "markdown",
   "metadata": {},
   "source": [
    "#### **Matriz de Correlación**"
   ]
  },
  {
   "cell_type": "code",
   "execution_count": 68,
   "metadata": {},
   "outputs": [
    {
     "data": {
      "image/png": "[encoded data removed]",
      "text/plain": [
       "<Figure size 432x288 with 2 Axes>"
      ]
     },
     "metadata": {
      "needs_background": "light"
     },
     "output_type": "display_data"
    }
   ],
   "source": [
    "correlation_matrix = filtered_df[filtered_df['type'] == 'SUV'][['price', 'vehicle_age', 'average_mileage_per_year']].corr()\n",
    "sns.heatmap(correlation_matrix, annot=True, cmap='coolwarm')\n",
    "plt.title('Matriz de Correlación para SUVs')\n",
    "plt.show()"
   ]
  },
  {
   "cell_type": "markdown",
   "metadata": {},
   "source": [
    "Matriz de Correlación para SUVs.\n",
    "\n",
    "Variables con Mayor Correlación Positiva:\n",
    "\n",
    "Precio - Promedio de Mileage Anual: Coeficiente de Correlación = 0.29\n",
    "\n",
    "A medida que el promedio de mileage anual aumenta, el precio tiende a aumentar. \n",
    "Sin embargo, esta relación no es demasiado fuerte, indicando que otros factores también pueden estar influyendo en el precio.\n",
    "\n",
    "\n",
    "Variables con Mayor Correlación Negativa:\n",
    "\n",
    "Precio - Edad del Vehículo: Coeficiente de Correlación = -0.56\n",
    "\n",
    "A medida que la edad del vehículo aumenta, su precio tiende a disminuir. \n",
    "Esta tendencia es coherente con la idea de que los vehículos más nuevos suelen tener precios más altos.\n",
    "\n",
    "Edad - Promedio de Mileage Anual: Coeficiente de Correlación = -0.5\n",
    "\n",
    "Esto podría indicar que los vehículos más antiguos tienden a tener un promedio de mileage anual menor."
   ]
  },
  {
   "cell_type": "markdown",
   "metadata": {},
   "source": [
    "### **Truck**"
   ]
  },
  {
   "cell_type": "markdown",
   "metadata": {},
   "source": [
    "#### **Variables numéricos**"
   ]
  },
  {
   "cell_type": "markdown",
   "metadata": {},
   "source": [
    "##### **Edad y Precio**"
   ]
  },
  {
   "cell_type": "code",
   "execution_count": 69,
   "metadata": {},
   "outputs": [
    {
     "data": {
      "image/png": "[encoded data removed]",
      "text/plain": [
       "<Figure size 576x432 with 1 Axes>"
      ]
     },
     "metadata": {
      "needs_background": "light"
     },
     "output_type": "display_data"
    }
   ],
   "source": [
    "plt.figure(figsize=(8,6))\n",
    "plt.scatter(filtered_df[filtered_df['type'] == 'truck']['vehicle_age'], filtered_df[filtered_df['type'] == 'truck']['price'])\n",
    "plt.title('Truck: Edad del Vehículo vs Precio')\n",
    "plt.xlabel('Edad del Vehículo (años)')\n",
    "plt.ylabel('Precio ($)')\n",
    "plt.show()"
   ]
  },
  {
   "cell_type": "markdown",
   "metadata": {},
   "source": [
    "Gráfico Truck: Edad del Vehículo vs Precio.\n",
    "\n",
    "\n",
    "Tendencia General:\n",
    "\n",
    "El precio tiende a disminuir a medida que la edad del vehículo aumenta.\n",
    "\n",
    "\n",
    "Concentración de Datos:\n",
    "\n",
    "Hay una mayor concentración de datos en la parte inferior de una diagonal imaginaria. \n",
    "\n",
    "El punto a con un precio de 75000 y edad 0 si se imagina como punto a\n",
    "y termina en un vehículo de 30 años con un precio de $0 en el punto b.\n",
    "\n",
    "En otras palabras, la mayoría de los trucks más nuevos tienen precios más altos y disminuyen en precio a medida que envejecen.\n",
    "\n",
    "Hay valores atípicos en el rango de precios superiores a $175,000 para vehículos con una edad de 0 a 30 años. \n",
    "Estos vehículos son excepcionalmente caros en comparación con otros vehículos de su misma edad."
   ]
  },
  {
   "cell_type": "markdown",
   "metadata": {},
   "source": [
    "##### **Millaje y Precio**"
   ]
  },
  {
   "cell_type": "code",
   "execution_count": 70,
   "metadata": {},
   "outputs": [
    {
     "data": {
      "image/png": "[encoded data removed]",
      "text/plain": [
       "<Figure size 576x432 with 1 Axes>"
      ]
     },
     "metadata": {
      "needs_background": "light"
     },
     "output_type": "display_data"
    }
   ],
   "source": [
    "plt.figure(figsize=(8,6))\n",
    "plt.scatter(filtered_df[filtered_df['type'] == 'truck']['average_mileage_per_year'], filtered_df[filtered_df['type'] == 'truck']['price'])\n",
    "plt.title('Truck: Millaje Anual vs Precio')\n",
    "plt.xlabel('Millaje Anual')\n",
    "plt.ylabel('Precio ($)')\n",
    "plt.show()"
   ]
  },
  {
   "cell_type": "markdown",
   "metadata": {},
   "source": [
    "Gráfico Truck: Millaje Anual vs Precio.\n",
    "\n",
    "Tendencia General:\n",
    "El precio tiende a disminuir a medida que el millaje del vehículo aumenta.\n",
    "\n",
    "La mayoría de los datos se concentran a lo largo de una diagonal descendente, que comienza desde un vehículo con millaje 0 y con un precio de 75000 como punto a\n",
    "y termina en un vehículo con 150,000 millas y un precio ligeramente inferior a 25,000 como punto b.\n",
    "\n",
    "Puntos por encima de 75000 y por debajo de $20,000 en precio, con un millaje menor a 50,000. Estos puntos no siguen la tendencia general y podrían representar trucks especiales o modelos raros.\n",
    "\n",
    "Un punto destacado con un precio de $25,000 y un millaje justo después de 350,000. \n",
    "Este punto es notable ya que representa un vehículo con un millaje muy alto pero con un precio relativamente moderado.\n",
    "\n",
    "A medida que un vehículo acumula más millas, su precio tiende a disminuir.\n",
    "\n",
    "Los vehículos con precios por encima de 75 o debajo de 20 mil, con millajes bajos podrían ser ediciones especiales, modelos raros o vehículos con características únicas. Por otro lado, el vehículo con un millaje extremadamente alto y un precio de $25,000 sugiere que, aunque el vehículo ha recorrido muchas millas, aún retiene un valor decente, posiblemente debido a su marca, modelo o condición."
   ]
  },
  {
   "cell_type": "markdown",
   "metadata": {},
   "source": [
    "#### **Variables Categóricos**"
   ]
  },
  {
   "cell_type": "markdown",
   "metadata": {},
   "source": [
    "Para las variables categóricas (condición, tipo de transmisión, color), utilizaremos gráficos de caja y bigotes."
   ]
  },
  {
   "cell_type": "markdown",
   "metadata": {},
   "source": [
    "##### **Condición vs Precio**"
   ]
  },
  {
   "cell_type": "code",
   "execution_count": 71,
   "metadata": {},
   "outputs": [
    {
     "data": {
      "image/png": "[encoded data removed]",
      "text/plain": [
       "<Figure size 432x288 with 1 Axes>"
      ]
     },
     "metadata": {
      "needs_background": "light"
     },
     "output_type": "display_data"
    }
   ],
   "source": [
    "sns.boxplot(x=filtered_df[filtered_df['type'] == 'truck']['condition'], y=filtered_df[filtered_df['type'] == 'truck']['price'])\n",
    "plt.title('Truck: Condición del Vehículo vs Precio')\n",
    "plt.xlabel('Condición')\n",
    "plt.ylabel('Precio ($)')\n",
    "plt.xticks(rotation=45)\n",
    "plt.show()"
   ]
  },
  {
   "cell_type": "markdown",
   "metadata": {},
   "source": [
    "Gráfico Truck: Condición del Vehículo vs Precio.\n",
    "\n",
    "Condición General:\n",
    "\n",
    "Los trucks con una condición calificada como 4 tienden a tener el precio más alto, lo que indica que se valora positivamente la buena condición de un vehículo. \n",
    "En contraste, aquellos con una condición de 1 tienen la mediana de precio más baja, lo que sugiere que el mercado valora menos los vehículos en mal estado.\n",
    "\n",
    "\n",
    "Rango Intercuartil (IQR):\n",
    "\n",
    "La condición 4, además de tener la mediana de precio más alta, también muestra el mayor IQR. \n",
    "Esto sugiere que dentro de los vehículos calificados con condición 4, hay una amplia variedad de precios. \n",
    "Esto podría deberse a otros factores, como la marca, el modelo, el millaje o características adicionales que estos vehículos pueden tener.\n",
    "\n",
    "Por otro lado, los vehículos con condición 1 tienen el rango intercuartil más estrecho, lo que indica que los precios de estos vehículos son más consistentes o menos variables.\n",
    "\n",
    "\n",
    "Valores Atípicos:\n",
    "\n",
    "Es interesante notar que hay valores atípicos en todas las condiciones. \n",
    "En particular, los vehículos con condiciones 1, 3 y 4 tienen valores atípicos siempre debajo de 100,000 en precio. \n",
    "Esto sugiere que, independientemente de la condición, siempre hay trucks que se venden a precios inusualmente altos. \n",
    "Estos valores atípicos podrían deberse a camiones de edición especial, marcas de lujo, o que vienen con características adicionales.\n",
    "\n",
    "Para la condición 2, los valores atípicos se dispersan en un rango de precios más amplio, llegando hasta 200,000. \n",
    "Esta dispersión más amplia de valores atípicos podría indicar que hay una mayor variabilidad en las características o atributos de los vehículos de esta categoría."
   ]
  },
  {
   "cell_type": "markdown",
   "metadata": {},
   "source": [
    "##### **Tipo de Transmisión vs Precio**"
   ]
  },
  {
   "cell_type": "code",
   "execution_count": 72,
   "metadata": {},
   "outputs": [
    {
     "data": {
      "image/png": "[encoded data removed]",
      "text/plain": [
       "<Figure size 432x288 with 1 Axes>"
      ]
     },
     "metadata": {
      "needs_background": "light"
     },
     "output_type": "display_data"
    }
   ],
   "source": [
    "sns.boxplot(x=filtered_df[filtered_df['type'] == 'truck']['transmission'], y=filtered_df[filtered_df['type'] == 'truck']['price'])\n",
    "plt.title('Truck: Tipo de Transmisión vs Precio')\n",
    "plt.xlabel('Tipo de Transmisión')\n",
    "plt.ylabel('Precio ($)')\n",
    "plt.show()"
   ]
  },
  {
   "cell_type": "markdown",
   "metadata": {},
   "source": [
    "Gráfico Truck: Tipo de Transmisión vs Precio.\n",
    "\n",
    "Los trucks con transmisión automática tienden a tener un precio mediano más alto en comparación con otros tipos de transmisión. \n",
    "Esto podría sugerir que, en general, los trucks automáticos son considerados más valiosos o deseables en el mercado, o quizás hay más modelos de lujo o premium disponibles en transmisión automática.\n",
    "\n",
    "Por otro lado, los trucks con un tipo de transmisión catalogado como other tienen la mediana de precio más baja.\n",
    "\n",
    "Los trucks con transmisión automática tienen una amplia variabilidad en el precio, como lo indica su amplio IQR. \n",
    "Esto podría ser una indicación de que dentro de esta categoría hay una amplia gama de trucks, desde opciones básicas hasta modelos de gama alta o premium.\n",
    "\n",
    "En contraste, los trucks con transmisión manual muestran una menor variabilidad en el precio, lo que podría indicar que estos vehículos están más estandarizados en términos de características y valor en el mercado.\n",
    "\n",
    "Valores Atípicos:\n",
    "\n",
    "Para los trucks con transmisión categorizada como other, los valores atípicos no están muy alejados del cuerpo principal de la distribución, y todos están por debajo de los $50,000.\n",
    "\n",
    "Los trucks con transmisión manual también presentan valores atípicos que no están muy distantes entre sí, y se encuentran mayormente por debajo de los 50000, aunque hay algunos que llegan hasta los 125000. \n",
    "Estos valores superiores podrían pertenecer a trucks especiales o con características particulares que justifiquen su precio.\n",
    "\n",
    "Los trucks con transmisión automática presentan una distribución de valores atípicos muy diversa, alcanzando precios superiores a $175,000. \n",
    "Esto refuerza la idea anterior de que existe una amplia gama de opciones dentro de esta categoría, incluyendo modelos muy costosos o exclusivos."
   ]
  },
  {
   "cell_type": "markdown",
   "metadata": {},
   "source": [
    "##### **Color vs Precio**"
   ]
  },
  {
   "cell_type": "code",
   "execution_count": 73,
   "metadata": {},
   "outputs": [
    {
     "data": {
      "image/png": "[encoded data removed]",
      "text/plain": [
       "<Figure size 432x288 with 1 Axes>"
      ]
     },
     "metadata": {
      "needs_background": "light"
     },
     "output_type": "display_data"
    }
   ],
   "source": [
    "colors_with_enough_data = filtered_df['paint_color'].value_counts()[filtered_df['paint_color'].value_counts() > 50].index\n",
    "sns.boxplot(x=filtered_df[filtered_df['type'] == 'truck']['paint_color'], y=filtered_df[filtered_df['type'] == 'truck']['price'], order=colors_with_enough_data)\n",
    "plt.title('Truck: Color del Vehículo vs Precio')\n",
    "plt.xlabel('Color')\n",
    "plt.ylabel('Precio ($)')\n",
    "plt.xticks(rotation=45)\n",
    "plt.show()"
   ]
  },
  {
   "cell_type": "markdown",
   "metadata": {},
   "source": [
    "Gráfico Truck: Color vs Precio.\n",
    "\n",
    "Black es el color que presenta los trucks con la mediana de precio más alta. \n",
    "Esto podría indicar que los vehículos de color negro son percibidos como más valiosos o quizás estén asociados a versiones de trucks más premium o con características adicionales que los hagan más costosos.\n",
    "\n",
    "Por el contrario, los trucks de color Purple tienen la mediana de precio más baja. \n",
    "Es posible que este color no sea tan popular o deseado en el mercado de trucks, lo que podría reflejarse en un precio menor.\n",
    "\n",
    "Rango Intercuartil (IQR):\n",
    "\n",
    "Los trucks de color Black tienen el rango intercuartil más amplio, lo que sugiere una mayor variabilidad en sus precios. \n",
    "Esto podría indicar que hay trucks negros de distintas gamas y características en el mercado, desde básicos hasta de alta gama.\n",
    "\n",
    "Los trucks de color Yellow presentan el rango intercuartil más estrecho, lo que indica que sus precios tienden a ser más consistentes. Es posible que exista una percepción más uniforme sobre el valor de los trucks amarillos en el mercado."
   ]
  },
  {
   "cell_type": "markdown",
   "metadata": {},
   "source": [
    "#### **Matriz de Correlación**"
   ]
  },
  {
   "cell_type": "code",
   "execution_count": 74,
   "metadata": {},
   "outputs": [
    {
     "data": {
      "image/png": "[encoded data removed]",
      "text/plain": [
       "<Figure size 432x288 with 2 Axes>"
      ]
     },
     "metadata": {
      "needs_background": "light"
     },
     "output_type": "display_data"
    }
   ],
   "source": [
    "correlation_matrix = filtered_df[filtered_df['type'] == 'truck'][['price', 'vehicle_age', 'average_mileage_per_year']].corr()\n",
    "sns.heatmap(correlation_matrix, annot=True, cmap='coolwarm')\n",
    "plt.title('Matriz de Correlación para Trucks')\n",
    "plt.show()"
   ]
  },
  {
   "cell_type": "markdown",
   "metadata": {},
   "source": [
    "Gráfico Truck: Matriz de Correlación.\n",
    "\n",
    "Precio y Millaje promedio:\n",
    "\n",
    "Una correlación de 0.31 indica una relación lineal positiva débil entre el precio y el millaje promedio. \n",
    "Esto es algo inusual, ya que normalmente esperaríamos que vehículos con más millas tuvieran un precio más bajo. \n",
    "Sin embargo, este coeficiente sugiere que, en cierta medida, los trucks con un millaje promedio más alto pueden tener un precio ligeramente más alto. \n",
    "Podría ser que estos trucks, a pesar de tener un alto millaje anual, estén equipados con características adicionales o sean de marcas o modelos específicos que les otorgan un mayor valor.\n",
    "\n",
    "Precio y Vehicle age:\n",
    "Esto es esperado y sugiere que a medida que un truck envejece, su precio tiende a disminuir. \n",
    "Es un comportamiento común en el mercado de vehículos usados, ya que los vehículos más antiguos tienden a tener más desgaste, más millas acumuladas y tecnologías más obsoletas, lo que disminuye su valor en el mercado."
   ]
  },
  {
   "cell_type": "markdown",
   "metadata": {},
   "source": [
    "<div class=\"alert alert-block alert-success\">\n",
    "    <b>Comentario del revisor</b> <a class=\"tocSkip\"></a>\n",
    "    \n",
    "Buen trabajo. Te felicito por el desarrollo de estas últimas secciones, logras generar conclusiones muy interesantes acompañadas de un buen desarrollo de código.</div>\n",
    "\n",
    "\n",
    "<div class=\"alert alert-block alert-info\">\n",
    "<b>Respuesta del estudiante</b> <a class=\"tocSkip\"></a>\n",
    "\n",
    "Muchas gracias."
   ]
  },
  {
   "cell_type": "markdown",
   "metadata": {},
   "source": [
    "## Conclusión general\n",
    "\n",
    "1. **Conclusión General de Toda esta Conversación:**\n",
    "En esta conversación, discutimos y analizamos varios aspectos de los datos relacionados con vehículos, centrados principalmente en la relación entre características como edad, millaje y precio. \n",
    "Se identificaron tendencias claras: \n",
    "- La depreciación del vehículo con el tiempo.\n",
    "- Y algo no tan evidente como la correlación positiva entre el precio y el millaje promedio en los trucks.\n",
    "\n",
    "2. **Conclusión de SUVs vs Trucks:** \n",
    "- Para SUVs, el precio tiende a aumentar con un mayor promedio de millaje anual, aunque débilmente. \n",
    "- De manera más pronunciada, el precio disminuye a medida que el vehículo envejece. \n",
    "- Los SUVs más antiguos tienden a tener un menor promedio de millaje anual. \n",
    "\n",
    "- En cuanto a los trucks, el precio tiene una tendencia débilmente positiva con un mayor millaje promedio, lo que sugiere características o marcas que pueden valorizar más ciertos trucks a pesar del millaje. \n",
    "- De manera consistente con los SUVs, los trucks más viejos tienen precios más bajos.\n",
    "\n",
    "3. **Conclusiones Importantes:** \n",
    "   - Los vehículos \"nuevos\" generalmente tienen precios más altos.\n",
    "   - Los trucks con un millaje anual más alto pueden ser valorados más alto debido a características específicas o marcas.\n",
    "   - Los SUVs más antiguos tienden a tener un menor promedio de millaje anual.\n",
    "   - Existen valores atípicos en diferentes gráficos que deben ser considerados.\n",
    "\n",
    "4. **Formas en que Procesamos y Analizamos los Datos:** \n",
    "   - Se realizaron análisis descriptivos, como la identificación de medianas y rangos intercuartiles.\n",
    "   - Se utilizaron gráficos de puntos y de cajas para visualizar tendencias y distribuciones.\n",
    "   - Se calculó y analizó la correlación entre variables para identificar posibles relaciones.\n",
    "\n",
    "5. **Valores Ausentes, Duplicados, Valores Atípicos:** \n",
    "   - Se identificaron valores atípicos en varios gráficos, como en la relación de la condición del vehículo versus el precio y en el tipo de transmisión versus el precio.\n",
    "   - Estos valores atípicos pueden distorsionar ciertas métricas y deberían ser considerados.\n",
    "\n",
    "6. **Posibles Razones y Soluciones para los Artefactos Problemáticos:** \n",
    "   - **Razones:** Los valores atípicos pueden surgir debido a errores de entrada de datos, características especiales de ciertos vehículos, o situaciones de mercado únicas.\n",
    "   - **Soluciones:** Para abordar estos artefactos, se limpiaron los datos eliminando o imputando valores atípicos, se ajustaron modelos estadísticos robustos dependiendo los valores. Es esencial comprender el contexto detrás de cada valor atípicos antes de tomar decisiones sobre cómo manejarlos."
   ]
  },
  {
   "cell_type": "markdown",
   "metadata": {},
   "source": [
    "\n",
    "\n",
    "\n",
    "<div class=\"alert alert-block alert-info\">\n",
    "<b>Respuesta del estudiante</b> <a class=\"tocSkip\"></a>\n",
    "\n",
    "Muchas gracias por todo, espero haber logrado trabajar los comentarios correctamente.\n",
    "    \n",
    "</div>\n",
    "\n",
    "\n",
    "<div class=\"alert alert-block alert-success\">\n",
    "<b>Comentario del revisor</b> <a class=\"tocSkip\"></a>\n",
    "    \n",
    "# Comentario General #2\n",
    "    \n",
    "Te felicito por el desarrollo del ptoyecto Jesus, muy buen trabajo. Por otro lado, gracias por tus comentarios.\n",
    "</div>\n"
   ]
  }
 ],
 "metadata": {
  "ExecuteTimeLog": [
   {
    "duration": 828,
    "start_time": "2021-11-16T09:21:11.304Z"
   },
   {
    "duration": 893,
    "start_time": "2021-11-16T09:21:17.728Z"
   },
   {
    "duration": 1150,
    "start_time": "2021-11-16T09:21:29.568Z"
   },
   {
    "duration": 3,
    "start_time": "2021-11-16T09:24:14.495Z"
   },
   {
    "duration": 120,
    "start_time": "2021-11-16T09:24:46.630Z"
   },
   {
    "duration": 3,
    "start_time": "2021-11-16T09:28:27.882Z"
   },
   {
    "duration": 4,
    "start_time": "2021-11-16T09:29:54.281Z"
   },
   {
    "duration": 3,
    "start_time": "2021-11-16T09:30:45.936Z"
   },
   {
    "duration": 4,
    "start_time": "2021-11-16T09:31:06.300Z"
   },
   {
    "duration": 113,
    "start_time": "2021-11-16T09:31:37.208Z"
   },
   {
    "duration": 143,
    "start_time": "2021-11-16T09:31:48.656Z"
   },
   {
    "duration": 98,
    "start_time": "2021-11-16T09:31:55.678Z"
   },
   {
    "duration": 3,
    "start_time": "2021-11-16T09:32:08.535Z"
   },
   {
    "duration": 111,
    "start_time": "2021-11-16T09:32:10.120Z"
   },
   {
    "duration": 3,
    "start_time": "2021-11-16T09:32:15.732Z"
   },
   {
    "duration": 4,
    "start_time": "2021-11-16T09:32:29.423Z"
   },
   {
    "duration": 3,
    "start_time": "2021-11-16T10:03:03.074Z"
   },
   {
    "duration": 3,
    "start_time": "2021-11-16T10:10:01.288Z"
   },
   {
    "duration": 3,
    "start_time": "2021-11-16T10:10:46.923Z"
   },
   {
    "duration": 121,
    "start_time": "2021-11-16T10:37:46.494Z"
   },
   {
    "duration": 125,
    "start_time": "2021-11-16T10:38:20.632Z"
   },
   {
    "duration": 112,
    "start_time": "2021-11-16T10:46:53.001Z"
   },
   {
    "duration": 110,
    "start_time": "2021-11-16T10:48:25.775Z"
   },
   {
    "duration": 3,
    "start_time": "2021-11-16T10:50:18.720Z"
   },
   {
    "duration": 4,
    "start_time": "2021-11-16T10:50:37.649Z"
   },
   {
    "duration": 2,
    "start_time": "2021-11-16T10:50:51.884Z"
   },
   {
    "duration": 3,
    "start_time": "2021-11-16T10:51:56.237Z"
   },
   {
    "duration": 101,
    "start_time": "2021-11-16T10:53:13.791Z"
   },
   {
    "duration": 3,
    "start_time": "2021-11-16T10:55:59.186Z"
   },
   {
    "duration": 3,
    "start_time": "2021-11-16T10:56:10.751Z"
   },
   {
    "duration": 3,
    "start_time": "2021-11-16T10:56:49.038Z"
   },
   {
    "duration": 3,
    "start_time": "2021-11-16T10:56:49.174Z"
   },
   {
    "duration": 4,
    "start_time": "2021-11-16T10:56:49.414Z"
   },
   {
    "duration": 3,
    "start_time": "2021-11-16T10:56:49.680Z"
   },
   {
    "duration": 3,
    "start_time": "2021-11-16T10:56:50.370Z"
   },
   {
    "duration": 114,
    "start_time": "2021-11-16T10:59:34.518Z"
   },
   {
    "duration": 3,
    "start_time": "2021-11-16T11:01:41.201Z"
   },
   {
    "duration": 116,
    "start_time": "2021-11-16T11:01:48.754Z"
   },
   {
    "duration": 3,
    "start_time": "2021-11-16T11:02:16.685Z"
   },
   {
    "duration": 3,
    "start_time": "2021-11-16T11:02:19.479Z"
   },
   {
    "duration": 3,
    "start_time": "2021-11-16T11:02:47.067Z"
   },
   {
    "duration": 3,
    "start_time": "2021-11-16T11:02:49.353Z"
   },
   {
    "duration": 3,
    "start_time": "2021-11-16T11:03:07.835Z"
   },
   {
    "duration": 3,
    "start_time": "2021-11-16T11:03:07.953Z"
   },
   {
    "duration": 112,
    "start_time": "2021-11-16T11:07:52.072Z"
   },
   {
    "duration": 187,
    "start_time": "2021-11-16T11:09:23.468Z"
   },
   {
    "duration": 4,
    "start_time": "2021-11-16T11:10:01.455Z"
   },
   {
    "duration": 3,
    "start_time": "2021-11-16T11:10:05.069Z"
   },
   {
    "duration": 4,
    "start_time": "2021-11-16T11:10:13.376Z"
   },
   {
    "duration": 3,
    "start_time": "2021-11-16T11:10:14.434Z"
   },
   {
    "duration": 3,
    "start_time": "2021-11-16T11:10:22.853Z"
   },
   {
    "duration": 4,
    "start_time": "2021-11-16T11:27:29.279Z"
   },
   {
    "duration": 4,
    "start_time": "2021-11-16T11:29:08.919Z"
   },
   {
    "duration": 118,
    "start_time": "2021-11-16T11:29:46.703Z"
   },
   {
    "duration": 437,
    "start_time": "2021-11-16T11:36:02.181Z"
   },
   {
    "duration": 157,
    "start_time": "2021-11-16T11:36:14.388Z"
   },
   {
    "duration": 207,
    "start_time": "2021-11-16T11:47:15.898Z"
   },
   {
    "duration": 3,
    "start_time": "2021-11-16T11:53:52.092Z"
   },
   {
    "duration": 3,
    "start_time": "2021-11-16T11:53:52.236Z"
   },
   {
    "duration": 3,
    "start_time": "2021-11-16T11:59:12.005Z"
   },
   {
    "duration": 112,
    "start_time": "2021-11-16T12:00:33.446Z"
   },
   {
    "duration": 3,
    "start_time": "2021-11-16T12:02:14.453Z"
   },
   {
    "duration": 3,
    "start_time": "2021-11-16T12:02:39.512Z"
   },
   {
    "duration": 106,
    "start_time": "2021-11-16T12:03:03.460Z"
   }
  ],
  "kernelspec": {
   "display_name": "Python 3 (ipykernel)",
   "language": "python",
   "name": "python3"
  },
  "language_info": {
   "codemirror_mode": {
    "name": "ipython",
    "version": 3
   },
   "file_extension": ".py",
   "mimetype": "text/x-python",
   "name": "python",
   "nbconvert_exporter": "python",
   "pygments_lexer": "ipython3",
   "version": "3.9.5"
  },
  "toc": {
   "base_numbering": 1,
   "nav_menu": {},
   "number_sections": true,
   "sideBar": true,
   "skip_h1_title": false,
   "title_cell": "Table of Contents",
   "title_sidebar": "Contents",
   "toc_cell": false,
   "toc_position": {
    "height": "calc(100% - 180px)",
    "left": "10px",
    "top": "150px",
    "width": "295.825px"
   },
   "toc_section_display": true,
   "toc_window_display": true
  }
 },
 "nbformat": 4,
 "nbformat_minor": 2
}
