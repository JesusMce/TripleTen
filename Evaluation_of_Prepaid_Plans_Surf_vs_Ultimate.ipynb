{
 "cells": [
  {
   "cell_type": "markdown",
   "metadata": {},
   "source": [
    "Hola Jesus!\n",
    "\n",
    "Mi nombre es Matias y voy a estar revisando tu proyecto.\n",
    "\n",
    "En la primer revision, de encontrar errores voy a estar marcandotelos para que puedas corregirlos por tu cuenta. Lo mas parecido a una situacion real de trabajo como DA. De haber posteriores revisiones te ire brindando mayor soporte para reforzar conceptos y sacar el proyecto adelante\n",
    "\n",
    "Encontraras mis comentarios debajo - **por favor no los muevas, modifiques o elimines**.\n",
    "\n",
    "Encontraras mis comentarios en verde, amarillo o rojo de esta manera:\n",
    "\n",
    "<div class=\"alert alert-block alert-success\">\n",
    "<b>Comentario de Revisor</b> <a class=\"tocSkip\"></a>\n",
    "\n",
    "Genial, buen trabajo.\n",
    "</div>\n",
    "\n",
    "<div class=\"alert alert-block alert-warning\">\n",
    "<b>Comentario de Revisor</b> <a class=\"tocSkip\"></a>\n",
    "\n",
    "Cuidado, se recomienda...\n",
    "</div>\n",
    "\n",
    "<div class=\"alert alert-block alert-danger\">\n",
    "\n",
    "<b>Comentario de Revisor</b> <a class=\"tocSkip\"></a>\n",
    "\n",
    "Necesita correcion. El trabajo no puede ser aceptado si precisa correcion.\n",
    "</div>\n",
    "\n",
    "Puedes responder a mis comentarios utilizando un mensaje de este tipo:\n",
    "\n",
    "<div class=\"alert alert-block alert-info\">\n",
    "<b>Respuesta de estudiante.</b> <a class=\"tocSkip\"></a>\n",
    "</div>"
   ]
  },
  {
   "cell_type": "markdown",
   "metadata": {},
   "source": [
    "# ¿Cuál es un mejor plan?\n",
    "\n",
    "Trabajas como analista para el operador de telecomunicaciones Megaline. La empresa ofrece a sus clientes dos tarifas de prepago, Surf y Ultimate. El departamento comercial quiere saber cuál de los planes genera más ingresos para poder ajustar el presupuesto de publicidad.\n",
    "\n",
    "Vas a realizar un análisis preliminar de las tarifas basado en una selección de clientes relativamente pequeña. Tendrás los datos de 500 clientes de Megaline: quiénes son los clientes, de dónde son, qué tarifa usan, así como la cantidad de llamadas que hicieron y los mensajes de texto que enviaron en 2018. Tu trabajo es analizar el comportamiento de los clientes y determinar qué tarifa de prepago genera más ingresos."
   ]
  },
  {
   "cell_type": "markdown",
   "metadata": {},
   "source": [
    "**Propósito del proyecto**"
   ]
  },
  {
   "cell_type": "markdown",
   "metadata": {},
   "source": [
    "El objetivo principal de este proyecto es determinar cuál de las dos tarifas de prepago ofrecidas por el operador de telecomunicaciones Megaline, Surf o Ultimate, genera más ingresos. \n",
    "\n",
    "Esta información permitirá al departamento comercial ajustar adecuadamente el presupuesto de publicidad."
   ]
  },
  {
   "cell_type": "markdown",
   "metadata": {},
   "source": [
    "**Acciones a planeadas a realizar**"
   ]
  },
  {
   "cell_type": "markdown",
   "metadata": {},
   "source": [
    "1. Abrir y estudiar la información general contenida en los archivos de datos proporcionados.\n",
    "\n",
    "\n",
    "2. Preparar los datos para el análisis, que incluye:\n",
    "- Convertir los datos en los tipos adecuados.\n",
    "- Identificar y eliminar errores o inconsistencias en los datos.\n",
    "- Calcular, para cada usuario, métricas mensuales tales como número de llamadas realizadas, minutos utilizados, cantidad de SMS enviados, volumen de datos utilizados e ingresos generados.\n",
    "\n",
    "\n",
    "3. Analizar el comportamiento de los clientes, describir y visualizar las distribuciones de minutos, SMS y volumen de datos que utilizan los usuarios de cada tarifa por mes. Se calcularán estadísticas descriptivas como la media, la varianza y la desviación estándar.\n",
    "\n",
    "\n",
    "4. Probar las hipótesis de que:\n",
    "- El ingreso promedio de los usuarios de las tarifas Ultimate y Surf difiere.\n",
    "- El ingreso promedio de los usuarios en el área de estados Nueva York-Nueva Jersey es diferente al de los usuarios de otras regiones.\n",
    "\n",
    "\n",
    "5. Concluir con un resumen general sobre qué tarifa genera más ingresos y proporcionar recomendaciones basadas en los resultados del análisis."
   ]
  },
  {
   "cell_type": "markdown",
   "metadata": {},
   "source": [
    "## Inicialización"
   ]
  },
  {
   "cell_type": "markdown",
   "metadata": {},
   "source": [
    "Importamos las librerías necesarias:"
   ]
  },
  {
   "cell_type": "code",
   "execution_count": 1,
   "metadata": {},
   "outputs": [],
   "source": [
    "# Cargar todas las librerías\n",
    "\n",
    "# Pandas para manipulación de datos\n",
    "import pandas as pd\n",
    "\n",
    "# Numpy para operaciones numéricas\n",
    "import numpy as np\n",
    "\n",
    "# Matplotlib y Seaborn para visualización de datos\n",
    "import matplotlib.pyplot as plt\n",
    "import seaborn as sns\n",
    "\n",
    "# SciPy para pruebas estadísticas\n",
    "from scipy import stats"
   ]
  },
  {
   "cell_type": "markdown",
   "metadata": {},
   "source": [
    "## Cargar los datos"
   ]
  },
  {
   "cell_type": "markdown",
   "metadata": {},
   "source": [
    "Cargemos los archivos CSV en diferentes DataFrames. Basándonos en las rutas de archivo proporcionadas:"
   ]
  },
  {
   "cell_type": "code",
   "execution_count": 2,
   "metadata": {},
   "outputs": [],
   "source": [
    "# Cargamos cada conjunto de datos en su respectivo DataFrame\n",
    "megaline_calls = pd.read_csv('/datasets/megaline_calls.csv')\n",
    "megaline_internet = pd.read_csv('/datasets/megaline_internet.csv')\n",
    "megaline_messages = pd.read_csv('/datasets/megaline_messages.csv')\n",
    "megaline_plans = pd.read_csv('/datasets/megaline_plans.csv')\n",
    "megaline_users = pd.read_csv('/datasets/megaline_users.csv')"
   ]
  },
  {
   "cell_type": "markdown",
   "metadata": {},
   "source": [
    "## Preparar los datos"
   ]
  },
  {
   "cell_type": "markdown",
   "metadata": {},
   "source": [
    "Para comprender mejor nuestros datos, es esencial realizar una exploración inicial de cada uno de los conjuntos de datos. Esta exploración nos ayudará a identificar cualquier anomalía, valor faltante, o error que pueda estar presente. Luego, basándonos en nuestras observaciones, realizaremos las correcciones necesarias para asegurarnos de que nuestros datos estén listos para el análisis."
   ]
  },
  {
   "cell_type": "markdown",
   "metadata": {},
   "source": [
    "**Exploración Inicial de los Datos**"
   ]
  },
  {
   "cell_type": "markdown",
   "metadata": {},
   "source": [
    "Para cada conjunto de datos, necesitamos echar un vistazo a las primeras entradas y obtener información general, como el número de filas y columnas, tipos de datos y estadísticas básicas."
   ]
  },
  {
   "cell_type": "markdown",
   "metadata": {},
   "source": [
    "### Conjunto de datos de llamadas (megaline_calls)"
   ]
  },
  {
   "cell_type": "code",
   "execution_count": 3,
   "metadata": {},
   "outputs": [
    {
     "name": "stdout",
     "output_type": "stream",
     "text": [
      "         id  user_id   call_date  duration\n",
      "0   1000_93     1000  2018-12-27      8.52\n",
      "1  1000_145     1000  2018-12-27     13.66\n",
      "2  1000_247     1000  2018-12-27     14.48\n",
      "3  1000_309     1000  2018-12-28      5.76\n",
      "4  1000_380     1000  2018-12-30      4.22\n",
      "<class 'pandas.core.frame.DataFrame'>\n",
      "RangeIndex: 137735 entries, 0 to 137734\n",
      "Data columns (total 4 columns):\n",
      " #   Column     Non-Null Count   Dtype  \n",
      "---  ------     --------------   -----  \n",
      " 0   id         137735 non-null  object \n",
      " 1   user_id    137735 non-null  int64  \n",
      " 2   call_date  137735 non-null  object \n",
      " 3   duration   137735 non-null  float64\n",
      "dtypes: float64(1), int64(1), object(2)\n",
      "memory usage: 4.2+ MB\n",
      "None\n"
     ]
    }
   ],
   "source": [
    "print(megaline_calls.head())\n",
    "print(megaline_calls.info())"
   ]
  },
  {
   "cell_type": "markdown",
   "metadata": {},
   "source": [
    "##### Análisis Inicial de los Datos de Llamadas"
   ]
  },
  {
   "cell_type": "markdown",
   "metadata": {},
   "source": [
    "Observaciones:"
   ]
  },
  {
   "cell_type": "markdown",
   "metadata": {},
   "source": [
    "El conjunto de datos de llamadas, megaline_calls, contiene 137,735 registros.\n",
    "\n",
    "Hay 4 columnas presentes: id, user_id, call_date, y duration.\n",
    "\n",
    "Todas las columnas tienen valores no nulos.\n",
    "\n",
    "Las columnas id y call_date tienen el tipo de dato 'object', mientras que user_id es 'int64' y duration es 'float64'."
   ]
  },
  {
   "cell_type": "markdown",
   "metadata": {},
   "source": [
    "Anomalías o Problemas Potenciales:"
   ]
  },
  {
   "cell_type": "markdown",
   "metadata": {},
   "source": [
    "1. La columna call_date tiene el tipo de dato 'object', lo que indica que probablemente esté en formato de texto en lugar de una fecha. Para un análisis temporal, es más conveniente que esta columna esté en formato de fecha.\n",
    "2. La columna id se presenta como un objeto, lo que sugiere que es una combinación de user_id y otro identificador. Aunque este no es necesariamente un problema, podría ser útil entender la estructura de este identificador y determinar si es necesario.\n",
    "3. Podría haber llamadas con duración de 0.0, lo que podría indicar llamadas no atendidas o fallidas. Necesitaremos investigar esto más a fondo, ya que podría afectar análisis relacionados con la duración de las llamadas."
   ]
  },
  {
   "cell_type": "markdown",
   "metadata": {},
   "source": [
    "##### Corrección y Enriquecimiento de los Datos de Llamadas"
   ]
  },
  {
   "cell_type": "markdown",
   "metadata": {},
   "source": [
    "**Convertir call_date a tipo de dato fecha**"
   ]
  },
  {
   "cell_type": "markdown",
   "metadata": {},
   "source": [
    "Antes de convertir la columna call_date, primero verifiquemos que todos sus valores sean convertibles a fechas. Si encontramos algún valor que no sea una fecha válida, tendremos que abordarlo antes de la conversión."
   ]
  },
  {
   "cell_type": "code",
   "execution_count": 4,
   "metadata": {},
   "outputs": [
    {
     "name": "stdout",
     "output_type": "stream",
     "text": [
      "Conversión exitosa.\n"
     ]
    }
   ],
   "source": [
    "# Intentar convertir call_date a fecha para ver si hay errores\n",
    "try:\n",
    "    megaline_calls['call_date'] = pd.to_datetime(megaline_calls['call_date'])\n",
    "    print(\"Conversión exitosa.\")\n",
    "except Exception as e:\n",
    "    print(f\"Error en la conversión: {e}\")"
   ]
  },
  {
   "cell_type": "markdown",
   "metadata": {},
   "source": [
    "La conversión fue exitosa, la columna call_date ahora estará en el formato correcto para análisis temporales."
   ]
  },
  {
   "cell_type": "markdown",
   "metadata": {},
   "source": [
    "**Investigar la estructura y necesidad del identificador en la columna id**"
   ]
  },
  {
   "cell_type": "markdown",
   "metadata": {},
   "source": [
    "El id parece ser una combinación del user_id y otro identificador. Veamos cuántos identificadores únicos existen para cada user_id y si estos son consecutivos:"
   ]
  },
  {
   "cell_type": "code",
   "execution_count": 5,
   "metadata": {},
   "outputs": [
    {
     "name": "stdout",
     "output_type": "stream",
     "text": [
      "count     481.000000\n",
      "mean      286.351351\n",
      "std       238.182107\n",
      "min         2.000000\n",
      "25%       108.000000\n",
      "50%       216.000000\n",
      "75%       413.000000\n",
      "max      1300.000000\n",
      "Name: id, dtype: float64\n"
     ]
    }
   ],
   "source": [
    "id_counts = megaline_calls.groupby('user_id')['id'].nunique()\n",
    "print(id_counts.describe())"
   ]
  },
  {
   "cell_type": "markdown",
   "metadata": {},
   "source": [
    "Basado en estos resultados, podemos deducir que:\n",
    "\n",
    "Distribución de llamadas por usuario: Hay una variabilidad considerable en el número de llamadas realizadas por los usuarios. Mientras que algunos usuarios han hecho solo unas pocas llamadas, otros han realizado muchas.\n",
    "\n",
    "Decisión sobre la columna id: \n",
    "La columna id no es simplemente una numeración consecutiva de llamadas para cada usuario. Dado que el mínimo es 2 y no 1, hay posibilidad de que los números no comiencen desde 1 para todos los usuarios o que falten registros. Además, dado que el máximo es 1300 y la media es 286, algunos usuarios hacen muchas más llamadas que otros.\n",
    "\n",
    "Por lo tanto, puede ser beneficioso mantener la columna id tal como está, ya que proporciona información única sobre cada llamada para un usuario específico.\n",
    "\n",
    "Continuaremos con el análisis de otros aspectos del conjunto de datos, como las fechas y duraciones de las llamadas."
   ]
  },
  {
   "cell_type": "markdown",
   "metadata": {},
   "source": [
    "### Conjunto de datos de mensajes (megaline_messages)"
   ]
  },
  {
   "cell_type": "markdown",
   "metadata": {},
   "source": [
    "Vamos a comenzar echando un vistazo a las primeras entradas y obteniendo información general del conjunto de datos de mensajes."
   ]
  },
  {
   "cell_type": "code",
   "execution_count": 6,
   "metadata": {},
   "outputs": [
    {
     "name": "stdout",
     "output_type": "stream",
     "text": [
      "         id  user_id message_date\n",
      "0  1000_125     1000   2018-12-27\n",
      "1  1000_160     1000   2018-12-31\n",
      "2  1000_223     1000   2018-12-31\n",
      "3  1000_251     1000   2018-12-27\n",
      "4  1000_255     1000   2018-12-26\n",
      "<class 'pandas.core.frame.DataFrame'>\n",
      "RangeIndex: 76051 entries, 0 to 76050\n",
      "Data columns (total 3 columns):\n",
      " #   Column        Non-Null Count  Dtype \n",
      "---  ------        --------------  ----- \n",
      " 0   id            76051 non-null  object\n",
      " 1   user_id       76051 non-null  int64 \n",
      " 2   message_date  76051 non-null  object\n",
      "dtypes: int64(1), object(2)\n",
      "memory usage: 1.7+ MB\n",
      "None\n"
     ]
    }
   ],
   "source": [
    "print(megaline_messages.head())\n",
    "print(megaline_messages.info())"
   ]
  },
  {
   "cell_type": "markdown",
   "metadata": {},
   "source": [
    "**Observaciones:**"
   ]
  },
  {
   "cell_type": "markdown",
   "metadata": {},
   "source": [
    "La tabla tiene un total de 76,051 entradas.\n",
    "Las columnas son 'id', 'user_id' y 'message_date'.\n",
    "No hay valores nulos en ninguna columna, lo que indica una buena integridad en este conjunto de datos.\n",
    "La columna 'message_date' está en formato string (object). Para facilitar análisis temporales, podría ser útil convertirla al tipo de dato datetime."
   ]
  },
  {
   "cell_type": "code",
   "execution_count": 7,
   "metadata": {},
   "outputs": [
    {
     "name": "stdout",
     "output_type": "stream",
     "text": [
      "<class 'pandas.core.frame.DataFrame'>\n",
      "RangeIndex: 76051 entries, 0 to 76050\n",
      "Data columns (total 3 columns):\n",
      " #   Column        Non-Null Count  Dtype         \n",
      "---  ------        --------------  -----         \n",
      " 0   id            76051 non-null  object        \n",
      " 1   user_id       76051 non-null  int64         \n",
      " 2   message_date  76051 non-null  datetime64[ns]\n",
      "dtypes: datetime64[ns](1), int64(1), object(1)\n",
      "memory usage: 1.7+ MB\n",
      "None\n"
     ]
    }
   ],
   "source": [
    "# Convertir la columna 'message_date' a datetime\n",
    "megaline_messages['message_date'] = pd.to_datetime(megaline_messages['message_date'])\n",
    "\n",
    "# Verificar la conversión\n",
    "print(megaline_messages.info())"
   ]
  },
  {
   "cell_type": "markdown",
   "metadata": {},
   "source": [
    "Perfecto, la columna message_date se ha convertido correctamente al tipo de dato datetime64. \n",
    "\n",
    "Ahora se puede realizar diversas operaciones relacionadas con fechas, como agrupaciones por mes, día, semana, etc., de una manera mucho más eficiente y sencilla."
   ]
  },
  {
   "cell_type": "markdown",
   "metadata": {},
   "source": [
    "### Conjunto de datos de uso de internet (megaline_internet)"
   ]
  },
  {
   "cell_type": "markdown",
   "metadata": {},
   "source": [
    "Visualización Inicial:"
   ]
  },
  {
   "cell_type": "code",
   "execution_count": 8,
   "metadata": {},
   "outputs": [
    {
     "name": "stdout",
     "output_type": "stream",
     "text": [
      "         id  user_id session_date  mb_used\n",
      "0   1000_13     1000   2018-12-29    89.86\n",
      "1  1000_204     1000   2018-12-31     0.00\n",
      "2  1000_379     1000   2018-12-28   660.40\n",
      "3  1000_413     1000   2018-12-26   270.99\n",
      "4  1000_442     1000   2018-12-27   880.22\n",
      "<class 'pandas.core.frame.DataFrame'>\n",
      "RangeIndex: 104825 entries, 0 to 104824\n",
      "Data columns (total 4 columns):\n",
      " #   Column        Non-Null Count   Dtype  \n",
      "---  ------        --------------   -----  \n",
      " 0   id            104825 non-null  object \n",
      " 1   user_id       104825 non-null  int64  \n",
      " 2   session_date  104825 non-null  object \n",
      " 3   mb_used       104825 non-null  float64\n",
      "dtypes: float64(1), int64(1), object(2)\n",
      "memory usage: 3.2+ MB\n",
      "None\n"
     ]
    }
   ],
   "source": [
    "print(megaline_internet.head())\n",
    "print(megaline_internet.info())"
   ]
  },
  {
   "cell_type": "markdown",
   "metadata": {},
   "source": [
    "Para asegurarnos de que los datos se manejen correctamente y para realizar análisis temporales, debemos convertir la columna 'session_date' a tipo 'datetime'."
   ]
  },
  {
   "cell_type": "code",
   "execution_count": 9,
   "metadata": {},
   "outputs": [
    {
     "name": "stdout",
     "output_type": "stream",
     "text": [
      "<class 'pandas.core.frame.DataFrame'>\n",
      "RangeIndex: 104825 entries, 0 to 104824\n",
      "Data columns (total 4 columns):\n",
      " #   Column        Non-Null Count   Dtype         \n",
      "---  ------        --------------   -----         \n",
      " 0   id            104825 non-null  object        \n",
      " 1   user_id       104825 non-null  int64         \n",
      " 2   session_date  104825 non-null  datetime64[ns]\n",
      " 3   mb_used       104825 non-null  float64       \n",
      "dtypes: datetime64[ns](1), float64(1), int64(1), object(1)\n",
      "memory usage: 3.2+ MB\n",
      "None\n"
     ]
    }
   ],
   "source": [
    "megaline_internet['session_date'] = pd.to_datetime(megaline_internet['session_date'])\n",
    "print(megaline_internet.info())"
   ]
  },
  {
   "cell_type": "markdown",
   "metadata": {},
   "source": [
    "Análisis de la columna 'mb_used':\n",
    "Primero, es relevante revisar las sesiones donde no se usaron datos para comprender mejor el comportamiento de los usuarios o identificar posibles errores."
   ]
  },
  {
   "cell_type": "code",
   "execution_count": 10,
   "metadata": {},
   "outputs": [
    {
     "name": "stdout",
     "output_type": "stream",
     "text": [
      "Número de sesiones con 0 MB de datos utilizados: 13747\n"
     ]
    }
   ],
   "source": [
    "sessions_with_zero_data = megaline_internet[megaline_internet['mb_used'] == 0].shape[0]\n",
    "print(f\"Número de sesiones con 0 MB de datos utilizados: {sessions_with_zero_data}\")"
   ]
  },
  {
   "cell_type": "markdown",
   "metadata": {},
   "source": [
    "El hecho de que haya 13,747 sesiones con 0 MB de datos utilizados es interesante y potencialmente importante. Esto podría ser indicativo de varias situaciones:\n",
    "\n",
    "Conexiones Fallidas: Los usuarios intentaron conectarse a Internet, pero hubo un problema, y no pudieron usar ningún dato.\n",
    "\n",
    "Errores de Registro: Podría haber algún problema con el sistema de registro que no registró correctamente el uso de datos.\n",
    "\n",
    "Uso Mínimo: Es posible que los usuarios hayan realizado sesiones muy cortas donde el uso de datos fue insignificante y se redondeó a 0 MB."
   ]
  },
  {
   "cell_type": "markdown",
   "metadata": {},
   "source": [
    "Para comprender la magnitud del problema, sería útil calcular la proporción de estas sesiones respecto al total."
   ]
  },
  {
   "cell_type": "code",
   "execution_count": 11,
   "metadata": {},
   "outputs": [
    {
     "name": "stdout",
     "output_type": "stream",
     "text": [
      "Porcentaje de sesiones con 0 MB de datos utilizados: 13.11%\n"
     ]
    }
   ],
   "source": [
    "proportion_zero_data = (sessions_with_zero_data / len(megaline_internet)) * 100\n",
    "print(f\"Porcentaje de sesiones con 0 MB de datos utilizados: {proportion_zero_data:.2f}%\")"
   ]
  },
  {
   "cell_type": "markdown",
   "metadata": {},
   "source": [
    "Un 13.11% de las sesiones con 0 MB de datos utilizados es una proporción no significativa. Aunque esto implica que más de 1 de cada 10 sesiones de uso de datos no registró ningún consumo de datos.\n",
    "\n",
    "Pero conservarlos y marcarlos nos permitirá revisarlos más tarde si es necesario."
   ]
  },
  {
   "cell_type": "markdown",
   "metadata": {},
   "source": [
    "### Conjunto de datos de planes (megaline_plans)"
   ]
  },
  {
   "cell_type": "code",
   "execution_count": 12,
   "metadata": {},
   "outputs": [
    {
     "name": "stdout",
     "output_type": "stream",
     "text": [
      "   messages_included  mb_per_month_included  minutes_included  \\\n",
      "0                 50                  15360               500   \n",
      "1               1000                  30720              3000   \n",
      "\n",
      "   usd_monthly_pay  usd_per_gb  usd_per_message  usd_per_minute plan_name  \n",
      "0               20          10             0.03            0.03      surf  \n",
      "1               70           7             0.01            0.01  ultimate  \n",
      "<class 'pandas.core.frame.DataFrame'>\n",
      "RangeIndex: 2 entries, 0 to 1\n",
      "Data columns (total 8 columns):\n",
      " #   Column                 Non-Null Count  Dtype  \n",
      "---  ------                 --------------  -----  \n",
      " 0   messages_included      2 non-null      int64  \n",
      " 1   mb_per_month_included  2 non-null      int64  \n",
      " 2   minutes_included       2 non-null      int64  \n",
      " 3   usd_monthly_pay        2 non-null      int64  \n",
      " 4   usd_per_gb             2 non-null      int64  \n",
      " 5   usd_per_message        2 non-null      float64\n",
      " 6   usd_per_minute         2 non-null      float64\n",
      " 7   plan_name              2 non-null      object \n",
      "dtypes: float64(2), int64(5), object(1)\n",
      "memory usage: 256.0+ bytes\n",
      "None\n"
     ]
    }
   ],
   "source": [
    "print(megaline_plans.head())\n",
    "print(megaline_plans.info())"
   ]
  },
  {
   "cell_type": "markdown",
   "metadata": {},
   "source": [
    "El conjunto de datos megaline_plans describe dos planes diferentes de telefonía móvil: \"surf\" y \"ultimate\". Cada fila representa un plan y muestra:\n",
    "\n",
    "La cantidad de mensajes incluidos.\n",
    "La cantidad de megabytes incluidos por mes.\n",
    "La cantidad de minutos incluidos.\n",
    "El pago mensual en USD.\n",
    "El costo por gigabyte (después de superar el límite incluido) en USD.\n",
    "El costo por mensaje (después de superar el límite incluido) en USD.\n",
    "El costo por minuto (después de superar el límite incluido) en USD.\n",
    "El nombre del plan.\n",
    "\n",
    "**Observaciones:**\n",
    "\n",
    "No hay valores nulos en ninguna de las columnas.\n",
    "Los tipos de datos parecen apropiados para cada columna.\n",
    "Dado que sólo hay dos entradas (dos planes), la exploración es bastante sencilla y no se espera que haya mucha variabilidad o problemas en los datos.\n",
    "Próximos pasos:\n",
    "Para este conjunto de datos en particular, parece que no es necesario realizar más transformaciones o limpiezas. La información es clara y será útil para calcular los gastos de cada usuario en función del plan que hayan elegido y su consumo."
   ]
  },
  {
   "cell_type": "markdown",
   "metadata": {},
   "source": [
    "### Conjunto de datos de usuarios (megaline_users)"
   ]
  },
  {
   "cell_type": "code",
   "execution_count": 13,
   "metadata": {},
   "outputs": [
    {
     "name": "stdout",
     "output_type": "stream",
     "text": [
      "   user_id first_name  last_name  age                                   city  \\\n",
      "0     1000   Anamaria      Bauer   45  Atlanta-Sandy Springs-Roswell, GA MSA   \n",
      "1     1001     Mickey  Wilkerson   28        Seattle-Tacoma-Bellevue, WA MSA   \n",
      "2     1002     Carlee    Hoffman   36   Las Vegas-Henderson-Paradise, NV MSA   \n",
      "3     1003   Reynaldo    Jenkins   52                          Tulsa, OK MSA   \n",
      "4     1004    Leonila   Thompson   40        Seattle-Tacoma-Bellevue, WA MSA   \n",
      "\n",
      "     reg_date      plan churn_date  \n",
      "0  2018-12-24  ultimate        NaN  \n",
      "1  2018-08-13      surf        NaN  \n",
      "2  2018-10-21      surf        NaN  \n",
      "3  2018-01-28      surf        NaN  \n",
      "4  2018-05-23      surf        NaN  \n",
      "<class 'pandas.core.frame.DataFrame'>\n",
      "RangeIndex: 500 entries, 0 to 499\n",
      "Data columns (total 8 columns):\n",
      " #   Column      Non-Null Count  Dtype \n",
      "---  ------      --------------  ----- \n",
      " 0   user_id     500 non-null    int64 \n",
      " 1   first_name  500 non-null    object\n",
      " 2   last_name   500 non-null    object\n",
      " 3   age         500 non-null    int64 \n",
      " 4   city        500 non-null    object\n",
      " 5   reg_date    500 non-null    object\n",
      " 6   plan        500 non-null    object\n",
      " 7   churn_date  34 non-null     object\n",
      "dtypes: int64(2), object(6)\n",
      "memory usage: 31.4+ KB\n",
      "None\n"
     ]
    }
   ],
   "source": [
    "print(megaline_users.head())\n",
    "print(megaline_users.info())"
   ]
  },
  {
   "cell_type": "markdown",
   "metadata": {},
   "source": [
    "El conjunto de datos megaline_users describe la información de los usuarios de la compañía Megaline. \n",
    "\n",
    "Cada fila representa un usuario individual y muestra:\n",
    "\n",
    "user_id: el identificador único del usuario.\n",
    "\n",
    "first_name: el nombre del usuario.\n",
    "\n",
    "last_name: el apellido del usuario.\n",
    "\n",
    "age: la edad del usuario.\n",
    "\n",
    "city: la ciudad donde reside el usuario.\n",
    "\n",
    "reg_date: la fecha en la que el usuario se registró con Megaline.\n",
    "\n",
    "plan: el plan telefónico que el usuario ha seleccionado (surf o ultimate).\n",
    "\n",
    "churn_date: la fecha en que el usuario dejó de usar el servicio de Megaline (si es aplicable).\n",
    "\n",
    "\n",
    "\n",
    "**Observaciones:**\n",
    "\n",
    "No hay valores nulos en la mayoría de las columnas, excepto en churn_date, donde la mayoría de los valores son nulos. \n",
    "Esto es esperado, ya que churn_date sólo se llenaría si un usuario dejara de usar el servicio.\n",
    "\n",
    "Los tipos de datos para la mayoría de las columnas parecen apropiados. \n",
    "Sin embargo, reg_date y churn_date deben ser convertidos a formato de fecha (datetime).\n",
    "\n",
    "Hay 500 usuarios en total en el dataset.\n",
    "El campo churn_date tiene 34 entradas no nulas, lo que indica que 34 usuarios han dejado el servicio.\n",
    "\n",
    "**Próximos pasos:**\n",
    "Convertir las columnas reg_date y churn_date al tipo de datos datetime."
   ]
  },
  {
   "cell_type": "markdown",
   "metadata": {},
   "source": [
    "Para convertir las columnas reg_date y churn_date al tipo de datos datetime en el DataFrame megaline_users, podemos usar la función to_datetime() de pandas."
   ]
  },
  {
   "cell_type": "code",
   "execution_count": 14,
   "metadata": {},
   "outputs": [
    {
     "name": "stdout",
     "output_type": "stream",
     "text": [
      "user_id                int64\n",
      "first_name            object\n",
      "last_name             object\n",
      "age                    int64\n",
      "city                  object\n",
      "reg_date      datetime64[ns]\n",
      "plan                  object\n",
      "churn_date    datetime64[ns]\n",
      "dtype: object\n"
     ]
    }
   ],
   "source": [
    "# Convertir la columna reg_date a datetime\n",
    "megaline_users['reg_date'] = pd.to_datetime(megaline_users['reg_date'])\n",
    "\n",
    "# Convertir la columna churn_date a datetime\n",
    "megaline_users['churn_date'] = pd.to_datetime(megaline_users['churn_date'])\n",
    "\n",
    "# Verificar los cambios en los tipos de datos\n",
    "print(megaline_users.dtypes)"
   ]
  },
  {
   "cell_type": "markdown",
   "metadata": {},
   "source": [
    "Perfecto, la conversión ha sido exitosa. Las columnas reg_date y churn_date ahora son del tipo datetime64, lo cual es adecuado para realizar análisis temporales."
   ]
  },
  {
   "cell_type": "markdown",
   "metadata": {},
   "source": [
    "## Planes"
   ]
  },
  {
   "cell_type": "code",
   "execution_count": 15,
   "metadata": {},
   "outputs": [
    {
     "name": "stdout",
     "output_type": "stream",
     "text": [
      "<class 'pandas.core.frame.DataFrame'>\n",
      "RangeIndex: 2 entries, 0 to 1\n",
      "Data columns (total 8 columns):\n",
      " #   Column                 Non-Null Count  Dtype  \n",
      "---  ------                 --------------  -----  \n",
      " 0   messages_included      2 non-null      int64  \n",
      " 1   mb_per_month_included  2 non-null      int64  \n",
      " 2   minutes_included       2 non-null      int64  \n",
      " 3   usd_monthly_pay        2 non-null      int64  \n",
      " 4   usd_per_gb             2 non-null      int64  \n",
      " 5   usd_per_message        2 non-null      float64\n",
      " 6   usd_per_minute         2 non-null      float64\n",
      " 7   plan_name              2 non-null      object \n",
      "dtypes: float64(2), int64(5), object(1)\n",
      "memory usage: 256.0+ bytes\n",
      "None\n",
      "   messages_included  mb_per_month_included  minutes_included  \\\n",
      "0                 50                  15360               500   \n",
      "1               1000                  30720              3000   \n",
      "\n",
      "   usd_monthly_pay  usd_per_gb  usd_per_message  usd_per_minute plan_name  \n",
      "0               20          10             0.03            0.03      surf  \n",
      "1               70           7             0.01            0.01  ultimate  \n"
     ]
    }
   ],
   "source": [
    "# Imprime la información general/resumen sobre el DataFrame de los planes\n",
    "print(megaline_plans.info())\n",
    "print(megaline_plans.head())"
   ]
  },
  {
   "cell_type": "code",
   "execution_count": 16,
   "metadata": {},
   "outputs": [
    {
     "name": "stdout",
     "output_type": "stream",
     "text": [
      "   messages_included  mb_per_month_included  minutes_included  \\\n",
      "1               1000                  30720              3000   \n",
      "0                 50                  15360               500   \n",
      "\n",
      "   usd_monthly_pay  usd_per_gb  usd_per_message  usd_per_minute plan_name  \n",
      "1               70           7             0.01            0.01  ultimate  \n",
      "0               20          10             0.03            0.03      surf  \n"
     ]
    }
   ],
   "source": [
    "# Imprime una muestra de los datos para los planes\n",
    "print(megaline_plans.sample(n=2))"
   ]
  },
  {
   "cell_type": "markdown",
   "metadata": {},
   "source": [
    "**Descripción de los datos:**\n",
    "\n",
    "El conjunto de datos megaline_plans describe dos tipos de planes telefónicos: \"surf\" y \"ultimate\". Para cada plan, se nos proporciona la siguiente información:\n",
    "\n",
    "messages_included: Número de mensajes incluidos en el plan mensual.\n",
    "\n",
    "mb_per_month_included: Megabytes incluidos en el plan mensual.\n",
    "\n",
    "minutes_included: Minutos incluidos en el plan mensual.\n",
    "\n",
    "usd_monthly_pay: Pago mensual en dólares del plan.\n",
    "\n",
    "usd_per_gb: Precio en dólares por gigabyte (GB) adicional (una vez superado el límite del plan).\n",
    "\n",
    "usd_per_message: Precio en dólares por mensaje adicional (una vez superado el límite del plan).\n",
    "\n",
    "usd_per_minute: Precio en dólares por minuto adicional (una vez superado el límite del plan).\n",
    "\n",
    "plan_name: Nombre del plan, que puede ser \"surf\" o \"ultimate\".\n",
    "\n",
    "**Observaciones:**\n",
    "\n",
    "El plan \"surf\" incluye 50 mensajes, 15,360 MB (aproximadamente 15 GB), y 500 minutos por un precio mensual de 20 dólares. Los costos adicionales son: 10 dólares por GB adicional, 0.03 dólares por mensaje y minuto adicional.\n",
    "\n",
    "El plan \"ultimate\" incluye 1000 mensajes, 30,720 MB (aproximadamente 30 GB), y 3000 minutos por un precio mensual de 70 dólares. Los costos adicionales son: 7 dólares por GB adicional y 0.01 dólares por mensaje y minuto adicional.\n",
    "\n",
    "Análisis de posibles problemas:\n",
    "\n",
    "Tipos de datos no adecuados: No parece haber ningún tipo de dato inadecuado en el DataFrame. Todas las columnas tienen tipos de datos que coinciden con lo que se espera de su contenido.\n",
    "\n",
    "Datos ausentes: No hay datos ausentes en este conjunto de datos. Todas las columnas tienen 2 entradas non-null.\n",
    "\n",
    "Otros problemas: No hay datos repetidos, erróneos o anomalías visibles.\n",
    "\n",
    "Conclusión:\n",
    "\n",
    "El conjunto de datos megaline_plans parece estar limpio y listo para el análisis. No hay acciones correctivas inmediatas necesarias para este conjunto de datos en particular. Es simple y fácil de comprender, y no muestra problemas evidentes en cuanto a su estructura o contenido."
   ]
  },
  {
   "cell_type": "markdown",
   "metadata": {},
   "source": [
    "### Corregir los datos"
   ]
  },
  {
   "cell_type": "markdown",
   "metadata": {},
   "source": [
    "Basado en el conjunto de datos presentado:\n",
    "\n",
    "Los tipos de datos parecen apropiados para todas las columnas. \n",
    "Los conteos, límites y precios están en formatos numéricos (entero o flotante) mientras que el nombre del plan está en formato de texto (object).\n",
    "\n",
    "No hay datos ausentes en ninguna de las columnas, todas tienen 2 entradas no nulas.\n",
    "\n",
    "Por lo tanto, no hay correcciones necesarias basadas en la observación inicial. El conjunto de datos parece estar limpio y listo para el análisis.\n",
    "\n",
    "Es importante recordar que siempre es útil hacer una revisión adicional a medida que se avanza en el análisis para garantizar que los datos sean consistentes y estén alineados con las expectativas y necesidades del análisis."
   ]
  },
  {
   "cell_type": "markdown",
   "metadata": {},
   "source": [
    "### Enriquecer los datos"
   ]
  },
  {
   "cell_type": "markdown",
   "metadata": {},
   "source": [
    "Consideramos que la \"Tarifa fuera de los límites\" sería una adición valiosa al análisis. \n",
    "\n",
    "La razón es simple: permite a los analistas y a la empresa obtener una vista rápida de cuánto se cobraría a un cliente si excediera los límites de su plan. \n",
    "\n",
    "Esto es útil tanto para la planificación financiera como para evaluar el atractivo de un plan para un cliente potencial.\n",
    "\n",
    "Perspectivas: \n",
    "\n",
    "**Perspectiva del Cliente:** Si un cliente potencial está comparando planes, le gustaría saber no sólo cuánto pagará cada mes, sino también cuánto podría terminar pagando si excede los límites del plan.\n",
    "\n",
    "**Perspectiva Empresarial:** Esto permite a la empresa anticipar ingresos potenciales de clientes que exceden regularmente sus límites y ajustar sus estrategias de marketing y precios en consecuencia.\n",
    "\n",
    "**Código para agregar la Tarifa fuera de los límites:**"
   ]
  },
  {
   "cell_type": "code",
   "execution_count": 17,
   "metadata": {},
   "outputs": [
    {
     "name": "stdout",
     "output_type": "stream",
     "text": [
      "  plan_name  total_extra_fee\n",
      "0      surf           176.56\n",
      "1  ultimate           257.02\n"
     ]
    }
   ],
   "source": [
    "# Calcular la tarifa fuera de los límites para mensajes, minutos y GB\n",
    "megaline_plans['extra_fee_messages'] = megaline_plans['usd_per_message'] * (megaline_plans['messages_included'] + 1)\n",
    "megaline_plans['extra_fee_minutes'] = megaline_plans['usd_per_minute'] * (megaline_plans['minutes_included'] + 1)\n",
    "megaline_plans['extra_fee_gb'] = megaline_plans['usd_per_gb'] * (megaline_plans['mb_per_month_included'] / 1024 + 1)  # asumiendo que 1 GB = 1024 MB\n",
    "\n",
    "# Agregar estas tarifas para obtener una tarifa total fuera de límites\n",
    "megaline_plans['total_extra_fee'] = megaline_plans['extra_fee_messages'] + megaline_plans['extra_fee_minutes'] + megaline_plans['extra_fee_gb']\n",
    "\n",
    "print(megaline_plans[['plan_name', 'total_extra_fee']])"
   ]
  },
  {
   "cell_type": "markdown",
   "metadata": {},
   "source": [
    "El resultado obtenido sugiere que:\n",
    "\n",
    "Si un cliente del plan \"surf\" excede sus límites al enviar un mensaje adicional, realizar una llamada de un minuto adicional y usar 1 GB adicional de datos, podría ser cobrado un total de $176.56 extra.\n",
    "\n",
    "Similarmente, un cliente del plan \"ultimate\" sería cobrado un total de $257.02 bajo las mismas condiciones.\n",
    "\n",
    "Esto indica que el plan \"ultimate\" tiene un costo mayor cuando se exceden los límites, lo cual tiene sentido si consideramos que este plan ya incluye límites más generosos en primer lugar y, por lo tanto, tiene tarifas más altas para el uso adicional.\n",
    "\n",
    "Es vital que los clientes estén bien informados sobre estos costos potenciales, ya que pueden influir en su decisión de elegir un plan en particular o monitorear su consumo para evitar cargos adicionales.\n",
    "\n",
    "Desde una perspectiva de negocio, estos datos pueden ser usados para estrategias de marketing. \n",
    "\n",
    "Por ejemplo, la empresa podría ofrecer descuentos o promociones para clientes que regularmente exceden sus límites, incentivándolos a actualizar a un plan superior que se ajuste mejor a sus necesidades. \n",
    "\n",
    "También podría ayudar a la empresa a identificar y adaptarse a las necesidades cambiantes de sus clientes."
   ]
  },
  {
   "cell_type": "markdown",
   "metadata": {},
   "source": [
    "## Usuarios"
   ]
  },
  {
   "cell_type": "code",
   "execution_count": 18,
   "metadata": {},
   "outputs": [
    {
     "name": "stdout",
     "output_type": "stream",
     "text": [
      "<class 'pandas.core.frame.DataFrame'>\n",
      "RangeIndex: 500 entries, 0 to 499\n",
      "Data columns (total 8 columns):\n",
      " #   Column      Non-Null Count  Dtype         \n",
      "---  ------      --------------  -----         \n",
      " 0   user_id     500 non-null    int64         \n",
      " 1   first_name  500 non-null    object        \n",
      " 2   last_name   500 non-null    object        \n",
      " 3   age         500 non-null    int64         \n",
      " 4   city        500 non-null    object        \n",
      " 5   reg_date    500 non-null    datetime64[ns]\n",
      " 6   plan        500 non-null    object        \n",
      " 7   churn_date  34 non-null     datetime64[ns]\n",
      "dtypes: datetime64[ns](2), int64(2), object(4)\n",
      "memory usage: 31.4+ KB\n",
      "None\n"
     ]
    }
   ],
   "source": [
    "# Imprime la información general/resumen sobre el DataFrame de los usuarios\n",
    "print(megaline_users.info())"
   ]
  },
  {
   "cell_type": "markdown",
   "metadata": {},
   "source": [
    "Dado que previamente ya habíamos revisado y transformado las columnas reg_date y churn_date al tipo datetime, esperamos ver esas columnas reflejadas correctamente en el resumen de información."
   ]
  },
  {
   "cell_type": "code",
   "execution_count": 19,
   "metadata": {},
   "outputs": [
    {
     "name": "stdout",
     "output_type": "stream",
     "text": [
      "     user_id first_name last_name  age  \\\n",
      "145     1145     Venice    Brooks   29   \n",
      "395     1395    Leonard    Wooten   24   \n",
      "118     1118      Deane   Ramirez   28   \n",
      "330     1330       Tobi    Kinney   48   \n",
      "394     1394  Alejandro    Carver   28   \n",
      "\n",
      "                                          city   reg_date      plan churn_date  \n",
      "145     San Jose-Sunnyvale-Santa Clara, CA MSA 2018-04-12      surf        NaT  \n",
      "395  New York-Newark-Jersey City, NY-NJ-PA MSA 2018-06-19  ultimate        NaT  \n",
      "118                           Columbus, OH MSA 2018-12-08      surf        NaT  \n",
      "330       Las Vegas-Henderson-Paradise, NV MSA 2018-11-06  ultimate        NaT  \n",
      "394                           Stockton, CA MSA 2018-01-16      surf        NaT  \n"
     ]
    }
   ],
   "source": [
    "# Imprime una muestra de los datos para los usuarios\n",
    "print(megaline_users.sample(5))"
   ]
  },
  {
   "cell_type": "markdown",
   "metadata": {},
   "source": [
    "Este código mostró 5 registros aleatorios del DataFrame megaline_users. \n",
    "\n",
    "Esto nos permitirá echar un vistazo a diferentes partes del conjunto de datos y obtener una idea general de cómo se distribuyen los valores."
   ]
  },
  {
   "cell_type": "markdown",
   "metadata": {},
   "source": [
    "**Descripción:**\n",
    "\n",
    "El DataFrame megaline_users contiene información sobre 500 usuarios.\n",
    "Cada usuario tiene 8 atributos: user_id, first_name, last_name, age, city, reg_date, plan, y churn_date.\n",
    "\n",
    "**Observaciones específicas:**\n",
    "\n",
    "user_id: Identificador único para cada usuario. Es un dato tipo entero y no hay valores nulos.\n",
    "\n",
    "first_name y last_name: Nombres y apellidos de los usuarios. Son datos tipo objeto (cadenas de texto) y no hay valores nulos.\n",
    "\n",
    "age: Edad del usuario. Es un dato tipo entero y no hay valores nulos.\n",
    "\n",
    "city: Ciudad del usuario. Es un dato tipo objeto y no hay valores nulos.\n",
    "\n",
    "reg_date: Fecha en que el usuario se registró. Es un dato tipo datetime y no hay valores nulos.\n",
    "\n",
    "plan: Plan elegido por el usuario (como 'surf' o 'ultimate'). Es un dato tipo objeto y no hay valores nulos.\n",
    "\n",
    "churn_date: Fecha en que el usuario canceló el servicio. Es un dato tipo datetime, pero hay muchos valores nulos (466 exactamente), lo que significa que esos usuarios no han cancelado el servicio.\n",
    "\n",
    "\n",
    "**Problemas identificados y soluciones:**\n",
    "\n",
    "Datos ausentes en churn_date: La columna churn_date tiene muchos valores nulos (NaT), lo que indica que esos usuarios no han cancelado el servicio. \n",
    "\n",
    "Esto es esperado y no necesariamente es un problema, por lo que mantendremos los datos con los nulos (NaT)."
   ]
  },
  {
   "cell_type": "markdown",
   "metadata": {},
   "source": [
    "**Porqué se tomó la desición:**\n",
    "\n",
    "Análisis Temporal: Ya no podremos realizar operaciones temporales en la columna churn_date, ya que ha sido convertida a una columna de texto. \n",
    "Tendríamos que convertir de nuevo los valores de fecha en churn_date a formato datetime.\n",
    "\n",
    "Consistencia: Si en el futuro decidimos filtrar, agrupar o realizar cualquier otra operación que implique la columna churn_date, tendrás que tener en cuenta que algunos de sus valores son fechas y otros son la cadena \"No ha cancelado\".\n",
    "\n",
    "Almacenamiento: Las cadenas de texto tienden a ocupar más espacio que las fechas en formato datetime64, aunque en un DataFrame de 500 filas la diferencia no sería muy significativa.\n",
    "\n",
    "Verifiquemos la consistencia en la columna plan."
   ]
  },
  {
   "cell_type": "markdown",
   "metadata": {},
   "source": [
    "Para verificar la consistencia en la columna plan:"
   ]
  },
  {
   "cell_type": "code",
   "execution_count": 20,
   "metadata": {},
   "outputs": [
    {
     "name": "stdout",
     "output_type": "stream",
     "text": [
      "surf        339\n",
      "ultimate    161\n",
      "Name: plan, dtype: int64\n"
     ]
    }
   ],
   "source": [
    "print(megaline_users['plan'].value_counts())"
   ]
  },
  {
   "cell_type": "markdown",
   "metadata": {},
   "source": [
    "Esto muestra que:\n",
    "\n",
    "Hay 339 usuarios con el plan \"surf\".\n",
    "Hay 161 usuarios con el plan \"ultimate\".\n",
    "\n",
    "Estos datos parecen consistentes y no hay indicios de errores tipográficos o valores inconsistentes en la columna plan. \n",
    "Por lo tanto, podemos afirmar que esta columna es coherente y no requiere correcciones adicionales.\n",
    "\n",
    "En resumen, los datos en el DataFrame megaline_users parecen estar en buen estado. \n",
    "\n",
    "Las fechas están en el formato correcto, no hay inconsistencias obvias en la columna plan, y la presencia de valores nulos en churn_date es comprensible (ya que representa a los usuarios que no han cancelado). \n",
    "\n",
    "A menos que tengamos otros aspectos específicos que queramos investigar o corregir, podemos continuar con el análisis."
   ]
  },
  {
   "cell_type": "markdown",
   "metadata": {},
   "source": [
    " "
   ]
  },
  {
   "cell_type": "markdown",
   "metadata": {},
   "source": [
    "### Corregir datos"
   ]
  },
  {
   "cell_type": "markdown",
   "metadata": {},
   "source": [
    "**Manejo de Valores Nulos en churn_date:** En lugar de llenar la columna churn_date con el texto \"No ha cancelado\", podríamos crear una nueva columna llamada churn_status que indique si un usuario ha cancelado o no."
   ]
  },
  {
   "cell_type": "code",
   "execution_count": 21,
   "metadata": {},
   "outputs": [],
   "source": [
    "megaline_users['churn_status'] = megaline_users['churn_date'].apply(lambda x: 'No ha cancelado' if pd.isnull(x) else 'Cancelado')"
   ]
  },
  {
   "cell_type": "markdown",
   "metadata": {},
   "source": [
    "Ahora que ya aplicamos el estado de cancelación (churn_status), hemos mejorado la legibilidad y la facilidad de análisis de esa parte particular de los datos."
   ]
  },
  {
   "cell_type": "markdown",
   "metadata": {},
   "source": [
    "Ya nos hemos asegurado anteriormente que las columnas tienen el tipo de datos adecuado. Hermos manejado las columnas de fecha anteriormente."
   ]
  },
  {
   "cell_type": "markdown",
   "metadata": {},
   "source": [
    "**Verificación de Valores Únicos:** \n",
    "Nos aseguraremos de que user_id contenga valores únicos, ya que debería ser un identificador único para cada usuario."
   ]
  },
  {
   "cell_type": "code",
   "execution_count": 22,
   "metadata": {},
   "outputs": [],
   "source": [
    "assert megaline_users['user_id'].nunique() == megaline_users.shape[0], \"user_id no es único.\""
   ]
  },
  {
   "cell_type": "markdown",
   "metadata": {},
   "source": [
    "No se obtuvo ningún error, eso significa que la condición que especificaste es verdadera. \n",
    "\n",
    "En otras palabras, la cantidad de valores únicos en la columna user_id es igual al número total de filas en el DataFrame megaline_users. \n",
    "\n",
    "Esto indica que user_id es un identificador único para cada usuario, lo cual es una buena noticia porque así podemos estar seguros de que no hay registros duplicados en base a ese identificador.\n",
    "\n",
    "Usamos assert por que es una excelente manera de verificar rápidamente las suposiciones o características de los datos. \n",
    "Si el assert falla, Python arrojará una excepción, lo que indica que algo no es como esperabas."
   ]
  },
  {
   "cell_type": "markdown",
   "metadata": {},
   "source": [
    "**Revisión de Valores Inconsistentes:** \n",
    "Si la columna plan sólo debe contener \"surf\" y \"ultimate\", podríamos verificar que no haya otros valores."
   ]
  },
  {
   "cell_type": "code",
   "execution_count": 23,
   "metadata": {},
   "outputs": [],
   "source": [
    "assert set(megaline_users['plan'].unique()) == {'surf', 'ultimate'}, \"Valores inconsistentes en la columna plan.\""
   ]
  },
  {
   "cell_type": "markdown",
   "metadata": {},
   "source": [
    "El uso de assert de esta manera afirma que la columna plan del DataFrame megaline_users solo contenga los valores 'surf' y 'ultimate'. \n",
    "\n",
    "Si no obtuvimos ningún error al ejecutar este assert, significa que esta condición es verdadera y no hay otros valores inesperados o inconsistentes en esa columna."
   ]
  },
  {
   "cell_type": "markdown",
   "metadata": {},
   "source": [
    "### Enriquecer datos"
   ]
  },
  {
   "cell_type": "markdown",
   "metadata": {},
   "source": [
    "**Duración del Servicio:**\n",
    "\n",
    "Podríamos calcular la duración entre la fecha de registro (reg_date) y la fecha de cancelación (churn_date) para cada usuario. Esto te daría una idea de cuánto tiempo cada usuario permaneció en el servicio."
   ]
  },
  {
   "cell_type": "code",
   "execution_count": 24,
   "metadata": {},
   "outputs": [],
   "source": [
    "megaline_users['duration'] = np.where(megaline_users['churn_status'] == 'Cancelado', \n",
    "                                      (megaline_users['churn_date'] - megaline_users['reg_date']).dt.days,\n",
    "                                      (pd.Timestamp.now() - megaline_users['reg_date']).dt.days)"
   ]
  },
  {
   "cell_type": "markdown",
   "metadata": {},
   "source": [
    "Para verificar que la nueva columna 'duration' se creó correctamente, podemos visualizar las primeras filas del DataFrame:"
   ]
  },
  {
   "cell_type": "code",
   "execution_count": 25,
   "metadata": {},
   "outputs": [
    {
     "name": "stdout",
     "output_type": "stream",
     "text": [
      "   user_id first_name  last_name  age                                   city  \\\n",
      "0     1000   Anamaria      Bauer   45  Atlanta-Sandy Springs-Roswell, GA MSA   \n",
      "1     1001     Mickey  Wilkerson   28        Seattle-Tacoma-Bellevue, WA MSA   \n",
      "2     1002     Carlee    Hoffman   36   Las Vegas-Henderson-Paradise, NV MSA   \n",
      "3     1003   Reynaldo    Jenkins   52                          Tulsa, OK MSA   \n",
      "4     1004    Leonila   Thompson   40        Seattle-Tacoma-Bellevue, WA MSA   \n",
      "\n",
      "    reg_date      plan churn_date     churn_status  duration  \n",
      "0 2018-12-24  ultimate        NaT  No ha cancelado    1733.0  \n",
      "1 2018-08-13      surf        NaT  No ha cancelado    1866.0  \n",
      "2 2018-10-21      surf        NaT  No ha cancelado    1797.0  \n",
      "3 2018-01-28      surf        NaT  No ha cancelado    2063.0  \n",
      "4 2018-05-23      surf        NaT  No ha cancelado    1948.0  \n"
     ]
    }
   ],
   "source": [
    "print(megaline_users.head())"
   ]
  },
  {
   "cell_type": "markdown",
   "metadata": {},
   "source": [
    "La columna 'duration' se ha agregado con éxito al DataFrame megaline_users. \n",
    "\n",
    "Esta columna muestra la cantidad de días desde que el usuario se registró hasta la fecha actual (en caso de que el usuario no haya cancelado su servicio) o hasta la fecha de cancelación (en caso de que el usuario haya cancelado).\n",
    "\n",
    "La columna 'duration' puede ser útil para varios análisis, tales como:\n",
    "\n",
    "Analizar la retención de usuarios.\n",
    "Comparar la duración promedio de los usuarios entre diferentes planes.\n",
    "Evaluar si hay alguna relación entre la duración y otros factores, como la ciudad de residencia, la edad, etc.\n",
    "\n",
    "Está claro que la columna 'duration' enriquece el conjunto de datos al proporcionar una métrica de tiempo que puede ser esencial para entender el comportamiento del cliente y la lealtad hacia los servicios de Megaline."
   ]
  },
  {
   "cell_type": "markdown",
   "metadata": {},
   "source": [
    "## Llamadas"
   ]
  },
  {
   "cell_type": "code",
   "execution_count": 26,
   "metadata": {},
   "outputs": [
    {
     "name": "stdout",
     "output_type": "stream",
     "text": [
      "<class 'pandas.core.frame.DataFrame'>\n",
      "RangeIndex: 137735 entries, 0 to 137734\n",
      "Data columns (total 4 columns):\n",
      " #   Column     Non-Null Count   Dtype         \n",
      "---  ------     --------------   -----         \n",
      " 0   id         137735 non-null  object        \n",
      " 1   user_id    137735 non-null  int64         \n",
      " 2   call_date  137735 non-null  datetime64[ns]\n",
      " 3   duration   137735 non-null  float64       \n",
      "dtypes: datetime64[ns](1), float64(1), int64(1), object(1)\n",
      "memory usage: 4.2+ MB\n",
      "None\n"
     ]
    }
   ],
   "source": [
    "# Imprime la información/resumen general sobre el DataFrame de las llamadas\n",
    "print(megaline_calls.info())"
   ]
  },
  {
   "cell_type": "code",
   "execution_count": 27,
   "metadata": {},
   "outputs": [
    {
     "name": "stdout",
     "output_type": "stream",
     "text": [
      "             id  user_id  call_date  duration\n",
      "31719   1120_46     1120 2018-06-03      0.00\n",
      "12035  1053_107     1053 2018-12-04      4.39\n",
      "58733  1212_206     1212 2018-10-18      8.93\n",
      "2474    1010_44     1010 2018-03-27      7.97\n",
      "1584     1009_6     1009 2018-06-04      7.60\n",
      "         id  user_id  call_date  duration\n",
      "0   1000_93     1000 2018-12-27      8.52\n",
      "1  1000_145     1000 2018-12-27     13.66\n",
      "2  1000_247     1000 2018-12-27     14.48\n",
      "3  1000_309     1000 2018-12-28      5.76\n",
      "4  1000_380     1000 2018-12-30      4.22\n"
     ]
    }
   ],
   "source": [
    "# Imprime una muestra de datos para llamadas\n",
    "print(megaline_calls.sample(n=5))\n",
    "print(megaline_calls.head())"
   ]
  },
  {
   "cell_type": "markdown",
   "metadata": {},
   "source": [
    "**Descripción de la información**\n",
    "\n",
    "Dataframe: El DataFrame llamado megaline_calls contiene 137,735 entradas y 4 columnas.\n",
    "\n",
    "**Columnas:**\n",
    "\n",
    "id: Parece ser una combinación del user_id y algún otro número, representado como un objeto/string.\n",
    "\n",
    "user_id: Un identificador entero para el usuario que realizó la llamada.\n",
    "\n",
    "call_date: Una fecha, con el formato datetime64, indicando cuándo se realizó la llamada.\n",
    "\n",
    "duration: Duración de la llamada en minutos, representada como un número flotante.\n",
    "\n",
    "\n",
    "**Problemas potenciales**\n",
    "\n",
    "IDs únicos: Podría ser útil verificar si cada id es único.\n",
    "\n",
    "Duraciones de llamada: Hay llamadas con duración de 0.00, lo que podría indicar llamadas no conectadas o perdidas. \n",
    "\n",
    "Llamadas por usuario: Podría ser útil verificar cuántas llamadas realizó cada usuario para obtener una idea de la distribución."
   ]
  },
  {
   "cell_type": "markdown",
   "metadata": {},
   "source": [
    "**Verificar IDs únicos:**"
   ]
  },
  {
   "cell_type": "code",
   "execution_count": 28,
   "metadata": {},
   "outputs": [],
   "source": [
    "assert megaline_calls['id'].nunique() == megaline_calls.shape[0], \"El ID de la llamada no es único.\""
   ]
  },
  {
   "cell_type": "markdown",
   "metadata": {},
   "source": [
    "Esto es genial porque significa que cada registro tiene un identificador único y no hay duplicados basados en el ID."
   ]
  },
  {
   "cell_type": "markdown",
   "metadata": {},
   "source": [
    "**Analizar duraciones de llamada:**\n",
    "\n",
    "Podrías considerar filtrar o manejar de forma especial las llamadas con duración de 0.00:"
   ]
  },
  {
   "cell_type": "code",
   "execution_count": 29,
   "metadata": {},
   "outputs": [],
   "source": [
    "connected_calls = megaline_calls[megaline_calls['duration'] > 0]"
   ]
  },
  {
   "cell_type": "markdown",
   "metadata": {},
   "source": [
    "El código ha filtrado las llamadas con duración mayor que 0 y ha creado un nuevo DataFrame llamado connected_calls. \n",
    "\n",
    "Este DataFrame contiene solo llamadas que fueron efectivamente conectadas (es decir, excluye llamadas no conectadas o perdidas)."
   ]
  },
  {
   "cell_type": "markdown",
   "metadata": {},
   "source": [
    "**Llamadas por usuario:**\n",
    "\n",
    "Podría ser útil ver cuántas llamadas ha hecho cada usuario:"
   ]
  },
  {
   "cell_type": "code",
   "execution_count": 30,
   "metadata": {},
   "outputs": [
    {
     "name": "stdout",
     "output_type": "stream",
     "text": [
      "1324    1300\n",
      "1077    1224\n",
      "1334    1140\n",
      "1362    1121\n",
      "1320    1080\n",
      "        ... \n",
      "1104       4\n",
      "1452       3\n",
      "1306       3\n",
      "1323       3\n",
      "1034       2\n",
      "Name: user_id, Length: 481, dtype: int64\n"
     ]
    }
   ],
   "source": [
    "calls_per_user = megaline_calls['user_id'].value_counts()\n",
    "print(calls_per_user)"
   ]
  },
  {
   "cell_type": "markdown",
   "metadata": {},
   "source": [
    "El resultado muestra la cantidad de llamadas realizadas por cada usuario. \n",
    "\n",
    "El usuario con ID 1324 es el que más llamadas ha hecho con un total de 1300, mientras que el usuario con ID 1034 ha hecho solo 2 llamadas. \n",
    "Esto nos da una idea de la distribución de la cantidad de llamadas entre usuarios. \n",
    "Es posible que algunos usuarios sean más activos que otros o que hayan estado usando el servicio por más tiempo.\n",
    "\n",
    "Con esta información, ya tenemos una mejor comprensión de los datos en el DataFrame de llamadas. Ahora puedes continuar con análisis más detallados o enriquecer estos datos con información adicional si es necesario para tus objetivos específicos."
   ]
  },
  {
   "cell_type": "markdown",
   "metadata": {},
   "source": [
    " "
   ]
  },
  {
   "cell_type": "markdown",
   "metadata": {},
   "source": [
    "### Corregir datos"
   ]
  },
  {
   "cell_type": "markdown",
   "metadata": {},
   "source": [
    "Basándonos en las observaciones y análisis previos de los datos de llamadas, podemos señalar las siguientes acciones:\n",
    "\n",
    "**Duración de las llamadas con valor 0:**\n",
    "\n",
    "Ya se filtraron las llamadas con duración mayor que 0 en el DataFrame connected_calls. \n",
    "Sin embargo, si necesitamos trabajar con el DataFrame original (megaline_calls), es importante recordar que contiene registros con duración 0, que representan llamadas no conectadas o perdidas.\n",
    "\n",
    "**IDs únicos:**\n",
    "Ya verificamos que cada ID en el DataFrame de llamadas es único, por lo que no es necesario realizar ninguna corrección en este aspecto.\n",
    "\n",
    "\n",
    "**Tipos de datos:**\n",
    "Parece que todos los tipos de datos son adecuados para sus respectivas columnas.\n",
    "\n",
    "Por el momento, con la información proporcionada, las correcciones señaladas son correctas."
   ]
  },
  {
   "cell_type": "markdown",
   "metadata": {},
   "source": [
    "### Enriquecer datos"
   ]
  },
  {
   "cell_type": "markdown",
   "metadata": {},
   "source": [
    "**Día de la semana:**\n",
    "Agregaremos una columna que indique el día de la semana en que se realizó la llamada. \n",
    "Esto podría ser útil para identificar patrones en el uso del servicio, como si ciertos días tienen más llamadas que otros."
   ]
  },
  {
   "cell_type": "code",
   "execution_count": 31,
   "metadata": {},
   "outputs": [],
   "source": [
    "megaline_calls['weekday'] = megaline_calls['call_date'].dt.day_name()"
   ]
  },
  {
   "cell_type": "markdown",
   "metadata": {},
   "source": [
    "**Mes:**"
   ]
  },
  {
   "cell_type": "markdown",
   "metadata": {},
   "source": [
    "Podría haber variaciones mensuales en el comportamiento de llamadas, como un aumento de llamadas durante ciertos meses festivos o vacaciones. \n",
    "Dicha información puede ser útil para planificar ofertas o promociones específicas."
   ]
  },
  {
   "cell_type": "code",
   "execution_count": 32,
   "metadata": {},
   "outputs": [],
   "source": [
    "megaline_calls['month'] = megaline_calls['call_date'].dt.month_name()"
   ]
  },
  {
   "cell_type": "markdown",
   "metadata": {},
   "source": [
    "**Días desde la fecha de registro:**\n",
    "\n",
    "Observar cómo el comportamiento de llamadas cambia con el tiempo desde que un usuario se registró podría proporcionar información sobre cómo los patrones de uso evolucionan a medida que los usuarios se familiarizan más con el servicio."
   ]
  },
  {
   "cell_type": "code",
   "execution_count": 33,
   "metadata": {},
   "outputs": [],
   "source": [
    "megaline_calls = megaline_calls.merge(megaline_users[['user_id', 'reg_date']], on='user_id', how='left')\n",
    "megaline_calls['days_since_reg'] = (megaline_calls['call_date'] - megaline_calls['reg_date']).dt.days"
   ]
  },
  {
   "cell_type": "markdown",
   "metadata": {},
   "source": [
    "No ha ocurrido ningún error y no ha aparecido ninguna salida después de ejecutar el código, eso es una buena señal; significa que las operaciones se han completado con éxito.\n",
    "\n",
    "Ahora que hemos enriquecido los datos, podemos imprimir algunas filas del DataFrame megaline_calls:"
   ]
  },
  {
   "cell_type": "code",
   "execution_count": 34,
   "metadata": {},
   "outputs": [
    {
     "name": "stdout",
     "output_type": "stream",
     "text": [
      "         id  user_id  call_date  duration   weekday     month   reg_date  \\\n",
      "0   1000_93     1000 2018-12-27      8.52  Thursday  December 2018-12-24   \n",
      "1  1000_145     1000 2018-12-27     13.66  Thursday  December 2018-12-24   \n",
      "2  1000_247     1000 2018-12-27     14.48  Thursday  December 2018-12-24   \n",
      "3  1000_309     1000 2018-12-28      5.76    Friday  December 2018-12-24   \n",
      "4  1000_380     1000 2018-12-30      4.22    Sunday  December 2018-12-24   \n",
      "\n",
      "   days_since_reg  \n",
      "0               3  \n",
      "1               3  \n",
      "2               3  \n",
      "3               4  \n",
      "4               6  \n"
     ]
    }
   ],
   "source": [
    "print(megaline_calls.head())"
   ]
  },
  {
   "cell_type": "markdown",
   "metadata": {},
   "source": [
    "Excelente. El DataFrame megaline_calls ahora tiene las nuevas columnas que agregamos para enriquecer los datos:\n",
    "\n",
    "**weekday:** Representa el día de la semana de la llamada. Esto puede ser útil para identificar tendencias relacionadas con los días de la semana. Por ejemplo, es posible que algunos usuarios hagan más llamadas durante los fines de semana que entre semana.\n",
    "\n",
    "**month:** Representa el mes en el que se realizó la llamada. Esta columna es beneficiosa para el análisis mensual y para identificar tendencias estacionales.\n",
    "\n",
    "**days_since_reg:** Muestra la cantidad de días transcurridos desde que el usuario se registró hasta el día de la llamada. \n",
    "Esto puede ayudar a entender cómo cambian los patrones de uso a lo largo del tiempo después del registro.\n",
    "\n",
    "Estas nuevas características proporcionan un conjunto más completo y versátil de datos para analizar el comportamiento de los usuarios en relación con sus llamadas. Ahora puede proceder con el análisis exploratorio o cualquier otro tipo de análisis que tenga en mente."
   ]
  },
  {
   "cell_type": "markdown",
   "metadata": {},
   "source": [
    "## Mensajes"
   ]
  },
  {
   "cell_type": "markdown",
   "metadata": {},
   "source": [
    "Ejecutando los siguientes codigos, primero obtendremos un resumen del DataFrame y luego una muestra aleatoria de 5 registros del DataFrame de mensajes. \n",
    "Esto nos dará una idea general de cómo se ven los datos."
   ]
  },
  {
   "cell_type": "code",
   "execution_count": 35,
   "metadata": {},
   "outputs": [
    {
     "name": "stdout",
     "output_type": "stream",
     "text": [
      "<class 'pandas.core.frame.DataFrame'>\n",
      "RangeIndex: 76051 entries, 0 to 76050\n",
      "Data columns (total 3 columns):\n",
      " #   Column        Non-Null Count  Dtype         \n",
      "---  ------        --------------  -----         \n",
      " 0   id            76051 non-null  object        \n",
      " 1   user_id       76051 non-null  int64         \n",
      " 2   message_date  76051 non-null  datetime64[ns]\n",
      "dtypes: datetime64[ns](1), int64(1), object(1)\n",
      "memory usage: 1.7+ MB\n",
      "None\n"
     ]
    }
   ],
   "source": [
    "# Imprime la información/resumen general sobre el DataFrame de los mensajes\n",
    "print(megaline_messages.info())"
   ]
  },
  {
   "cell_type": "code",
   "execution_count": 36,
   "metadata": {},
   "outputs": [
    {
     "name": "stdout",
     "output_type": "stream",
     "text": [
      "\n",
      "Muestra de datos para los mensajes:\n",
      "             id  user_id message_date\n",
      "32866   1204_61     1204   2018-12-10\n",
      "68370  1440_236     1440   2018-08-16\n",
      "62644   1394_33     1394   2018-12-31\n",
      "58348  1369_149     1369   2018-12-19\n",
      "59175  1374_349     1374   2018-08-21\n"
     ]
    }
   ],
   "source": [
    "# Imprime una muestra de datos para los mensajes\n",
    "print(\"\\nMuestra de datos para los mensajes:\")\n",
    "print(megaline_messages.sample(5))"
   ]
  },
  {
   "cell_type": "markdown",
   "metadata": {},
   "source": [
    "**Descripción de los datos de mensajes**:\n",
    "\n",
    "- El DataFrame `megaline_messages` contiene 76,051 registros.\n",
    "  \n",
    "- Hay tres columnas en el DataFrame:\n",
    "\n",
    "  1. `id`: Parece ser una combinación del `user_id` y algún otro número. Es probable que se trate de un identificador único para cada mensaje. Esto podría ser útil para asegurarse de que no haya duplicados en el conjunto de datos.\n",
    "  \n",
    "  2. `user_id`: Es el identificador único para cada usuario y es de tipo int64. Esta columna nos permitirá vincular esta tabla con otros DataFrames, como el de usuarios.\n",
    "  \n",
    "  3. `message_date`: La fecha en que se envió el mensaje. Es de tipo datetime64 y podría ser útil para análisis temporales.\n",
    "\n",
    "**Posibles problemas y soluciones**:\n",
    "\n",
    "1. **Duplicados**: Aunque no hay evidencia inmediata de registros duplicados basados en la muestra proporcionada, es una buena práctica verificar y eliminar cualquier duplicado, especialmente usando la columna `id` ya que se supone que es única.\n",
    "\n",
    "2. **Tipos de Datos**: En general, los tipos de datos parecen apropiados. La columna `message_date` ya está en formato datetime64, lo cual es útil.\n",
    "\n",
    "3. **Datos Ausentes**: No parece haber ningún dato faltante, todas las columnas tienen la misma cantidad de entradas no nulas (76,051). \n",
    "\n",
    "4. **Consistencia de Datos**: Basado en la información proporcionada, no parece haber ningún problema obvio de consistencia. Sin embargo, podría ser útil explorar los datos en mayor detalle para identificar cualquier anomalía o patrón inusual.\n",
    "\n",
    "**Acciones recomendadas**:\n",
    "\n",
    "1. Verificar y eliminar duplicados.\n",
    "\n",
    "2. Verificar datos faltantes."
   ]
  },
  {
   "cell_type": "markdown",
   "metadata": {},
   "source": [
    "### Corregir datos"
   ]
  },
  {
   "cell_type": "markdown",
   "metadata": {},
   "source": [
    "**Verificar y eliminar duplicados:**"
   ]
  },
  {
   "cell_type": "code",
   "execution_count": 37,
   "metadata": {},
   "outputs": [],
   "source": [
    "megaline_messages = megaline_messages.drop_duplicates(subset='id', keep='first')"
   ]
  },
  {
   "cell_type": "markdown",
   "metadata": {},
   "source": [
    "Al usar drop_duplicates y no obtener ninguna salida, significa que no había registros duplicados basados en la columna id. Esto es una buena señal y confirma que el identificador id es único para cada mensaje."
   ]
  },
  {
   "cell_type": "markdown",
   "metadata": {},
   "source": [
    "**Verificar datos faltantes:**"
   ]
  },
  {
   "cell_type": "code",
   "execution_count": 38,
   "metadata": {},
   "outputs": [
    {
     "name": "stdout",
     "output_type": "stream",
     "text": [
      "id              0\n",
      "user_id         0\n",
      "message_date    0\n",
      "dtype: int64\n"
     ]
    }
   ],
   "source": [
    "print(megaline_messages.isnull().sum())"
   ]
  },
  {
   "cell_type": "markdown",
   "metadata": {},
   "source": [
    "Datos Faltantes: Al verificar los datos faltantes con isnull().sum(), y obtener un resultado de 0 para cada columna, confirma que no hay valores nulos o datos faltantes en el DataFrame megaline_messages.\n",
    "\n",
    "Dado que no se encontraron problemas con los datos, podemos continuar con el siguiente paso del análisis. "
   ]
  },
  {
   "cell_type": "markdown",
   "metadata": {},
   "source": [
    "### Enriquecer datos"
   ]
  },
  {
   "cell_type": "markdown",
   "metadata": {},
   "source": [
    "Para el conjunto de datos de mensajes, aquí hay algunas sugerencias para enriquecer los datos:\n",
    "\n",
    "**Día de la Semana:** Al igual que con las llamadas, puede ser útil saber qué día de la semana se envió un mensaje. \n",
    "Esto puede ayudar a identificar patrones en la actividad de mensajería."
   ]
  },
  {
   "cell_type": "code",
   "execution_count": 39,
   "metadata": {},
   "outputs": [],
   "source": [
    "megaline_messages['weekday'] = megaline_messages['message_date'].dt.day_name()"
   ]
  },
  {
   "cell_type": "markdown",
   "metadata": {},
   "source": [
    "**Mes:** Al igual que antes, saber el mes puede ayudar a identificar patrones estacionales en el uso de mensajería."
   ]
  },
  {
   "cell_type": "code",
   "execution_count": 40,
   "metadata": {},
   "outputs": [],
   "source": [
    "megaline_messages['month'] = megaline_messages['message_date'].dt.month_name()"
   ]
  },
  {
   "cell_type": "markdown",
   "metadata": {},
   "source": [
    "**Días desde el registro:** \n",
    "Es posible que los usuarios envíen más mensajes poco después de registrarse y luego reduzcan su actividad. \n",
    "Podemos calcular cuántos días han pasado desde que se registraron hasta la fecha del mensaje."
   ]
  },
  {
   "cell_type": "code",
   "execution_count": 41,
   "metadata": {},
   "outputs": [],
   "source": [
    "megaline_messages = megaline_messages.merge(megaline_users[['user_id', 'reg_date']], on='user_id', how='left')\n",
    "megaline_messages['days_since_reg'] = (megaline_messages['message_date'] - megaline_messages['reg_date']).dt.days"
   ]
  },
  {
   "cell_type": "markdown",
   "metadata": {},
   "source": [
    "No apareció ningún error después de aplicar las sugerencias, significa que las operaciones se realizaron con éxito y las nuevas columnas se han agregado al DataFrame megaline_messages.\n",
    "\n",
    "Para verificar que las columnas se han añadido y visualizar algunos datos, puedes imprimir las primeras filas del DataFrame actualizado:"
   ]
  },
  {
   "cell_type": "code",
   "execution_count": 42,
   "metadata": {},
   "outputs": [
    {
     "name": "stdout",
     "output_type": "stream",
     "text": [
      "         id  user_id message_date    weekday     month   reg_date  \\\n",
      "0  1000_125     1000   2018-12-27   Thursday  December 2018-12-24   \n",
      "1  1000_160     1000   2018-12-31     Monday  December 2018-12-24   \n",
      "2  1000_223     1000   2018-12-31     Monday  December 2018-12-24   \n",
      "3  1000_251     1000   2018-12-27   Thursday  December 2018-12-24   \n",
      "4  1000_255     1000   2018-12-26  Wednesday  December 2018-12-24   \n",
      "\n",
      "   days_since_reg  \n",
      "0               3  \n",
      "1               7  \n",
      "2               7  \n",
      "3               3  \n",
      "4               2  \n"
     ]
    }
   ],
   "source": [
    "print(megaline_messages.head())"
   ]
  },
  {
   "cell_type": "markdown",
   "metadata": {},
   "source": [
    "Parece que las columnas se han agregado correctamente al DataFrame megaline_messages.\n",
    "\n",
    "El DataFrame ahora contiene las siguientes columnas:\n",
    "\n",
    "\n",
    "**id:** ID único del mensaje.\n",
    "\n",
    "**user_id:** ID del usuario que envió el mensaje.\n",
    "\n",
    "**message_date:** Fecha en que se envió el mensaje.\n",
    "\n",
    "**weekday:** Día de la semana en que se envió el mensaje.\n",
    "\n",
    "**month:** Mes en que se envió el mensaje.\n",
    "\n",
    "**reg_date:** Fecha de registro del usuario.\n",
    "\n",
    "**days_since_reg:** Número de días desde que el usuario se registró hasta la fecha del mensaje.\n",
    "\n",
    "\n",
    "Estas columnas adicionales pueden ser útiles para análisis posteriores, como identificar patrones de uso basados en el día de la semana o el mes, o entender la actividad de los usuarios en función de su tiempo en el servicio. \n",
    "\n",
    "Ahora puedemos proceder con el siguiente análisis."
   ]
  },
  {
   "cell_type": "markdown",
   "metadata": {},
   "source": [
    "## Internet"
   ]
  },
  {
   "cell_type": "code",
   "execution_count": 43,
   "metadata": {},
   "outputs": [
    {
     "name": "stdout",
     "output_type": "stream",
     "text": [
      "<class 'pandas.core.frame.DataFrame'>\n",
      "RangeIndex: 104825 entries, 0 to 104824\n",
      "Data columns (total 4 columns):\n",
      " #   Column        Non-Null Count   Dtype         \n",
      "---  ------        --------------   -----         \n",
      " 0   id            104825 non-null  object        \n",
      " 1   user_id       104825 non-null  int64         \n",
      " 2   session_date  104825 non-null  datetime64[ns]\n",
      " 3   mb_used       104825 non-null  float64       \n",
      "dtypes: datetime64[ns](1), float64(1), int64(1), object(1)\n",
      "memory usage: 3.2+ MB\n",
      "None\n"
     ]
    }
   ],
   "source": [
    "# Imprime la información/resumen general sobre el DataFrame de los mensajes\n",
    "print(megaline_internet.info())"
   ]
  },
  {
   "cell_type": "code",
   "execution_count": 44,
   "metadata": {},
   "outputs": [
    {
     "name": "stdout",
     "output_type": "stream",
     "text": [
      "         id  user_id session_date  mb_used\n",
      "0   1000_13     1000   2018-12-29    89.86\n",
      "1  1000_204     1000   2018-12-31     0.00\n",
      "2  1000_379     1000   2018-12-28   660.40\n",
      "3  1000_413     1000   2018-12-26   270.99\n",
      "4  1000_442     1000   2018-12-27   880.22\n"
     ]
    }
   ],
   "source": [
    "# Imprime una muestra de datos para el tráfico de internet\n",
    "print(megaline_internet.head())"
   ]
  },
  {
   "cell_type": "markdown",
   "metadata": {},
   "source": [
    "**Información General:**\n",
    "\n",
    "Hay un total de 104,825 entradas en el DataFrame.\n",
    "Las columnas son: id, user_id, session_date y mb_used.\n",
    "No hay valores nulos en ninguna columna.\n",
    "Los tipos de datos parecen apropiados: id y user_id como identificadores, session_date como una fecha, y mb_used como un valor flotante que probablemente representa la cantidad de megabytes utilizados en esa sesión."
   ]
  },
  {
   "cell_type": "markdown",
   "metadata": {},
   "source": [
    "**Muestra:**\n",
    "\n",
    "Las primeras cinco entradas muestran varias sesiones de internet del usuario con user_id 1000.\n",
    "Se puede observar una sesión con 0.00 MB usados. \n",
    "Esto podría indicar sesiones donde el usuario no usó datos o donde hubo algún problema de conectividad."
   ]
  },
  {
   "cell_type": "markdown",
   "metadata": {},
   "source": [
    "**Observaciones:**\n",
    "\n",
    "El id parece ser una combinación del user_id y un número de sesión. Podríamos verificar la unicidad de esta columna.\n",
    "Sería útil saber si hay muchas sesiones con 0 MB de uso, ya que esto podría afectar el análisis."
   ]
  },
  {
   "cell_type": "markdown",
   "metadata": {},
   "source": [
    "**Posibles acciones:**\n",
    "\n",
    "Verificar la unicidad del id.\n",
    "\n",
    "Investigar la cantidad y proporción de sesiones con 0 MB de uso. Si se considera necesario, se podrían filtrar o ajustar las sesiones con 0 MB de uso."
   ]
  },
  {
   "cell_type": "markdown",
   "metadata": {},
   "source": [
    "### Corregir datos"
   ]
  },
  {
   "cell_type": "markdown",
   "metadata": {},
   "source": [
    "Basado en las observaciones, tenemos dos tareas principales:\n",
    "\n",
    "1. Verificar la unicidad de la columna `id`.\n",
    "2. Investigar y decidir qué hacer con las sesiones de internet con 0 MB de uso.\n",
    "\n",
    "Vamos a abordar cada tarea:\n",
    "\n",
    "**1. Verificar la unicidad de la columna `id`:**"
   ]
  },
  {
   "cell_type": "code",
   "execution_count": 45,
   "metadata": {},
   "outputs": [],
   "source": [
    "assert megaline_internet['id'].nunique() == megaline_internet.shape[0], \"El ID de la sesión no es único.\""
   ]
  },
  {
   "cell_type": "markdown",
   "metadata": {},
   "source": [
    "Se imprime nada después de ejecutar este código, significa que todos los id son únicos.\n",
    "\n",
    "**2. Investigar sesiones con 0 MB de uso:**\n",
    "Primero, vamos a determinar cuántas entradas tienen 0 MB de uso."
   ]
  },
  {
   "cell_type": "code",
   "execution_count": 46,
   "metadata": {},
   "outputs": [
    {
     "name": "stdout",
     "output_type": "stream",
     "text": [
      "Hay 13747 sesiones con 0 MB de uso.\n"
     ]
    }
   ],
   "source": [
    "zero_mb_sessions = megaline_internet[megaline_internet['mb_used'] == 0].shape[0]\n",
    "print(f\"Hay {zero_mb_sessions} sesiones con 0 MB de uso.\")"
   ]
  },
  {
   "cell_type": "markdown",
   "metadata": {},
   "source": [
    "La cantidad de sesiones con 0 MB es significativa, podríamos considerar filtrar estas entradas."
   ]
  },
  {
   "cell_type": "markdown",
   "metadata": {},
   "source": [
    "No estámos seguro sobre la relevancia de estos datos, es prudente conservarlos hasta que esté más avanzado el análisis y se tenga una idea más clara de su impacto."
   ]
  },
  {
   "cell_type": "markdown",
   "metadata": {},
   "source": [
    "### Enriquecer datos"
   ]
  },
  {
   "cell_type": "markdown",
   "metadata": {},
   "source": [
    "Al igual que con los otros conjuntos de datos, enriquecer el dataset de internet con características adicionales puede proporcionar insights más detallados y permitir análisis más granulares. Podrían ser útiles:\n",
    "\n",
    "**Día de la Semana (Weekday):**\n",
    "\n",
    "Podría ser útil para identificar patrones de uso de internet en diferentes días de la semana.\n",
    "\n",
    "**Mes:**\n",
    "\n",
    "Esto puede ayudar a identificar tendencias mensuales en el uso de internet.\n",
    "\n",
    "**Días desde la fecha de registro (Days since registration):**\n",
    "\n",
    "Esto podría ser útil para analizar cómo cambia el uso de internet con el tiempo después de que un usuario se registra.\n",
    "\n",
    "Usando código similar al que se usó anteriormente:"
   ]
  },
  {
   "cell_type": "code",
   "execution_count": 47,
   "metadata": {},
   "outputs": [],
   "source": [
    "# Añadir día de la semana\n",
    "megaline_internet['weekday'] = megaline_internet['session_date'].dt.day_name()\n",
    "\n",
    "# Añadir mes\n",
    "megaline_internet['month'] = megaline_internet['session_date'].dt.month_name()\n",
    "\n",
    "# Añadir días desde la fecha de registro (necesitarás combinar esto con el dataframe de usuarios)\n",
    "megaline_internet = megaline_internet.merge(megaline_users[['user_id', 'reg_date']], on='user_id', how='left')\n",
    "megaline_internet['days_since_reg'] = (megaline_internet['session_date'] - megaline_internet['reg_date']).dt.days"
   ]
  },
  {
   "cell_type": "markdown",
   "metadata": {},
   "source": [
    "Para confirmar que las modificaciones en el DataFrame megaline_internet se han realizado correctamente, podemos revisar las primeras filas del DataFrame actualizado y verificar los tipos de datos.\n",
    "\n",
    "Vamos a hacerlo:"
   ]
  },
  {
   "cell_type": "code",
   "execution_count": 48,
   "metadata": {},
   "outputs": [
    {
     "name": "stdout",
     "output_type": "stream",
     "text": [
      "         id  user_id session_date  mb_used    weekday     month   reg_date  \\\n",
      "0   1000_13     1000   2018-12-29    89.86   Saturday  December 2018-12-24   \n",
      "1  1000_204     1000   2018-12-31     0.00     Monday  December 2018-12-24   \n",
      "2  1000_379     1000   2018-12-28   660.40     Friday  December 2018-12-24   \n",
      "3  1000_413     1000   2018-12-26   270.99  Wednesday  December 2018-12-24   \n",
      "4  1000_442     1000   2018-12-27   880.22   Thursday  December 2018-12-24   \n",
      "\n",
      "   days_since_reg  \n",
      "0               5  \n",
      "1               7  \n",
      "2               4  \n",
      "3               2  \n",
      "4               3  \n",
      "id                        object\n",
      "user_id                    int64\n",
      "session_date      datetime64[ns]\n",
      "mb_used                  float64\n",
      "weekday                   object\n",
      "month                     object\n",
      "reg_date          datetime64[ns]\n",
      "days_since_reg             int64\n",
      "dtype: object\n"
     ]
    }
   ],
   "source": [
    "# Imprimir las primeras filas del DataFrame megaline_internet para verificar las columnas añadidas\n",
    "print(megaline_internet.head())\n",
    "\n",
    "# Verificar los tipos de datos\n",
    "print(megaline_internet.dtypes)"
   ]
  },
  {
   "cell_type": "markdown",
   "metadata": {},
   "source": [
    "Las columnas añadidas (weekday, month, reg_date, y days_since_reg) están presentes y los tipos de datos son coherentes con lo esperado:\n",
    "\n",
    "**weekday:** object (string) - Representa el día de la semana.\n",
    "\n",
    "**month:** object (string) - Representa el mes.\n",
    "\n",
    "**reg_date:** datetime64 - Representa la fecha de registro del usuario.\n",
    "\n",
    "**days_since_reg:** int64 - Representa los días que han pasado desde el registro del usuario hasta la fecha de la sesión de internet.\n",
    "\n",
    "También, las primeras filas muestran los valores adecuados para cada columna. \n",
    "\n",
    "En resumen, las modificaciones en el DataFrame megaline_internet se han realizado correctamente."
   ]
  },
  {
   "cell_type": "markdown",
   "metadata": {},
   "source": [
    "<div class=\"alert alert-block alert-success\">\n",
    "<b>Comentario de Revisor</b> <a class=\"tocSkip\"></a>\n",
    "\n",
    "Impecable Jesus, muy buen trabajo.\n",
    "    \n",
    "Preprocesaste los datos de gran forma y documentaste muy bien cada uno de los pasos y el porque de tus decisiones\n",
    "    \n",
    "Codigo y documentacion super limpios\n",
    "    \n",
    "El enriquecimiento fue mas alla de lo que se suele esperar para este proyecto, te felicito\n",
    "</div>"
   ]
  },
  {
   "cell_type": "markdown",
   "metadata": {},
   "source": [
    "## Estudiar las condiciones del plan"
   ]
  },
  {
   "cell_type": "markdown",
   "metadata": {},
   "source": [
    "Para imprimir las condiciones del plan, utilizamos el DataFrame megaline_plans.\n",
    "\n",
    "El código para imprimir este DataFrame:"
   ]
  },
  {
   "cell_type": "code",
   "execution_count": 49,
   "metadata": {},
   "outputs": [
    {
     "name": "stdout",
     "output_type": "stream",
     "text": [
      "   messages_included  mb_per_month_included  minutes_included  \\\n",
      "0                 50                  15360               500   \n",
      "1               1000                  30720              3000   \n",
      "\n",
      "   usd_monthly_pay  usd_per_gb  usd_per_message  usd_per_minute plan_name  \\\n",
      "0               20          10             0.03            0.03      surf   \n",
      "1               70           7             0.01            0.01  ultimate   \n",
      "\n",
      "   extra_fee_messages  extra_fee_minutes  extra_fee_gb  total_extra_fee  \n",
      "0                1.53              15.03         160.0           176.56  \n",
      "1               10.01              30.01         217.0           257.02  \n"
     ]
    }
   ],
   "source": [
    "# Imprime las condiciones del plan y asegúrate de que te resulten claros\n",
    "print(megaline_plans)\n",
    "# mostrará las condiciones de cada plan en tu conjunto de datos"
   ]
  },
  {
   "cell_type": "markdown",
   "metadata": {},
   "source": [
    "Las condiciones de los dos planes disponibles: \"surf\" y \"ultimate\".\n",
    "\n",
    "**Plan Surf:**\n",
    "- Mensajes incluidos: 50\n",
    "- MB incluidos al mes: 15,360 MB (o 15 GB)\n",
    "- Minutos incluidos: 500\n",
    "- Tarifa mensual: 20\n",
    "- Precio por GB adicional: 10\n",
    "- Precio por mensaje adicional: 0.03\n",
    "- Precio por minuto adicional: 0.03\n",
    "\n",
    "**Plan Ultimate:**\n",
    "- Mensajes incluidos: 1,000\n",
    "- MB incluidos al mes: 30,720 MB (o 30 GB)\n",
    "- Minutos incluidos: 3,000\n",
    "- Tarifa mensual: 70\n",
    "- Precio por GB adicional: 7\n",
    "- Precio por mensaje adicional: 0.01\n",
    "- Precio por minuto adicional: 0.01\n",
    "\n",
    "Las columnas \"extra_fee_messages\", \"extra_fee_minutes\", y \"extra_fee_gb\" parecen ser cálculos de tarifas adicionales, pero no están definidas en la descripción original. \n",
    "\n",
    "Con estos detalles, ahora tenemos una visión clara de cómo se cobran los planes a los usuarios en función de su uso."
   ]
  },
  {
   "cell_type": "markdown",
   "metadata": {},
   "source": [
    "## Agregar datos por usuario"
   ]
  },
  {
   "cell_type": "markdown",
   "metadata": {},
   "source": [
    "**Número de llamadas por usuario y por mes:**"
   ]
  },
  {
   "cell_type": "code",
   "execution_count": 50,
   "metadata": {},
   "outputs": [],
   "source": [
    "# Calcula el número de llamadas hechas por cada usuario por mes. Guarda el resultado.\n",
    "calls_by_user_month = megaline_calls.groupby(['user_id', megaline_calls['call_date'].dt.month]).size().reset_index(name='num_calls')"
   ]
  },
  {
   "cell_type": "markdown",
   "metadata": {},
   "source": [
    "**Minutos usados por usuario y por mes:**"
   ]
  },
  {
   "cell_type": "code",
   "execution_count": 51,
   "metadata": {},
   "outputs": [],
   "source": [
    "# Calcula la cantidad de minutos que usó cada usuario por mes. Guarda el resultado.\n",
    "minutes_by_user_month = megaline_calls.groupby(['user_id', megaline_calls['call_date'].dt.month])['duration'].sum().reset_index(name='total_minutes')"
   ]
  },
  {
   "cell_type": "markdown",
   "metadata": {},
   "source": [
    "**Número de mensajes por usuario y por mes:**"
   ]
  },
  {
   "cell_type": "code",
   "execution_count": 52,
   "metadata": {},
   "outputs": [],
   "source": [
    "# Calcula el número de mensajes enviados por cada usuario por mes. Guarda el resultado.\n",
    "messages_by_user_month = megaline_messages.groupby(['user_id', megaline_messages['message_date'].dt.month]).size().reset_index(name='num_messages')"
   ]
  },
  {
   "cell_type": "markdown",
   "metadata": {},
   "source": [
    "**Volumen de tráfico de internet por usuario y por mes:**"
   ]
  },
  {
   "cell_type": "code",
   "execution_count": 53,
   "metadata": {},
   "outputs": [],
   "source": [
    "# Calcula el volumen del trafico de internet usado por cada usuario por mes. Guarda el resultado.\n",
    "internet_by_user_month = megaline_internet.groupby(['user_id', megaline_internet['session_date'].dt.month])['mb_used'].sum().reset_index(name='total_mb_used')"
   ]
  },
  {
   "cell_type": "markdown",
   "metadata": {},
   "source": [
    "**Combinar los datos:**"
   ]
  },
  {
   "cell_type": "code",
   "execution_count": 54,
   "metadata": {},
   "outputs": [],
   "source": [
    "# Combina los datos para las llamadas, minutos, mensajes e internet con base en el user_id y el mes\n",
    "# Renombrar columnas para que tengan nombres consistentes\n",
    "calls_by_user_month.rename(columns={'call_date': 'month'}, inplace=True)\n",
    "minutes_by_user_month.rename(columns={'call_date': 'month'}, inplace=True)\n",
    "messages_by_user_month.rename(columns={'message_date': 'month'}, inplace=True)\n",
    "internet_by_user_month.rename(columns={'session_date': 'month'}, inplace=True)\n",
    "\n",
    "# Fusionar todos los DataFrames en uno\n",
    "df = calls_by_user_month.merge(minutes_by_user_month, on=['user_id', 'month'], how='outer')\n",
    "df = df.merge(messages_by_user_month, on=['user_id', 'month'], how='outer')\n",
    "df = df.merge(internet_by_user_month, on=['user_id', 'month'], how='outer')"
   ]
  },
  {
   "cell_type": "markdown",
   "metadata": {},
   "source": [
    "**Añadir la información del plan:**"
   ]
  },
  {
   "cell_type": "code",
   "execution_count": 55,
   "metadata": {},
   "outputs": [],
   "source": [
    "# Añade la información del plan\n",
    "df = df.merge(megaline_users[['user_id', 'plan']], on='user_id', how='left')"
   ]
  },
  {
   "cell_type": "markdown",
   "metadata": {},
   "source": [
    "<div class=\"alert alert-block alert-success\">\n",
    "<b>Comentario de Revisor</b> <a class=\"tocSkip\"></a>\n",
    "\n",
    "Genial, buen trabajo conformando este dataframe unificando y agrupando cada uno de los datasets brindados\n",
    "</div>"
   ]
  },
  {
   "cell_type": "markdown",
   "metadata": {},
   "source": [
    "**Cálculo de ingreso mensual:**\n",
    "\n",
    "Este paso es más complejo porque debemos considerar los límites de cada plan y aplicar tarifas adicionales cuando se superen esos límites.\n",
    "\n",
    "Este código debería dar un dataframe df con las agregaciones y cálculos de ingresos solicitados."
   ]
  },
  {
   "cell_type": "code",
   "execution_count": 56,
   "metadata": {},
   "outputs": [],
   "source": [
    "# Calcula el ingreso mensual para cada usuario\n",
    "def calculate_monthly_revenue(row):\n",
    "    if row['plan'] == 'surf':\n",
    "        plan = megaline_plans[megaline_plans['plan_name'] == 'surf'].iloc[0]\n",
    "    else:\n",
    "        plan = megaline_plans[megaline_plans['plan_name'] == 'ultimate'].iloc[0]\n",
    "\n",
    "    call_overage = max(0, row['total_minutes'] - plan['minutes_included']) * plan['usd_per_minute']\n",
    "    message_overage = max(0, row['num_messages'] - plan['messages_included']) * plan['usd_per_message']\n",
    "    internet_overage = max(0, row['total_mb_used'] - plan['mb_per_month_included']) * plan['usd_per_gb'] / 1024\n",
    "\n",
    "    return plan['usd_monthly_pay'] + call_overage + message_overage + internet_overage\n",
    "\n",
    "df['monthly_revenue'] = df.apply(calculate_monthly_revenue, axis=1)"
   ]
  },
  {
   "cell_type": "markdown",
   "metadata": {},
   "source": [
    "<div class=\"alert alert-block alert-success\">\n",
    "<b>Comentario de Revisor</b> <a class=\"tocSkip\"></a>\n",
    "\n",
    "Genial, excelente trabajo definiendo esta funcion [bien 'pythonica' como dicen].\n",
    "</div>"
   ]
  },
  {
   "cell_type": "markdown",
   "metadata": {},
   "source": [
    "Todas las operaciones se realizaron sin errores. Ahora tenemos un DataFrame (df) que tiene la información agregada por usuario y por mes, incluido el cálculo de los ingresos mensuales.\n",
    "\n",
    "**Verificar las primeras filas del DataFrame:**"
   ]
  },
  {
   "cell_type": "code",
   "execution_count": 57,
   "metadata": {},
   "outputs": [
    {
     "name": "stdout",
     "output_type": "stream",
     "text": [
      "   user_id  month  num_calls  total_minutes  num_messages  total_mb_used  \\\n",
      "0     1000     12       16.0         116.83          11.0        1901.47   \n",
      "1     1001      8       27.0         171.14          30.0        6919.15   \n",
      "2     1001      9       49.0         297.69          44.0       13314.82   \n",
      "3     1001     10       65.0         374.11          53.0       22330.49   \n",
      "4     1001     11       64.0         404.59          36.0       18504.30   \n",
      "\n",
      "       plan  monthly_revenue  \n",
      "0  ultimate        70.000000  \n",
      "1      surf        20.000000  \n",
      "2      surf        20.000000  \n",
      "3      surf        88.161191  \n",
      "4      surf        50.706055  \n"
     ]
    }
   ],
   "source": [
    "print(df.head())"
   ]
  },
  {
   "cell_type": "markdown",
   "metadata": {},
   "source": [
    "**Obtener estadísticas descriptivas de las columnas numéricas:**"
   ]
  },
  {
   "cell_type": "code",
   "execution_count": 58,
   "metadata": {},
   "outputs": [
    {
     "name": "stdout",
     "output_type": "stream",
     "text": [
      "           user_id        month    num_calls  total_minutes  num_messages  \\\n",
      "count  2293.000000  2293.000000  2258.000000    2258.000000   1806.000000   \n",
      "mean   1246.075883     9.172700    60.998671     411.492586     42.110188   \n",
      "std     143.051927     2.496386    31.770869     219.290453     33.122931   \n",
      "min    1000.000000     1.000000     1.000000       0.000000      1.000000   \n",
      "25%    1122.000000     8.000000    39.000000     258.075000     17.000000   \n",
      "50%    1245.000000    10.000000    60.000000     404.270000     34.000000   \n",
      "75%    1368.000000    11.000000    80.000000     543.335000     59.000000   \n",
      "max    1499.000000    12.000000   205.000000    1431.220000    266.000000   \n",
      "\n",
      "       total_mb_used  monthly_revenue  \n",
      "count    2277.000000      2293.000000  \n",
      "mean    16882.197501        61.947972  \n",
      "std      7869.784848        45.433323  \n",
      "min        92.310000        20.000000  \n",
      "25%     12347.720000        22.156400  \n",
      "50%     16873.740000        70.000000  \n",
      "75%     21041.520000        70.000000  \n",
      "max     70931.590000       581.328509  \n"
     ]
    }
   ],
   "source": [
    "print(df.describe())"
   ]
  },
  {
   "cell_type": "markdown",
   "metadata": {},
   "source": [
    "**Verificar si hay algún valor nulo o faltante:**"
   ]
  },
  {
   "cell_type": "code",
   "execution_count": 59,
   "metadata": {},
   "outputs": [
    {
     "name": "stdout",
     "output_type": "stream",
     "text": [
      "user_id              0\n",
      "month                0\n",
      "num_calls           35\n",
      "total_minutes       35\n",
      "num_messages       487\n",
      "total_mb_used       16\n",
      "plan                 0\n",
      "monthly_revenue      0\n",
      "dtype: int64\n"
     ]
    }
   ],
   "source": [
    "print(df.isnull().sum())"
   ]
  },
  {
   "cell_type": "markdown",
   "metadata": {},
   "source": [
    "Los datos parecen haberse agregado correctamente con la información por usuario (user_id) y por mes (month).\n",
    "\n",
    "Tenemos información sobre el número de llamadas (num_calls), los minutos totales de esas llamadas (total_minutes), el número de mensajes (num_messages), el uso total de MB (total_mb_used), el plan (plan) y el ingreso mensual (monthly_revenue).\n",
    "\n",
    "\n",
    "**Estadísticas descriptivas:**\n",
    "\n",
    "En promedio, un usuario hace 61 llamadas al mes, con un tiempo total de aproximadamente 411 minutos.\n",
    "\n",
    "En promedio, un usuario envía 42 mensajes al mes.\n",
    "\n",
    "En promedio, un usuario utiliza unos 16.9 GB de datos al mes (considerando que 1 GB es aproximadamente 1024 MB, aunque esto puede variar según la definición).\n",
    "\n",
    "El ingreso mensual medio es de aproximadamente $61.95.\n",
    "\n",
    "\n",
    "**Datos faltantes:**\n",
    "\n",
    "Hay 35 registros que no tienen información sobre llamadas y minutos.\n",
    "\n",
    "Hay 487 registros que no tienen información sobre mensajes.\n",
    "\n",
    "Hay 16 registros que no tienen información sobre el uso de MB.\n",
    "\n",
    "\n",
    "**Datos faltantes:**\n",
    "\n",
    "Es normal que algunos usuarios no envíen mensajes en un mes (especialmente en la era de las aplicaciones de mensajería instantánea), lo que podría explicar los 487 registros faltantes en num_messages.\n",
    "\n",
    "Los datos faltantes en num_calls y total_minutes podrían indicar que esos usuarios no hicieron llamadas en ese mes específico. \n",
    "\n",
    "Lo mismo aplica para total_mb_used y el uso de Internet.\n",
    "\n",
    "Imputaremos estos valores faltantes con 0, ya que la falta de registro puede indicar la falta de actividad en ese aspecto."
   ]
  },
  {
   "cell_type": "code",
   "execution_count": 60,
   "metadata": {},
   "outputs": [],
   "source": [
    "df['num_calls'].fillna(0, inplace=True)\n",
    "df['total_minutes'].fillna(0, inplace=True)\n",
    "df['num_messages'].fillna(0, inplace=True)\n",
    "df['total_mb_used'].fillna(0, inplace=True)"
   ]
  },
  {
   "cell_type": "markdown",
   "metadata": {},
   "source": [
    "Si no salió ningún mensaje después de ejecutar esas líneas, significa que las operaciones se completaron con éxito. \n",
    "\n",
    "Las funciones fillna() con el parámetro inplace=True modifican el DataFrame original (en este caso df) y rellenan los valores faltantes con el valor que se les proporciona (en este caso, 0).\n",
    "\n",
    "Verificaremos ejecutando la siguiente línea para obtener un resumen de los valores faltantes en el DataFrame:"
   ]
  },
  {
   "cell_type": "code",
   "execution_count": 61,
   "metadata": {},
   "outputs": [
    {
     "name": "stdout",
     "output_type": "stream",
     "text": [
      "user_id            0\n",
      "month              0\n",
      "num_calls          0\n",
      "total_minutes      0\n",
      "num_messages       0\n",
      "total_mb_used      0\n",
      "plan               0\n",
      "monthly_revenue    0\n",
      "dtype: int64\n"
     ]
    }
   ],
   "source": [
    "print(df.isnull().sum())"
   ]
  },
  {
   "cell_type": "markdown",
   "metadata": {},
   "source": [
    "Ahora todas las columnas en el DataFrame (df) no tienen valores faltantes. Las columnas num_calls, total_minutes, num_messages, y total_mb_used fueron rellenadas exitosamente con 0 en los lugares donde había valores faltantes."
   ]
  },
  {
   "cell_type": "markdown",
   "metadata": {},
   "source": [
    "<div class=\"alert alert-block alert-success\">\n",
    "<b>Comentario de Revisor</b> <a class=\"tocSkip\"></a>\n",
    "\n",
    "Genial, buenas conclusiones y hallazgos luego de haber unificado todo y calculado la facturacion mensual.\n",
    "</div>"
   ]
  },
  {
   "cell_type": "markdown",
   "metadata": {},
   "source": [
    "## Estudia el comportamiento del usuario"
   ]
  },
  {
   "cell_type": "markdown",
   "metadata": {},
   "source": [
    "Vamos a abordar el estudio del comportamiento del usuario en términos de llamadas:"
   ]
  },
  {
   "cell_type": "markdown",
   "metadata": {},
   "source": [
    "**1. Duración promedio de llamadas por cada plan por cada mes:**"
   ]
  },
  {
   "cell_type": "markdown",
   "metadata": {},
   "source": [
    "Primero, calcularemos la duración promedio de las llamadas por plan y por mes, y luego trazaremos una gráfica de barras para visualizarlo."
   ]
  },
  {
   "cell_type": "code",
   "execution_count": 62,
   "metadata": {},
   "outputs": [
    {
     "data": {
      "image/png": "[encoded data removed]",
      "text/plain": [
       "<Figure size 1008x504 with 1 Axes>"
      ]
     },
     "metadata": {
      "needs_background": "light"
     },
     "output_type": "display_data"
    }
   ],
   "source": [
    "import matplotlib.pyplot as plt\n",
    "import seaborn as sns\n",
    "\n",
    "# Calcular la duración promedio de llamadas por plan y por mes\n",
    "avg_call_duration = df.groupby(['plan', 'month'])['total_minutes'].mean().reset_index()\n",
    "\n",
    "# Gráfica de barras para visualizarlo\n",
    "plt.figure(figsize=(14,7))\n",
    "sns.barplot(data=avg_call_duration, x='month', y='total_minutes', hue='plan')\n",
    "plt.title('Duración promedio de llamadas por plan y por mes')\n",
    "plt.ylabel('Duración Promedio (en minutos)')\n",
    "plt.xlabel('Mes')\n",
    "plt.legend(title='Plan')\n",
    "plt.show()"
   ]
  },
  {
   "cell_type": "markdown",
   "metadata": {},
   "source": [
    "En general, las diferencias entre los planes Surf y Ultimate no son significativas en cuanto a la duración promedio mensual de las llamadas.\n",
    "\n",
    "Hay meses (como el mes 2) donde los usuarios de Ultimate tienen llamadas más prolongadas en promedio que los usuarios de Surf.\n",
    "\n",
    "Sin embargo, en otros meses (como el mes 1 y mes 4), los usuarios de Surf tienden a tener llamadas más prolongadas en promedio.\n",
    "\n",
    "En términos generales, ambos planes oscilan en un rango similar de duración promedio de llamadas, con ambos planes excediendo generalmente los 400 minutos en los últimos meses."
   ]
  },
  {
   "cell_type": "markdown",
   "metadata": {},
   "source": [
    "**2. Número de minutos que los usuarios de cada plan requieren cada mes:**"
   ]
  },
  {
   "cell_type": "code",
   "execution_count": 63,
   "metadata": {},
   "outputs": [
    {
     "data": {
      "image/png": "[encoded data removed]",
      "text/plain": [
       "<Figure size 1008x504 with 1 Axes>"
      ]
     },
     "metadata": {
      "needs_background": "light"
     },
     "output_type": "display_data"
    }
   ],
   "source": [
    "# Histograma\n",
    "plt.figure(figsize=(14,7))\n",
    "df[df['plan'] == 'surf']['total_minutes'].hist(alpha=0.7, bins=30, label='Plan Surf')\n",
    "df[df['plan'] == 'ultimate']['total_minutes'].hist(alpha=0.7, bins=30, label='Plan Ultimate')\n",
    "plt.title('Distribución de minutos de llamadas por mes entre los planes')\n",
    "plt.xlabel('Minutos')\n",
    "plt.ylabel('Número de usuarios')\n",
    "plt.legend()\n",
    "plt.show()"
   ]
  },
  {
   "cell_type": "markdown",
   "metadata": {},
   "source": [
    "Los histogramas reflejan que la mayoría de los usuarios en ambos planes tienden a utilizar entre 0 y 400 minutos.\n",
    "\n",
    "El plan Surf tiene más usuarios que consumen entre 200 a 400 minutos y 400 a 600 minutos en comparación con Ultimate.\n",
    "\n",
    "Aunque hay usuarios en ambos planes que consumen más de 800 minutos, son una minoría."
   ]
  },
  {
   "cell_type": "markdown",
   "metadata": {},
   "source": [
    "**3. Media y varianza de la duración mensual de llamadas:**"
   ]
  },
  {
   "cell_type": "code",
   "execution_count": 64,
   "metadata": {},
   "outputs": [
    {
     "name": "stdout",
     "output_type": "stream",
     "text": [
      "Media de duración de llamadas para plan Surf: 404.76 minutos\n",
      "Media de duración de llamadas para plan Ultimate: 406.19 minutos\n",
      "Varianza de duración de llamadas para plan Surf: 49135.10\n",
      "Varianza de duración de llamadas para plan Ultimate: 51640.97\n"
     ]
    }
   ],
   "source": [
    "# Calculando media y varianza para cada plan\n",
    "surf_mean = df[df['plan'] == 'surf']['total_minutes'].mean()\n",
    "ultimate_mean = df[df['plan'] == 'ultimate']['total_minutes'].mean()\n",
    "surf_variance = df[df['plan'] == 'surf']['total_minutes'].var()\n",
    "ultimate_variance = df[df['plan'] == 'ultimate']['total_minutes'].var()\n",
    "\n",
    "print(f\"Media de duración de llamadas para plan Surf: {surf_mean:.2f} minutos\")\n",
    "print(f\"Media de duración de llamadas para plan Ultimate: {ultimate_mean:.2f} minutos\")\n",
    "print(f\"Varianza de duración de llamadas para plan Surf: {surf_variance:.2f}\")\n",
    "print(f\"Varianza de duración de llamadas para plan Ultimate: {ultimate_variance:.2f}\")"
   ]
  },
  {
   "cell_type": "markdown",
   "metadata": {},
   "source": [
    "La duración promedio de llamadas es casi idéntica en ambos planes, con menos de 2 minutos de diferencia.\n",
    "\n",
    "La varianza en el plan Ultimate es ligeramente mayor, lo que indica una mayor dispersión en los minutos de llamada en comparación con el plan Surf. \n",
    "\n",
    "Sin embargo, la diferencia no es significativa."
   ]
  },
  {
   "cell_type": "markdown",
   "metadata": {},
   "source": [
    "**4. Diagrama de caja para visualizar la distribución:**"
   ]
  },
  {
   "cell_type": "code",
   "execution_count": 65,
   "metadata": {},
   "outputs": [
    {
     "data": {
      "image/png": "[encoded data removed]",
      "text/plain": [
       "<Figure size 1008x504 with 1 Axes>"
      ]
     },
     "metadata": {
      "needs_background": "light"
     },
     "output_type": "display_data"
    }
   ],
   "source": [
    "# Boxplot\n",
    "plt.figure(figsize=(14,7))\n",
    "sns.boxplot(data=df, x='plan', y='total_minutes')\n",
    "plt.title('Distribución de duración mensual de llamadas por plan')\n",
    "plt.ylabel('Minutos')\n",
    "plt.xlabel('Plan')\n",
    "plt.show()"
   ]
  },
  {
   "cell_type": "markdown",
   "metadata": {},
   "source": [
    "La mediana (línea central de la caja) en ambos planes está alrededor de los 400 minutos.\n",
    "\n",
    "En ambos casos, la mayoría de los usuarios consumen entre 200 y cerca de 600 minutos.\n",
    "\n",
    "Ambos planes tienen valores atípicos en el extremo superior, indicando que hay usuarios que consumen muchos más minutos que el usuario promedio. \n",
    "\n",
    "Sin embargo, los valores atípicos de Surf son ligeramente mayores."
   ]
  },
  {
   "cell_type": "markdown",
   "metadata": {},
   "source": [
    "**Conclusiones:**\n",
    "\n",
    "Los usuarios de ambos planes muestran comportamientos similares en términos de uso de minutos. \n",
    "\n",
    "No hay una diferencia significativa en la duración promedio de llamadas entre los planes Surf y Ultimate.\n",
    "Aunque la varianza es ligeramente mayor en el plan Ultimate, esto podría deberse simplemente a la naturaleza aleatoria de los datos y no necesariamente a una diferencia real entre los planes.\n",
    "\n",
    "Los valores atípicos en el plan Surf sugieren que hay un pequeño grupo de usuarios en este plan que consumen una cantidad significativamente mayor de minutos que el usuario promedio. \n",
    "Esto podría ser una señal para considerar ofrecer paquetes adicionales o promociones para este segmento de usuarios en el plan Surf.\n",
    "\n",
    "En general, en términos de comportamiento de llamadas, no parece haber una gran diferencia entre los dos planes. \n",
    "Para tomar una decisión informada sobre cuál plan es más rentable, sería útil considerar otros factores, como el costo del plan, otros servicios incluidos en el plan (como mensajes e internet), y la retención de clientes en cada plan."
   ]
  },
  {
   "cell_type": "markdown",
   "metadata": {},
   "source": [
    "### Llamadas"
   ]
  },
  {
   "cell_type": "markdown",
   "metadata": {},
   "source": [
    "**Compara la duración promedio de llamadas por cada plan por cada mes:**"
   ]
  },
  {
   "cell_type": "code",
   "execution_count": 66,
   "metadata": {},
   "outputs": [
    {
     "name": "stdout",
     "output_type": "stream",
     "text": [
      "plan         surf    ultimate\n",
      "month                        \n",
      "1      192.840000  183.162500\n",
      "2      280.851111  379.861429\n",
      "3      310.970000  285.701667\n",
      "4      332.380000  316.508095\n",
      "5      377.053247  383.664828\n",
      "6      407.208866  349.811064\n",
      "7      424.523223  403.767288\n",
      "8      387.169630  397.274789\n",
      "9      390.992062  413.287326\n",
      "10     405.692363  425.168019\n",
      "11     399.599823  420.477559\n",
      "12     447.475283  433.012583\n"
     ]
    }
   ],
   "source": [
    "# Compara la duración promedio de llamadas por cada plan por cada mes.\n",
    "import pandas as pd\n",
    "import matplotlib.pyplot as plt\n",
    "\n",
    "avg_call_duration = df.groupby(['month', 'plan'])['total_minutes'].mean().unstack()\n",
    "\n",
    "print(avg_call_duration)"
   ]
  },
  {
   "cell_type": "markdown",
   "metadata": {},
   "source": [
    "**Dibuja una gráfica de barras para visualizarlo:**"
   ]
  },
  {
   "cell_type": "code",
   "execution_count": 67,
   "metadata": {},
   "outputs": [
    {
     "data": {
      "image/png": "[encoded data removed]",
      "text/plain": [
       "<Figure size 864x432 with 1 Axes>"
      ]
     },
     "metadata": {
      "needs_background": "light"
     },
     "output_type": "display_data"
    }
   ],
   "source": [
    "avg_call_duration.plot(kind='bar', figsize=(12, 6))\n",
    "plt.title('Duración promedio de llamadas por plan y mes')\n",
    "plt.ylabel('Minutos')\n",
    "plt.xlabel('Mes')\n",
    "plt.legend(title='Plan')\n",
    "plt.show()"
   ]
  },
  {
   "cell_type": "markdown",
   "metadata": {},
   "source": [
    "En general, ambos planes tienen una tendencia similar en términos de duración promedio de llamadas a lo largo del año.\n",
    "\n",
    "Aunque las diferencias no son significativas en muchos meses, hay momentos en que la duración promedio de las llamadas de los usuarios del plan Ultimate supera a los del plan Surf, como en febrero. \n",
    "Sin embargo, en junio ocurre lo contrario.\n",
    "\n",
    "Diciembre muestra el uso más alto en términos de duración promedio de llamadas para ambos planes, superando claramente los 400 minutos."
   ]
  },
  {
   "cell_type": "markdown",
   "metadata": {},
   "source": [
    "**Compara el número de minutos que los usuarios de cada plan requieren cada mes. Traza un histograma:**"
   ]
  },
  {
   "cell_type": "code",
   "execution_count": 68,
   "metadata": {},
   "outputs": [
    {
     "data": {
      "image/png": "[encoded data removed]",
      "text/plain": [
       "<Figure size 864x432 with 1 Axes>"
      ]
     },
     "metadata": {
      "needs_background": "light"
     },
     "output_type": "display_data"
    }
   ],
   "source": [
    "plt.figure(figsize=(12, 6))\n",
    "df[df['plan'] == 'surf']['total_minutes'].hist(alpha=0.5, bins=30, label='Surf')\n",
    "df[df['plan'] == 'ultimate']['total_minutes'].hist(alpha=0.5, bins=30, label='Ultimate')\n",
    "plt.title('Distribución de minutos utilizados por usuarios de cada plan')\n",
    "plt.xlabel('Minutos')\n",
    "plt.ylabel('Número de Usuarios')\n",
    "plt.legend()\n",
    "plt.show()"
   ]
  },
  {
   "cell_type": "markdown",
   "metadata": {},
   "source": [
    "Los usuarios del plan Surf tienden a utilizar más minutos en general que los usuarios del plan Ultimate, como se puede observar en las barras más altas para la mayoría de los rangos de minutos.\n",
    "\n",
    "La mayoría de los usuarios de ambos planes tienden a consumir entre 0-200 y 200-400 minutos, pero Surf tiene una concentración más alta de usuarios en el rango de 200-400 minutos en comparación con Ultimate.\n",
    "\n",
    "Ambos planes muestran una disminución en la cantidad de usuarios a medida que aumenta el rango de minutos, pero el plan Surf tiene una caída menos pronunciada en comparación con Ultimate."
   ]
  },
  {
   "cell_type": "code",
   "execution_count": 69,
   "metadata": {},
   "outputs": [
    {
     "name": "stdout",
     "output_type": "stream",
     "text": [
      "Media de duración de llamadas para plan Surf: 404.76 minutos\n",
      "Varianza de duración de llamadas para plan Surf: 49135.10\n",
      "Media de duración de llamadas para plan Ultimate: 406.19 minutos\n",
      "Varianza de duración de llamadas para plan Ultimate: 51640.97\n"
     ]
    }
   ],
   "source": [
    "# Calcula la media y la varianza de la duración mensual de llamadas.\n",
    "mean_surf = df[df['plan'] == 'surf']['total_minutes'].mean()\n",
    "var_surf = df[df['plan'] == 'surf']['total_minutes'].var()\n",
    "\n",
    "mean_ultimate = df[df['plan'] == 'ultimate']['total_minutes'].mean()\n",
    "var_ultimate = df[df['plan'] == 'ultimate']['total_minutes'].var()\n",
    "\n",
    "print(f\"Media de duración de llamadas para plan Surf: {mean_surf:.2f} minutos\")\n",
    "print(f\"Varianza de duración de llamadas para plan Surf: {var_surf:.2f}\")\n",
    "print(f\"Media de duración de llamadas para plan Ultimate: {mean_ultimate:.2f} minutos\")\n",
    "print(f\"Varianza de duración de llamadas para plan Ultimate: {var_ultimate:.2f}\")"
   ]
  },
  {
   "cell_type": "markdown",
   "metadata": {},
   "source": [
    "La media de duración de llamadas es muy similar para ambos planes, siendo 404.76 minutos para Surf y 406.19 minutos para Ultimate.\n",
    "\n",
    "Aunque las medias son similares, la varianza es ligeramente mayor para el plan Ultimate, lo que indica una mayor dispersión en la duración de las llamadas entre sus usuarios en comparación con Surf."
   ]
  },
  {
   "cell_type": "code",
   "execution_count": 70,
   "metadata": {},
   "outputs": [
    {
     "data": {
      "text/plain": [
       "<Figure size 864x432 with 0 Axes>"
      ]
     },
     "metadata": {},
     "output_type": "display_data"
    },
    {
     "data": {
      "image/png": "[encoded data removed]",
      "text/plain": [
       "<Figure size 432x288 with 1 Axes>"
      ]
     },
     "metadata": {
      "needs_background": "light"
     },
     "output_type": "display_data"
    }
   ],
   "source": [
    "# Traza un diagrama de caja para visualizar la distribución de la duración mensual de llamadas.\n",
    "plt.figure(figsize=(12, 6))\n",
    "df.boxplot(column='total_minutes', by='plan')\n",
    "plt.title('Distribución de duración mensual de llamadas por plan')\n",
    "plt.suptitle('')  # Elimina el título automático\n",
    "plt.ylabel('Minutos')\n",
    "plt.xlabel('Plan')\n",
    "plt.show()"
   ]
  },
  {
   "cell_type": "markdown",
   "metadata": {},
   "source": [
    "Las medianas de ambos planes están alrededor de los 400 minutos.\n",
    "\n",
    "Los usuarios de Surf tienen una tendencia a tener duraciones de llamadas un poco más largas, especialmente en el tercer cuartil (Q3), en comparación con los usuarios de Ultimate.\n",
    "\n",
    "Aunque ambos planes tienen valores atípicos en la duración de las llamadas, Surf tiene algunos usuarios que llegan hasta 1400 minutos, mientras que Ultimate solo llega a poco más de 1200 minutos."
   ]
  },
  {
   "cell_type": "markdown",
   "metadata": {},
   "source": [
    "**Conclusiones:**\n",
    "\n",
    "Aunque hay similitudes en el comportamiento de llamadas entre los usuarios de ambos planes, los usuarios de Surf tienden a tener duraciones de llamadas ligeramente más largas en general.\n",
    "\n",
    "El plan Surf tiene una concentración más alta de usuarios en rangos de minutos más altos en comparación con Ultimate.\n",
    "\n",
    "Aunque las medias son similares, la mayor varianza en Ultimate podría indicar una diversidad más amplia en los hábitos de llamadas entre sus usuarios.\n",
    "\n",
    "Ambos planes muestran un aumento en la duración promedio de llamadas hacia el final del año, en particular en diciembre.\n",
    "\n",
    "En resumen, aunque hay similitudes en el comportamiento de los usuarios de ambos planes en cuanto a llamadas, hay diferencias sutiles que pueden ser relevantes para la toma de decisiones empresariales. \n",
    "\n",
    "Sería útil analizar también otros aspectos, como los mensajes y el uso de Internet, para obtener una comprensión más completa de las diferencias entre los planes."
   ]
  },
  {
   "cell_type": "markdown",
   "metadata": {},
   "source": [
    "### Mensajes"
   ]
  },
  {
   "cell_type": "markdown",
   "metadata": {},
   "source": [
    "**Comparar el número de mensajes que tienden a enviar cada mes los usuarios de cada plan:**"
   ]
  },
  {
   "cell_type": "code",
   "execution_count": 71,
   "metadata": {},
   "outputs": [
    {
     "name": "stdout",
     "output_type": "stream",
     "text": [
      "plan        surf   ultimate\n",
      "month                      \n",
      "1      10.500000  15.500000\n",
      "2      12.000000  21.571429\n",
      "3      15.260870  20.250000\n",
      "4      17.400000  22.047619\n",
      "5      24.012987  32.103448\n",
      "6      25.298969  29.340426\n",
      "7      27.033058  32.830508\n",
      "8      28.777778  38.478873\n",
      "9      30.762887  37.895349\n",
      "10     33.839662  39.443396\n",
      "11     32.385159  38.606299\n",
      "12     38.600629  45.006623\n"
     ]
    }
   ],
   "source": [
    "# Agrupar por 'month' y 'plan' y calcular la media de 'num_messages'\n",
    "avg_messages_per_month = df.groupby(['month', 'plan'])['num_messages'].mean().unstack()\n",
    "\n",
    "print(avg_messages_per_month)"
   ]
  },
  {
   "cell_type": "markdown",
   "metadata": {},
   "source": [
    "**Visualización de la comparación:**"
   ]
  },
  {
   "cell_type": "code",
   "execution_count": 72,
   "metadata": {},
   "outputs": [
    {
     "data": {
      "image/png": "[encoded data removed]",
      "text/plain": [
       "<Figure size 864x432 with 1 Axes>"
      ]
     },
     "metadata": {
      "needs_background": "light"
     },
     "output_type": "display_data"
    }
   ],
   "source": [
    "import matplotlib.pyplot as plt\n",
    "\n",
    "avg_messages_per_month.plot(kind='bar', figsize=(12,6))\n",
    "plt.title('Número promedio de mensajes enviados por mes por plan')\n",
    "plt.xlabel('Mes')\n",
    "plt.ylabel('Número promedio de mensajes')\n",
    "plt.show()"
   ]
  },
  {
   "cell_type": "markdown",
   "metadata": {},
   "source": [
    "**Análisis de Mensajes:**\n",
    "\n",
    "- **Mes 1 a Mes 3:** \n",
    "  - Los usuarios del plan Ultimate envían más mensajes en promedio que los usuarios del plan Surf. La diferencia entre los dos planes parece ser constante, con Ultimate llevando la delantera.\n",
    "\n",
    "- **Mes 4 a Mes 6:** \n",
    "  - La diferencia entre los dos planes se amplía. Aunque ambos aumentan su número promedio de mensajes, el plan Ultimate aumenta más rápidamente que el Surf.\n",
    "\n",
    "- **Mes 7 a Mes 9:** \n",
    "  - La tendencia de aumento continúa para ambos planes, pero la diferencia entre los dos se amplía aún más. Los usuarios de Ultimate ahora envían cerca de 10 mensajes más en promedio que los usuarios de Surf.\n",
    "\n",
    "- **Mes 10 a Mes 12:** \n",
    "  - Aunque el envío de mensajes sigue aumentando para ambos planes, parece que los usuarios del plan Surf están acercándose a los del Ultimate, particularmente en noviembre. Sin embargo, en diciembre, la diferencia vuelve a ampliarse con los usuarios de Ultimate enviando aproximadamente 6 mensajes más en promedio.\n",
    "\n",
    "**Conclusiones:**\n",
    "\n",
    "1. **Patrón de Uso:** Ambos grupos de usuarios (tanto Surf como Ultimate) han mostrado una tendencia creciente en el uso de mensajes a lo largo del año. Esto sugiere que el envío de mensajes es una actividad que va en aumento, independientemente del plan.\n",
    "\n",
    "2. **Comparación entre Planes:** En todos los meses, los usuarios del plan Ultimate envían más mensajes en promedio que los usuarios del plan Surf. Esto podría indicar que los usuarios del plan Ultimate son intrínsecamente más activos en el envío de mensajes, o que el plan Surf tiene usuarios más conscientes del costo o del límite de mensajes que tienen disponibles antes de incurrir en cargos adicionales.\n",
    "\n",
    "3. **Recomendación para la Compañía:** La empresa podría considerar revisar los límites de mensajes para el plan Surf o ajustar el precio por mensaje adicional, dada la creciente tendencia en el uso de mensajes. También podría ser útil realizar encuestas o investigaciones para comprender por qué los usuarios del plan Ultimate envían más mensajes. \n",
    "\n",
    "Este análisis proporciona información sobre cómo se comportan los usuarios en términos de envío de mensajes y cómo este comportamiento varía entre los dos planes. Sería útil ahora comparar la cantidad de tráfico de internet consumido por usuarios por plan para tener una visión más completa del comportamiento del usuario."
   ]
  },
  {
   "cell_type": "markdown",
   "metadata": {},
   "source": [
    "### Internet"
   ]
  },
  {
   "cell_type": "markdown",
   "metadata": {},
   "source": [
    "**Tráfico de Internet:**"
   ]
  },
  {
   "cell_type": "markdown",
   "metadata": {},
   "source": [
    "**Comparar la cantidad de tráfico de internet consumido por usuarios por plan:**"
   ]
  },
  {
   "cell_type": "code",
   "execution_count": 73,
   "metadata": {},
   "outputs": [
    {
     "name": "stdout",
     "output_type": "stream",
     "text": [
      "plan           surf      ultimate\n",
      "month                            \n",
      "1       4874.860000   6918.092500\n",
      "2      12178.843333  17128.808571\n",
      "3      13345.440000  18321.518333\n",
      "4      11984.203000  16121.654762\n",
      "5      13936.354935  16624.482414\n",
      "6      15301.529175  15337.921064\n",
      "7      16783.600579  16344.744407\n",
      "8      16795.331358  17814.720141\n",
      "9      16591.431289  16969.869535\n",
      "10     17311.335063  17612.553396\n",
      "11     16339.254417  17033.685354\n",
      "12     18132.469371  18323.191854\n"
     ]
    }
   ],
   "source": [
    "# Agrupar por 'month' y 'plan' y calcular la media de 'total_mb_used'\n",
    "avg_mb_per_month = df.groupby(['month', 'plan'])['total_mb_used'].mean().unstack()\n",
    "\n",
    "print(avg_mb_per_month)"
   ]
  },
  {
   "cell_type": "markdown",
   "metadata": {},
   "source": [
    "**Visualización de la comparación:**"
   ]
  },
  {
   "cell_type": "code",
   "execution_count": 74,
   "metadata": {},
   "outputs": [
    {
     "data": {
      "image/png": "[encoded data removed]",
      "text/plain": [
       "<Figure size 864x432 with 1 Axes>"
      ]
     },
     "metadata": {
      "needs_background": "light"
     },
     "output_type": "display_data"
    }
   ],
   "source": [
    "avg_mb_per_month.plot(kind='bar', figsize=(12,6))\n",
    "plt.title('Tráfico promedio de Internet consumido por mes por plan (en MB)')\n",
    "plt.xlabel('Mes')\n",
    "plt.ylabel('Tráfico promedio de Internet (MB)')\n",
    "plt.show()"
   ]
  },
  {
   "cell_type": "markdown",
   "metadata": {},
   "source": [
    "**Análisis de Tráfico de Internet:**\n",
    "\n",
    "- **Mes 1:** \n",
    "  - Los usuarios del plan Ultimate consumieron mucho más internet que los usuarios del plan Surf. La diferencia es bastante significativa.\n",
    "\n",
    "- **Mes 2 y Mes 3:** \n",
    "  - Ambos grupos de usuarios aumentan considerablemente su consumo. Sin embargo, los usuarios de Ultimate siguen consumiendo más que los de Surf, y la diferencia es incluso mayor.\n",
    "\n",
    "- **Mes 4:** \n",
    "  - Hay una disminución en el consumo de ambos grupos, pero la diferencia entre Surf y Ultimate se reduce significativamente.\n",
    "\n",
    "- **Mes 5 y Mes 6:** \n",
    "  - Aumenta el consumo para el plan Surf, y en junio, supera al plan Ultimate, aunque por un margen muy pequeño.\n",
    "\n",
    "- **Mes 7 a Mes 9:** \n",
    "  - El consumo para Surf sigue siendo mayor o similar al de Ultimate.\n",
    "\n",
    "- **Mes 10 a Mes 12:** \n",
    "  - Los usuarios de ambos planes aumentan su consumo, siendo diciembre el mes con mayor consumo para ambos. Sin embargo, la diferencia entre los dos planes sigue siendo pequeña.\n",
    "\n",
    "**Conclusiones:**\n",
    "\n",
    "1. **Tendencia en el Uso de Internet:** Ambos grupos de usuarios (tanto Surf como Ultimate) han mostrado una tendencia creciente en el uso de internet a lo largo del año. Esto sugiere que el uso de internet es una actividad esencial para los usuarios, y es probable que siga en aumento.\n",
    "\n",
    "2. **Comparación entre Planes:** Mientras que al principio del año los usuarios del plan Ultimate consumían significativamente más internet que los del plan Surf, esta diferencia se ha ido reduciendo con el tiempo. A mitad de año, el plan Surf incluso superó al plan Ultimate en consumo. Esto indica que los usuarios del plan Surf están utilizando más activamente sus servicios de internet a medida que avanza el año.\n",
    "\n",
    "3. **Recomendación para la Compañía:** Sería recomendable para la empresa evaluar las tarifas o los límites de datos de ambos planes. Si los usuarios del plan Surf están alcanzando o superando sus límites de datos, la empresa podría considerar ofrecer paquetes adicionales o promociones para satisfacer esta demanda creciente. También es esencial garantizar una buena calidad de servicio dado el alto uso de internet.\n",
    "\n",
    "Este análisis proporciona información sobre cómo se comportan los usuarios en términos de consumo de internet y cómo este comportamiento varía entre los dos planes. Será esencial para la empresa adaptarse a estas tendencias y garantizar que ofrece planes y tarifas que satisfacen las necesidades cambiantes de sus usuarios."
   ]
  },
  {
   "cell_type": "markdown",
   "metadata": {},
   "source": [
    "## Ingreso"
   ]
  },
  {
   "cell_type": "markdown",
   "metadata": {},
   "source": [
    "Para realizar un análisis estadístico del ingreso entre los planes, necesitamos:"
   ]
  },
  {
   "cell_type": "markdown",
   "metadata": {},
   "source": [
    "**Ingreso mensual promedio por usuario para cada plan:**"
   ]
  },
  {
   "cell_type": "code",
   "execution_count": 75,
   "metadata": {},
   "outputs": [
    {
     "name": "stdout",
     "output_type": "stream",
     "text": [
      "plan\n",
      "surf        57.293784\n",
      "ultimate    72.116080\n",
      "Name: monthly_revenue, dtype: float64\n"
     ]
    }
   ],
   "source": [
    "avg_monthly_revenue = df.groupby('plan')['monthly_revenue'].mean()\n",
    "print(avg_monthly_revenue)"
   ]
  },
  {
   "cell_type": "markdown",
   "metadata": {},
   "source": [
    "**Desviación estándar del ingreso para cada plan:**"
   ]
  },
  {
   "cell_type": "code",
   "execution_count": 76,
   "metadata": {},
   "outputs": [
    {
     "name": "stdout",
     "output_type": "stream",
     "text": [
      "plan\n",
      "surf        53.735882\n",
      "ultimate    10.768848\n",
      "Name: monthly_revenue, dtype: float64\n"
     ]
    }
   ],
   "source": [
    "std_monthly_revenue = df.groupby('plan')['monthly_revenue'].std()\n",
    "print(std_monthly_revenue)"
   ]
  },
  {
   "cell_type": "markdown",
   "metadata": {},
   "source": [
    "**Resumen estadístico del ingreso por plan:**"
   ]
  },
  {
   "cell_type": "code",
   "execution_count": 77,
   "metadata": {},
   "outputs": [
    {
     "name": "stdout",
     "output_type": "stream",
     "text": [
      "           count       mean        std   min   25%      50%        75%  \\\n",
      "plan                                                                     \n",
      "surf      1573.0  57.293784  53.735882  20.0  20.0  36.6818  76.850586   \n",
      "ultimate   720.0  72.116080  10.768848  70.0  70.0  70.0000  70.000000   \n",
      "\n",
      "                 max  \n",
      "plan                  \n",
      "surf      581.328509  \n",
      "ultimate  178.522764  \n"
     ]
    }
   ],
   "source": [
    "revenue_summary = df.groupby('plan')['monthly_revenue'].describe()\n",
    "print(revenue_summary)"
   ]
  },
  {
   "cell_type": "markdown",
   "metadata": {},
   "source": [
    "Interpretemos los datos de ingresos por plan:\n",
    "\n",
    "**Plan Surf:**\n",
    "\n",
    "1. **Ingreso promedio mensual:** 57.29. Los usuarios del plan Surf, en promedio, generan ingresos mensuales de 57.29 para la compañía.\n",
    "\n",
    "2. **Desviación estándar:** 53.74. La desviación estándar indica la dispersión o variabilidad en el conjunto de datos. En el caso del plan Surf, hay una variabilidad significativa en los ingresos mensuales, ya que algunos usuarios consumen más servicios adicionales, mientras que otros se mantienen dentro de los límites de su plan.\n",
    "\n",
    "3. **Mediana:** 36.68. La mitad de los usuarios del plan Surf generan ingresos de hasta 36.68, lo que indica que una buena parte de los usuarios no supera el límite de su plan en un mes típico.\n",
    "\n",
    "4. **IQR (Rango intercuartil):** Desde 20.0 hasta 76.85. El 50% central de los usuarios del plan Surf generan ingresos en este rango.\n",
    "\n",
    "5. **Máximo:** 581.33. Esto indica que algunos usuarios del plan Surf incurrieron en muchos cargos adicionales, generando ingresos significativamente más altos que el promedio.\n",
    "\n",
    "**Plan Ultimate:**\n",
    "\n",
    "1. **Ingreso promedio mensual:** 72.12. Los usuarios del plan Ultimate, en promedio, generan ingresos mensuales de 72.12 para la compañía.\n",
    "\n",
    "2. **Desviación estándar:** 10.77. La variabilidad en los ingresos del plan Ultimate es mucho menor en comparación con el plan Surf. Esto indica que la mayoría de los usuarios del plan Ultimate se mantienen dentro de los límites de su plan, y hay menos usuarios que incurran en cargos adicionales.\n",
    "\n",
    "3. **Mediana:** 70.00. La mitad de los usuarios del plan Ultimate generan ingresos de 70, lo que es igual al costo básico del plan. Esto confirma que la mayoría de los usuarios no superan el límite de su plan.\n",
    "\n",
    "4. **IQR (Rango intercuartil):** Desde 70.0 hasta 70.0. El 50% central de los usuarios del plan Ultimate generan el mismo ingreso, que es el costo del plan.\n",
    "\n",
    "5. **Máximo:** 178.52. Aunque la variabilidad es baja, hay algunos usuarios que han superado los límites de su plan y han incurrido en cargos adicionales.\n",
    "\n",
    "**Conclusiones:**\n",
    "\n",
    "- **Rentabilidad:** Aunque el plan Ultimate tiene un ingreso promedio mensual más alto que el plan Surf, hay una mayor variabilidad en los ingresos del plan Surf. Esto se debe a que más usuarios de Surf tienden a exceder los límites de su plan y generar cargos adicionales.\n",
    "\n",
    "- **Consistencia:** El plan Ultimate es más consistente en términos de ingresos, con la mayoría de los usuarios pagando la tarifa plana de 70 y pocos excediendo el límite.\n",
    "\n",
    "- **Potencial de ingresos:** Dado el alto grado de variabilidad en el plan Surf y el hecho de que algunos usuarios generan ingresos significativamente más altos que el costo básico del plan, podría haber oportunidades para que la empresa promueva activamente servicios adicionales o paquetes premium a los usuarios de Surf.\n",
    "\n",
    "En general, aunque el plan Ultimate genera ingresos más consistentes, el plan Surf tiene un mayor potencial de ingresos a través de cargos adicionales. La empresa podría considerar estrategias de marketing específicas para maximizar este potencial."
   ]
  },
  {
   "cell_type": "markdown",
   "metadata": {},
   "source": [
    "Antes de cualquier prueba e hipótesis debemos combinar los DataFrames.\n",
    "Primero, combinaremos la información de los usuarios con sus ingresos mensuales.\n",
    "\n",
    "Pasos:\n",
    "\n",
    "Combinar megaline_users con df en un nuevo DataFrame llamado combined_df.\n",
    "\n",
    "Filtrar el combined_df para obtener las listas de ingresos de cada plan."
   ]
  },
  {
   "cell_type": "code",
   "execution_count": 78,
   "metadata": {},
   "outputs": [
    {
     "data": {
      "text/html": [
       "<div>\n",
       "<style scoped>\n",
       "    .dataframe tbody tr th:only-of-type {\n",
       "        vertical-align: middle;\n",
       "    }\n",
       "\n",
       "    .dataframe tbody tr th {\n",
       "        vertical-align: top;\n",
       "    }\n",
       "\n",
       "    .dataframe thead th {\n",
       "        text-align: right;\n",
       "    }\n",
       "</style>\n",
       "<table border=\"1\" class=\"dataframe\">\n",
       "  <thead>\n",
       "    <tr style=\"text-align: right;\">\n",
       "      <th></th>\n",
       "      <th>user_id</th>\n",
       "      <th>first_name</th>\n",
       "      <th>last_name</th>\n",
       "      <th>age</th>\n",
       "      <th>city</th>\n",
       "      <th>reg_date</th>\n",
       "      <th>plan_x</th>\n",
       "      <th>churn_date</th>\n",
       "      <th>churn_status</th>\n",
       "      <th>duration</th>\n",
       "      <th>month</th>\n",
       "      <th>num_calls</th>\n",
       "      <th>total_minutes</th>\n",
       "      <th>num_messages</th>\n",
       "      <th>total_mb_used</th>\n",
       "      <th>plan_y</th>\n",
       "      <th>monthly_revenue</th>\n",
       "    </tr>\n",
       "  </thead>\n",
       "  <tbody>\n",
       "    <tr>\n",
       "      <th>0</th>\n",
       "      <td>1000</td>\n",
       "      <td>Anamaria</td>\n",
       "      <td>Bauer</td>\n",
       "      <td>45</td>\n",
       "      <td>Atlanta-Sandy Springs-Roswell, GA MSA</td>\n",
       "      <td>2018-12-24</td>\n",
       "      <td>ultimate</td>\n",
       "      <td>NaT</td>\n",
       "      <td>No ha cancelado</td>\n",
       "      <td>1733.0</td>\n",
       "      <td>12</td>\n",
       "      <td>16.0</td>\n",
       "      <td>116.83</td>\n",
       "      <td>11.0</td>\n",
       "      <td>1901.47</td>\n",
       "      <td>ultimate</td>\n",
       "      <td>70.000000</td>\n",
       "    </tr>\n",
       "    <tr>\n",
       "      <th>1</th>\n",
       "      <td>1001</td>\n",
       "      <td>Mickey</td>\n",
       "      <td>Wilkerson</td>\n",
       "      <td>28</td>\n",
       "      <td>Seattle-Tacoma-Bellevue, WA MSA</td>\n",
       "      <td>2018-08-13</td>\n",
       "      <td>surf</td>\n",
       "      <td>NaT</td>\n",
       "      <td>No ha cancelado</td>\n",
       "      <td>1866.0</td>\n",
       "      <td>8</td>\n",
       "      <td>27.0</td>\n",
       "      <td>171.14</td>\n",
       "      <td>30.0</td>\n",
       "      <td>6919.15</td>\n",
       "      <td>surf</td>\n",
       "      <td>20.000000</td>\n",
       "    </tr>\n",
       "    <tr>\n",
       "      <th>2</th>\n",
       "      <td>1001</td>\n",
       "      <td>Mickey</td>\n",
       "      <td>Wilkerson</td>\n",
       "      <td>28</td>\n",
       "      <td>Seattle-Tacoma-Bellevue, WA MSA</td>\n",
       "      <td>2018-08-13</td>\n",
       "      <td>surf</td>\n",
       "      <td>NaT</td>\n",
       "      <td>No ha cancelado</td>\n",
       "      <td>1866.0</td>\n",
       "      <td>9</td>\n",
       "      <td>49.0</td>\n",
       "      <td>297.69</td>\n",
       "      <td>44.0</td>\n",
       "      <td>13314.82</td>\n",
       "      <td>surf</td>\n",
       "      <td>20.000000</td>\n",
       "    </tr>\n",
       "    <tr>\n",
       "      <th>3</th>\n",
       "      <td>1001</td>\n",
       "      <td>Mickey</td>\n",
       "      <td>Wilkerson</td>\n",
       "      <td>28</td>\n",
       "      <td>Seattle-Tacoma-Bellevue, WA MSA</td>\n",
       "      <td>2018-08-13</td>\n",
       "      <td>surf</td>\n",
       "      <td>NaT</td>\n",
       "      <td>No ha cancelado</td>\n",
       "      <td>1866.0</td>\n",
       "      <td>10</td>\n",
       "      <td>65.0</td>\n",
       "      <td>374.11</td>\n",
       "      <td>53.0</td>\n",
       "      <td>22330.49</td>\n",
       "      <td>surf</td>\n",
       "      <td>88.161191</td>\n",
       "    </tr>\n",
       "    <tr>\n",
       "      <th>4</th>\n",
       "      <td>1001</td>\n",
       "      <td>Mickey</td>\n",
       "      <td>Wilkerson</td>\n",
       "      <td>28</td>\n",
       "      <td>Seattle-Tacoma-Bellevue, WA MSA</td>\n",
       "      <td>2018-08-13</td>\n",
       "      <td>surf</td>\n",
       "      <td>NaT</td>\n",
       "      <td>No ha cancelado</td>\n",
       "      <td>1866.0</td>\n",
       "      <td>11</td>\n",
       "      <td>64.0</td>\n",
       "      <td>404.59</td>\n",
       "      <td>36.0</td>\n",
       "      <td>18504.30</td>\n",
       "      <td>surf</td>\n",
       "      <td>50.706055</td>\n",
       "    </tr>\n",
       "  </tbody>\n",
       "</table>\n",
       "</div>"
      ],
      "text/plain": [
       "   user_id first_name  last_name  age                                   city  \\\n",
       "0     1000   Anamaria      Bauer   45  Atlanta-Sandy Springs-Roswell, GA MSA   \n",
       "1     1001     Mickey  Wilkerson   28        Seattle-Tacoma-Bellevue, WA MSA   \n",
       "2     1001     Mickey  Wilkerson   28        Seattle-Tacoma-Bellevue, WA MSA   \n",
       "3     1001     Mickey  Wilkerson   28        Seattle-Tacoma-Bellevue, WA MSA   \n",
       "4     1001     Mickey  Wilkerson   28        Seattle-Tacoma-Bellevue, WA MSA   \n",
       "\n",
       "    reg_date    plan_x churn_date     churn_status  duration  month  \\\n",
       "0 2018-12-24  ultimate        NaT  No ha cancelado    1733.0     12   \n",
       "1 2018-08-13      surf        NaT  No ha cancelado    1866.0      8   \n",
       "2 2018-08-13      surf        NaT  No ha cancelado    1866.0      9   \n",
       "3 2018-08-13      surf        NaT  No ha cancelado    1866.0     10   \n",
       "4 2018-08-13      surf        NaT  No ha cancelado    1866.0     11   \n",
       "\n",
       "   num_calls  total_minutes  num_messages  total_mb_used    plan_y  \\\n",
       "0       16.0         116.83          11.0        1901.47  ultimate   \n",
       "1       27.0         171.14          30.0        6919.15      surf   \n",
       "2       49.0         297.69          44.0       13314.82      surf   \n",
       "3       65.0         374.11          53.0       22330.49      surf   \n",
       "4       64.0         404.59          36.0       18504.30      surf   \n",
       "\n",
       "   monthly_revenue  \n",
       "0        70.000000  \n",
       "1        20.000000  \n",
       "2        20.000000  \n",
       "3        88.161191  \n",
       "4        50.706055  "
      ]
     },
     "execution_count": 78,
     "metadata": {},
     "output_type": "execute_result"
    }
   ],
   "source": [
    "# Combinando los DataFrames\n",
    "combined_df = pd.merge(megaline_users, df, on=\"user_id\", how=\"inner\")\n",
    "\n",
    "# Verificar el resultado\n",
    "combined_df.head()"
   ]
  },
  {
   "cell_type": "markdown",
   "metadata": {},
   "source": [
    "Parece que hemos combinado correctamente los DataFrames megaline_users y df en combined_df.\n",
    "La clave de unión que has usado es user_id, y el método de unión es \"inner\", lo que significa que sólo se incluyen las filas en las que user_id aparece en ambos DataFrames.\n",
    "\n",
    "Ahora estamos listos para lo siguiente que es: probar las hipótesis estadísticas."
   ]
  },
  {
   "cell_type": "markdown",
   "metadata": {},
   "source": [
    "<div class=\"alert alert-block alert-success\">\n",
    "<b>Comentario de Revisor</b> <a class=\"tocSkip\"></a>\n",
    "\n",
    "Genial, buena comparacion entre los comportamientos y consumos de los usuarios de ambos planes en terminos de llamadas, msjs e internet y como eso se traduce en ingresos para la compania.\n",
    "    \n",
    "Visualizaciones muy acertadas y bien ejecutadas\n",
    "</div>"
   ]
  },
  {
   "cell_type": "markdown",
   "metadata": {},
   "source": [
    "## Probar las hipótesis estadísticas."
   ]
  },
  {
   "cell_type": "markdown",
   "metadata": {},
   "source": [
    "Podemos usar la Prueba T de Student para muestras independientes. Veamos cómo se plantean y prueban las hipótesis:\n",
    "\n",
    "**1. Diferencia en el ingreso promedio de los usuarios de los planes Ultimate y Surf.**\n",
    "\n",
    "**Hipótesis nula (Ho):**\n",
    "\n",
    "El ingreso promedio de los usuarios del plan Ultimate es igual al ingreso promedio de los usuarios del plan Surf.\n",
    "\n",
    "**Hipótesis alternativa (Ha):**\n",
    "\n",
    "El ingreso promedio de los usuarios del plan Ultimate es diferente al ingreso promedio de los usuarios del plan Surf.\n",
    "\n",
    "**Test estadístico:**\n",
    "\n",
    "Prueba T de Student para muestras independientes.\n",
    "\n",
    "**Valor de alfa (α):**\n",
    "\n",
    "Generalmente se utiliza un valor de 0.05 para la significancia. Es decir, si obtenemos un p-valor inferior a 0.05, rechazaremos la hipótesis nula."
   ]
  },
  {
   "cell_type": "code",
   "execution_count": 79,
   "metadata": {},
   "outputs": [
    {
     "name": "stdout",
     "output_type": "stream",
     "text": [
      "Rechazar la hipótesis nula. Hay una diferencia significativa en los ingresos entre los planes.\n"
     ]
    }
   ],
   "source": [
    "# Extraer los ingresos de los usuarios según su plan\n",
    "ingreso_surf = combined_df[combined_df['plan_x'] == 'surf']['monthly_revenue'].tolist()\n",
    "ingreso_ultimate = combined_df[combined_df['plan_x'] == 'ultimate']['monthly_revenue'].tolist()\n",
    "\n",
    "t_stat, p_value = stats.ttest_ind(ingreso_surf, ingreso_ultimate, equal_var=False)  # Utilicé equal_var=False, que realiza una t-test asumiendo varianzas no iguales.\n",
    "\n",
    "if p_value < 0.05:\n",
    "    print(\"Rechazar la hipótesis nula. Hay una diferencia significativa en los ingresos entre los planes.\")\n",
    "else:\n",
    "    print(\"No rechazar la hipótesis nula. No hay una diferencia significativa en los ingresos entre los planes.\")"
   ]
  },
  {
   "cell_type": "markdown",
   "metadata": {},
   "source": [
    "Esto indica que, basado en la prueba t que realizamos, hay evidencia suficiente para rechazar la hipótesis nula. \n",
    "\n",
    "La hipótesis nula en este caso asume que no hay ninguna diferencia en los ingresos promedio entre los usuarios de los planes \"Surf\" y \"Ultimate\".\n",
    "\n",
    "Rechazar la hipótesis nula sugiere que existe una diferencia significativa en los ingresos promedio entre los dos grupos de usuarios.\n",
    "\n",
    "Este resultado puede ser útil para el negocio, ya que proporciona información sobre cómo los diferentes planes están generando ingresos y podemos influir en decisiones estratégicas relacionadas con la promoción de un plan específico, ajustes de precios, entre otras.\n",
    "\n",
    "Es importante recordar que esta prueba solo indica si hay una diferencia, pero no especifica cuál plan genera más ingresos en promedio. Para eso, podemos simplemente comparar las medias de los ingresos de ambos grupos."
   ]
  },
  {
   "cell_type": "markdown",
   "metadata": {},
   "source": [
    "**2. Diferencia en el ingreso promedio de los usuarios del área NY-NJ frente a otros.**\n",
    "\n",
    "**Hipótesis nula (Ho):**\n",
    "\n",
    "El ingreso promedio de los usuarios del área NY-NJ es igual al ingreso promedio de los usuarios de otras regiones.\n",
    "\n",
    "**Hipótesis alternativa (Ha):**\n",
    "El ingreso promedio de los usuarios del área NY-NJ es diferente al ingreso promedio de los usuarios de otras regiones.\n",
    "\n",
    "**Test estadístico:**\n",
    "Prueba T de Student para muestras independientes.\n",
    "\n",
    "**Valor de alfa (α):**\n",
    "Igual que antes, usaremos un valor de 0.05 para la significancia."
   ]
  },
  {
   "cell_type": "code",
   "execution_count": 80,
   "metadata": {},
   "outputs": [
    {
     "name": "stdout",
     "output_type": "stream",
     "text": [
      "Rechazamos la hipótesis nula. Hay una diferencia significativa en los ingresos entre NY-NJ y otras regiones.\n"
     ]
    }
   ],
   "source": [
    "# Extraer los ingresos de los usuarios según su región\n",
    "ingreso_ny_nj = combined_df[combined_df['city'].str.contains('NY-NJ')]['monthly_revenue'].tolist()\n",
    "ingreso_otras = combined_df[~combined_df['city'].str.contains('NY-NJ')]['monthly_revenue'].tolist()\n",
    "\n",
    "t_stat, p_value = stats.ttest_ind(ingreso_ny_nj, ingreso_otras)\n",
    "\n",
    "if p_value < 0.05:\n",
    "    print(\"Rechazamos la hipótesis nula. Hay una diferencia significativa en los ingresos entre NY-NJ y otras regiones.\")\n",
    "else:\n",
    "    print(\"No rechazamos la hipótesis nula. No hay una diferencia significativa en los ingresos entre NY-NJ y otras regiones.\")"
   ]
  },
  {
   "cell_type": "markdown",
   "metadata": {},
   "source": [
    "Estupendo, esto significa que, basándonos en la prueba t que realizamos, hay una diferencia estadísticamente significativa en los ingresos entre usuarios de la región de NY-NJ y usuarios de otras regiones.\n",
    "\n",
    "Obtenemos un valor p menor a 0.05. Esto nos proporciona evidencia suficiente para rechazar la hipótesis nula, sugiriendo que las medias de los ingresos entre los usuarios de la región de NY-NJ y de otras regiones no son iguales. Sin embargo:\n",
    "\n",
    "Aunque el resultado es estadísticamente significativo, esto no nos indica la magnitud o importancia práctica de la diferencia. Se necesitaría un análisis adicional para cuantificar esta diferencia.\n",
    "\n",
    "La prueba t se basa en ciertos supuestos, incluyendo que las muestras provienen de poblaciones con distribución normal y que tienen varianzas iguales. Antes de interpretar plenamente los resultados, sería prudente verificar que se cumplan estos supuestos."
   ]
  },
  {
   "cell_type": "markdown",
   "metadata": {},
   "source": [
    "<div class=\"alert alert-block alert-success\">\n",
    "<b>Comentario de Revisor</b> <a class=\"tocSkip\"></a>\n",
    "\n",
    "Genial, buen trabajo ejecutando e interpretando los test de hipotesis.\n",
    "</div>"
   ]
  },
  {
   "cell_type": "markdown",
   "metadata": {},
   "source": [
    "## Conclusión general"
   ]
  },
  {
   "cell_type": "markdown",
   "metadata": {},
   "source": [
    "**1. Perfil y comportamiento del usuario por planes**:\n",
    "\n",
    "- **Datos de Usuario y Uso**: Los datos recopilados nos proporcionaron una visión clara de cómo diferentes perfiles de usuario interactúan con sus respectivos planes y cuál es su patrón de consumo.\n",
    "\n",
    "\n",
    "- **Patrón de uso en llamadas**:\n",
    "\n",
    "    - Los usuarios de ambos planes, Surf y Ultimate, muestran comportamientos similares en el uso de minutos.\n",
    "    \n",
    "    - No hay una gran diferencia en la duración promedio de llamadas entre los planes.\n",
    "    \n",
    "    - Valores atípicos en el plan Surf podrían indicar un segmento específico que necesita paquetes adicionales.\n",
    "    \n",
    "    - Ambos planes muestran un aumento en la duración promedio de llamadas hacia diciembre.\n",
    "\n",
    "\n",
    "- **Patrón de uso en mensajes**:\n",
    "\n",
    "    - Hay una tendencia creciente en el uso de mensajes para ambos planes a lo largo del año.\n",
    "    \n",
    "    - Usuarios de Ultimate envían más mensajes que los de Surf en promedio, lo que podría reflejar un perfil de usuario diferente o la percepción de los límites del plan.\n",
    "\n",
    "\n",
    "- **Patrón de uso de internet**:\n",
    "\n",
    "    - El uso de internet ha mostrado una tendencia creciente en ambos planes.\n",
    "    \n",
    "    - Hubo un cambio interesante a mitad de año cuando los usuarios de Surf superaron a los de Ultimate en consumo.\n",
    "\n",
    "\n",
    "**2. Rentabilidad y comportamiento económico**:\n",
    "\n",
    "- **Diferencia en ingresos entre planes**: Se confirmó que hay una diferencia significativa en los ingresos generados por los dos planes. Específicamente, el plan Ultimate genera ingresos más consistentes, mientras que el Surf tiene una mayor variabilidad debido a que los usuarios tienden a exceder los límites.\n",
    "\n",
    "- **Ingresos por región**: Existe una diferencia estadísticamente significativa en los ingresos entre usuarios de NY-NJ y otras regiones. Esto puede influir en estrategias de marketing geolocalizado.\n",
    "\n",
    "\n",
    "**3. Recomendaciones**:\n",
    "\n",
    "- Dada la tendencia creciente en el uso de mensajes e internet, la empresa podría considerar revisar los límites de estos servicios para el plan Surf o ajustar las tarifas adicionales.\n",
    "  \n",
    "- Sería prudente ofrecer paquetes adicionales o promociones para satisfacer la demanda creciente, especialmente para aquellos en el plan Surf que exceden sus límites.\n",
    "\n",
    "- Se sugiere investigar más a fondo por qué hay una mayor variabilidad(clientes con cargos extra) en los ingresos del plan Surf y cómo capitalizarlo, así como entender la diferencia en el comportamiento entre las regiones."
   ]
  }
 ],
 "metadata": {
  "ExecuteTimeLog": [
   {
    "duration": 828,
    "start_time": "2021-11-16T09:21:11.304Z"
   },
   {
    "duration": 893,
    "start_time": "2021-11-16T09:21:17.728Z"
   },
   {
    "duration": 1150,
    "start_time": "2021-11-16T09:21:29.568Z"
   },
   {
    "duration": 3,
    "start_time": "2021-11-16T09:24:14.495Z"
   },
   {
    "duration": 120,
    "start_time": "2021-11-16T09:24:46.630Z"
   },
   {
    "duration": 3,
    "start_time": "2021-11-16T09:28:27.882Z"
   },
   {
    "duration": 4,
    "start_time": "2021-11-16T09:29:54.281Z"
   },
   {
    "duration": 3,
    "start_time": "2021-11-16T09:30:45.936Z"
   },
   {
    "duration": 4,
    "start_time": "2021-11-16T09:31:06.300Z"
   },
   {
    "duration": 113,
    "start_time": "2021-11-16T09:31:37.208Z"
   },
   {
    "duration": 143,
    "start_time": "2021-11-16T09:31:48.656Z"
   },
   {
    "duration": 98,
    "start_time": "2021-11-16T09:31:55.678Z"
   },
   {
    "duration": 3,
    "start_time": "2021-11-16T09:32:08.535Z"
   },
   {
    "duration": 111,
    "start_time": "2021-11-16T09:32:10.120Z"
   },
   {
    "duration": 3,
    "start_time": "2021-11-16T09:32:15.732Z"
   },
   {
    "duration": 4,
    "start_time": "2021-11-16T09:32:29.423Z"
   },
   {
    "duration": 3,
    "start_time": "2021-11-16T10:03:03.074Z"
   },
   {
    "duration": 3,
    "start_time": "2021-11-16T10:10:01.288Z"
   },
   {
    "duration": 3,
    "start_time": "2021-11-16T10:10:46.923Z"
   },
   {
    "duration": 121,
    "start_time": "2021-11-16T10:37:46.494Z"
   },
   {
    "duration": 125,
    "start_time": "2021-11-16T10:38:20.632Z"
   },
   {
    "duration": 112,
    "start_time": "2021-11-16T10:46:53.001Z"
   },
   {
    "duration": 110,
    "start_time": "2021-11-16T10:48:25.775Z"
   },
   {
    "duration": 3,
    "start_time": "2021-11-16T10:50:18.720Z"
   },
   {
    "duration": 4,
    "start_time": "2021-11-16T10:50:37.649Z"
   },
   {
    "duration": 2,
    "start_time": "2021-11-16T10:50:51.884Z"
   },
   {
    "duration": 3,
    "start_time": "2021-11-16T10:51:56.237Z"
   },
   {
    "duration": 101,
    "start_time": "2021-11-16T10:53:13.791Z"
   },
   {
    "duration": 3,
    "start_time": "2021-11-16T10:55:59.186Z"
   },
   {
    "duration": 3,
    "start_time": "2021-11-16T10:56:10.751Z"
   },
   {
    "duration": 3,
    "start_time": "2021-11-16T10:56:49.038Z"
   },
   {
    "duration": 3,
    "start_time": "2021-11-16T10:56:49.174Z"
   },
   {
    "duration": 4,
    "start_time": "2021-11-16T10:56:49.414Z"
   },
   {
    "duration": 3,
    "start_time": "2021-11-16T10:56:49.680Z"
   },
   {
    "duration": 3,
    "start_time": "2021-11-16T10:56:50.370Z"
   },
   {
    "duration": 114,
    "start_time": "2021-11-16T10:59:34.518Z"
   },
   {
    "duration": 3,
    "start_time": "2021-11-16T11:01:41.201Z"
   },
   {
    "duration": 116,
    "start_time": "2021-11-16T11:01:48.754Z"
   },
   {
    "duration": 3,
    "start_time": "2021-11-16T11:02:16.685Z"
   },
   {
    "duration": 3,
    "start_time": "2021-11-16T11:02:19.479Z"
   },
   {
    "duration": 3,
    "start_time": "2021-11-16T11:02:47.067Z"
   },
   {
    "duration": 3,
    "start_time": "2021-11-16T11:02:49.353Z"
   },
   {
    "duration": 3,
    "start_time": "2021-11-16T11:03:07.835Z"
   },
   {
    "duration": 3,
    "start_time": "2021-11-16T11:03:07.953Z"
   },
   {
    "duration": 112,
    "start_time": "2021-11-16T11:07:52.072Z"
   },
   {
    "duration": 187,
    "start_time": "2021-11-16T11:09:23.468Z"
   },
   {
    "duration": 4,
    "start_time": "2021-11-16T11:10:01.455Z"
   },
   {
    "duration": 3,
    "start_time": "2021-11-16T11:10:05.069Z"
   },
   {
    "duration": 4,
    "start_time": "2021-11-16T11:10:13.376Z"
   },
   {
    "duration": 3,
    "start_time": "2021-11-16T11:10:14.434Z"
   },
   {
    "duration": 3,
    "start_time": "2021-11-16T11:10:22.853Z"
   },
   {
    "duration": 4,
    "start_time": "2021-11-16T11:27:29.279Z"
   },
   {
    "duration": 4,
    "start_time": "2021-11-16T11:29:08.919Z"
   },
   {
    "duration": 118,
    "start_time": "2021-11-16T11:29:46.703Z"
   },
   {
    "duration": 437,
    "start_time": "2021-11-16T11:36:02.181Z"
   },
   {
    "duration": 157,
    "start_time": "2021-11-16T11:36:14.388Z"
   },
   {
    "duration": 207,
    "start_time": "2021-11-16T11:47:15.898Z"
   },
   {
    "duration": 3,
    "start_time": "2021-11-16T11:53:52.092Z"
   },
   {
    "duration": 3,
    "start_time": "2021-11-16T11:53:52.236Z"
   },
   {
    "duration": 3,
    "start_time": "2021-11-16T11:59:12.005Z"
   },
   {
    "duration": 112,
    "start_time": "2021-11-16T12:00:33.446Z"
   },
   {
    "duration": 3,
    "start_time": "2021-11-16T12:02:14.453Z"
   },
   {
    "duration": 3,
    "start_time": "2021-11-16T12:02:39.512Z"
   },
   {
    "duration": 106,
    "start_time": "2021-11-16T12:03:03.460Z"
   },
   {
    "duration": 3,
    "start_time": "2021-11-17T20:37:21.139Z"
   },
   {
    "duration": 3,
    "start_time": "2021-11-17T20:37:22.229Z"
   },
   {
    "duration": 3,
    "start_time": "2021-11-17T20:38:38.806Z"
   },
   {
    "duration": 3,
    "start_time": "2021-11-17T20:38:41.958Z"
   },
   {
    "duration": 3,
    "start_time": "2021-11-17T20:43:46.551Z"
   },
   {
    "duration": 4,
    "start_time": "2021-11-17T20:58:21.835Z"
   },
   {
    "duration": 3,
    "start_time": "2021-11-17T20:59:21.872Z"
   },
   {
    "duration": 4,
    "start_time": "2021-11-17T20:59:45.352Z"
   },
   {
    "duration": 4,
    "start_time": "2021-11-17T20:59:49.646Z"
   },
   {
    "duration": 159,
    "start_time": "2021-11-17T21:02:26.949Z"
   },
   {
    "duration": 3,
    "start_time": "2021-11-17T21:03:53.461Z"
   },
   {
    "duration": 3,
    "start_time": "2021-11-17T21:03:53.694Z"
   },
   {
    "duration": 3,
    "start_time": "2021-11-17T21:05:28.145Z"
   },
   {
    "duration": 116,
    "start_time": "2021-11-17T21:05:57.787Z"
   },
   {
    "duration": 3,
    "start_time": "2021-11-17T21:06:37.993Z"
   },
   {
    "duration": 3,
    "start_time": "2021-11-17T21:06:38.261Z"
   },
   {
    "duration": 3,
    "start_time": "2021-11-17T21:11:54.358Z"
   },
   {
    "duration": 3,
    "start_time": "2021-11-17T21:12:43.846Z"
   },
   {
    "duration": 4,
    "start_time": "2021-11-17T21:13:08.773Z"
   },
   {
    "duration": 3,
    "start_time": "2021-11-17T21:14:44.441Z"
   },
   {
    "duration": 3,
    "start_time": "2021-11-17T21:15:42.059Z"
   },
   {
    "duration": 4,
    "start_time": "2021-11-17T21:15:51.995Z"
   },
   {
    "duration": 3,
    "start_time": "2021-11-17T21:15:53.923Z"
   },
   {
    "duration": 3,
    "start_time": "2021-11-17T21:15:55.282Z"
   },
   {
    "duration": 3,
    "start_time": "2021-11-17T21:16:28.492Z"
   },
   {
    "duration": 3,
    "start_time": "2021-11-17T21:16:32.603Z"
   },
   {
    "duration": 3,
    "start_time": "2021-11-17T21:17:06.941Z"
   },
   {
    "duration": 98,
    "start_time": "2021-11-17T21:18:05.733Z"
   },
   {
    "duration": 4,
    "start_time": "2021-11-17T21:21:35.255Z"
   },
   {
    "duration": 3,
    "start_time": "2021-11-17T21:21:37.804Z"
   },
   {
    "duration": 4,
    "start_time": "2021-11-17T21:23:06.071Z"
   },
   {
    "duration": 3,
    "start_time": "2021-11-17T21:23:24.799Z"
   },
   {
    "duration": 3,
    "start_time": "2021-11-17T21:23:32.591Z"
   },
   {
    "duration": 98,
    "start_time": "2021-11-17T21:28:31.559Z"
   },
   {
    "duration": 3,
    "start_time": "2021-11-17T21:28:45.448Z"
   },
   {
    "duration": 3,
    "start_time": "2021-11-17T21:29:17.303Z"
   },
   {
    "duration": 3,
    "start_time": "2021-11-17T21:29:29.617Z"
   },
   {
    "duration": 3,
    "start_time": "2021-11-17T21:29:32.681Z"
   },
   {
    "duration": 3,
    "start_time": "2021-11-17T21:36:11.474Z"
   },
   {
    "duration": 3,
    "start_time": "2021-11-17T21:36:14.791Z"
   },
   {
    "duration": 3,
    "start_time": "2021-11-17T21:36:53.943Z"
   },
   {
    "duration": 3,
    "start_time": "2021-11-17T21:36:56.165Z"
   },
   {
    "duration": 4,
    "start_time": "2021-11-17T21:37:16.590Z"
   },
   {
    "duration": 3,
    "start_time": "2021-11-17T21:37:22.702Z"
   },
   {
    "duration": 4,
    "start_time": "2021-11-17T21:38:03.479Z"
   },
   {
    "duration": 3,
    "start_time": "2021-11-17T21:38:08.601Z"
   },
   {
    "duration": 3,
    "start_time": "2021-11-17T21:38:12.928Z"
   },
   {
    "duration": 3,
    "start_time": "2021-11-17T21:38:48.896Z"
   },
   {
    "duration": 2,
    "start_time": "2021-11-17T21:38:49.171Z"
   },
   {
    "duration": 4,
    "start_time": "2021-11-17T21:39:57.889Z"
   },
   {
    "duration": 3,
    "start_time": "2021-11-17T21:39:58.057Z"
   },
   {
    "duration": 3,
    "start_time": "2021-11-17T21:41:20.108Z"
   },
   {
    "duration": 3,
    "start_time": "2021-11-17T21:41:20.629Z"
   },
   {
    "duration": 3,
    "start_time": "2021-11-17T21:42:49.136Z"
   },
   {
    "duration": 3,
    "start_time": "2021-11-17T21:43:15.137Z"
   },
   {
    "duration": 4,
    "start_time": "2021-11-17T21:43:16.766Z"
   },
   {
    "duration": 4,
    "start_time": "2021-11-17T21:43:31.711Z"
   },
   {
    "duration": 3,
    "start_time": "2021-11-17T21:43:36.312Z"
   },
   {
    "duration": 4,
    "start_time": "2021-11-17T21:45:08.825Z"
   },
   {
    "duration": 4,
    "start_time": "2021-11-17T21:45:10.119Z"
   },
   {
    "duration": 4,
    "start_time": "2021-11-17T21:45:13.748Z"
   },
   {
    "duration": 3,
    "start_time": "2021-11-17T21:45:22.219Z"
   },
   {
    "duration": 3,
    "start_time": "2021-11-17T21:45:33.412Z"
   },
   {
    "duration": 2,
    "start_time": "2021-11-17T21:46:01.885Z"
   },
   {
    "duration": 3,
    "start_time": "2021-11-17T21:46:03.628Z"
   },
   {
    "duration": 107,
    "start_time": "2021-11-17T21:47:32.512Z"
   },
   {
    "duration": 103,
    "start_time": "2021-11-17T21:50:36.243Z"
   },
   {
    "duration": 3,
    "start_time": "2021-11-18T06:28:31.440Z"
   },
   {
    "duration": 3,
    "start_time": "2021-11-18T06:29:00.168Z"
   },
   {
    "duration": 3,
    "start_time": "2021-11-18T06:31:27.008Z"
   },
   {
    "duration": 2,
    "start_time": "2021-11-18T06:35:34.288Z"
   },
   {
    "duration": 2,
    "start_time": "2021-11-18T06:38:04.527Z"
   }
  ],
  "kernelspec": {
   "display_name": "Python 3 (ipykernel)",
   "language": "python",
   "name": "python3"
  },
  "language_info": {
   "codemirror_mode": {
    "name": "ipython",
    "version": 3
   },
   "file_extension": ".py",
   "mimetype": "text/x-python",
   "name": "python",
   "nbconvert_exporter": "python",
   "pygments_lexer": "ipython3",
   "version": "3.9.5"
  },
  "toc": {
   "base_numbering": 1,
   "nav_menu": {},
   "number_sections": true,
   "sideBar": true,
   "skip_h1_title": false,
   "title_cell": "Table of Contents",
   "title_sidebar": "Contents",
   "toc_cell": false,
   "toc_position": {
    "height": "calc(100% - 180px)",
    "left": "10px",
    "top": "150px",
    "width": "291.2px"
   },
   "toc_section_display": true,
   "toc_window_display": false
  }
 },
 "nbformat": 4,
 "nbformat_minor": 2
}
